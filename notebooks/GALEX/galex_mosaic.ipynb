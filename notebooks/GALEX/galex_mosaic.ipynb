{
 "cells": [
  {
   "cell_type": "markdown",
   "id": "7c9aa64b",
   "metadata": {},
   "source": [
    "<a id=\"top\"></a>\n",
    "# Surveying dust structure via GALEX MIS\n",
    "***\n",
    "\n",
    "The objective of this tutorial is to create a UV mosaic of a high-latitute cloud, using data from GALEX. We'll query the MAST Archive for Observations, then use the data to create a composite image.\n",
    "\n",
    "## Learning goals\n",
    "\n",
    "By the end of this tutorial you will be able to:\n",
    "\n",
    "- Understand UV images and how they are useful to study dust\n",
    "- Create a mosaic from several GALEX MIS images\n",
    "- Learn how to match images using their central coordinates \n",
    "- Use masks for circular images\n",
    "\n",
    "## Introduction\n",
    "\n",
    "**GALEX background**: The [Galaxy Evolution Explorer (GALEX)](https://archive.stsci.edu/missions-and-data/galex) was a satellite designed to investigate star formation. It observed the sky in two different bands: in the Near UV (NUV) ($1750-27504$ Å) and in the Far UV (FUV) ($1350-1750$ Å). The GALEX database contains over 600 million source measurements in the ultraviolet domain, with some sources having more than one measurement, making them useful for studying their variable sources. \n",
    "\n",
    "**GALEX Medium Imaging survey (MIS) background**: Single orbit exposures (1,500s) of 1000 square degrees in positions that match the Sloan Digital Sky Survey (SDSS). These images present a higher resolution in comparison with AIS, since their exposure time was longer.\n",
    "\n",
    "**Defining some terms:**\n",
    "\n",
    "- **Intensity map**: image that displays the photons per pixel per second corrected for the relative response of the instrument used.\n",
    "\n",
    "Clouds can be visible in UV when they are found close to hot stars. The objective of this tutorial is to extract and display an intensity map image of a high-latitude cloud retrieved from GALEX MIS. High-latitude clouds (Galactic latitude: $|b| > 20-30º$) are interesting because they are considered ideal candidates to study triggered star formation.\n",
    "\n",
    "## Table of Contents\n",
    "* [Imports](#Imports)\n",
    "* [MBM 15 Search in GALEX MIS](#MBM-15-Search-in-GALEX-MIS)\n",
    "* [Product Selection and Download](#Product-Selection-and-Download)\n",
    "* [Constructing the mosaic](#Constructing-the-mosaic)\n",
    "    * [Checking orientation](#Checking-orientation)\n",
    "    * [Saving images to local](#Saving-images-to-local)\n",
    "    * [Circular mask creation](#Circular-mask-creation)\n",
    "    * [Expanded image](#Expanded-image)\n",
    "    * [Limits of image - Coordinates](#Limits-of-image---Coordinates)\n",
    "    * [Save expanded image to local](#Save-expanded-image-to-local)\n",
    "    * [Transforming RA/Dec into image coordinates](#Transforming-RA/Dec-into-image-coordinates)\n",
    "    * [Final mosaic](#Final-mosaic)\n",
    "* [Exercises](#Exercises)\n",
    "* [Additional Resources](#Additional-Resources)\n",
    "\n",
    "## Imports\n",
    "\n",
    "- `astropy` to use tools needed for performing astronomy and astrophysics with Python, including handling fits files, defining coordinates or choosing the right limits for image visualization.\n",
    "- `Observations` from _astroquery.mast_ to query the Barbara A. Mikulski Archive for Space Telescopes (MAST).\n",
    "- `matplotlib` to visualize images.\n",
    "- `numpy` to manipulate arrays."
   ]
  },
  {
   "cell_type": "code",
   "execution_count": null,
   "id": "5d658657",
   "metadata": {},
   "outputs": [],
   "source": [
    "import astropy.units as u\n",
    "import matplotlib.pyplot as plt\n",
    "import numpy as np\n",
    "\n",
    "from astropy.io import fits\n",
    "from astroquery.mast import Observations\n",
    "from astropy.wcs import WCS\n",
    "from photutils.aperture import CircularAperture\n",
    "from reproject import reproject_interp\n",
    "from reproject.mosaicking import find_optimal_celestial_wcs"
   ]
  },
  {
   "cell_type": "markdown",
   "id": "f74fd4af",
   "metadata": {},
   "source": [
    "## MBM 15 Search in GALEX MIS\n",
    "\n",
    "We'll access GALEX MIS products using `astroquery.mast`. Let's search for any Observations within a degree of our target, the molecular cloud MBM 15. We should also specify mission with the filter `obs_collection = GALEX`.\n",
    "\n",
    "Note that we add two additional filters to our query below. First, we use `project=\"MIS\"` to specify the medium imaging survey. There are a few [imaging surveys](http://galex.stsci.edu/doc/CTM/wiki/Public_documentation/Chapter_2.html#GALEX_Science_Surveys) we could choose from, but MIS will give us good coverage of the cloud with a longer exposure time than the all-sky survey. Since [GALEX has two detectors](http://galex.stsci.edu/doc/CTM/wiki/Public_documentation/Chapter_1.html#Detectors), we also specify `filters=\"FUV\"`. Since we're just looking to create a mosaic, it doesn't matter too much which filter we pick; you might have a valid scientific reason to prefer one over the other."
   ]
  },
  {
   "cell_type": "code",
   "execution_count": null,
   "id": "df710d6c-32aa-47c9-ad72-e71ed8fcf52f",
   "metadata": {},
   "outputs": [],
   "source": [
    "obs = Observations.query_criteria(objectname=\"MBM 15\", radius=\"1 deg\", obs_collection=\"GALEX\", project=\"MIS\", filters=\"FUV\")\n",
    "len(obs)"
   ]
  },
  {
   "cell_type": "markdown",
   "id": "9cb4712c-58db-4f1c-abf5-02ffeb8a8be8",
   "metadata": {},
   "source": [
    "## Product Selection and Download\n",
    "\n",
    "With nine Observations, we should be able to a mosaic with a good view of the nebula. Now we need to get the data products: the actual files associated with these Observations."
   ]
  },
  {
   "cell_type": "code",
   "execution_count": null,
   "id": "3cb149d2-0944-4678-bc13-f919a0d215e0",
   "metadata": {},
   "outputs": [],
   "source": [
    "prod = Observations.get_product_list(obs)\n",
    "len(prod)"
   ]
  },
  {
   "cell_type": "markdown",
   "id": "244fc15b-25b7-42e3-8ca6-9334efe413e5",
   "metadata": {},
   "source": [
    "Woah! Over 2000 files from just 9 Observations. Many of these files were intended for calibration or data validation, so we'll just select files that are marked as `\"SCIENCE\"` type. We'll also keep only files that have been flagged as a \"minimum recommended products\". These files are considered the absolute minimum needed to do analyze the Observations, which will work well for our mosaic."
   ]
  },
  {
   "cell_type": "code",
   "execution_count": null,
   "id": "5ec8cb1d",
   "metadata": {},
   "outputs": [],
   "source": [
    "# The manifest will save the download status (i.e. success vs. failed) as well as the file location\n",
    "manifest = Observations.download_products(prod, productType=\"SCIENCE\", mrp_only = True) "
   ]
  },
  {
   "cell_type": "markdown",
   "id": "a42d5d15",
   "metadata": {},
   "source": [
    "Great! Now let's open the files into a list of fits objects."
   ]
  },
  {
   "cell_type": "code",
   "execution_count": null,
   "id": "2ed69f8a",
   "metadata": {},
   "outputs": [],
   "source": [
    "hdus = [fits.open(filename) for filename in manifest[\"Local Path\"]]"
   ]
  },
  {
   "cell_type": "markdown",
   "id": "2e377eb5-54ce-4b09-96f3-85b3846dbb0b",
   "metadata": {},
   "source": [
    "# THOMAS MAYBE PLOT ONE OF THE IMAGES HERE"
   ]
  },
  {
   "cell_type": "markdown",
   "id": "c61273d9-9dd3-4997-a36c-da02f090712c",
   "metadata": {},
   "source": [
    "## Data Wrangling\n",
    "\n",
    "These fits files that we've downloaded are actually quite large. To keep Notebook runtime short, we're going to scale down the resolution of the image. The \"downgrade factor\" is, in effect, making the pixels larger and thus have lower memory/processing requirements. With a default downgrade factor of five, our most complicated cell (coming later) will take about 30 seconds to run. To see the original quality image, you can set `downgrade_factor = 1` (i.e. original quality)."
   ]
  },
  {
   "cell_type": "code",
   "execution_count": null,
   "id": "c1ef27aa",
   "metadata": {},
   "outputs": [],
   "source": [
    "# determine the angular resolution of the image\n",
    "res = np.abs(hdus[0][0].header['CDELT1'])\n",
    "# set up a \"downgrade factor\" to decrease the resolution of the final combined mosaic, because these files are BIG\n",
    "downgrade_factor = 5     # = 1 for original quality\n",
    "\n",
    "# use astropy's find_optimal_celestial_wcs to determine the output WCS \n",
    "# for the combined image based on the information in the headers\n",
    "wcs_out, shape_out = find_optimal_celestial_wcs(hdus, resolution=res*downgrade_factor*u.deg)"
   ]
  },
  {
   "cell_type": "markdown",
   "id": "1e699ed4-86aa-4062-98a2-f3ecdd99d625",
   "metadata": {},
   "source": [
    "Since the GALEX data is circular, we need to create a mask for the data. What we want is a set of valid values, surrounded by NaNs. This will allow us to create a mosaic by averaging the valid values; NaNs will be ignored. "
   ]
  },
  {
   "cell_type": "code",
   "execution_count": null,
   "id": "2f32eb37",
   "metadata": {},
   "outputs": [],
   "source": [
    "def galex_mask(map_in, header):\n",
    "    # define the radius of the circle to be 0.6 degrees, use header information to convert to pixels\n",
    "    dr = np.rint(0.6 / np.abs(header['CDELT1']))\n",
    "    app = CircularAperture((header['CRPIX1'], header['CRPIX2']), r=dr)\n",
    "    \n",
    "    # convert aperture to mask\n",
    "    amask = app.to_mask(method='center')\n",
    "    # pad the mask\n",
    "    amask = np.pad(np.array(amask.data), 480)\n",
    "    # convert mask to boolean values\n",
    "    amask = np.array(amask, dtype=bool)\n",
    "    \n",
    "    # mask all pixels outside of aperture to \"NaN\"\n",
    "    map_in[~amask] = np.nan\n",
    "    \n",
    "    return map_in"
   ]
  },
  {
   "cell_type": "markdown",
   "id": "4ce87624-b821-4170-8a77-b18926cdc27f",
   "metadata": {},
   "source": []
  },
  {
   "cell_type": "code",
   "execution_count": null,
   "id": "180e4054",
   "metadata": {},
   "outputs": [],
   "source": [
    "%%time\n",
    "maps = []\n",
    "for i, file in enumerate(manifest[\"Local Path\"]):\n",
    "    with fits.open(file) as ff:\n",
    "        fmap = ff[0].data\n",
    "        fhead = ff[0].header\n",
    "        # for each image, we apply a mask to set all pixels outside of the GALEX footprint to NaN\n",
    "        fmap = galex_mask(fmap, fhead)\n",
    "        \n",
    "        # use reproject to reproject each image to the \"combined\" output WCS defined earlier\n",
    "        regmap, foot = reproject_interp((fmap, fhead), wcs_out, shape_out)\n",
    "        \n",
    "        # append the reprojected map to a list\n",
    "        maps.append(regmap)"
   ]
  },
  {
   "cell_type": "code",
   "execution_count": null,
   "id": "5c333d0e",
   "metadata": {},
   "outputs": [],
   "source": [
    "# average all of the reprojected maps together\n",
    "tmap = np.nanmean(np.dstack((maps)), 2)"
   ]
  },
  {
   "cell_type": "markdown",
   "id": "6236b421-d697-49db-a812-042d9ce1ac1f",
   "metadata": {},
   "source": [
    "# ADD AUTOMATIC BRIGHTNESS SCALING"
   ]
  },
  {
   "cell_type": "code",
   "execution_count": null,
   "id": "8e89618a",
   "metadata": {},
   "outputs": [],
   "source": [
    "# plot the new map\n",
    "fig = plt.figure(0,[9,9])\n",
    "ax = fig.add_subplot(111, projection=wcs_out)\n",
    "\n",
    "ax.imshow(tmap, vmin=0.0001, vmax=0.005, origin='lower', cmap='BuPu_r')\n",
    "ax.set_xlabel('RA')\n",
    "ax.set_ylabel('Dec')\n",
    "plt.savefig('mbm15_claire.jpg', dpi=600, bbox_inches='tight')"
   ]
  },
  {
   "cell_type": "markdown",
   "id": "9b717237",
   "metadata": {},
   "source": [
    "Finally, we have our mosaic! This image corresponds to the \n",
    "[Molecular cloud MBM 15](http://simbad.cds.unistra.fr/simbad/sim-id?Ident=mbm+15&submit=submit+id). This molecular cloud belongs to the Orion-Eridanus superbubble, west of the Orion Nebula. More information about this can be found in [Joubaud et al. (2019)](https://ui.adsabs.harvard.edu/abs/2019A%26A...631A..52J/abstract). "
   ]
  },
  {
   "cell_type": "code",
   "execution_count": null,
   "id": "5b6f2f38-56ea-42f4-8cab-d2cc08e1d3b2",
   "metadata": {},
   "outputs": [],
   "source": []
  },
  {
   "cell_type": "markdown",
   "id": "131d4b1b",
   "metadata": {},
   "source": [
    "## HERE IS WHERE CLAIRE'S STUFF ENDS :)"
   ]
  },
  {
   "cell_type": "code",
   "execution_count": null,
   "id": "b528c98e",
   "metadata": {},
   "outputs": [],
   "source": []
  },
  {
   "cell_type": "code",
   "execution_count": null,
   "id": "bf612d30",
   "metadata": {},
   "outputs": [],
   "source": []
  },
  {
   "cell_type": "markdown",
   "id": "072f26f6",
   "metadata": {},
   "source": [
    "## Exercises\n",
    "\n",
    "Now that we have seen the whole process, let's try to do the same for a different target from the MBM catalog. Let's study now the molecular cloud **TBD**.\n",
    "\n",
    "Let's start again with the coordinates that SIMBAD provides for the **TBD** (Gal. coordinates, ep = J2000):\n",
    "\n",
    "- Galactic longitude: **TBD** deg\n",
    "- Galactic latitude: **TBD** deg"
   ]
  },
  {
   "cell_type": "markdown",
   "id": "299a00af",
   "metadata": {},
   "source": [
    "### 1. Coordinate query and data download\n",
    "\n",
    "Following the steps shown before, perform a query in the GALEX MIS database and download the NUV or FUV intensity maps corresponding to the coordinates provided. Remember to choose a wide radius for the query in order to construct the final mosaic."
   ]
  },
  {
   "cell_type": "code",
   "execution_count": null,
   "id": "e89bf232",
   "metadata": {},
   "outputs": [],
   "source": [
    "# You can copy, paste and modify the code corresponding to this part that we used before here\n"
   ]
  },
  {
   "cell_type": "markdown",
   "id": "04c45112",
   "metadata": {},
   "source": [
    "_**Note**: don't forget to transform the coordinates from the galactic to the icrs frame!_\n",
    "\n",
    "### 2. Check the orientation of the images\n",
    "\n",
    "As we did before, check the orientation of the image and make the necessary adjustments if the orientations do not coincide:"
   ]
  },
  {
   "cell_type": "code",
   "execution_count": null,
   "id": "9e843f99",
   "metadata": {},
   "outputs": [],
   "source": [
    "# You can copy, paste and modify the code corresponding to this part that we used before here\n"
   ]
  },
  {
   "cell_type": "markdown",
   "id": "da40b321",
   "metadata": {},
   "source": [
    "### 3. Save non-central images to local\n",
    "\n",
    "In order to use the `paste` method, we first need to save the additional images to our local. The central image is the fist one retrieved from the database, so let's save the rest of the images to our local directory in order to use them later. Remember you need to provide the filename which will be used to save the image to your local directory when using `savefig` from `matplotlib`."
   ]
  },
  {
   "cell_type": "code",
   "execution_count": null,
   "id": "d1e4bea1",
   "metadata": {},
   "outputs": [],
   "source": [
    "# You can copy, paste and modify the code corresponding to this part that we used before here\n"
   ]
  },
  {
   "cell_type": "markdown",
   "id": "c6d95645",
   "metadata": {},
   "source": [
    "### 4. Generate the masks for the circular images\n",
    "\n",
    "Since we are working with circular images, in order to paste them into our extended image we need to only use the part of the image that actually contains information. In order to do this, let's use circular masks as before. Create a circular mask for each of the images retrieved as shown previously."
   ]
  },
  {
   "cell_type": "code",
   "execution_count": null,
   "id": "bcef9363",
   "metadata": {},
   "outputs": [],
   "source": [
    "# You can copy, paste and modify the code corresponding to this part that we used before here\n"
   ]
  },
  {
   "cell_type": "markdown",
   "id": "9cd65315",
   "metadata": {},
   "source": [
    "### 5. Create an expanded image from the central one\n",
    "\n",
    "Using the central image (the first one retrieved from the database), create an extended image by included 0s in the 2D array corresponding to the retrieved intensity map as we did before."
   ]
  },
  {
   "cell_type": "code",
   "execution_count": null,
   "id": "879694fa",
   "metadata": {},
   "outputs": [],
   "source": [
    "# You can copy, paste and modify the code corresponding to this part that we used before here\n"
   ]
  },
  {
   "cell_type": "markdown",
   "id": "2980c26d",
   "metadata": {},
   "source": [
    "### 6. Obtain the limits of the expanded image and save it\n",
    "\n",
    "Using the technique introduced in Part 1 of this tutorial, and briefly introduced in Part 2 also, obtain the new limits of the extended image we just created using the coordinates of the central image (RA, Dec)."
   ]
  },
  {
   "cell_type": "code",
   "execution_count": null,
   "id": "bc382151",
   "metadata": {},
   "outputs": [],
   "source": [
    "# You can copy, paste and modify the code corresponding to this part that we used before here\n"
   ]
  },
  {
   "cell_type": "markdown",
   "id": "a95a81fc",
   "metadata": {},
   "source": [
    "### 7. Transform RA, Dec coordinates into image coordinates\n",
    "\n",
    "Lastly, we need to transform the central coordiantes of the images in order to correctly place them in the mosaic. You can use the function proposed before in this section."
   ]
  },
  {
   "cell_type": "code",
   "execution_count": null,
   "id": "5a4b96ad",
   "metadata": {},
   "outputs": [],
   "source": [
    "# You can copy, paste and modify the code corresponding to this part that we used before here\n"
   ]
  },
  {
   "cell_type": "markdown",
   "id": "5a88bf81",
   "metadata": {},
   "source": [
    "### 8. Display the final mosaic\n",
    "\n",
    "Let's put together everything and display the final mosaic!"
   ]
  },
  {
   "cell_type": "code",
   "execution_count": null,
   "id": "cd595679",
   "metadata": {},
   "outputs": [],
   "source": [
    "# You can copy, paste and modify the code corresponding to this part that we used before here\n"
   ]
  },
  {
   "cell_type": "markdown",
   "id": "8e6c11bf",
   "metadata": {},
   "source": [
    "## Additional Resources\n",
    "\n",
    "For more information about the MAST archive and details about the tutorial: \n",
    "\n",
    "* <a href=\"https://mast.stsci.edu/api/v0/index.html\">MAST API</a> <br>\n",
    "* <a href=\"https://galex.stsci.edu/GR6/\">GALEX via MAST</a> <br>\n",
    "\n",
    "## About this Notebook\n",
    "\n",
    "**Author**: Clara Puerto Sánchez, Claire Murray <br>\n",
    "**Keyword(s)**: Tutorial, mosaic, dust <br>\n",
    "**Last Updated**: Apr 2023 <br>\n",
    "\n",
    "For support, please contact the Archive HelpDesk at archive@stsci.edu.\n",
    "***\n",
    "[Top of Page](#top)\n",
    "<img style=\"float: right;\" src=\"https://raw.githubusercontent.com/spacetelescope/notebooks/master/assets/stsci_pri_combo_mark_horizonal_white_bkgd.png\" alt=\"Space Telescope Logo\" width=\"200px\"/>"
   ]
  }
 ],
 "metadata": {
  "kernelspec": {
   "display_name": "Python 3 (ipykernel)",
   "language": "python",
   "name": "python3"
  },
  "language_info": {
   "codemirror_mode": {
    "name": "ipython",
    "version": 3
   },
   "file_extension": ".py",
   "mimetype": "text/x-python",
   "name": "python",
   "nbconvert_exporter": "python",
   "pygments_lexer": "ipython3",
   "version": "3.8.16"
  }
 },
 "nbformat": 4,
 "nbformat_minor": 5
}
