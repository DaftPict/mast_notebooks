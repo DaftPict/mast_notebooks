{
 "cells": [
  {
   "cell_type": "markdown",
   "id": "ba875f5a",
   "metadata": {},
   "source": [
    "# Wildcard Handling with Astroquery.mast"
   ]
  },
  {
   "cell_type": "markdown",
   "id": "82aa07ce",
   "metadata": {},
   "source": [
    "----"
   ]
  },
  {
   "cell_type": "markdown",
   "id": "f663f21e",
   "metadata": {},
   "source": [
    "## Learning Goals"
   ]
  },
  {
   "cell_type": "markdown",
   "id": "683067ea",
   "metadata": {},
   "source": [
    "By the end of this tutorial, you will:\n",
    "\n",
    "* Learn about the wildcards available for `astroquery.mast.Observations` criteria queries\n",
    "* Learn how to use these wildcards to broaden or refine `astroquery.mast.Observations` criteria queries\n",
    "* Learn the downfalls of the `instrument_name` criteria, particularly for JWST queries\n",
    "* Learn how to query for moving targets using target ephemeris and time criteria such as `t_min` and `t_max` for more advanced searches"
   ]
  },
  {
   "cell_type": "markdown",
   "id": "299dbd42",
   "metadata": {},
   "source": [
    "## Introduction"
   ]
  },
  {
   "cell_type": "markdown",
   "id": "e3f8b9c2",
   "metadata": {},
   "source": [
    "This notebook will demonstrate the use of wildcards in `astroquery.mast.Observations` criteria queries. The use of wildcards is encouraged for certain criteria types (`string` object types) to ensure that your query results capture what is truly available on MAST. We will use 3 examples to demonstrate some use-cases for wildcards when doing criteria queries, and to emphasize on certain criteria where wildcard usage is highly encouraged, particularly for JWST queries. We will also use the last example to demonstrate the use of value ranges when working with `float` object criteria types.\n",
    "\n",
    "The workflow for this notebook consists of:\n",
    "\n",
    "* Wildcards with `astroquery.mast.Observations`\n",
    "    * Wildcard Search with `instrument_name`\n",
    "    * Wildcard Search with `instrument_name` and `proposal_id`\n",
    "    * Wildcard Search a Time-sensitive Object with `target_name` and `t_min`\n",
    "    * Resources"
   ]
  },
  {
   "cell_type": "markdown",
   "id": "081aec44",
   "metadata": {},
   "source": [
    "## Imports"
   ]
  },
  {
   "cell_type": "code",
   "execution_count": 84,
   "id": "e3b0d9a0",
   "metadata": {},
   "outputs": [],
   "source": [
    "import astropy.units as u\n",
    "import matplotlib.pyplot as plt\n",
    "\n",
    "from astropy.coordinates import SkyCoord\n",
    "from astropy.table import Table, unique, vstack\n",
    "from astropy.time import Time\n",
    "from astroquery.mast import Observations"
   ]
  },
  {
   "cell_type": "markdown",
   "id": "6fa247ec",
   "metadata": {},
   "source": [
    "----"
   ]
  },
  {
   "cell_type": "markdown",
   "id": "9485fb4d",
   "metadata": {},
   "source": [
    "## Wildcards with `astroquery.mast.Observations`"
   ]
  },
  {
   "cell_type": "markdown",
   "id": "01935242",
   "metadata": {},
   "source": [
    "The use of wildcards when making `astroquery.mast.Observations` queries can help ensure you retrieve all observations without leaving anything out. The available wildcards are `%` and `*` with `%` serving to replace a single character, and `*` serving to replace more than one character preceding, following, or in between the existing characters, depending on its placement. See the [Observation Criteria Queries](https://astroquery.readthedocs.io/en/latest/mast/mast.html#observation-criteria-queries) section in the `astroquery.mast` documentation for more information on the wildcards.\n",
    "\n",
    "With that being said, wildcards are only available for certain criteria. Those criteria that are `string` type objects are criteria that accept wildcards, but `float`, `integer`, or any other objects do not accept wildcards.\n",
    "\n",
    "Users may call the `get_metadata` method to see the list of criteria that can be queried with. The criteria listed as `string` objects under the **Data Type** column are criteria that can be called with wildcards:"
   ]
  },
  {
   "cell_type": "code",
   "execution_count": 46,
   "id": "a892c185",
   "metadata": {
    "scrolled": true
   },
   "outputs": [
    {
     "data": {
      "text/html": [
       "<i>Table length=34</i>\n",
       "<table id=\"table4597996080-2021\" class=\"table-striped table-bordered table-condensed\">\n",
       "<thead><tr><th>idx</th><th>Column Name</th><th>Column Label</th><th>Data Type</th><th>Units</th><th>Description</th><th>Examples/Valid Values</th></tr></thead>\n",
       "<tr><td>0</td><td>intentType</td><td>Observation Type</td><td>string</td><td></td><td>Whether observation is for science or calibration.</td><td>Valid values: science, calibration</td></tr>\n",
       "<tr><td>1</td><td>obs_collection</td><td>Mission</td><td>string</td><td></td><td>Collection</td><td>E.g. SWIFT, PS1, HST, IUE</td></tr>\n",
       "<tr><td>2</td><td>provenance_name</td><td>Provenance Name</td><td>string</td><td></td><td>Provenance name, or source of data</td><td>E.g. TASOC, CALSTIS, PS1</td></tr>\n",
       "<tr><td>3</td><td>instrument_name</td><td>Instrument</td><td>string</td><td></td><td>Instrument Name</td><td>E.g. WFPC2/WFC, UVOT, STIS/CCD</td></tr>\n",
       "<tr><td>4</td><td>project</td><td>Project</td><td>string</td><td></td><td>Processing project</td><td>E.g. HST, HLA, EUVE, hlsp_legus</td></tr>\n",
       "<tr><td>5</td><td>filters</td><td>Filters</td><td>string</td><td></td><td>Instrument filters</td><td>F469N, NUV, FUV, LOW DISP, MIRROR</td></tr>\n",
       "<tr><td>6</td><td>wavelength_region</td><td>Waveband</td><td>string</td><td></td><td>Energy Band</td><td>EUV, XRAY, OPTICAL</td></tr>\n",
       "<tr><td>7</td><td>target_name</td><td>Target Name</td><td>string</td><td></td><td>Target Name</td><td>Ex. COMET-67P-CHURYUMOV-GER-UPDATE</td></tr>\n",
       "<tr><td>8</td><td>target_classification</td><td>Target Classification</td><td>string</td><td></td><td>Type of target</td><td>Ex. COMET;COMET BEING ORBITED BY THE ROSETTA SPACECRAFT;SOLAR SYSTEM</td></tr>\n",
       "<tr><td>9</td><td>obs_id</td><td>Observation ID</td><td>string</td><td></td><td>Observation identifier, given by mission</td><td>U24Z0101T, N4QF18030</td></tr>\n",
       "<tr><td>10</td><td>s_ra</td><td>RA</td><td>float</td><td>deg</td><td>Observation Right Ascension</td><td>May be displayed in the Portal as hh:mm:ss.sss, but should be searched as decimal</td></tr>\n",
       "<tr><td>11</td><td>s_dec</td><td>Dec</td><td>float</td><td>deg</td><td>Observation Declination</td><td>May be displayed in the Portal as hh:mm:ss.sss, but should be searched as decimal</td></tr>\n",
       "<tr><td>12</td><td>proposal_id</td><td>Proposal ID</td><td>string</td><td></td><td>Proposal ID</td><td>E.g. EGCJC, 11360, 9401</td></tr>\n",
       "<tr><td>13</td><td>proposal_pi</td><td>Principal Investigator</td><td>string</td><td></td><td>Principal investigator&apos;s last name</td><td>Chander, Chu, Malkin</td></tr>\n",
       "<tr><td>14</td><td>obs_title</td><td>Observation Title</td><td>string</td><td></td><td>Observation description from proposal</td><td>Age-dating Star Clusters in M101</td></tr>\n",
       "<tr><td>15</td><td>dataproduct_type</td><td>Product Type</td><td>string</td><td></td><td>Type of product</td><td>Valid values: IMAGE, SPECTRUM, SED, TIMESERIES, VISIBILITY, EVENTLIST, CUBE, CATALOG, ENGINEERING, NULL</td></tr>\n",
       "<tr><td>16</td><td>calib_level</td><td>Calibration Level</td><td>integer</td><td></td><td>Calibration level</td><td>0 = raw, 1 = uncalibrated, 2 = calibrated, 3 = science product, 4 = contributed science product</td></tr>\n",
       "<tr><td>17</td><td>t_min</td><td>Start Time</td><td>float</td><td>MJD</td><td>Observation start datetime</td><td>May be displayed in the Portal as YYY-MM-DD HH:MM, but should be searched as MJD</td></tr>\n",
       "<tr><td>18</td><td>t_max</td><td>End Time</td><td>float</td><td>MJD</td><td>Observation end datetime</td><td>May be displayed in the Portal as YYY-MM-DD HH:MM, but should be searched as MJD</td></tr>\n",
       "<tr><td>19</td><td>t_obs_release</td><td>Release Date</td><td>float</td><td>MJD</td><td>Dataset release date</td><td>May be displayed in the Portal as YYY-MM-DD HH:MM, but should be searched as MJD</td></tr>\n",
       "<tr><td>20</td><td>t_exptime</td><td>Exposure Length</td><td>float</td><td>sec</td><td>Exposure time</td><td></td></tr>\n",
       "<tr><td>21</td><td>em_min</td><td>Min. Wavelength</td><td>float</td><td>nm</td><td>Minimum Wavelength</td><td></td></tr>\n",
       "<tr><td>22</td><td>em_max</td><td>Max. Wavelength</td><td>float</td><td>nm</td><td>Maximum Wavelength</td><td></td></tr>\n",
       "<tr><td>23</td><td>objID</td><td>Object ID</td><td>integer</td><td></td><td>Plane ID of observation at given calibration level</td><td>Long integer, e.g. 2012969445</td></tr>\n",
       "<tr><td>24</td><td>s_region</td><td>s_region</td><td>string</td><td>ICRS Shape</td><td>STC/S Footprint</td><td>Will be ICRS circle or polygon. E.g. CIRCLE ICRS 17.71740689 -58.40043015 0.625</td></tr>\n",
       "<tr><td>25</td><td>jpegURL</td><td>jpegURL</td><td>string</td><td></td><td>Preview Image URL</td><td>https://archive.stsci.edu/hst/previews/N4QF/N4QF18090.jpg</td></tr>\n",
       "<tr><td>26</td><td>distance</td><td>Distance (&quot;)</td><td>float</td><td>arcsec</td><td>Angular separation between searched coordinates and center of obsevation</td><td></td></tr>\n",
       "<tr><td>27</td><td>obsid</td><td>Product Group ID</td><td>integer</td><td></td><td>Database identifier for obs_id</td><td>Long integer, e.g. 2007590987</td></tr>\n",
       "<tr><td>28</td><td>dataRights</td><td>Data Rights</td><td>string</td><td></td><td>Data Rights</td><td>valid values: public,exclusive_access,restricted</td></tr>\n",
       "<tr><td>29</td><td>mtFlag</td><td>Moving Target</td><td>boolean</td><td></td><td>Moving Target Flag</td><td>If True, observation contains a moving target, if False or absent observation may or may not contain a moving target</td></tr>\n",
       "<tr><td>30</td><td>srcDen</td><td>Number of Catalog Objects</td><td>float</td><td></td><td>Number of cataloged objects found in observation</td><td></td></tr>\n",
       "<tr><td>31</td><td>dataURL</td><td>Data URL</td><td>string</td><td></td><td>Data URL</td><td></td></tr>\n",
       "<tr><td>32</td><td>proposal_type</td><td>Proposal Type</td><td>string</td><td></td><td>Type of telescope proposal</td><td>Eg. 3PI, GO, GO/DD, HLA, GII, AIS</td></tr>\n",
       "<tr><td>33</td><td>sequence_number</td><td>Sequence Number</td><td>integer</td><td></td><td>Sequence number, e.g. Kepler quarter or TESS sector</td><td></td></tr>\n",
       "</table><style>table.dataTable {clear: both; width: auto !important; margin: 0 !important;}\n",
       ".dataTables_info, .dataTables_length, .dataTables_filter, .dataTables_paginate{\n",
       "display: inline-block; margin-right: 1em; }\n",
       ".paginate_button { margin-right: 5px; }\n",
       "</style>\n",
       "<script>\n",
       "\n",
       "var astropy_sort_num = function(a, b) {\n",
       "    var a_num = parseFloat(a);\n",
       "    var b_num = parseFloat(b);\n",
       "\n",
       "    if (isNaN(a_num) && isNaN(b_num))\n",
       "        return ((a < b) ? -1 : ((a > b) ? 1 : 0));\n",
       "    else if (!isNaN(a_num) && !isNaN(b_num))\n",
       "        return ((a_num < b_num) ? -1 : ((a_num > b_num) ? 1 : 0));\n",
       "    else\n",
       "        return isNaN(a_num) ? -1 : 1;\n",
       "}\n",
       "\n",
       "require.config({paths: {\n",
       "    datatables: 'https://cdn.datatables.net/1.10.12/js/jquery.dataTables.min'\n",
       "}});\n",
       "require([\"datatables\"], function(){\n",
       "    console.log(\"$('#table4597996080-2021').dataTable()\");\n",
       "    \n",
       "jQuery.extend( jQuery.fn.dataTableExt.oSort, {\n",
       "    \"optionalnum-asc\": astropy_sort_num,\n",
       "    \"optionalnum-desc\": function (a,b) { return -astropy_sort_num(a, b); }\n",
       "});\n",
       "\n",
       "    $('#table4597996080-2021').dataTable({\n",
       "        order: [],\n",
       "        pageLength: 50,\n",
       "        lengthMenu: [[10, 25, 50, 100, 500, 1000, -1], [10, 25, 50, 100, 500, 1000, 'All']],\n",
       "        pagingType: \"full_numbers\",\n",
       "        columnDefs: [{targets: [0], type: \"optionalnum\"}]\n",
       "    });\n",
       "});\n",
       "</script>\n"
      ],
      "text/plain": [
       "<IPython.core.display.HTML object>"
      ]
     },
     "execution_count": 46,
     "metadata": {},
     "output_type": "execute_result"
    }
   ],
   "source": [
    "Observations.get_metadata(\"observations\").show_in_notebook()"
   ]
  },
  {
   "cell_type": "markdown",
   "id": "74d0a968",
   "metadata": {},
   "source": [
    "### Wildcard Search with `instrument_name`"
   ]
  },
  {
   "cell_type": "markdown",
   "id": "6b80645c",
   "metadata": {},
   "source": [
    "For our first example we will search for all NIRISS observations taken by a certain proposal/program PI. For this case, our two criteria we query with are `proposal_pi` and `instrument_name`, which are both `string` object criteria. As such, both can be wildcarded for ease of use. In fact, there may be cases where it is necessary to wildcard the `instrument_name` variable. This is because the JWST science instrument names on MAST have been modified to include configuration information for more precise advanced searches. However, this may lead to an incomplete list of observations returned for those who are not trying to do an advanced search. \n",
    "\n",
    "We will demonstrate this by looking at the results for the query below:"
   ]
  },
  {
   "cell_type": "code",
   "execution_count": 157,
   "id": "c88ef2ed",
   "metadata": {},
   "outputs": [
    {
     "data": {
      "text/html": [
       "<div><i>Table masked=True length=85</i>\n",
       "<table id=\"table4582345216\" class=\"table-striped table-bordered table-condensed\">\n",
       "<thead><tr><th>intentType</th><th>obs_collection</th><th>provenance_name</th><th>instrument_name</th><th>project</th><th>filters</th><th>wavelength_region</th><th>target_name</th><th>target_classification</th><th>obs_id</th><th>s_ra</th><th>s_dec</th><th>dataproduct_type</th><th>proposal_pi</th><th>calib_level</th><th>t_min</th><th>t_max</th><th>t_exptime</th><th>em_min</th><th>em_max</th><th>obs_title</th><th>t_obs_release</th><th>proposal_id</th><th>proposal_type</th><th>sequence_number</th><th>s_region</th><th>jpegURL</th><th>dataURL</th><th>dataRights</th><th>mtFlag</th><th>srcDen</th><th>obsid</th><th>objID</th></tr></thead>\n",
       "<thead><tr><th>str7</th><th>str4</th><th>str7</th><th>str12</th><th>str4</th><th>str13</th><th>str8</th><th>str13</th><th>str1</th><th>str50</th><th>float64</th><th>float64</th><th>str8</th><th>str16</th><th>int64</th><th>float64</th><th>float64</th><th>float64</th><th>float64</th><th>float64</th><th>str70</th><th>float64</th><th>str4</th><th>str3</th><th>int64</th><th>str158</th><th>str63</th><th>str81</th><th>str6</th><th>bool</th><th>float64</th><th>str9</th><th>str9</th></tr></thead>\n",
       "<tr><td>science</td><td>JWST</td><td>CALJWST</td><td>NIRISS</td><td>JWST</td><td>F277W/GR700XD</td><td>Infrared</td><td>HAT-P-14</td><td>--</td><td>jw01541-o001_t002_niriss_f277w-gr700xd-substrip256</td><td>260.1161716666666</td><td>38.24216944444444</td><td>spectrum</td><td>Espinoza, Nestor</td><td>3</td><td>59738.26121625</td><td>59738.55835982639</td><td>384.785</td><td>600.0</td><td>3200.0</td><td>NIRISS Sensitivity and Stability for Transiting Exoplanet Observations</td><td>59774.8541666</td><td>1541</td><td>COM</td><td>--</td><td>POLYGON 260.16189536 38.23724946 260.11337073 38.23746108 260.11348004 38.24619441 260.16201403 38.24597997 260.16189536 38.23724946</td><td>--</td><td>mast:JWST/product/jw01541-o001_t002_niriss_f277w-gr700xd-substrip256_x1dints.fits</td><td>PUBLIC</td><td>False</td><td>nan</td><td>85715273</td><td>195816449</td></tr>\n",
       "<tr><td>science</td><td>JWST</td><td>CALJWST</td><td>NIRISS/SOSS</td><td>JWST</td><td>F480M</td><td>INFRARED</td><td>BD+60-1753</td><td>--</td><td>jw01512002001_02101_00001_nis</td><td>261.2178643508574</td><td>60.43078346928282</td><td>image</td><td>Espinoza, Nestor</td><td>2</td><td>59995.98101357639</td><td>59995.98102200231</td><td>0.683</td><td>4600.0</td><td>5000.0</td><td>SOSS Wavelength and Trace</td><td>59996.18175925</td><td>1512</td><td>CAL</td><td>--</td><td>POLYGON 261.218693113 60.429993446 261.216484201 60.430416356 261.217327028 60.431499222 261.219536203 60.431076276</td><td>mast:JWST/product/jw01512002001_02101_00001_nis_cal.jpg</td><td>mast:JWST/product/jw01512002001_02101_00001_nis_cal.fits</td><td>PUBLIC</td><td>False</td><td>nan</td><td>117933629</td><td>255695241</td></tr>\n",
       "<tr><td>science</td><td>JWST</td><td>CALJWST</td><td>NIRISS/SOSS</td><td>JWST</td><td>F480M</td><td>INFRARED</td><td>BD+60-1753</td><td>--</td><td>jw01512002001_02101_00004_nis</td><td>261.2178643508749</td><td>60.43078346928948</td><td>image</td><td>Espinoza, Nestor</td><td>2</td><td>59995.98740097222</td><td>59995.98740939815</td><td>0.683</td><td>4600.0</td><td>5000.0</td><td>SOSS Wavelength and Trace</td><td>59996.18133101</td><td>1512</td><td>CAL</td><td>--</td><td>POLYGON 261.218665628 60.430005149 261.21645672 60.430428066 261.21729956 60.431510929 261.219508731 60.431087978</td><td>mast:JWST/product/jw01512002001_02101_00004_nis_cal.jpg</td><td>mast:JWST/product/jw01512002001_02101_00004_nis_cal.fits</td><td>PUBLIC</td><td>False</td><td>nan</td><td>117933631</td><td>255695252</td></tr>\n",
       "<tr><td>science</td><td>JWST</td><td>CALJWST</td><td>NIRISS/SOSS</td><td>JWST</td><td>F480M</td><td>INFRARED</td><td>BD+60-1753</td><td>--</td><td>jw01512002001_02101_00003_nis</td><td>261.2178643508621</td><td>60.43078346928461</td><td>image</td><td>Espinoza, Nestor</td><td>2</td><td>59995.98273135417</td><td>59995.98273978009</td><td>0.683</td><td>4600.0</td><td>5000.0</td><td>SOSS Wavelength and Trace</td><td>59996.18243051</td><td>1512</td><td>CAL</td><td>--</td><td>POLYGON 261.218532548 60.430043518 261.216323637 60.430466434 261.217166476 60.431549298 261.219375651 60.431126347</td><td>mast:JWST/product/jw01512002001_02101_00003_nis_cal.jpg</td><td>mast:JWST/product/jw01512002001_02101_00003_nis_cal.fits</td><td>PUBLIC</td><td>False</td><td>nan</td><td>117933632</td><td>255695267</td></tr>\n",
       "<tr><td>science</td><td>JWST</td><td>CALJWST</td><td>NIRISS/IMAGE</td><td>JWST</td><td>CLEAR;GR700XD</td><td>INFRARED</td><td>BD+60-1753</td><td>--</td><td>jw01512002001_03101_00001_nis</td><td>261.2178643508796</td><td>60.43078346929124</td><td>image</td><td>Espinoza, Nestor</td><td>2</td><td>59995.98902444445</td><td>59995.98915162037</td><td>5.494</td><td>500.0</td><td>5000.0</td><td>SOSS Wavelength and Trace</td><td>59996.02287034</td><td>1512</td><td>CAL</td><td>--</td><td>POLYGON 261.252875018 60.462615326 261.225284884 60.427069921 261.208823688 60.430220008 261.236381292 60.465773165</td><td>mast:JWST/product/jw01512002001_03101_00001_nis_trapsfilled.jpg</td><td>mast:JWST/product/jw01512002001_03101_00001_nis_rateints.fits</td><td>PUBLIC</td><td>False</td><td>nan</td><td>117933633</td><td>255695284</td></tr>\n",
       "<tr><td>science</td><td>JWST</td><td>CALJWST</td><td>NIRISS/SOSS</td><td>JWST</td><td>F480M</td><td>INFRARED</td><td>BD+60-1753</td><td>--</td><td>jw01512002001_02101_00002_nis</td><td>261.2178643508597</td><td>60.4307834692837</td><td>image</td><td>Espinoza, Nestor</td><td>2</td><td>59995.98186616898</td><td>59995.98187459491</td><td>0.683</td><td>4600.0</td><td>5000.0</td><td>SOSS Wavelength and Trace</td><td>59996.18305556</td><td>1512</td><td>CAL</td><td>--</td><td>POLYGON 261.218570044 60.429939833 261.216361139 60.430362749 261.217203974 60.431445613 261.219413143 60.431022662</td><td>mast:JWST/product/jw01512002001_02101_00002_nis_cal.jpg</td><td>mast:JWST/product/jw01512002001_02101_00002_nis_cal.fits</td><td>PUBLIC</td><td>False</td><td>nan</td><td>117933634</td><td>255695293</td></tr>\n",
       "<tr><td>science</td><td>JWST</td><td>CALJWST</td><td>NIRISS/IMAGE</td><td>JWST</td><td>CLEAR;GR700XD</td><td>INFRARED</td><td>BD+60-1753</td><td>--</td><td>jw01512002001_03102_00001_nis</td><td>261.2178643508855</td><td>60.43078346929347</td><td>image</td><td>Espinoza, Nestor</td><td>2</td><td>59995.98995106482</td><td>59995.99249458333</td><td>164.82</td><td>500.0</td><td>5000.0</td><td>SOSS Wavelength and Trace</td><td>59996.02337956</td><td>1512</td><td>CAL</td><td>--</td><td>POLYGON 261.252875297 60.462615396 261.225285352 60.427069955 261.208824139 60.43022002 261.236381554 60.465773214</td><td>mast:JWST/product/jw01512002001_03102_00001_nis_trapsfilled.jpg</td><td>mast:JWST/product/jw01512002001_03102_00001_nis_rateints.fits</td><td>PUBLIC</td><td>False</td><td>nan</td><td>117933635</td><td>255695303</td></tr>\n",
       "<tr><td>science</td><td>JWST</td><td>CALJWST</td><td>NIRISS/SOSS</td><td>JWST</td><td>F480M</td><td>INFRARED</td><td>BD+60-1753</td><td>--</td><td>jw01512003001_02101_00003_nis</td><td>261.2178643509114</td><td>60.43078346930328</td><td>image</td><td>Espinoza, Nestor</td><td>2</td><td>59996.0006165162</td><td>59996.00062494213</td><td>0.683</td><td>4600.0</td><td>5000.0</td><td>SOSS Wavelength and Trace</td><td>59996.22311345</td><td>1512</td><td>CAL</td><td>--</td><td>POLYGON 261.218532791 60.430043963 261.216323611 60.430466538 261.217165763 60.431549532 261.219375206 60.431126923</td><td>mast:JWST/product/jw01512003001_02101_00003_nis_cal.jpg</td><td>mast:JWST/product/jw01512003001_02101_00003_nis_cal.fits</td><td>PUBLIC</td><td>False</td><td>nan</td><td>117933684</td><td>255695327</td></tr>\n",
       "<tr><td>science</td><td>JWST</td><td>CALJWST</td><td>NIRISS/SOSS</td><td>JWST</td><td>F480M</td><td>INFRARED</td><td>BD+60-1753</td><td>--</td><td>jw01512003001_02101_00002_nis</td><td>261.217864350909</td><td>60.43078346930239</td><td>image</td><td>Espinoza, Nestor</td><td>2</td><td>59995.99976318287</td><td>59995.9997716088</td><td>0.683</td><td>4600.0</td><td>5000.0</td><td>SOSS Wavelength and Trace</td><td>59996.22358799</td><td>1512</td><td>CAL</td><td>--</td><td>POLYGON 261.21857013 60.429939472 261.216360958 60.430362047 261.217203108 60.431445041 261.219412544 60.431022431</td><td>mast:JWST/product/jw01512003001_02101_00002_nis_cal.jpg</td><td>mast:JWST/product/jw01512003001_02101_00002_nis_cal.fits</td><td>PUBLIC</td><td>False</td><td>nan</td><td>117933685</td><td>255695333</td></tr>\n",
       "<tr><td>science</td><td>JWST</td><td>CALJWST</td><td>NIRISS/SOSS</td><td>JWST</td><td>F480M</td><td>INFRARED</td><td>BD+60-1753</td><td>--</td><td>jw01512004001_02101_00001_nis</td><td>261.2178643509563</td><td>60.43078346932032</td><td>image</td><td>Espinoza, Nestor</td><td>2</td><td>59996.01693650463</td><td>59996.01694493055</td><td>0.683</td><td>4600.0</td><td>5000.0</td><td>SOSS Wavelength and Trace</td><td>59996.36354172</td><td>1512</td><td>CAL</td><td>--</td><td>POLYGON 261.218691488 60.429994372 261.216482047 60.43041661 261.217323518 60.431499732 261.219533223 60.43107746</td><td>mast:JWST/product/jw01512004001_02101_00001_nis_cal.jpg</td><td>mast:JWST/product/jw01512004001_02101_00001_nis_cal.fits</td><td>PUBLIC</td><td>False</td><td>nan</td><td>117933695</td><td>255695339</td></tr>\n",
       "<tr><td>science</td><td>JWST</td><td>CALJWST</td><td>NIRISS/SOSS</td><td>JWST</td><td>F480M</td><td>INFRARED</td><td>BD+60-1753</td><td>--</td><td>jw01512003001_02101_00004_nis</td><td>261.2178643509242</td><td>60.43078346930817</td><td>image</td><td>Espinoza, Nestor</td><td>2</td><td>59996.00529503472</td><td>59996.00530346065</td><td>0.683</td><td>4600.0</td><td>5000.0</td><td>SOSS Wavelength and Trace</td><td>59996.22332179</td><td>1512</td><td>CAL</td><td>--</td><td>POLYGON 261.218665517 60.430005171 261.21645634 60.430427745 261.217298491 60.431510739 261.219507931 60.43108813</td><td>mast:JWST/product/jw01512003001_02101_00004_nis_cal.jpg</td><td>mast:JWST/product/jw01512003001_02101_00004_nis_cal.fits</td><td>PUBLIC</td><td>False</td><td>nan</td><td>117933686</td><td>255695349</td></tr>\n",
       "<tr><td>...</td><td>...</td><td>...</td><td>...</td><td>...</td><td>...</td><td>...</td><td>...</td><td>...</td><td>...</td><td>...</td><td>...</td><td>...</td><td>...</td><td>...</td><td>...</td><td>...</td><td>...</td><td>...</td><td>...</td><td>...</td><td>...</td><td>...</td><td>...</td><td>...</td><td>...</td><td>...</td><td>...</td><td>...</td><td>...</td><td>...</td><td>...</td><td>...</td></tr>\n",
       "<tr><td>science</td><td>JWST</td><td>CALJWST</td><td>NIRISS/IMAGE</td><td>JWST</td><td>CLEAR;GR700XD</td><td>INFRARED</td><td>ECLIPTIC-RA80</td><td>--</td><td>jw01541005001_02105_00001_nis</td><td>124.1008916666667</td><td>19.23126111111111</td><td>image</td><td>Espinoza, Nestor</td><td>2</td><td>59688.63057725313</td><td>59688.63418103009</td><td>300.63</td><td>500.0</td><td>5000.0</td><td>NIRISS Sensitivity and Stability for Transiting Exoplanet Observations</td><td>59774.8541666</td><td>1541</td><td>COM</td><td>--</td><td>POLYGON 124.085169728 19.218694146 124.094017289 19.254891235 124.132560367 19.24631933 124.123734078 19.21012708</td><td>mast:JWST/product/jw01541005001_02105_00001_nis_trapsfilled.jpg</td><td>mast:JWST/product/jw01541005001_02105_00001_nis_rateints.fits</td><td>PUBLIC</td><td>False</td><td>nan</td><td>79661727</td><td>257095740</td></tr>\n",
       "<tr><td>science</td><td>JWST</td><td>CALJWST</td><td>NIRISS/IMAGE</td><td>JWST</td><td>CLEAR;GR700XD</td><td>INFRARED</td><td>ECLIPTIC-RA80</td><td>--</td><td>jw01541005001_0210r_00001_nis</td><td>124.1008916666667</td><td>19.23126111111111</td><td>image</td><td>Espinoza, Nestor</td><td>2</td><td>59688.68771645451</td><td>59688.69132023148</td><td>300.63</td><td>500.0</td><td>5000.0</td><td>NIRISS Sensitivity and Stability for Transiting Exoplanet Observations</td><td>59774.8541666</td><td>1541</td><td>COM</td><td>--</td><td>POLYGON 124.07286819 19.218391368 124.081713008 19.254589051 124.120256661 19.246019733 124.111433114 19.209826891</td><td>mast:JWST/product/jw01541005001_0210r_00001_nis_trapsfilled.jpg</td><td>mast:JWST/product/jw01541005001_0210r_00001_nis_rateints.fits</td><td>PUBLIC</td><td>False</td><td>nan</td><td>79661746</td><td>257095772</td></tr>\n",
       "<tr><td>science</td><td>JWST</td><td>CALJWST</td><td>NIRISS/IMAGE</td><td>JWST</td><td>CLEAR;GR700XD</td><td>INFRARED</td><td>ECLIPTIC-RA80</td><td>--</td><td>jw01541005001_0210f_00001_nis</td><td>124.1008916666667</td><td>19.23126111111111</td><td>image</td><td>Espinoza, Nestor</td><td>2</td><td>59688.65653278554</td><td>59688.6601365625</td><td>300.63</td><td>500.0</td><td>5000.0</td><td>NIRISS Sensitivity and Stability for Transiting Exoplanet Observations</td><td>59774.8541666</td><td>1541</td><td>COM</td><td>--</td><td>POLYGON 124.07865538 19.217095484 124.087501392 19.253292892 124.126044442 19.244722375 124.117219701 19.208529806</td><td>mast:JWST/product/jw01541005001_0210f_00001_nis_trapsfilled.jpg</td><td>mast:JWST/product/jw01541005001_0210f_00001_nis_rateints.fits</td><td>PUBLIC</td><td>False</td><td>nan</td><td>79661763</td><td>257095799</td></tr>\n",
       "<tr><td>science</td><td>JWST</td><td>CALJWST</td><td>NIRISS/IMAGE</td><td>JWST</td><td>CLEAR;GR700XD</td><td>INFRARED</td><td>ECLIPTIC-RA80</td><td>--</td><td>jw01541005001_0210z_00001_nis</td><td>124.1008916666667</td><td>19.23126111111111</td><td>image</td><td>Espinoza, Nestor</td><td>2</td><td>59688.70849199849</td><td>59688.71209577546</td><td>300.63</td><td>500.0</td><td>5000.0</td><td>NIRISS Sensitivity and Stability for Transiting Exoplanet Observations</td><td>59774.8541666</td><td>1541</td><td>COM</td><td>--</td><td>POLYGON 124.069247606 19.216144422 124.078091482 19.252342284 124.116634802 19.243773748 124.107812198 19.207580726</td><td>mast:JWST/product/jw01541005001_0210z_00001_nis_trapsfilled.jpg</td><td>mast:JWST/product/jw01541005001_0210z_00001_nis_rateints.fits</td><td>PUBLIC</td><td>False</td><td>nan</td><td>79661781</td><td>257095821</td></tr>\n",
       "<tr><td>science</td><td>JWST</td><td>CALJWST</td><td>NIRISS/IMAGE</td><td>JWST</td><td>CLEAR;GR700XD</td><td>INFRARED</td><td>ECLIPTIC-RA80</td><td>--</td><td>jw01541005001_0210d_00001_nis</td><td>124.1008916666667</td><td>19.23126111111111</td><td>image</td><td>Espinoza, Nestor</td><td>2</td><td>59688.65134242674</td><td>59688.6549462037</td><td>300.63</td><td>500.0</td><td>5000.0</td><td>NIRISS Sensitivity and Stability for Transiting Exoplanet Observations</td><td>59774.8541666</td><td>1541</td><td>COM</td><td>--</td><td>POLYGON 124.077928418 19.214200713 124.08677415 19.250398148 124.125316549 19.241827749 124.116492089 19.205635154</td><td>mast:JWST/product/jw01541005001_0210d_00001_nis_trapsfilled.jpg</td><td>mast:JWST/product/jw01541005001_0210d_00001_nis_rateints.fits</td><td>PUBLIC</td><td>False</td><td>nan</td><td>79661804</td><td>257095847</td></tr>\n",
       "<tr><td>science</td><td>JWST</td><td>CALJWST</td><td>NIRISS/SOSS</td><td>JWST</td><td>CLEAR;GR700XD</td><td>INFRARED</td><td>HAT-P-14</td><td>--</td><td>jw01541001001_04101_00001-seg001_nis</td><td>260.1161736742332</td><td>38.24216472053897</td><td>spectrum</td><td>Espinoza, Nestor</td><td>2</td><td>59738.29788028935</td><td>59738.55248649306</td><td>18855.408</td><td>500.0</td><td>5000.0</td><td>NIRISS Sensitivity and Stability for Transiting Exoplanet Observations</td><td>59774.8541666</td><td>1541</td><td>COM</td><td>--</td><td>POLYGON 260.16189736 38.23724474 260.11337274 38.23745635 260.11348205 38.24618969 260.16201603 38.24597525 260.16189736 38.23724474</td><td>mast:JWST/product/jw01541001001_04101_00001-seg001_nis_ramp.jpg</td><td>mast:JWST/product/jw01541001001_04101_00001-seg001_nis_x1dints.fits</td><td>PUBLIC</td><td>False</td><td>nan</td><td>85700117</td><td>257352619</td></tr>\n",
       "<tr><td>science</td><td>JWST</td><td>CALJWST</td><td>NIRISS/SOSS</td><td>JWST</td><td>CLEAR;GR700XD</td><td>INFRARED</td><td>HAT-P-14</td><td>--</td><td>jw01541001001_04101_00001-seg004_nis</td><td>260.1161736742332</td><td>38.24216472053897</td><td>spectrum</td><td>Espinoza, Nestor</td><td>2</td><td>59738.29788028935</td><td>59738.55248649306</td><td>18855.408</td><td>500.0</td><td>5000.0</td><td>NIRISS Sensitivity and Stability for Transiting Exoplanet Observations</td><td>59774.8541666</td><td>1541</td><td>COM</td><td>--</td><td>POLYGON 260.16189736 38.23724474 260.11337274 38.23745635 260.11348205 38.24618969 260.16201603 38.24597525 260.16189736 38.23724474</td><td>mast:JWST/product/jw01541001001_04101_00001-seg004_nis_ramp.jpg</td><td>mast:JWST/product/jw01541001001_04101_00001-seg004_nis_x1dints.fits</td><td>PUBLIC</td><td>False</td><td>nan</td><td>85700141</td><td>257352626</td></tr>\n",
       "<tr><td>science</td><td>JWST</td><td>CALJWST</td><td>NIRISS/SOSS</td><td>JWST</td><td>CLEAR;GR700XD</td><td>INFRARED</td><td>HAT-P-14</td><td>--</td><td>jw01541001001_04101_00001-seg003_nis</td><td>260.1161736742332</td><td>38.24216472053897</td><td>spectrum</td><td>Espinoza, Nestor</td><td>2</td><td>59738.29788028935</td><td>59738.55248649306</td><td>18855.408</td><td>500.0</td><td>5000.0</td><td>NIRISS Sensitivity and Stability for Transiting Exoplanet Observations</td><td>59774.8541666</td><td>1541</td><td>COM</td><td>--</td><td>POLYGON 260.16189736 38.23724474 260.11337274 38.23745635 260.11348205 38.24618969 260.16201603 38.24597525 260.16189736 38.23724474</td><td>mast:JWST/product/jw01541001001_04101_00001-seg003_nis_ramp.jpg</td><td>mast:JWST/product/jw01541001001_04101_00001-seg003_nis_x1dints.fits</td><td>PUBLIC</td><td>False</td><td>nan</td><td>85700237</td><td>257352647</td></tr>\n",
       "<tr><td>science</td><td>JWST</td><td>CALJWST</td><td>NIRISS/SOSS</td><td>JWST</td><td>CLEAR;GR700XD</td><td>INFRARED</td><td>HAT-P-14</td><td>--</td><td>jw01541001001_04101_00001-seg002_nis</td><td>260.1161736742332</td><td>38.24216472053897</td><td>spectrum</td><td>Espinoza, Nestor</td><td>2</td><td>59738.29788028935</td><td>59738.55248649306</td><td>18855.408</td><td>500.0</td><td>5000.0</td><td>NIRISS Sensitivity and Stability for Transiting Exoplanet Observations</td><td>59774.8541666</td><td>1541</td><td>COM</td><td>--</td><td>POLYGON 260.16189736 38.23724474 260.11337274 38.23745635 260.11348205 38.24618969 260.16201603 38.24597525 260.16189736 38.23724474</td><td>mast:JWST/product/jw01541001001_04101_00001-seg002_nis_ramp.jpg</td><td>mast:JWST/product/jw01541001001_04101_00001-seg002_nis_x1dints.fits</td><td>PUBLIC</td><td>False</td><td>nan</td><td>85700224</td><td>257352659</td></tr>\n",
       "<tr><td>science</td><td>JWST</td><td>APT</td><td>NIRISS/IMAGE</td><td>JWST</td><td>CLEAR;GR700XD</td><td>INFRARED</td><td>CD-38-2551</td><td>--</td><td>jw02113001001_xx102_00001_niriss</td><td>94.33635625</td><td>-38.32338333333337</td><td>spectrum</td><td>Espinoza, Nestor</td><td>-1</td><td>nan</td><td>nan</td><td>35798.904</td><td>500.0</td><td>5000.0</td><td>Exploring the morning and evening limbs of a transiting exoplanet</td><td>nan</td><td>2113</td><td>--</td><td>2</td><td>POLYGON 94.37806385670547 -38.33887515457093 94.33188458126378 -38.327190520460306 94.33534510007135 -38.318911190737595 94.38152459118622 -38.330585768976164</td><td>--</td><td>--</td><td>PUBLIC</td><td>False</td><td>nan</td><td>141912772</td><td>260893015</td></tr>\n",
       "<tr><td>science</td><td>JWST</td><td>APT</td><td>NIRISS/IMAGE</td><td>JWST</td><td>CLEAR;GR700XD</td><td>INFRARED</td><td>CD-38-2551</td><td>--</td><td>jw02113001001_xx103_00001_niriss</td><td>94.33635625</td><td>-38.32338333333337</td><td>spectrum</td><td>Espinoza, Nestor</td><td>-1</td><td>nan</td><td>nan</td><td>329.64</td><td>500.0</td><td>5000.0</td><td>Exploring the morning and evening limbs of a transiting exoplanet</td><td>nan</td><td>2113</td><td>--</td><td>3</td><td>POLYGON 94.37806385670547 -38.33887515457093 94.33188458126378 -38.327190520460306 94.33534510007135 -38.318911190737595 94.38152459118622 -38.330585768976164</td><td>--</td><td>--</td><td>PUBLIC</td><td>False</td><td>nan</td><td>141912775</td><td>260893018</td></tr>\n",
       "</table></div>"
      ],
      "text/plain": [
       "<Table masked=True length=85>\n",
       "intentType obs_collection provenance_name instrument_name ...  srcDen   obsid     objID  \n",
       "   str7         str4            str7           str12      ... float64    str9      str9  \n",
       "---------- -------------- --------------- --------------- ... ------- --------- ---------\n",
       "   science           JWST         CALJWST          NIRISS ...     nan  85715273 195816449\n",
       "   science           JWST         CALJWST     NIRISS/SOSS ...     nan 117933629 255695241\n",
       "   science           JWST         CALJWST     NIRISS/SOSS ...     nan 117933631 255695252\n",
       "   science           JWST         CALJWST     NIRISS/SOSS ...     nan 117933632 255695267\n",
       "   science           JWST         CALJWST    NIRISS/IMAGE ...     nan 117933633 255695284\n",
       "   science           JWST         CALJWST     NIRISS/SOSS ...     nan 117933634 255695293\n",
       "   science           JWST         CALJWST    NIRISS/IMAGE ...     nan 117933635 255695303\n",
       "   science           JWST         CALJWST     NIRISS/SOSS ...     nan 117933684 255695327\n",
       "   science           JWST         CALJWST     NIRISS/SOSS ...     nan 117933685 255695333\n",
       "   science           JWST         CALJWST     NIRISS/SOSS ...     nan 117933695 255695339\n",
       "   science           JWST         CALJWST     NIRISS/SOSS ...     nan 117933686 255695349\n",
       "       ...            ...             ...             ... ...     ...       ...       ...\n",
       "   science           JWST         CALJWST    NIRISS/IMAGE ...     nan  79661727 257095740\n",
       "   science           JWST         CALJWST    NIRISS/IMAGE ...     nan  79661746 257095772\n",
       "   science           JWST         CALJWST    NIRISS/IMAGE ...     nan  79661763 257095799\n",
       "   science           JWST         CALJWST    NIRISS/IMAGE ...     nan  79661781 257095821\n",
       "   science           JWST         CALJWST    NIRISS/IMAGE ...     nan  79661804 257095847\n",
       "   science           JWST         CALJWST     NIRISS/SOSS ...     nan  85700117 257352619\n",
       "   science           JWST         CALJWST     NIRISS/SOSS ...     nan  85700141 257352626\n",
       "   science           JWST         CALJWST     NIRISS/SOSS ...     nan  85700237 257352647\n",
       "   science           JWST         CALJWST     NIRISS/SOSS ...     nan  85700224 257352659\n",
       "   science           JWST             APT    NIRISS/IMAGE ...     nan 141912772 260893015\n",
       "   science           JWST             APT    NIRISS/IMAGE ...     nan 141912775 260893018"
      ]
     },
     "execution_count": 157,
     "metadata": {},
     "output_type": "execute_result"
    }
   ],
   "source": [
    "observations = Observations.query_criteria(proposal_pi=\"Espinoza, Nestor\",\n",
    "                                           instrument_name=\"*NIRISS*\")\n",
    "observations"
   ]
  },
  {
   "cell_type": "markdown",
   "id": "3eb7c273",
   "metadata": {},
   "source": [
    "Here we have a list of all kinda of NIRISS observations led by the PI Dr. Espinoza. Let's call for all the unique values under the `instrument_name` column to see what was returned thanks to our `*` wildcards."
   ]
  },
  {
   "cell_type": "code",
   "execution_count": 158,
   "id": "ffc1b58f",
   "metadata": {},
   "outputs": [
    {
     "data": {
      "text/plain": [
       "{'NIRISS', 'NIRISS/IMAGE', 'NIRISS/SOSS'}"
      ]
     },
     "execution_count": 158,
     "metadata": {},
     "output_type": "execute_result"
    }
   ],
   "source": [
    "set(observations['instrument_name'])"
   ]
  },
  {
   "cell_type": "markdown",
   "id": "34c9e95f",
   "metadata": {},
   "source": [
    "As you can see, there were some observations with `instrument_name` labeled something other than `NIRISS`, due to the new configuration on MAST. Had we only searched for the `instrument_name` value `NIRISS`, we would have missed several observations. For the full list of instrument name variations, you can refer to [this page](https://outerspace.stsci.edu/display/MASTDOCS/JWST+Instrument+Names)."
   ]
  },
  {
   "cell_type": "markdown",
   "id": "a08f607f",
   "metadata": {},
   "source": [
    "**Note**: Be aware that you can be too generous with the wildcards. Too much ambiguity will lead to getting results that were not intended. See below for example."
   ]
  },
  {
   "cell_type": "code",
   "execution_count": 80,
   "id": "17d9194e",
   "metadata": {
    "scrolled": true
   },
   "outputs": [
    {
     "data": {
      "text/plain": [
       "{'NIRISS', 'NIRISS/IMAGE', 'NIRISS/SOSS', 'NIRSPEC/SLIT'}"
      ]
     },
     "execution_count": 80,
     "metadata": {},
     "output_type": "execute_result"
    }
   ],
   "source": [
    "observations = Observations.query_criteria(proposal_pi='Espinoza, Nestor',\n",
    "                                           instrument_name='*NI*S*')\n",
    "set(observations['instrument_name'])"
   ]
  },
  {
   "cell_type": "markdown",
   "id": "e019a8e2",
   "metadata": {},
   "source": [
    "This query returns `NIRSPEC/SLIT` observations in addition to the NIRISS ones, which is not what was intended."
   ]
  },
  {
   "cell_type": "markdown",
   "id": "fefa0c07",
   "metadata": {},
   "source": [
    "### Wildcard Search with `instrument_name` and `proposal_id`"
   ]
  },
  {
   "cell_type": "markdown",
   "id": "99af085a",
   "metadata": {},
   "source": [
    "Let's repeat the previous example, but add another `string` criteria and wildcard into the mix. Let's query for all observations belonging to proposal/program IDs that begin with the digits `15`, and see what gets returned:"
   ]
  },
  {
   "cell_type": "code",
   "execution_count": 162,
   "id": "dd436c7d",
   "metadata": {},
   "outputs": [
    {
     "data": {
      "text/plain": [
       "({'1512', '1541'}, {'NIRISS', 'NIRISS/IMAGE', 'NIRISS/SOSS'})"
      ]
     },
     "execution_count": 162,
     "metadata": {},
     "output_type": "execute_result"
    }
   ],
   "source": [
    "observations = Observations.query_criteria(proposal_pi='Espinoza, Nestor',\n",
    "                                           instrument_name='*NIRISS*',\n",
    "                                           proposal_id=['15%%'])\n",
    "set(observations['proposal_id']), set(observations['instrument_name'])"
   ]
  },
  {
   "cell_type": "markdown",
   "id": "9fcc9102",
   "metadata": {},
   "source": [
    "### Create a Moving Target Ephemeris using MAST Observations with Wildcard Search"
   ]
  },
  {
   "cell_type": "markdown",
   "id": "c38a4cdb",
   "metadata": {},
   "source": [
    "We will be querying for image observations of Comet 67P Churyumov-Gerasimenko observed through the Hubble Space Telescope's Advanced Camera for Surveys (ACS) Wide Field Camera (WFC). This comet's name can be listed in different ways, so we will use `*` wildcards in our criteria query. For this case, we won't use any wildcards in the `instrument_name` because we don't run into many variations of HST instrument names the way we do for JWST."
   ]
  },
  {
   "cell_type": "code",
   "execution_count": 30,
   "id": "a7cd9670",
   "metadata": {},
   "outputs": [
    {
     "name": "stdout",
     "output_type": "stream",
     "text": [
      "140 total observations\n",
      "\n",
      "Listed target names:\n",
      "{'COMET-67P-CHURYUMOV-GER-UPDATE', 'COMET-67P-CHURYUMOV-GERASIMENK'}\n"
     ]
    }
   ],
   "source": [
    "observations = Observations.query_criteria(target_name=\"*COM*67P*\",\n",
    "                                           instrument_name=\"ACS/WFC\")\n",
    "\n",
    "print(f\"{len(observations)} total observations\" + \"\\n\")\n",
    "print(\"Listed target names:\")\n",
    "print(set(observations['target_name']))"
   ]
  },
  {
   "cell_type": "markdown",
   "id": "5a29d69e",
   "metadata": {},
   "source": [
    "Above you can see there are two type of observations we get for Comet-67P, and this query yields a total of 140 observations. The `target_name` criteria is not always the most reliable way to retrieve all desired observations, as it runs into the same pitfalls that `instrument_name` has, where there are multiple names for the same object. In the remainder of this notebook, we will construct a bare-bones ephemeris using the filtered MAST observations of this object and their metadata. We will then do some reverse engineering to query for the target based on coordinates using the ephemeris table, and hope that we get the same results back! Let's begin:\n",
    "\n",
    "For simplicity, let's work only with the `'COMET-67P-CHURYUMOV-GERASIMENK'` observations to create our ephemeris."
   ]
  },
  {
   "cell_type": "code",
   "execution_count": 55,
   "id": "f8d8a54e",
   "metadata": {},
   "outputs": [
    {
     "data": {
      "text/html": [
       "<div><i>Table masked=True length=12</i>\n",
       "<table id=\"table4612150704\" class=\"table-striped table-bordered table-condensed\">\n",
       "<thead><tr><th>intentType</th><th>obs_collection</th><th>provenance_name</th><th>instrument_name</th><th>project</th><th>filters</th><th>wavelength_region</th><th>target_name</th><th>target_classification</th><th>obs_id</th><th>s_ra</th><th>s_dec</th><th>dataproduct_type</th><th>proposal_pi</th><th>calib_level</th><th>t_min</th><th>t_max</th><th>t_exptime</th><th>em_min</th><th>em_max</th><th>obs_title</th><th>t_obs_release</th><th>proposal_id</th><th>proposal_type</th><th>sequence_number</th><th>s_region</th><th>jpegURL</th><th>dataURL</th><th>dataRights</th><th>mtFlag</th><th>srcDen</th><th>obsid</th><th>objID</th><th>objID1</th><th>distance</th></tr></thead>\n",
       "<thead><tr><th>str7</th><th>str3</th><th>str6</th><th>str7</th><th>str3</th><th>str12</th><th>str7</th><th>str30</th><th>str89</th><th>str36</th><th>float64</th><th>float64</th><th>str5</th><th>str14</th><th>int64</th><th>float64</th><th>float64</th><th>float64</th><th>float64</th><th>float64</th><th>str93</th><th>float64</th><th>str5</th><th>str3</th><th>int64</th><th>str982</th><th>str86</th><th>str35</th><th>str6</th><th>bool</th><th>float64</th><th>str8</th><th>str9</th><th>str9</th><th>float64</th></tr></thead>\n",
       "<tr><td>science</td><td>HST</td><td>CALACS</td><td>ACS/WFC</td><td>HST</td><td>F606W</td><td>Optical</td><td>COMET-67P-CHURYUMOV-GERASIMENK</td><td>COMET; COMET-67P-CHURYUMOV-GERASIMENKO WHICH IS THE PRIMARY TARGET FOR ROSETTA SPACECRAFT</td><td>jcis06020</td><td>290.9147892768</td><td>-27.90546497065</td><td>image</td><td>Hines, Dean C.</td><td>3</td><td>56979.51550486111</td><td>56979.66734533565</td><td>6280.0</td><td>470.0</td><td>720.0</td><td>Imaging Polarimetry of the 67P/Churyumov-Gerasimenko with ACS: Supporting the Rosetta Mission</td><td>57344.94447902</td><td>13863</td><td>GO</td><td>--</td><td>POLYGON -69.051552329999993 -27.91547868 -69.051566623053915 -27.915304522529482 -69.048023170000022 -27.91483611 -69.048086300262 -27.914066875478145 -69.045198070000026 -27.91368501 -69.045253211462011 -27.913013321787403 -69.031596869999987 -27.91120688 -69.031681552501226 -27.910176912272057 -69.027714189999983 -27.90965175 -69.02772849552359 -27.909477898544647 -69.024182240000016 -27.90900847 -69.02653583 -27.88039823 -69.057861839999987 -27.88454222 -69.057847539106191 -27.884716718646743 -69.06139399 -27.88518549 -69.06130963442007 -27.88621477953863 -69.065275460000009 -27.88673877 -69.0652204552501 -27.887410472053556 -69.078874509999991 -27.8892136 -69.078813220742 -27.889963190045712 -69.098235400000021 -27.89252561 -69.098220005459254 -27.892714303389873 -69.102038349999987 -27.89321784 -69.099703449999993 -27.92182943 -69.082889846828763 -27.919611642662879 -69.082889340000008 -27.91961784 -69.051552329999993 -27.91547868 -69.051552329999993 -27.91547868</td><td>mast:HST/product/jcis06020_drz.jpg</td><td>mast:HST/product/jcis06020_drz.fits</td><td>PUBLIC</td><td>True</td><td>nan</td><td>24839236</td><td>221276308</td><td>221276308</td><td>0.0</td></tr>\n",
       "<tr><td>science</td><td>HST</td><td>CALACS</td><td>ACS/WFC</td><td>HST</td><td>F775W</td><td>Optical</td><td>COMET-67P-CHURYUMOV-GERASIMENK</td><td>COMET; COMET-67P-CHURYUMOV-GERASIMENKO WHICH IS THE PRIMARY TARGET FOR ROSETTA SPACECRAFT</td><td>jcis06010</td><td>290.9112348543</td><td>-27.90621726673</td><td>image</td><td>Hines, Dean C.</td><td>3</td><td>56979.505933368055</td><td>56979.51200949074</td><td>300.0</td><td>690.0</td><td>860.0</td><td>Imaging Polarimetry of the 67P/Churyumov-Gerasimenko with ACS: Supporting the Rosetta Mission</td><td>57344.94012718</td><td>13863</td><td>GO</td><td>--</td><td>POLYGON -69.07205442999998 -27.91834206 -69.072058317717648 -27.918294549551291 -69.070418239999981 -27.91807766 -69.072739870000021 -27.88970302 -69.103821919999973 -27.89381052 -69.103818044368452 -27.893858065783444 -69.105458039999974 -27.89407459 -69.103144859999986 -27.92244975 -69.07205442999998 -27.91834206 -69.07205442999998 -27.91834206</td><td>mast:HST/product/jcis06010_drz.jpg</td><td>mast:HST/product/jcis06010_drz.fits</td><td>PUBLIC</td><td>True</td><td>nan</td><td>24839235</td><td>220744505</td><td>220744505</td><td>0.0</td></tr>\n",
       "<tr><td>science</td><td>HLA</td><td>HLA</td><td>ACS/WFC</td><td>HLA</td><td>F606WPOL120V</td><td>--</td><td>COMET-67P-CHURYUMOV-GERASIMENK</td><td>--</td><td>hst_13863_06_acs_wfc_f606wpol120v_02</td><td>290.9515617429132</td><td>-27.8989740579249</td><td>image</td><td>Hines</td><td>2</td><td>56979.63531</td><td>56979.64441</td><td>785.0</td><td>nan</td><td>nan</td><td>--</td><td>57344.94447902</td><td>13863</td><td>HLA</td><td>--</td><td>POLYGON J2000 290.96840030 -27.91120560 290.96605180 -27.88259820 290.93472710 -27.88674040 290.93706730 -27.91534840 290.96840030 -27.91120560</td><td>https://hla.stsci.edu/cgi-bin/preview.cgi?dataset=hst_13863_06_acs_wfc_f606wpol120v_02</td><td>--</td><td>PUBLIC</td><td>--</td><td>nan</td><td>25981129</td><td>67948396</td><td>67948396</td><td>79.58963286454619</td></tr>\n",
       "<tr><td>...</td><td>...</td><td>...</td><td>...</td><td>...</td><td>...</td><td>...</td><td>...</td><td>...</td><td>...</td><td>...</td><td>...</td><td>...</td><td>...</td><td>...</td><td>...</td><td>...</td><td>...</td><td>...</td><td>...</td><td>...</td><td>...</td><td>...</td><td>...</td><td>...</td><td>...</td><td>...</td><td>...</td><td>...</td><td>...</td><td>...</td><td>...</td><td>...</td><td>...</td><td>...</td></tr>\n",
       "<tr><td>science</td><td>HLA</td><td>HLA</td><td>ACS/WFC</td><td>HLA</td><td>F606WPOL120V</td><td>--</td><td>COMET-67P-CHURYUMOV-GERASIMENK</td><td>--</td><td>hst_13863_06_acs_wfc_f606wpol120v_06</td><td>290.91860179367495</td><td>-27.904765008568035</td><td>image</td><td>Hines</td><td>2</td><td>56979.52677</td><td>56979.53587</td><td>785.0</td><td>nan</td><td>nan</td><td>--</td><td>57344.94447902</td><td>13863</td><td>HLA</td><td>--</td><td>POLYGON J2000 290.90177060 -27.89252790 290.90410220 -27.92113520 290.93543670 -27.91700010 290.93309700 -27.88839330 290.90177060 -27.89252790</td><td>https://hla.stsci.edu/cgi-bin/preview.cgi?dataset=hst_13863_06_acs_wfc_f606wpol120v_06</td><td>--</td><td>PUBLIC</td><td>--</td><td>nan</td><td>25981133</td><td>67948400</td><td>67948400</td><td>0.0</td></tr>\n",
       "<tr><td>science</td><td>HLA</td><td>HLA</td><td>ACS/WFC</td><td>HLA</td><td>F606WPOL120V</td><td>--</td><td>COMET-67P-CHURYUMOV-GERASIMENK</td><td>--</td><td>hst_13863_06_acs_wfc_f606wpol120v_05</td><td>290.931611793544</td><td>-27.90324405831802</td><td>image</td><td>Hines</td><td>2</td><td>56979.56897</td><td>56979.57808</td><td>785.0</td><td>nan</td><td>nan</td><td>--</td><td>57344.94447902</td><td>13863</td><td>HLA</td><td>--</td><td>POLYGON J2000 290.94610490 -27.88686990 290.91477830 -27.89100840 290.91711430 -27.91961670 290.94844910 -27.91547760 290.94610490 -27.88686990</td><td>https://hla.stsci.edu/cgi-bin/preview.cgi?dataset=hst_13863_06_acs_wfc_f606wpol120v_05</td><td>--</td><td>PUBLIC</td><td>--</td><td>nan</td><td>25981132</td><td>67948399</td><td>67948399</td><td>15.17482580959288</td></tr>\n",
       "<tr><td>science</td><td>HLA</td><td>HLA</td><td>ACS/WFC</td><td>HLA</td><td>F775W</td><td>OPTICAL</td><td>COMET-67P-CHURYUMOV-GERASIMENK</td><td>--</td><td>hst_13863_06_acs_wfc_f775w_02</td><td>290.9112370596945</td><td>-27.906209096905478</td><td>image</td><td>Hines</td><td>2</td><td>56979.50594</td><td>56979.50769</td><td>150.0</td><td>690000000000.0</td><td>860000000000.0</td><td>--</td><td>57344.94012718</td><td>13863</td><td>HLA</td><td>--</td><td>POLYGON J2000 290.89684960 -27.92245030 290.92793670 -27.91833760 290.92562020 -27.88996640 290.89454110 -27.89407850 290.89684960 -27.92245030</td><td>https://hla.stsci.edu/cgi-bin/preview.cgi?dataset=hst_13863_06_acs_wfc_f775w_02</td><td>--</td><td>PUBLIC</td><td>--</td><td>nan</td><td>25981137</td><td>67948404</td><td>67948404</td><td>0.0</td></tr>\n",
       "</table></div>"
      ],
      "text/plain": [
       "<Table masked=True length=12>\n",
       "intentType obs_collection provenance_name instrument_name project   filters    ... mtFlag  srcDen  obsid     objID     objID1       distance    \n",
       "   str7         str3            str6            str7        str3     str12     ...  bool  float64   str8      str9      str9        float64     \n",
       "---------- -------------- --------------- --------------- ------- ------------ ... ------ ------- -------- --------- --------- -----------------\n",
       "   science            HST          CALACS         ACS/WFC     HST        F606W ...   True     nan 24839236 221276308 221276308               0.0\n",
       "   science            HST          CALACS         ACS/WFC     HST        F775W ...   True     nan 24839235 220744505 220744505               0.0\n",
       "   science            HLA             HLA         ACS/WFC     HLA F606WPOL120V ...     --     nan 25981129  67948396  67948396 79.58963286454619\n",
       "       ...            ...             ...             ...     ...          ... ...    ...     ...      ...       ...       ...               ...\n",
       "   science            HLA             HLA         ACS/WFC     HLA F606WPOL120V ...     --     nan 25981133  67948400  67948400               0.0\n",
       "   science            HLA             HLA         ACS/WFC     HLA F606WPOL120V ...     --     nan 25981132  67948399  67948399 15.17482580959288\n",
       "   science            HLA             HLA         ACS/WFC     HLA        F775W ...     --     nan 25981137  67948404  67948404               0.0"
      ]
     },
     "execution_count": 55,
     "metadata": {},
     "output_type": "execute_result"
    }
   ],
   "source": [
    "mask = observations[\"target_name\"] == \"COMET-67P-CHURYUMOV-GERASIMENK\"\n",
    "filtered_observations = observations[mask]\n",
    "filtered_observations"
   ]
  },
  {
   "cell_type": "markdown",
   "id": "ebdc42f6",
   "metadata": {},
   "source": [
    "Now that we have our filtered observations, let's sort the rows of this table based on the `t_min` criteria, which refers to the start time of the exposure in MJD."
   ]
  },
  {
   "cell_type": "code",
   "execution_count": 75,
   "id": "fc20a7ea",
   "metadata": {},
   "outputs": [],
   "source": [
    "filtered_observations.sort(\"t_min\")"
   ]
  },
  {
   "cell_type": "markdown",
   "id": "dc840a0a",
   "metadata": {},
   "source": [
    "Now that we've sorted our table, let's construct a basic ephemeris showing the path of our object over time (with `t_min`, or exposure start in MJD, as our time component):"
   ]
  },
  {
   "cell_type": "code",
   "execution_count": 76,
   "id": "2828c5e3",
   "metadata": {},
   "outputs": [
    {
     "data": {
      "text/html": [
       "<div><i>Table length=12</i>\n",
       "<table id=\"table4613328800\" class=\"table-striped table-bordered table-condensed\">\n",
       "<thead><tr><th>ra</th><th>dec</th><th>t_min</th></tr></thead>\n",
       "<thead><tr><th>float64</th><th>float64</th><th>float64</th></tr></thead>\n",
       "<tr><td>290.9112348543</td><td>-27.90621726673</td><td>56979.505933368055</td></tr>\n",
       "<tr><td>290.9112370596945</td><td>-27.906209096905478</td><td>56979.50594</td></tr>\n",
       "<tr><td>290.9128770096229</td><td>-27.905945046863923</td><td>56979.51028</td></tr>\n",
       "<tr><td>...</td><td>...</td><td>...</td></tr>\n",
       "<tr><td>290.9515617429132</td><td>-27.8989740579249</td><td>56979.63531</td></tr>\n",
       "<tr><td>290.95544179257433</td><td>-27.897420057724133</td><td>56979.647</td></tr>\n",
       "<tr><td>290.958971742416</td><td>-27.896776007673772</td><td>56979.65826</td></tr>\n",
       "</table></div>"
      ],
      "text/plain": [
       "<Table length=12>\n",
       "        ra                 dec               t_min       \n",
       "     float64             float64            float64      \n",
       "------------------ ------------------- ------------------\n",
       "    290.9112348543     -27.90621726673 56979.505933368055\n",
       " 290.9112370596945 -27.906209096905478        56979.50594\n",
       " 290.9128770096229 -27.905945046863923        56979.51028\n",
       "               ...                 ...                ...\n",
       " 290.9515617429132   -27.8989740579249        56979.63531\n",
       "290.95544179257433 -27.897420057724133          56979.647\n",
       "  290.958971742416 -27.896776007673772        56979.65826"
      ]
     },
     "execution_count": 76,
     "metadata": {},
     "output_type": "execute_result"
    }
   ],
   "source": [
    "ephemeris = Table([filtered_observations[\"s_ra\"],\n",
    "                   filtered_observations[\"s_dec\"],\n",
    "                   filtered_observations[\"t_min\"]], names=(\"ra\", \"dec\", \"t_min\"))\n",
    "ephemeris"
   ]
  },
  {
   "cell_type": "code",
   "execution_count": 93,
   "id": "720eed1c",
   "metadata": {},
   "outputs": [
    {
     "data": {
      "text/latex": [
       "$290.91123 \\; \\mathrm{{}^{\\circ}\\,rad}$"
      ],
      "text/plain": [
       "<Quantity 290.91123485 deg rad>"
      ]
     },
     "execution_count": 93,
     "metadata": {},
     "output_type": "execute_result"
    }
   ],
   "source": [
    "(ephemeris['ra'][0]*u.deg)*u.radian"
   ]
  },
  {
   "cell_type": "code",
   "execution_count": 97,
   "id": "6e033aa2",
   "metadata": {},
   "outputs": [
    {
     "data": {
      "image/png": "[encoded data removed]",
      "text/plain": [
       "<Figure size 864x864 with 1 Axes>"
      ]
     },
     "metadata": {
      "needs_background": "light"
     },
     "output_type": "display_data"
    }
   ],
   "source": [
    "# Create a matplotlib canvas\n",
    "fig = plt.figure(figsize=(12,12))\n",
    "\n",
    "# We will be using the `aitoff` projection for a globe canvas\n",
    "ax = plt.subplot(111, projection='aitoff')\n",
    "\n",
    "plt.plot(30*u.radian, 30*u.radian)\n",
    "plt.grid()"
   ]
  },
  {
   "cell_type": "code",
   "execution_count": 57,
   "id": "6fad07ac",
   "metadata": {},
   "outputs": [
    {
     "name": "stderr",
     "output_type": "stream",
     "text": [
      "WARNING: InputWarning: Coordinate string is being interpreted as an ICRS coordinate provided in degrees. [astroquery.utils.commons]\n"
     ]
    }
   ],
   "source": [
    "tables = []\n",
    "\n",
    "for row in filtered_observations:\n",
    "    ra, dec, t_min = row[\"ra\"], row[\"dec\"], row[\"t_min\"]\n",
    "    coords = f'{ra} {dec}'\n",
    "    observations = Observations.query_criteria(coordinates=coords,\n",
    "                                               radius=0.1*u.deg,\n",
    "                                               instrument_name=\"ACS/WFC\",\n",
    "                                               t_min=[t_min-10, t_min+10])\n",
    "\n",
    "    tables.append(observations)"
   ]
  },
  {
   "cell_type": "code",
   "execution_count": 66,
   "id": "ddf0c628",
   "metadata": {},
   "outputs": [
    {
     "data": {
      "text/html": [
       "<div><i>Table length=12</i>\n",
       "<table id=\"table4606532720\" class=\"table-striped table-bordered table-condensed\">\n",
       "<thead><tr><th>intentType</th><th>obs_collection</th><th>provenance_name</th><th>instrument_name</th><th>project</th><th>filters</th><th>wavelength_region</th><th>target_name</th><th>target_classification</th><th>obs_id</th><th>s_ra</th><th>s_dec</th><th>dataproduct_type</th><th>proposal_pi</th><th>calib_level</th><th>t_min</th><th>t_max</th><th>t_exptime</th><th>em_min</th><th>em_max</th><th>obs_title</th><th>t_obs_release</th><th>proposal_id</th><th>proposal_type</th><th>sequence_number</th><th>s_region</th><th>jpegURL</th><th>dataURL</th><th>dataRights</th><th>mtFlag</th><th>srcDen</th><th>obsid</th><th>objID</th><th>objID1</th><th>distance</th></tr></thead>\n",
       "<thead><tr><th>str7</th><th>str3</th><th>str6</th><th>str7</th><th>str3</th><th>str12</th><th>str7</th><th>str30</th><th>str89</th><th>str36</th><th>float64</th><th>float64</th><th>str5</th><th>str14</th><th>int64</th><th>float64</th><th>float64</th><th>float64</th><th>float64</th><th>float64</th><th>str93</th><th>float64</th><th>str5</th><th>str3</th><th>int64</th><th>str982</th><th>str86</th><th>str35</th><th>str6</th><th>bool</th><th>float64</th><th>str8</th><th>str9</th><th>str9</th><th>float64</th></tr></thead>\n",
       "<tr><td>science</td><td>HST</td><td>CALACS</td><td>ACS/WFC</td><td>HST</td><td>F775W</td><td>Optical</td><td>COMET-67P-CHURYUMOV-GERASIMENK</td><td>COMET; COMET-67P-CHURYUMOV-GERASIMENKO WHICH IS THE PRIMARY TARGET FOR ROSETTA SPACECRAFT</td><td>jcis06010</td><td>290.9112348543</td><td>-27.90621726673</td><td>image</td><td>Hines, Dean C.</td><td>3</td><td>56979.505933368055</td><td>56979.51200949074</td><td>300.0</td><td>690.0</td><td>860.0</td><td>Imaging Polarimetry of the 67P/Churyumov-Gerasimenko with ACS: Supporting the Rosetta Mission</td><td>57344.94012718</td><td>13863</td><td>GO</td><td>--</td><td>POLYGON -69.07205442999998 -27.91834206 -69.072058317717648 -27.918294549551291 -69.070418239999981 -27.91807766 -69.072739870000021 -27.88970302 -69.103821919999973 -27.89381052 -69.103818044368452 -27.893858065783444 -69.105458039999974 -27.89407459 -69.103144859999986 -27.92244975 -69.07205442999998 -27.91834206 -69.07205442999998 -27.91834206</td><td>mast:HST/product/jcis06010_drz.jpg</td><td>mast:HST/product/jcis06010_drz.fits</td><td>PUBLIC</td><td>True</td><td>nan</td><td>24839235</td><td>220744505</td><td>220744505</td><td>0.0</td></tr>\n",
       "<tr><td>science</td><td>HLA</td><td>HLA</td><td>ACS/WFC</td><td>HLA</td><td>F775W</td><td>OPTICAL</td><td>COMET-67P-CHURYUMOV-GERASIMENK</td><td>--</td><td>hst_13863_06_acs_wfc_f775w_02</td><td>290.9112370596945</td><td>-27.906209096905478</td><td>image</td><td>Hines</td><td>2</td><td>56979.50594</td><td>56979.50769</td><td>150.0</td><td>690000000000.0</td><td>860000000000.0</td><td>--</td><td>57344.94012718</td><td>13863</td><td>HLA</td><td>--</td><td>POLYGON J2000 290.89684960 -27.92245030 290.92793670 -27.91833760 290.92562020 -27.88996640 290.89454110 -27.89407850 290.89684960 -27.92245030</td><td>https://hla.stsci.edu/cgi-bin/preview.cgi?dataset=hst_13863_06_acs_wfc_f775w_02</td><td>--</td><td>PUBLIC</td><td>--</td><td>nan</td><td>25981137</td><td>67948404</td><td>67948404</td><td>0.0</td></tr>\n",
       "<tr><td>science</td><td>HLA</td><td>HLA</td><td>ACS/WFC</td><td>HLA</td><td>F775W</td><td>OPTICAL</td><td>COMET-67P-CHURYUMOV-GERASIMENK</td><td>--</td><td>hst_13863_06_acs_wfc_f775w_01</td><td>290.9128770096229</td><td>-27.905945046863923</td><td>image</td><td>Hines</td><td>2</td><td>56979.51028</td><td>56979.51203</td><td>150.0</td><td>690000000000.0</td><td>860000000000.0</td><td>--</td><td>57344.94012718</td><td>13863</td><td>HLA</td><td>--</td><td>POLYGON J2000 290.89618110 -27.89381480 290.89848990 -27.92218630 290.92957680 -27.91807330 290.92725980 -27.88970230 290.89618110 -27.89381480</td><td>https://hla.stsci.edu/cgi-bin/preview.cgi?dataset=hst_13863_06_acs_wfc_f775w_01</td><td>--</td><td>PUBLIC</td><td>--</td><td>nan</td><td>25981136</td><td>67948403</td><td>67948403</td><td>0.0</td></tr>\n",
       "<tr><td>...</td><td>...</td><td>...</td><td>...</td><td>...</td><td>...</td><td>...</td><td>...</td><td>...</td><td>...</td><td>...</td><td>...</td><td>...</td><td>...</td><td>...</td><td>...</td><td>...</td><td>...</td><td>...</td><td>...</td><td>...</td><td>...</td><td>...</td><td>...</td><td>...</td><td>...</td><td>...</td><td>...</td><td>...</td><td>...</td><td>...</td><td>...</td><td>...</td><td>...</td><td>...</td></tr>\n",
       "<tr><td>science</td><td>HLA</td><td>HLA</td><td>ACS/WFC</td><td>HLA</td><td>F606WPOL120V</td><td>--</td><td>COMET-67P-CHURYUMOV-GERASIMENK</td><td>--</td><td>hst_13863_06_acs_wfc_f606wpol120v_02</td><td>290.9515617429132</td><td>-27.8989740579249</td><td>image</td><td>Hines</td><td>2</td><td>56979.63531</td><td>56979.64441</td><td>785.0</td><td>nan</td><td>nan</td><td>--</td><td>57344.94447902</td><td>13863</td><td>HLA</td><td>--</td><td>POLYGON J2000 290.96840030 -27.91120560 290.96605180 -27.88259820 290.93472710 -27.88674040 290.93706730 -27.91534840 290.96840030 -27.91120560</td><td>https://hla.stsci.edu/cgi-bin/preview.cgi?dataset=hst_13863_06_acs_wfc_f606wpol120v_02</td><td>--</td><td>PUBLIC</td><td>--</td><td>nan</td><td>25981129</td><td>67948396</td><td>67948396</td><td>79.59876034915891</td></tr>\n",
       "<tr><td>science</td><td>HLA</td><td>HLA</td><td>ACS/WFC</td><td>HLA</td><td>F606WPOL120V</td><td>--</td><td>COMET-67P-CHURYUMOV-GERASIMENK</td><td>--</td><td>hst_13863_06_acs_wfc_f606wpol120v_07</td><td>290.95544179257433</td><td>-27.897420057724133</td><td>image</td><td>Hines</td><td>2</td><td>56979.647</td><td>56979.6561</td><td>785.0</td><td>nan</td><td>nan</td><td>--</td><td>57344.94447902</td><td>13863</td><td>HLA</td><td>--</td><td>POLYGON J2000 290.93860690 -27.88518760 290.94094900 -27.91379480 290.97228050 -27.90965040 290.96993020 -27.88104380 290.93860690 -27.88518760</td><td>https://hla.stsci.edu/cgi-bin/preview.cgi?dataset=hst_13863_06_acs_wfc_f606wpol120v_07</td><td>--</td><td>PUBLIC</td><td>--</td><td>nan</td><td>25981134</td><td>67948401</td><td>67948401</td><td>92.31719114373594</td></tr>\n",
       "<tr><td>science</td><td>HLA</td><td>HLA</td><td>ACS/WFC</td><td>HLA</td><td>F606WPOL120V</td><td>--</td><td>COMET-67P-CHURYUMOV-GERASIMENK</td><td>--</td><td>hst_13863_06_acs_wfc_f606wpol120v_04</td><td>290.958971742416</td><td>-27.896776007673772</td><td>image</td><td>Hines</td><td>2</td><td>56979.65826</td><td>56979.66736</td><td>785.0</td><td>nan</td><td>nan</td><td>--</td><td>57344.94447902</td><td>13863</td><td>HLA</td><td>--</td><td>POLYGON J2000 290.97581000 -27.90900620 290.97345980 -27.88040010 290.94213730 -27.88454380 290.94447930 -27.91315040 290.97581000 -27.90900620</td><td>https://hla.stsci.edu/cgi-bin/preview.cgi?dataset=hst_13863_06_acs_wfc_f606wpol120v_04</td><td>--</td><td>PUBLIC</td><td>--</td><td>nan</td><td>25981131</td><td>67948398</td><td>67948398</td><td>103.6867836445979</td></tr>\n",
       "</table></div>"
      ],
      "text/plain": [
       "<Table length=12>\n",
       "intentType obs_collection provenance_name instrument_name project   filters    ... mtFlag  srcDen  obsid     objID     objID1       distance    \n",
       "   str7         str3            str6            str7        str3     str12     ...  bool  float64   str8      str9      str9        float64     \n",
       "---------- -------------- --------------- --------------- ------- ------------ ... ------ ------- -------- --------- --------- -----------------\n",
       "   science            HST          CALACS         ACS/WFC     HST        F775W ...   True     nan 24839235 220744505 220744505               0.0\n",
       "   science            HLA             HLA         ACS/WFC     HLA        F775W ...     --     nan 25981137  67948404  67948404               0.0\n",
       "   science            HLA             HLA         ACS/WFC     HLA        F775W ...     --     nan 25981136  67948403  67948403               0.0\n",
       "       ...            ...             ...             ...     ...          ... ...    ...     ...      ...       ...       ...               ...\n",
       "   science            HLA             HLA         ACS/WFC     HLA F606WPOL120V ...     --     nan 25981129  67948396  67948396 79.59876034915891\n",
       "   science            HLA             HLA         ACS/WFC     HLA F606WPOL120V ...     --     nan 25981134  67948401  67948401 92.31719114373594\n",
       "   science            HLA             HLA         ACS/WFC     HLA F606WPOL120V ...     --     nan 25981131  67948398  67948398 103.6867836445979"
      ]
     },
     "execution_count": 66,
     "metadata": {},
     "output_type": "execute_result"
    }
   ],
   "source": [
    "ephemeris_observations = unique(vstack(tables), keys=\"s_ra\")\n",
    "ephemeris_observations"
   ]
  },
  {
   "cell_type": "code",
   "execution_count": 58,
   "id": "5679f58d",
   "metadata": {},
   "outputs": [
    {
     "data": {
      "text/plain": [
       "{'COMET-67P-CHURYUMOV-GERASIMENK'}"
      ]
     },
     "execution_count": 58,
     "metadata": {},
     "output_type": "execute_result"
    }
   ],
   "source": [
    "set(ephemeris_observations[\"target_name\"])"
   ]
  },
  {
   "cell_type": "code",
   "execution_count": 74,
   "id": "cc290c41",
   "metadata": {},
   "outputs": [
    {
     "data": {
      "text/plain": [
       "masked_array(data=[True, --, --, True, --, --, --, --, --, --, --, --],\n",
       "             mask=[False,  True,  True, False,  True,  True,  True,  True,\n",
       "                    True,  True,  True,  True],\n",
       "       fill_value=True)"
      ]
     },
     "execution_count": 74,
     "metadata": {},
     "output_type": "execute_result"
    }
   ],
   "source": [
    "ephemeris_observations.sort(\"t_min\")\n",
    "ephemeris_observations[\"dataURL\"] == filtered_observations[\"dataURL\"]"
   ]
  },
  {
   "cell_type": "markdown",
   "id": "4b6fafaf",
   "metadata": {},
   "source": [
    "## Resources"
   ]
  },
  {
   "cell_type": "markdown",
   "id": "1e91eae6",
   "metadata": {},
   "source": [
    "The following is a list of resources that were referenced throughout the tutorial, as well as some additional references that you may find useful:\n",
    "\n",
    "* https://astroquery.readthedocs.io/en/latest/mast/mast.html#observation-criteria-queries"
   ]
  },
  {
   "cell_type": "markdown",
   "id": "55a71062",
   "metadata": {},
   "source": [
    "## Citations"
   ]
  },
  {
   "cell_type": "markdown",
   "id": "1f22db77",
   "metadata": {},
   "source": [
    "If you use any of astroquery's tools for published research, please cite the authors. Follow this link for more information about citing astroquery:\n",
    "\n",
    "* [Citing astroquery](https://github.com/astropy/astroquery/blob/main/astroquery/CITATION)"
   ]
  },
  {
   "cell_type": "markdown",
   "id": "79ab0efc",
   "metadata": {},
   "source": [
    "## About This Notebook"
   ]
  },
  {
   "cell_type": "markdown",
   "id": "bb9ce04c",
   "metadata": {},
   "source": [
    "If you have comments or questions on this notebook, please contact us through the Archive Help Desk e-mail at archive@stsci.edu. <br>\n",
    "<br>\n",
    "Author(s): Jenny V. Medina <br>\n",
    "Keyword(s): Tutorial, astroquery, wildcards, moving, target <br>\n",
    "Last Updated: Jun 2023"
   ]
  }
 ],
 "metadata": {
  "kernelspec": {
   "display_name": "Python 3 (ipykernel)",
   "language": "python",
   "name": "python3"
  },
  "language_info": {
   "codemirror_mode": {
    "name": "ipython",
    "version": 3
   },
   "file_extension": ".py",
   "mimetype": "text/x-python",
   "name": "python",
   "nbconvert_exporter": "python",
   "pygments_lexer": "ipython3",
   "version": "3.9.7"
  }
 },
 "nbformat": 4,
 "nbformat_minor": 5
}
