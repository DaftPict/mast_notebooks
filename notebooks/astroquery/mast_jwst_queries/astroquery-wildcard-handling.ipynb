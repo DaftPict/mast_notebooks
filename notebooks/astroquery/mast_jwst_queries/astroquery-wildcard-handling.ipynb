{
 "cells": [
  {
   "cell_type": "markdown",
   "id": "5ba6bcb0",
   "metadata": {},
   "source": [
    "# Wildcard Handling with Astroquery.mast"
   ]
  },
  {
   "cell_type": "markdown",
   "id": "59d2c18b",
   "metadata": {},
   "source": [
    "----"
   ]
  },
  {
   "cell_type": "markdown",
   "id": "c1fb1c52",
   "metadata": {},
   "source": [
    "## Learning Goals"
   ]
  },
  {
   "cell_type": "markdown",
   "id": "9fb25db7",
   "metadata": {},
   "source": [
    "By the end of this tutorial, you will:"
   ]
  },
  {
   "cell_type": "markdown",
   "id": "4bc3cd3c",
   "metadata": {},
   "source": [
    "## Introduction"
   ]
  },
  {
   "cell_type": "markdown",
   "id": "eb0aaef1",
   "metadata": {},
   "source": [
    "This notebook will demonstrate the use of wildcards in `astroquery.mast.Observations` criteria queries. The use of wildcards is encouraged for certain criteria types (`string` object types) to ensure that the results returned are not missing any observations. We will use 3 examples to demonstrate some use-cases for wildcards when doing criteria queries, and to emphasize on certain criteria where wildcard usage is highly encouraged, particularly for JWST queries. We will also use the last example to demonstrate the use of value ranges when working with `float` object criteria types.\n",
    "\n",
    "The workflow for this notebook consists of:\n",
    "\n",
    "* Wildcards with `astroquery.mast.Observations`\n",
    "    * Wildcard Search with `instrument_name`\n",
    "    * Wildcard Search with `instrument_name` and `proposal_id`\n",
    "    * Wildcard Search a Time-sensitive Object with `target_name` and `t_min`\n",
    "    * Resources"
   ]
  },
  {
   "cell_type": "markdown",
   "id": "e0922412",
   "metadata": {},
   "source": [
    "## Imports"
   ]
  },
  {
   "cell_type": "code",
   "execution_count": 83,
   "id": "c5d6294b",
   "metadata": {},
   "outputs": [],
   "source": [
    "from astropy.time import Time\n",
    "from astroquery.mast import Observations"
   ]
  },
  {
   "cell_type": "markdown",
   "id": "b9932a46",
   "metadata": {},
   "source": [
    "----"
   ]
  },
  {
   "cell_type": "markdown",
   "id": "222d417e",
   "metadata": {},
   "source": [
    "## Wildcards with `astroquery.mast.Observations`"
   ]
  },
  {
   "cell_type": "markdown",
   "id": "99306491",
   "metadata": {},
   "source": [
    "The use of wildcards when making `astroquery.mast.Observations` queries can help ensure you retrieve all observations without leaving anything out. The available wildcards are `%` and `*` with `%` serving to replace a single character, and `*` serving to replace more than one character preceding, following, or in between the existing characters, depending on its placement. See the [Observation Criteria Queries](https://astroquery.readthedocs.io/en/latest/mast/mast.html#observation-criteria-queries) section in the `astroquery.mast` documentation for more information on the wildcards.\n",
    "\n",
    "With that being said, wildcards are only available for certain criteria. Those criteria that are `string` type objects are criteria that accept wildcards, but `float`, `integer`, or any other objects do not accept wildcards.\n",
    "\n",
    "Users may call the `get_metadata` method to see the list of criteria that can be queried with. The criteria listed as `string` objects under the **Data Type** column are criteria that can be called with wildcards:"
   ]
  },
  {
   "cell_type": "code",
   "execution_count": 46,
   "id": "11476c9f",
   "metadata": {
    "scrolled": true
   },
   "outputs": [
    {
     "data": {
      "text/html": [
       "<i>Table length=34</i>\n",
       "<table id=\"table4597996080-2021\" class=\"table-striped table-bordered table-condensed\">\n",
       "<thead><tr><th>idx</th><th>Column Name</th><th>Column Label</th><th>Data Type</th><th>Units</th><th>Description</th><th>Examples/Valid Values</th></tr></thead>\n",
       "<tr><td>0</td><td>intentType</td><td>Observation Type</td><td>string</td><td></td><td>Whether observation is for science or calibration.</td><td>Valid values: science, calibration</td></tr>\n",
       "<tr><td>1</td><td>obs_collection</td><td>Mission</td><td>string</td><td></td><td>Collection</td><td>E.g. SWIFT, PS1, HST, IUE</td></tr>\n",
       "<tr><td>2</td><td>provenance_name</td><td>Provenance Name</td><td>string</td><td></td><td>Provenance name, or source of data</td><td>E.g. TASOC, CALSTIS, PS1</td></tr>\n",
       "<tr><td>3</td><td>instrument_name</td><td>Instrument</td><td>string</td><td></td><td>Instrument Name</td><td>E.g. WFPC2/WFC, UVOT, STIS/CCD</td></tr>\n",
       "<tr><td>4</td><td>project</td><td>Project</td><td>string</td><td></td><td>Processing project</td><td>E.g. HST, HLA, EUVE, hlsp_legus</td></tr>\n",
       "<tr><td>5</td><td>filters</td><td>Filters</td><td>string</td><td></td><td>Instrument filters</td><td>F469N, NUV, FUV, LOW DISP, MIRROR</td></tr>\n",
       "<tr><td>6</td><td>wavelength_region</td><td>Waveband</td><td>string</td><td></td><td>Energy Band</td><td>EUV, XRAY, OPTICAL</td></tr>\n",
       "<tr><td>7</td><td>target_name</td><td>Target Name</td><td>string</td><td></td><td>Target Name</td><td>Ex. COMET-67P-CHURYUMOV-GER-UPDATE</td></tr>\n",
       "<tr><td>8</td><td>target_classification</td><td>Target Classification</td><td>string</td><td></td><td>Type of target</td><td>Ex. COMET;COMET BEING ORBITED BY THE ROSETTA SPACECRAFT;SOLAR SYSTEM</td></tr>\n",
       "<tr><td>9</td><td>obs_id</td><td>Observation ID</td><td>string</td><td></td><td>Observation identifier, given by mission</td><td>U24Z0101T, N4QF18030</td></tr>\n",
       "<tr><td>10</td><td>s_ra</td><td>RA</td><td>float</td><td>deg</td><td>Observation Right Ascension</td><td>May be displayed in the Portal as hh:mm:ss.sss, but should be searched as decimal</td></tr>\n",
       "<tr><td>11</td><td>s_dec</td><td>Dec</td><td>float</td><td>deg</td><td>Observation Declination</td><td>May be displayed in the Portal as hh:mm:ss.sss, but should be searched as decimal</td></tr>\n",
       "<tr><td>12</td><td>proposal_id</td><td>Proposal ID</td><td>string</td><td></td><td>Proposal ID</td><td>E.g. EGCJC, 11360, 9401</td></tr>\n",
       "<tr><td>13</td><td>proposal_pi</td><td>Principal Investigator</td><td>string</td><td></td><td>Principal investigator&apos;s last name</td><td>Chander, Chu, Malkin</td></tr>\n",
       "<tr><td>14</td><td>obs_title</td><td>Observation Title</td><td>string</td><td></td><td>Observation description from proposal</td><td>Age-dating Star Clusters in M101</td></tr>\n",
       "<tr><td>15</td><td>dataproduct_type</td><td>Product Type</td><td>string</td><td></td><td>Type of product</td><td>Valid values: IMAGE, SPECTRUM, SED, TIMESERIES, VISIBILITY, EVENTLIST, CUBE, CATALOG, ENGINEERING, NULL</td></tr>\n",
       "<tr><td>16</td><td>calib_level</td><td>Calibration Level</td><td>integer</td><td></td><td>Calibration level</td><td>0 = raw, 1 = uncalibrated, 2 = calibrated, 3 = science product, 4 = contributed science product</td></tr>\n",
       "<tr><td>17</td><td>t_min</td><td>Start Time</td><td>float</td><td>MJD</td><td>Observation start datetime</td><td>May be displayed in the Portal as YYY-MM-DD HH:MM, but should be searched as MJD</td></tr>\n",
       "<tr><td>18</td><td>t_max</td><td>End Time</td><td>float</td><td>MJD</td><td>Observation end datetime</td><td>May be displayed in the Portal as YYY-MM-DD HH:MM, but should be searched as MJD</td></tr>\n",
       "<tr><td>19</td><td>t_obs_release</td><td>Release Date</td><td>float</td><td>MJD</td><td>Dataset release date</td><td>May be displayed in the Portal as YYY-MM-DD HH:MM, but should be searched as MJD</td></tr>\n",
       "<tr><td>20</td><td>t_exptime</td><td>Exposure Length</td><td>float</td><td>sec</td><td>Exposure time</td><td></td></tr>\n",
       "<tr><td>21</td><td>em_min</td><td>Min. Wavelength</td><td>float</td><td>nm</td><td>Minimum Wavelength</td><td></td></tr>\n",
       "<tr><td>22</td><td>em_max</td><td>Max. Wavelength</td><td>float</td><td>nm</td><td>Maximum Wavelength</td><td></td></tr>\n",
       "<tr><td>23</td><td>objID</td><td>Object ID</td><td>integer</td><td></td><td>Plane ID of observation at given calibration level</td><td>Long integer, e.g. 2012969445</td></tr>\n",
       "<tr><td>24</td><td>s_region</td><td>s_region</td><td>string</td><td>ICRS Shape</td><td>STC/S Footprint</td><td>Will be ICRS circle or polygon. E.g. CIRCLE ICRS 17.71740689 -58.40043015 0.625</td></tr>\n",
       "<tr><td>25</td><td>jpegURL</td><td>jpegURL</td><td>string</td><td></td><td>Preview Image URL</td><td>https://archive.stsci.edu/hst/previews/N4QF/N4QF18090.jpg</td></tr>\n",
       "<tr><td>26</td><td>distance</td><td>Distance (&quot;)</td><td>float</td><td>arcsec</td><td>Angular separation between searched coordinates and center of obsevation</td><td></td></tr>\n",
       "<tr><td>27</td><td>obsid</td><td>Product Group ID</td><td>integer</td><td></td><td>Database identifier for obs_id</td><td>Long integer, e.g. 2007590987</td></tr>\n",
       "<tr><td>28</td><td>dataRights</td><td>Data Rights</td><td>string</td><td></td><td>Data Rights</td><td>valid values: public,exclusive_access,restricted</td></tr>\n",
       "<tr><td>29</td><td>mtFlag</td><td>Moving Target</td><td>boolean</td><td></td><td>Moving Target Flag</td><td>If True, observation contains a moving target, if False or absent observation may or may not contain a moving target</td></tr>\n",
       "<tr><td>30</td><td>srcDen</td><td>Number of Catalog Objects</td><td>float</td><td></td><td>Number of cataloged objects found in observation</td><td></td></tr>\n",
       "<tr><td>31</td><td>dataURL</td><td>Data URL</td><td>string</td><td></td><td>Data URL</td><td></td></tr>\n",
       "<tr><td>32</td><td>proposal_type</td><td>Proposal Type</td><td>string</td><td></td><td>Type of telescope proposal</td><td>Eg. 3PI, GO, GO/DD, HLA, GII, AIS</td></tr>\n",
       "<tr><td>33</td><td>sequence_number</td><td>Sequence Number</td><td>integer</td><td></td><td>Sequence number, e.g. Kepler quarter or TESS sector</td><td></td></tr>\n",
       "</table><style>table.dataTable {clear: both; width: auto !important; margin: 0 !important;}\n",
       ".dataTables_info, .dataTables_length, .dataTables_filter, .dataTables_paginate{\n",
       "display: inline-block; margin-right: 1em; }\n",
       ".paginate_button { margin-right: 5px; }\n",
       "</style>\n",
       "<script>\n",
       "\n",
       "var astropy_sort_num = function(a, b) {\n",
       "    var a_num = parseFloat(a);\n",
       "    var b_num = parseFloat(b);\n",
       "\n",
       "    if (isNaN(a_num) && isNaN(b_num))\n",
       "        return ((a < b) ? -1 : ((a > b) ? 1 : 0));\n",
       "    else if (!isNaN(a_num) && !isNaN(b_num))\n",
       "        return ((a_num < b_num) ? -1 : ((a_num > b_num) ? 1 : 0));\n",
       "    else\n",
       "        return isNaN(a_num) ? -1 : 1;\n",
       "}\n",
       "\n",
       "require.config({paths: {\n",
       "    datatables: 'https://cdn.datatables.net/1.10.12/js/jquery.dataTables.min'\n",
       "}});\n",
       "require([\"datatables\"], function(){\n",
       "    console.log(\"$('#table4597996080-2021').dataTable()\");\n",
       "    \n",
       "jQuery.extend( jQuery.fn.dataTableExt.oSort, {\n",
       "    \"optionalnum-asc\": astropy_sort_num,\n",
       "    \"optionalnum-desc\": function (a,b) { return -astropy_sort_num(a, b); }\n",
       "});\n",
       "\n",
       "    $('#table4597996080-2021').dataTable({\n",
       "        order: [],\n",
       "        pageLength: 50,\n",
       "        lengthMenu: [[10, 25, 50, 100, 500, 1000, -1], [10, 25, 50, 100, 500, 1000, 'All']],\n",
       "        pagingType: \"full_numbers\",\n",
       "        columnDefs: [{targets: [0], type: \"optionalnum\"}]\n",
       "    });\n",
       "});\n",
       "</script>\n"
      ],
      "text/plain": [
       "<IPython.core.display.HTML object>"
      ]
     },
     "execution_count": 46,
     "metadata": {},
     "output_type": "execute_result"
    }
   ],
   "source": [
    "Observations.get_metadata(\"observations\").show_in_notebook()"
   ]
  },
  {
   "cell_type": "markdown",
   "id": "c52b5b43",
   "metadata": {},
   "source": [
    "### Wildcard Search with `instrument_name`"
   ]
  },
  {
   "cell_type": "markdown",
   "id": "7931d897",
   "metadata": {},
   "source": [
    "For our first example we will search for all NIRISS observations taken by a certain proposal/program PI. For this case, our two criteria we query with are `proposal_pi` and `instrument_name`, which are both `string` object criteria. As such, both can be wildcarded for ease of use. In fact, there may be cases where it is necessary to wildcard the `instrument_name` variable. This is because the JWST science instrument names on MAST have been modified to include configuration information for more precise advanced searches. However, this may lead to an incomplete list of observations returned for those who are not trying to do an advanced search. \n",
    "\n",
    "We will demonstrate this by looking at the results for the query below:"
   ]
  },
  {
   "cell_type": "code",
   "execution_count": 157,
   "id": "569fa099",
   "metadata": {},
   "outputs": [
    {
     "data": {
      "text/html": [
       "<div><i>Table masked=True length=85</i>\n",
       "<table id=\"table4582345216\" class=\"table-striped table-bordered table-condensed\">\n",
       "<thead><tr><th>intentType</th><th>obs_collection</th><th>provenance_name</th><th>instrument_name</th><th>project</th><th>filters</th><th>wavelength_region</th><th>target_name</th><th>target_classification</th><th>obs_id</th><th>s_ra</th><th>s_dec</th><th>dataproduct_type</th><th>proposal_pi</th><th>calib_level</th><th>t_min</th><th>t_max</th><th>t_exptime</th><th>em_min</th><th>em_max</th><th>obs_title</th><th>t_obs_release</th><th>proposal_id</th><th>proposal_type</th><th>sequence_number</th><th>s_region</th><th>jpegURL</th><th>dataURL</th><th>dataRights</th><th>mtFlag</th><th>srcDen</th><th>obsid</th><th>objID</th></tr></thead>\n",
       "<thead><tr><th>str7</th><th>str4</th><th>str7</th><th>str12</th><th>str4</th><th>str13</th><th>str8</th><th>str13</th><th>str1</th><th>str50</th><th>float64</th><th>float64</th><th>str8</th><th>str16</th><th>int64</th><th>float64</th><th>float64</th><th>float64</th><th>float64</th><th>float64</th><th>str70</th><th>float64</th><th>str4</th><th>str3</th><th>int64</th><th>str158</th><th>str63</th><th>str81</th><th>str6</th><th>bool</th><th>float64</th><th>str9</th><th>str9</th></tr></thead>\n",
       "<tr><td>science</td><td>JWST</td><td>CALJWST</td><td>NIRISS</td><td>JWST</td><td>F277W/GR700XD</td><td>Infrared</td><td>HAT-P-14</td><td>--</td><td>jw01541-o001_t002_niriss_f277w-gr700xd-substrip256</td><td>260.1161716666666</td><td>38.24216944444444</td><td>spectrum</td><td>Espinoza, Nestor</td><td>3</td><td>59738.26121625</td><td>59738.55835982639</td><td>384.785</td><td>600.0</td><td>3200.0</td><td>NIRISS Sensitivity and Stability for Transiting Exoplanet Observations</td><td>59774.8541666</td><td>1541</td><td>COM</td><td>--</td><td>POLYGON 260.16189536 38.23724946 260.11337073 38.23746108 260.11348004 38.24619441 260.16201403 38.24597997 260.16189536 38.23724946</td><td>--</td><td>mast:JWST/product/jw01541-o001_t002_niriss_f277w-gr700xd-substrip256_x1dints.fits</td><td>PUBLIC</td><td>False</td><td>nan</td><td>85715273</td><td>195816449</td></tr>\n",
       "<tr><td>science</td><td>JWST</td><td>CALJWST</td><td>NIRISS/SOSS</td><td>JWST</td><td>F480M</td><td>INFRARED</td><td>BD+60-1753</td><td>--</td><td>jw01512002001_02101_00001_nis</td><td>261.2178643508574</td><td>60.43078346928282</td><td>image</td><td>Espinoza, Nestor</td><td>2</td><td>59995.98101357639</td><td>59995.98102200231</td><td>0.683</td><td>4600.0</td><td>5000.0</td><td>SOSS Wavelength and Trace</td><td>59996.18175925</td><td>1512</td><td>CAL</td><td>--</td><td>POLYGON 261.218693113 60.429993446 261.216484201 60.430416356 261.217327028 60.431499222 261.219536203 60.431076276</td><td>mast:JWST/product/jw01512002001_02101_00001_nis_cal.jpg</td><td>mast:JWST/product/jw01512002001_02101_00001_nis_cal.fits</td><td>PUBLIC</td><td>False</td><td>nan</td><td>117933629</td><td>255695241</td></tr>\n",
       "<tr><td>science</td><td>JWST</td><td>CALJWST</td><td>NIRISS/SOSS</td><td>JWST</td><td>F480M</td><td>INFRARED</td><td>BD+60-1753</td><td>--</td><td>jw01512002001_02101_00004_nis</td><td>261.2178643508749</td><td>60.43078346928948</td><td>image</td><td>Espinoza, Nestor</td><td>2</td><td>59995.98740097222</td><td>59995.98740939815</td><td>0.683</td><td>4600.0</td><td>5000.0</td><td>SOSS Wavelength and Trace</td><td>59996.18133101</td><td>1512</td><td>CAL</td><td>--</td><td>POLYGON 261.218665628 60.430005149 261.21645672 60.430428066 261.21729956 60.431510929 261.219508731 60.431087978</td><td>mast:JWST/product/jw01512002001_02101_00004_nis_cal.jpg</td><td>mast:JWST/product/jw01512002001_02101_00004_nis_cal.fits</td><td>PUBLIC</td><td>False</td><td>nan</td><td>117933631</td><td>255695252</td></tr>\n",
       "<tr><td>science</td><td>JWST</td><td>CALJWST</td><td>NIRISS/SOSS</td><td>JWST</td><td>F480M</td><td>INFRARED</td><td>BD+60-1753</td><td>--</td><td>jw01512002001_02101_00003_nis</td><td>261.2178643508621</td><td>60.43078346928461</td><td>image</td><td>Espinoza, Nestor</td><td>2</td><td>59995.98273135417</td><td>59995.98273978009</td><td>0.683</td><td>4600.0</td><td>5000.0</td><td>SOSS Wavelength and Trace</td><td>59996.18243051</td><td>1512</td><td>CAL</td><td>--</td><td>POLYGON 261.218532548 60.430043518 261.216323637 60.430466434 261.217166476 60.431549298 261.219375651 60.431126347</td><td>mast:JWST/product/jw01512002001_02101_00003_nis_cal.jpg</td><td>mast:JWST/product/jw01512002001_02101_00003_nis_cal.fits</td><td>PUBLIC</td><td>False</td><td>nan</td><td>117933632</td><td>255695267</td></tr>\n",
       "<tr><td>science</td><td>JWST</td><td>CALJWST</td><td>NIRISS/IMAGE</td><td>JWST</td><td>CLEAR;GR700XD</td><td>INFRARED</td><td>BD+60-1753</td><td>--</td><td>jw01512002001_03101_00001_nis</td><td>261.2178643508796</td><td>60.43078346929124</td><td>image</td><td>Espinoza, Nestor</td><td>2</td><td>59995.98902444445</td><td>59995.98915162037</td><td>5.494</td><td>500.0</td><td>5000.0</td><td>SOSS Wavelength and Trace</td><td>59996.02287034</td><td>1512</td><td>CAL</td><td>--</td><td>POLYGON 261.252875018 60.462615326 261.225284884 60.427069921 261.208823688 60.430220008 261.236381292 60.465773165</td><td>mast:JWST/product/jw01512002001_03101_00001_nis_trapsfilled.jpg</td><td>mast:JWST/product/jw01512002001_03101_00001_nis_rateints.fits</td><td>PUBLIC</td><td>False</td><td>nan</td><td>117933633</td><td>255695284</td></tr>\n",
       "<tr><td>science</td><td>JWST</td><td>CALJWST</td><td>NIRISS/SOSS</td><td>JWST</td><td>F480M</td><td>INFRARED</td><td>BD+60-1753</td><td>--</td><td>jw01512002001_02101_00002_nis</td><td>261.2178643508597</td><td>60.4307834692837</td><td>image</td><td>Espinoza, Nestor</td><td>2</td><td>59995.98186616898</td><td>59995.98187459491</td><td>0.683</td><td>4600.0</td><td>5000.0</td><td>SOSS Wavelength and Trace</td><td>59996.18305556</td><td>1512</td><td>CAL</td><td>--</td><td>POLYGON 261.218570044 60.429939833 261.216361139 60.430362749 261.217203974 60.431445613 261.219413143 60.431022662</td><td>mast:JWST/product/jw01512002001_02101_00002_nis_cal.jpg</td><td>mast:JWST/product/jw01512002001_02101_00002_nis_cal.fits</td><td>PUBLIC</td><td>False</td><td>nan</td><td>117933634</td><td>255695293</td></tr>\n",
       "<tr><td>science</td><td>JWST</td><td>CALJWST</td><td>NIRISS/IMAGE</td><td>JWST</td><td>CLEAR;GR700XD</td><td>INFRARED</td><td>BD+60-1753</td><td>--</td><td>jw01512002001_03102_00001_nis</td><td>261.2178643508855</td><td>60.43078346929347</td><td>image</td><td>Espinoza, Nestor</td><td>2</td><td>59995.98995106482</td><td>59995.99249458333</td><td>164.82</td><td>500.0</td><td>5000.0</td><td>SOSS Wavelength and Trace</td><td>59996.02337956</td><td>1512</td><td>CAL</td><td>--</td><td>POLYGON 261.252875297 60.462615396 261.225285352 60.427069955 261.208824139 60.43022002 261.236381554 60.465773214</td><td>mast:JWST/product/jw01512002001_03102_00001_nis_trapsfilled.jpg</td><td>mast:JWST/product/jw01512002001_03102_00001_nis_rateints.fits</td><td>PUBLIC</td><td>False</td><td>nan</td><td>117933635</td><td>255695303</td></tr>\n",
       "<tr><td>science</td><td>JWST</td><td>CALJWST</td><td>NIRISS/SOSS</td><td>JWST</td><td>F480M</td><td>INFRARED</td><td>BD+60-1753</td><td>--</td><td>jw01512003001_02101_00003_nis</td><td>261.2178643509114</td><td>60.43078346930328</td><td>image</td><td>Espinoza, Nestor</td><td>2</td><td>59996.0006165162</td><td>59996.00062494213</td><td>0.683</td><td>4600.0</td><td>5000.0</td><td>SOSS Wavelength and Trace</td><td>59996.22311345</td><td>1512</td><td>CAL</td><td>--</td><td>POLYGON 261.218532791 60.430043963 261.216323611 60.430466538 261.217165763 60.431549532 261.219375206 60.431126923</td><td>mast:JWST/product/jw01512003001_02101_00003_nis_cal.jpg</td><td>mast:JWST/product/jw01512003001_02101_00003_nis_cal.fits</td><td>PUBLIC</td><td>False</td><td>nan</td><td>117933684</td><td>255695327</td></tr>\n",
       "<tr><td>science</td><td>JWST</td><td>CALJWST</td><td>NIRISS/SOSS</td><td>JWST</td><td>F480M</td><td>INFRARED</td><td>BD+60-1753</td><td>--</td><td>jw01512003001_02101_00002_nis</td><td>261.217864350909</td><td>60.43078346930239</td><td>image</td><td>Espinoza, Nestor</td><td>2</td><td>59995.99976318287</td><td>59995.9997716088</td><td>0.683</td><td>4600.0</td><td>5000.0</td><td>SOSS Wavelength and Trace</td><td>59996.22358799</td><td>1512</td><td>CAL</td><td>--</td><td>POLYGON 261.21857013 60.429939472 261.216360958 60.430362047 261.217203108 60.431445041 261.219412544 60.431022431</td><td>mast:JWST/product/jw01512003001_02101_00002_nis_cal.jpg</td><td>mast:JWST/product/jw01512003001_02101_00002_nis_cal.fits</td><td>PUBLIC</td><td>False</td><td>nan</td><td>117933685</td><td>255695333</td></tr>\n",
       "<tr><td>science</td><td>JWST</td><td>CALJWST</td><td>NIRISS/SOSS</td><td>JWST</td><td>F480M</td><td>INFRARED</td><td>BD+60-1753</td><td>--</td><td>jw01512004001_02101_00001_nis</td><td>261.2178643509563</td><td>60.43078346932032</td><td>image</td><td>Espinoza, Nestor</td><td>2</td><td>59996.01693650463</td><td>59996.01694493055</td><td>0.683</td><td>4600.0</td><td>5000.0</td><td>SOSS Wavelength and Trace</td><td>59996.36354172</td><td>1512</td><td>CAL</td><td>--</td><td>POLYGON 261.218691488 60.429994372 261.216482047 60.43041661 261.217323518 60.431499732 261.219533223 60.43107746</td><td>mast:JWST/product/jw01512004001_02101_00001_nis_cal.jpg</td><td>mast:JWST/product/jw01512004001_02101_00001_nis_cal.fits</td><td>PUBLIC</td><td>False</td><td>nan</td><td>117933695</td><td>255695339</td></tr>\n",
       "<tr><td>science</td><td>JWST</td><td>CALJWST</td><td>NIRISS/SOSS</td><td>JWST</td><td>F480M</td><td>INFRARED</td><td>BD+60-1753</td><td>--</td><td>jw01512003001_02101_00004_nis</td><td>261.2178643509242</td><td>60.43078346930817</td><td>image</td><td>Espinoza, Nestor</td><td>2</td><td>59996.00529503472</td><td>59996.00530346065</td><td>0.683</td><td>4600.0</td><td>5000.0</td><td>SOSS Wavelength and Trace</td><td>59996.22332179</td><td>1512</td><td>CAL</td><td>--</td><td>POLYGON 261.218665517 60.430005171 261.21645634 60.430427745 261.217298491 60.431510739 261.219507931 60.43108813</td><td>mast:JWST/product/jw01512003001_02101_00004_nis_cal.jpg</td><td>mast:JWST/product/jw01512003001_02101_00004_nis_cal.fits</td><td>PUBLIC</td><td>False</td><td>nan</td><td>117933686</td><td>255695349</td></tr>\n",
       "<tr><td>...</td><td>...</td><td>...</td><td>...</td><td>...</td><td>...</td><td>...</td><td>...</td><td>...</td><td>...</td><td>...</td><td>...</td><td>...</td><td>...</td><td>...</td><td>...</td><td>...</td><td>...</td><td>...</td><td>...</td><td>...</td><td>...</td><td>...</td><td>...</td><td>...</td><td>...</td><td>...</td><td>...</td><td>...</td><td>...</td><td>...</td><td>...</td><td>...</td></tr>\n",
       "<tr><td>science</td><td>JWST</td><td>CALJWST</td><td>NIRISS/IMAGE</td><td>JWST</td><td>CLEAR;GR700XD</td><td>INFRARED</td><td>ECLIPTIC-RA80</td><td>--</td><td>jw01541005001_02105_00001_nis</td><td>124.1008916666667</td><td>19.23126111111111</td><td>image</td><td>Espinoza, Nestor</td><td>2</td><td>59688.63057725313</td><td>59688.63418103009</td><td>300.63</td><td>500.0</td><td>5000.0</td><td>NIRISS Sensitivity and Stability for Transiting Exoplanet Observations</td><td>59774.8541666</td><td>1541</td><td>COM</td><td>--</td><td>POLYGON 124.085169728 19.218694146 124.094017289 19.254891235 124.132560367 19.24631933 124.123734078 19.21012708</td><td>mast:JWST/product/jw01541005001_02105_00001_nis_trapsfilled.jpg</td><td>mast:JWST/product/jw01541005001_02105_00001_nis_rateints.fits</td><td>PUBLIC</td><td>False</td><td>nan</td><td>79661727</td><td>257095740</td></tr>\n",
       "<tr><td>science</td><td>JWST</td><td>CALJWST</td><td>NIRISS/IMAGE</td><td>JWST</td><td>CLEAR;GR700XD</td><td>INFRARED</td><td>ECLIPTIC-RA80</td><td>--</td><td>jw01541005001_0210r_00001_nis</td><td>124.1008916666667</td><td>19.23126111111111</td><td>image</td><td>Espinoza, Nestor</td><td>2</td><td>59688.68771645451</td><td>59688.69132023148</td><td>300.63</td><td>500.0</td><td>5000.0</td><td>NIRISS Sensitivity and Stability for Transiting Exoplanet Observations</td><td>59774.8541666</td><td>1541</td><td>COM</td><td>--</td><td>POLYGON 124.07286819 19.218391368 124.081713008 19.254589051 124.120256661 19.246019733 124.111433114 19.209826891</td><td>mast:JWST/product/jw01541005001_0210r_00001_nis_trapsfilled.jpg</td><td>mast:JWST/product/jw01541005001_0210r_00001_nis_rateints.fits</td><td>PUBLIC</td><td>False</td><td>nan</td><td>79661746</td><td>257095772</td></tr>\n",
       "<tr><td>science</td><td>JWST</td><td>CALJWST</td><td>NIRISS/IMAGE</td><td>JWST</td><td>CLEAR;GR700XD</td><td>INFRARED</td><td>ECLIPTIC-RA80</td><td>--</td><td>jw01541005001_0210f_00001_nis</td><td>124.1008916666667</td><td>19.23126111111111</td><td>image</td><td>Espinoza, Nestor</td><td>2</td><td>59688.65653278554</td><td>59688.6601365625</td><td>300.63</td><td>500.0</td><td>5000.0</td><td>NIRISS Sensitivity and Stability for Transiting Exoplanet Observations</td><td>59774.8541666</td><td>1541</td><td>COM</td><td>--</td><td>POLYGON 124.07865538 19.217095484 124.087501392 19.253292892 124.126044442 19.244722375 124.117219701 19.208529806</td><td>mast:JWST/product/jw01541005001_0210f_00001_nis_trapsfilled.jpg</td><td>mast:JWST/product/jw01541005001_0210f_00001_nis_rateints.fits</td><td>PUBLIC</td><td>False</td><td>nan</td><td>79661763</td><td>257095799</td></tr>\n",
       "<tr><td>science</td><td>JWST</td><td>CALJWST</td><td>NIRISS/IMAGE</td><td>JWST</td><td>CLEAR;GR700XD</td><td>INFRARED</td><td>ECLIPTIC-RA80</td><td>--</td><td>jw01541005001_0210z_00001_nis</td><td>124.1008916666667</td><td>19.23126111111111</td><td>image</td><td>Espinoza, Nestor</td><td>2</td><td>59688.70849199849</td><td>59688.71209577546</td><td>300.63</td><td>500.0</td><td>5000.0</td><td>NIRISS Sensitivity and Stability for Transiting Exoplanet Observations</td><td>59774.8541666</td><td>1541</td><td>COM</td><td>--</td><td>POLYGON 124.069247606 19.216144422 124.078091482 19.252342284 124.116634802 19.243773748 124.107812198 19.207580726</td><td>mast:JWST/product/jw01541005001_0210z_00001_nis_trapsfilled.jpg</td><td>mast:JWST/product/jw01541005001_0210z_00001_nis_rateints.fits</td><td>PUBLIC</td><td>False</td><td>nan</td><td>79661781</td><td>257095821</td></tr>\n",
       "<tr><td>science</td><td>JWST</td><td>CALJWST</td><td>NIRISS/IMAGE</td><td>JWST</td><td>CLEAR;GR700XD</td><td>INFRARED</td><td>ECLIPTIC-RA80</td><td>--</td><td>jw01541005001_0210d_00001_nis</td><td>124.1008916666667</td><td>19.23126111111111</td><td>image</td><td>Espinoza, Nestor</td><td>2</td><td>59688.65134242674</td><td>59688.6549462037</td><td>300.63</td><td>500.0</td><td>5000.0</td><td>NIRISS Sensitivity and Stability for Transiting Exoplanet Observations</td><td>59774.8541666</td><td>1541</td><td>COM</td><td>--</td><td>POLYGON 124.077928418 19.214200713 124.08677415 19.250398148 124.125316549 19.241827749 124.116492089 19.205635154</td><td>mast:JWST/product/jw01541005001_0210d_00001_nis_trapsfilled.jpg</td><td>mast:JWST/product/jw01541005001_0210d_00001_nis_rateints.fits</td><td>PUBLIC</td><td>False</td><td>nan</td><td>79661804</td><td>257095847</td></tr>\n",
       "<tr><td>science</td><td>JWST</td><td>CALJWST</td><td>NIRISS/SOSS</td><td>JWST</td><td>CLEAR;GR700XD</td><td>INFRARED</td><td>HAT-P-14</td><td>--</td><td>jw01541001001_04101_00001-seg001_nis</td><td>260.1161736742332</td><td>38.24216472053897</td><td>spectrum</td><td>Espinoza, Nestor</td><td>2</td><td>59738.29788028935</td><td>59738.55248649306</td><td>18855.408</td><td>500.0</td><td>5000.0</td><td>NIRISS Sensitivity and Stability for Transiting Exoplanet Observations</td><td>59774.8541666</td><td>1541</td><td>COM</td><td>--</td><td>POLYGON 260.16189736 38.23724474 260.11337274 38.23745635 260.11348205 38.24618969 260.16201603 38.24597525 260.16189736 38.23724474</td><td>mast:JWST/product/jw01541001001_04101_00001-seg001_nis_ramp.jpg</td><td>mast:JWST/product/jw01541001001_04101_00001-seg001_nis_x1dints.fits</td><td>PUBLIC</td><td>False</td><td>nan</td><td>85700117</td><td>257352619</td></tr>\n",
       "<tr><td>science</td><td>JWST</td><td>CALJWST</td><td>NIRISS/SOSS</td><td>JWST</td><td>CLEAR;GR700XD</td><td>INFRARED</td><td>HAT-P-14</td><td>--</td><td>jw01541001001_04101_00001-seg004_nis</td><td>260.1161736742332</td><td>38.24216472053897</td><td>spectrum</td><td>Espinoza, Nestor</td><td>2</td><td>59738.29788028935</td><td>59738.55248649306</td><td>18855.408</td><td>500.0</td><td>5000.0</td><td>NIRISS Sensitivity and Stability for Transiting Exoplanet Observations</td><td>59774.8541666</td><td>1541</td><td>COM</td><td>--</td><td>POLYGON 260.16189736 38.23724474 260.11337274 38.23745635 260.11348205 38.24618969 260.16201603 38.24597525 260.16189736 38.23724474</td><td>mast:JWST/product/jw01541001001_04101_00001-seg004_nis_ramp.jpg</td><td>mast:JWST/product/jw01541001001_04101_00001-seg004_nis_x1dints.fits</td><td>PUBLIC</td><td>False</td><td>nan</td><td>85700141</td><td>257352626</td></tr>\n",
       "<tr><td>science</td><td>JWST</td><td>CALJWST</td><td>NIRISS/SOSS</td><td>JWST</td><td>CLEAR;GR700XD</td><td>INFRARED</td><td>HAT-P-14</td><td>--</td><td>jw01541001001_04101_00001-seg003_nis</td><td>260.1161736742332</td><td>38.24216472053897</td><td>spectrum</td><td>Espinoza, Nestor</td><td>2</td><td>59738.29788028935</td><td>59738.55248649306</td><td>18855.408</td><td>500.0</td><td>5000.0</td><td>NIRISS Sensitivity and Stability for Transiting Exoplanet Observations</td><td>59774.8541666</td><td>1541</td><td>COM</td><td>--</td><td>POLYGON 260.16189736 38.23724474 260.11337274 38.23745635 260.11348205 38.24618969 260.16201603 38.24597525 260.16189736 38.23724474</td><td>mast:JWST/product/jw01541001001_04101_00001-seg003_nis_ramp.jpg</td><td>mast:JWST/product/jw01541001001_04101_00001-seg003_nis_x1dints.fits</td><td>PUBLIC</td><td>False</td><td>nan</td><td>85700237</td><td>257352647</td></tr>\n",
       "<tr><td>science</td><td>JWST</td><td>CALJWST</td><td>NIRISS/SOSS</td><td>JWST</td><td>CLEAR;GR700XD</td><td>INFRARED</td><td>HAT-P-14</td><td>--</td><td>jw01541001001_04101_00001-seg002_nis</td><td>260.1161736742332</td><td>38.24216472053897</td><td>spectrum</td><td>Espinoza, Nestor</td><td>2</td><td>59738.29788028935</td><td>59738.55248649306</td><td>18855.408</td><td>500.0</td><td>5000.0</td><td>NIRISS Sensitivity and Stability for Transiting Exoplanet Observations</td><td>59774.8541666</td><td>1541</td><td>COM</td><td>--</td><td>POLYGON 260.16189736 38.23724474 260.11337274 38.23745635 260.11348205 38.24618969 260.16201603 38.24597525 260.16189736 38.23724474</td><td>mast:JWST/product/jw01541001001_04101_00001-seg002_nis_ramp.jpg</td><td>mast:JWST/product/jw01541001001_04101_00001-seg002_nis_x1dints.fits</td><td>PUBLIC</td><td>False</td><td>nan</td><td>85700224</td><td>257352659</td></tr>\n",
       "<tr><td>science</td><td>JWST</td><td>APT</td><td>NIRISS/IMAGE</td><td>JWST</td><td>CLEAR;GR700XD</td><td>INFRARED</td><td>CD-38-2551</td><td>--</td><td>jw02113001001_xx102_00001_niriss</td><td>94.33635625</td><td>-38.32338333333337</td><td>spectrum</td><td>Espinoza, Nestor</td><td>-1</td><td>nan</td><td>nan</td><td>35798.904</td><td>500.0</td><td>5000.0</td><td>Exploring the morning and evening limbs of a transiting exoplanet</td><td>nan</td><td>2113</td><td>--</td><td>2</td><td>POLYGON 94.37806385670547 -38.33887515457093 94.33188458126378 -38.327190520460306 94.33534510007135 -38.318911190737595 94.38152459118622 -38.330585768976164</td><td>--</td><td>--</td><td>PUBLIC</td><td>False</td><td>nan</td><td>141912772</td><td>260893015</td></tr>\n",
       "<tr><td>science</td><td>JWST</td><td>APT</td><td>NIRISS/IMAGE</td><td>JWST</td><td>CLEAR;GR700XD</td><td>INFRARED</td><td>CD-38-2551</td><td>--</td><td>jw02113001001_xx103_00001_niriss</td><td>94.33635625</td><td>-38.32338333333337</td><td>spectrum</td><td>Espinoza, Nestor</td><td>-1</td><td>nan</td><td>nan</td><td>329.64</td><td>500.0</td><td>5000.0</td><td>Exploring the morning and evening limbs of a transiting exoplanet</td><td>nan</td><td>2113</td><td>--</td><td>3</td><td>POLYGON 94.37806385670547 -38.33887515457093 94.33188458126378 -38.327190520460306 94.33534510007135 -38.318911190737595 94.38152459118622 -38.330585768976164</td><td>--</td><td>--</td><td>PUBLIC</td><td>False</td><td>nan</td><td>141912775</td><td>260893018</td></tr>\n",
       "</table></div>"
      ],
      "text/plain": [
       "<Table masked=True length=85>\n",
       "intentType obs_collection provenance_name instrument_name ...  srcDen   obsid     objID  \n",
       "   str7         str4            str7           str12      ... float64    str9      str9  \n",
       "---------- -------------- --------------- --------------- ... ------- --------- ---------\n",
       "   science           JWST         CALJWST          NIRISS ...     nan  85715273 195816449\n",
       "   science           JWST         CALJWST     NIRISS/SOSS ...     nan 117933629 255695241\n",
       "   science           JWST         CALJWST     NIRISS/SOSS ...     nan 117933631 255695252\n",
       "   science           JWST         CALJWST     NIRISS/SOSS ...     nan 117933632 255695267\n",
       "   science           JWST         CALJWST    NIRISS/IMAGE ...     nan 117933633 255695284\n",
       "   science           JWST         CALJWST     NIRISS/SOSS ...     nan 117933634 255695293\n",
       "   science           JWST         CALJWST    NIRISS/IMAGE ...     nan 117933635 255695303\n",
       "   science           JWST         CALJWST     NIRISS/SOSS ...     nan 117933684 255695327\n",
       "   science           JWST         CALJWST     NIRISS/SOSS ...     nan 117933685 255695333\n",
       "   science           JWST         CALJWST     NIRISS/SOSS ...     nan 117933695 255695339\n",
       "   science           JWST         CALJWST     NIRISS/SOSS ...     nan 117933686 255695349\n",
       "       ...            ...             ...             ... ...     ...       ...       ...\n",
       "   science           JWST         CALJWST    NIRISS/IMAGE ...     nan  79661727 257095740\n",
       "   science           JWST         CALJWST    NIRISS/IMAGE ...     nan  79661746 257095772\n",
       "   science           JWST         CALJWST    NIRISS/IMAGE ...     nan  79661763 257095799\n",
       "   science           JWST         CALJWST    NIRISS/IMAGE ...     nan  79661781 257095821\n",
       "   science           JWST         CALJWST    NIRISS/IMAGE ...     nan  79661804 257095847\n",
       "   science           JWST         CALJWST     NIRISS/SOSS ...     nan  85700117 257352619\n",
       "   science           JWST         CALJWST     NIRISS/SOSS ...     nan  85700141 257352626\n",
       "   science           JWST         CALJWST     NIRISS/SOSS ...     nan  85700237 257352647\n",
       "   science           JWST         CALJWST     NIRISS/SOSS ...     nan  85700224 257352659\n",
       "   science           JWST             APT    NIRISS/IMAGE ...     nan 141912772 260893015\n",
       "   science           JWST             APT    NIRISS/IMAGE ...     nan 141912775 260893018"
      ]
     },
     "execution_count": 157,
     "metadata": {},
     "output_type": "execute_result"
    }
   ],
   "source": [
    "observations = Observations.query_criteria(proposal_pi=\"Espinoza, Nestor\",\n",
    "                                           instrument_name=\"*NIRISS*\")\n",
    "observations"
   ]
  },
  {
   "cell_type": "markdown",
   "id": "ffa76856",
   "metadata": {},
   "source": [
    "Here we have a list of all kinda of NIRISS observations led by the PI Dr. Espinoza. Let's call for all the unique values under the `instrument_name` column to see what was returned thanks to our `*` wildcards."
   ]
  },
  {
   "cell_type": "code",
   "execution_count": 158,
   "id": "611f3dc5",
   "metadata": {},
   "outputs": [
    {
     "data": {
      "text/plain": [
       "{'NIRISS', 'NIRISS/IMAGE', 'NIRISS/SOSS'}"
      ]
     },
     "execution_count": 158,
     "metadata": {},
     "output_type": "execute_result"
    }
   ],
   "source": [
    "set(observations['instrument_name'])"
   ]
  },
  {
   "cell_type": "markdown",
   "id": "cafe9e48",
   "metadata": {},
   "source": [
    "As you can see, there were some observations with `instrument_name` labeled something other than `NIRISS`, due to the new configuration on MAST. Had we only searched for the `instrument_name` value `NIRISS`, we would have missed several observations. For the full list of instrument name variations, you can refer to [this page](https://outerspace.stsci.edu/display/MASTDOCS/JWST+Instrument+Names)."
   ]
  },
  {
   "cell_type": "markdown",
   "id": "831f556c",
   "metadata": {},
   "source": [
    "### Wildcard Search with `instrument_name` and `proposal_id`"
   ]
  },
  {
   "cell_type": "markdown",
   "id": "e4f8ec57",
   "metadata": {},
   "source": [
    "Let's repeat the previous example, but add another `string` criteria and wildcard into the mix. Let's query for all observations belonging to proposal/program IDs that begin with the digits `15`, and see what gets returned:"
   ]
  },
  {
   "cell_type": "code",
   "execution_count": 162,
   "id": "1731f6bc",
   "metadata": {},
   "outputs": [
    {
     "data": {
      "text/plain": [
       "({'1512', '1541'}, {'NIRISS', 'NIRISS/IMAGE', 'NIRISS/SOSS'})"
      ]
     },
     "execution_count": 162,
     "metadata": {},
     "output_type": "execute_result"
    }
   ],
   "source": [
    "observations = Observations.query_criteria(proposal_pi='Espinoza, Nestor',\n",
    "                                           instrument_name='*NIRISS*',\n",
    "                                           proposal_id=['15%%'])\n",
    "set(observations['proposal_id']), set(observations['instrument_name'])"
   ]
  },
  {
   "cell_type": "markdown",
   "id": "754eb9f0",
   "metadata": {},
   "source": [
    "**Note**: Be aware that you can be too generous with the wildcards. Too much ambiguity will lead to getting results that were not intended. See below for example."
   ]
  },
  {
   "cell_type": "code",
   "execution_count": 80,
   "id": "031cb1b3",
   "metadata": {
    "scrolled": true
   },
   "outputs": [
    {
     "data": {
      "text/plain": [
       "{'NIRISS', 'NIRISS/IMAGE', 'NIRISS/SOSS', 'NIRSPEC/SLIT'}"
      ]
     },
     "execution_count": 80,
     "metadata": {},
     "output_type": "execute_result"
    }
   ],
   "source": [
    "observations = Observations.query_criteria(proposal_pi='Espinoza, Nestor',\n",
    "                                           instrument_name='*NI*S*')\n",
    "set(observations['instrument_name'])"
   ]
  },
  {
   "cell_type": "markdown",
   "id": "01ff50bf",
   "metadata": {},
   "source": [
    "This query returns `NIRSPEC/SLIT` observations in addition to the NIRISS ones, which is not what was intended."
   ]
  },
  {
   "cell_type": "markdown",
   "id": "a726358b",
   "metadata": {},
   "source": [
    "### Wildcard Search a Time-sensitive Object with `target_name` and `t_min`"
   ]
  },
  {
   "cell_type": "markdown",
   "id": "85187de5",
   "metadata": {},
   "source": [
    "The criteria we will use for we will be querying for image observations of Comet 67P Churyumov-Gerasimenko observed through the Hubble Space Telescope's Advanced Camera for Surveys (ACS) Wide Field Camera (WFC). Since this is a moving target, we will not be able to query by coordinates, so we will work with the `target_name` criteria. This comet's name can be listed in different ways, so we will use `*` wildcards in our criteria query."
   ]
  },
  {
   "cell_type": "code",
   "execution_count": 176,
   "id": "0213da0f",
   "metadata": {},
   "outputs": [
    {
     "name": "stdout",
     "output_type": "stream",
     "text": [
      "140 total observations\n",
      "\n",
      "Listed target names:\n",
      "{'COMET-67P-CHURYUMOV-GERASIMENK', 'COMET-67P-CHURYUMOV-GER-UPDATE'}\n"
     ]
    }
   ],
   "source": [
    "observations = Observations.query_criteria(target_name=\"*COM*67P*\",\n",
    "                                           instrument_name=\"ACS/WFC\")\n",
    "\n",
    "print(f\"{len(observations)} total observations\" + \"\\n\")\n",
    "print(\"Listed target names:\")\n",
    "print(set(observations['target_name']))"
   ]
  },
  {
   "cell_type": "markdown",
   "id": "823054fe",
   "metadata": {},
   "source": [
    "TODO: Add warning in doc to say that you may not actually be getting all your obs using target_name\n",
    "because of all the variations of the target name"
   ]
  },
  {
   "cell_type": "markdown",
   "id": "c80cf8d7",
   "metadata": {},
   "source": [
    "Alternatively, you can search for a moving target using RA and Dec, if you know the trajectory of the comet. Let's try to search for Comet 67P Churyumov Gerasimenko using the `t_min` column. \n",
    "\n",
    "But first let's see what we're working with in terms of the range in `t_min`. Remember, `t_min` is in MJD."
   ]
  },
  {
   "cell_type": "code",
   "execution_count": 178,
   "id": "b3cf3a84",
   "metadata": {},
   "outputs": [
    {
     "data": {
      "text/plain": [
       "(56887.26573422454, 57454.78809)"
      ]
     },
     "execution_count": 178,
     "metadata": {},
     "output_type": "execute_result"
    }
   ],
   "source": [
    "min_start, max_start = min(observations['t_min']), max(observations['t_min'])\n",
    "\n",
    "min_start, max_start"
   ]
  },
  {
   "cell_type": "markdown",
   "id": "5e872cde",
   "metadata": {},
   "source": [
    "These are the minimum and maximum values of `t_min`, which means our range cannot go beyond this window of time. Let's take a look at these values in `iso` format."
   ]
  },
  {
   "cell_type": "code",
   "execution_count": 179,
   "id": "3e2eec20",
   "metadata": {},
   "outputs": [
    {
     "data": {
      "text/plain": [
       "('2014-08-18 06:22:39.437', '2016-03-07 18:54:50.976')"
      ]
     },
     "execution_count": 179,
     "metadata": {},
     "output_type": "execute_result"
    }
   ],
   "source": [
    "Time(min_start, format='mjd').iso, Time(max_start, format='mjd').iso"
   ]
  },
  {
   "cell_type": "markdown",
   "id": "4ffcad51",
   "metadata": {},
   "source": [
    "It looks like this comet was observed using ACS's Wide Field Camera from 2014 until 2016. Let's request for a smaller window of time, and work with just the year 2014 observations."
   ]
  },
  {
   "cell_type": "code",
   "execution_count": 180,
   "id": "0d0ae6de",
   "metadata": {},
   "outputs": [
    {
     "data": {
      "text/plain": [
       "(56887.0, 57022.0)"
      ]
     },
     "execution_count": 180,
     "metadata": {},
     "output_type": "execute_result"
    }
   ],
   "source": [
    "min_start_mjd, max_start_mjd = (Time('2014-08-18', format='iso').mjd, Time('2014-12-31', format='iso').mjd)\n",
    "min_start_mjd, max_start_mjd"
   ]
  },
  {
   "cell_type": "markdown",
   "id": "73c6f69c",
   "metadata": {},
   "source": [
    "Now that we've converted the times to MJD, let's feed it back into the query for the `t_min` criteria. Remember that you can feed intervals to the `t_min` criteria in list form, where the first element in the list is the lower limit, and the second element is the upper limit."
   ]
  },
  {
   "cell_type": "code",
   "execution_count": 182,
   "id": "3898ed24",
   "metadata": {},
   "outputs": [
    {
     "data": {
      "text/html": [
       "<div><i>Table masked=True length=55</i>\n",
       "<table id=\"table4597955888\" class=\"table-striped table-bordered table-condensed\">\n",
       "<thead><tr><th>intentType</th><th>obs_collection</th><th>provenance_name</th><th>instrument_name</th><th>project</th><th>filters</th><th>wavelength_region</th><th>target_name</th><th>target_classification</th><th>obs_id</th><th>s_ra</th><th>s_dec</th><th>dataproduct_type</th><th>proposal_pi</th><th>calib_level</th><th>t_min</th><th>t_max</th><th>t_exptime</th><th>em_min</th><th>em_max</th><th>obs_title</th><th>t_obs_release</th><th>proposal_id</th><th>proposal_type</th><th>sequence_number</th><th>s_region</th><th>jpegURL</th><th>dataURL</th><th>dataRights</th><th>mtFlag</th><th>srcDen</th><th>obsid</th><th>objID</th></tr></thead>\n",
       "<thead><tr><th>str7</th><th>str3</th><th>str6</th><th>str7</th><th>str3</th><th>str12</th><th>str7</th><th>str30</th><th>str89</th><th>str36</th><th>float64</th><th>float64</th><th>str5</th><th>str14</th><th>int64</th><th>float64</th><th>float64</th><th>float64</th><th>float64</th><th>float64</th><th>str93</th><th>float64</th><th>str5</th><th>str3</th><th>int64</th><th>str1191</th><th>str86</th><th>str35</th><th>str6</th><th>bool</th><th>float64</th><th>str8</th><th>str9</th></tr></thead>\n",
       "<tr><td>science</td><td>HST</td><td>CALACS</td><td>ACS/WFC</td><td>HST</td><td>F775W</td><td>Optical</td><td>COMET-67P-CHURYUMOV-GERASIMENK</td><td>COMET; COMET-67P-CHURYUMOV-GERASIMENKO WHICH IS THE PRIMARY TARGET FOR ROSETTA SPACECRAFT</td><td>jcis06010</td><td>290.9112348543</td><td>-27.90621726673</td><td>image</td><td>Hines, Dean C.</td><td>3</td><td>56979.505933368055</td><td>56979.51200949074</td><td>300.0</td><td>690.0</td><td>860.0</td><td>Imaging Polarimetry of the 67P/Churyumov-Gerasimenko with ACS: Supporting the Rosetta Mission</td><td>57344.94012718</td><td>13863</td><td>GO</td><td>--</td><td>POLYGON -69.07205442999998 -27.91834206 -69.072058317717648 -27.918294549551291 -69.070418239999981 -27.91807766 -69.072739870000021 -27.88970302 -69.103821919999973 -27.89381052 -69.103818044368452 -27.893858065783444 -69.105458039999974 -27.89407459 -69.103144859999986 -27.92244975 -69.07205442999998 -27.91834206 -69.07205442999998 -27.91834206</td><td>mast:HST/product/jcis06010_drz.jpg</td><td>mast:HST/product/jcis06010_drz.fits</td><td>PUBLIC</td><td>True</td><td>nan</td><td>24839235</td><td>220744505</td></tr>\n",
       "<tr><td>science</td><td>HST</td><td>CALACS</td><td>ACS/WFC</td><td>HST</td><td>F775W</td><td>Optical</td><td>COMET-67P-CHURYUMOV-GERASIMENK</td><td>COMET; COMET-67P-CHURYUMOV-GERASIMENKO WHICH IS THE PRIMARY TARGET FOR ROSETTA SPACECRAFT</td><td>jcis04010</td><td>290.2735685756</td><td>-28.02183037337</td><td>image</td><td>Hines, Dean C.</td><td>3</td><td>56977.44858376157</td><td>56977.454660219904</td><td>300.0</td><td>690.0</td><td>860.0</td><td>Imaging Polarimetry of the 67P/Churyumov-Gerasimenko with ACS: Supporting the Rosetta Mission</td><td>57342.8724883</td><td>13863</td><td>GO</td><td>--</td><td>POLYGON -69.710339019999992 -28.03460849 -69.710342387468657 -28.034498772208945 -69.708739630000025 -28.03435188 -69.70961256999999 -28.00591362 -69.740906 -28.00877878 -69.740902662524562 -28.008888572547743 -69.742505129999984 -28.0090351 -69.74164077 -28.03747355 -69.710339019999992 -28.03460849 -69.710339019999992 -28.03460849</td><td>mast:HST/product/jcis04010_drz.jpg</td><td>mast:HST/product/jcis04010_drz.fits</td><td>PUBLIC</td><td>True</td><td>nan</td><td>24839231</td><td>220744722</td></tr>\n",
       "<tr><td>science</td><td>HST</td><td>CALACS</td><td>ACS/WFC</td><td>HST</td><td>F775W</td><td>Optical</td><td>COMET-67P-CHURYUMOV-GERASIMENK</td><td>COMET; COMET-67P-CHURYUMOV-GERASIMENKO WHICH IS THE PRIMARY TARGET FOR ROSETTA SPACECRAFT</td><td>jcis05010</td><td>290.5806735758</td><td>-27.96626079113</td><td>image</td><td>Hines, Dean C.</td><td>3</td><td>56978.44466003472</td><td>56978.45073653935</td><td>300.0</td><td>690.0</td><td>860.0</td><td>Imaging Polarimetry of the 67P/Churyumov-Gerasimenko with ACS: Supporting the Rosetta Mission</td><td>57343.70451382</td><td>13863</td><td>GO</td><td>--</td><td>POLYGON -69.403442700000028 -27.97923304 -69.403444700846464 -27.979100547103432 -69.401826809999989 -27.97897202 -69.40225662 -27.95052573 -69.433575589999975 -27.95301089 -69.433573626058035 -27.953143446156233 -69.435191219999979 -27.95327161 -69.43476999 -27.98171799 -69.403442700000028 -27.97923304 -69.403442700000028 -27.97923304</td><td>mast:HST/product/jcis05010_drz.jpg</td><td>mast:HST/product/jcis05010_drz.fits</td><td>PUBLIC</td><td>True</td><td>nan</td><td>24839233</td><td>220745079</td></tr>\n",
       "<tr><td>science</td><td>HST</td><td>CALACS</td><td>ACS/WFC</td><td>HST</td><td>F606W</td><td>Optical</td><td>COMET-67P-CHURYUMOV-GERASIMENK</td><td>COMET; COMET-67P-CHURYUMOV-GERASIMENKO WHICH IS THE PRIMARY TARGET FOR ROSETTA SPACECRAFT</td><td>jcis06020</td><td>290.9147892768</td><td>-27.90546497065</td><td>image</td><td>Hines, Dean C.</td><td>3</td><td>56979.51550486111</td><td>56979.66734533565</td><td>6280.0</td><td>470.0</td><td>720.0</td><td>Imaging Polarimetry of the 67P/Churyumov-Gerasimenko with ACS: Supporting the Rosetta Mission</td><td>57344.94447902</td><td>13863</td><td>GO</td><td>--</td><td>POLYGON -69.051552329999993 -27.91547868 -69.051566623053915 -27.915304522529482 -69.048023170000022 -27.91483611 -69.048086300262 -27.914066875478145 -69.045198070000026 -27.91368501 -69.045253211462011 -27.913013321787403 -69.031596869999987 -27.91120688 -69.031681552501226 -27.910176912272057 -69.027714189999983 -27.90965175 -69.02772849552359 -27.909477898544647 -69.024182240000016 -27.90900847 -69.02653583 -27.88039823 -69.057861839999987 -27.88454222 -69.057847539106191 -27.884716718646743 -69.06139399 -27.88518549 -69.06130963442007 -27.88621477953863 -69.065275460000009 -27.88673877 -69.0652204552501 -27.887410472053556 -69.078874509999991 -27.8892136 -69.078813220742 -27.889963190045712 -69.098235400000021 -27.89252561 -69.098220005459254 -27.892714303389873 -69.102038349999987 -27.89321784 -69.099703449999993 -27.92182943 -69.082889846828763 -27.919611642662879 -69.082889340000008 -27.91961784 -69.051552329999993 -27.91547868 -69.051552329999993 -27.91547868</td><td>mast:HST/product/jcis06020_drz.jpg</td><td>mast:HST/product/jcis06020_drz.fits</td><td>PUBLIC</td><td>True</td><td>nan</td><td>24839236</td><td>221276308</td></tr>\n",
       "<tr><td>science</td><td>HST</td><td>CALACS</td><td>ACS/WFC</td><td>HST</td><td>F606W</td><td>Optical</td><td>COMET-67P-CHURYUMOV-GERASIMENK</td><td>COMET; COMET-67P-CHURYUMOV-GERASIMENKO WHICH IS THE PRIMARY TARGET FOR ROSETTA SPACECRAFT</td><td>jcis04020</td><td>290.2770693515</td><td>-28.02111499969</td><td>image</td><td>Hines, Dean C.</td><td>3</td><td>56977.45820188658</td><td>56977.611049039355</td><td>6280.0</td><td>470.0</td><td>720.0</td><td>Imaging Polarimetry of the 67P/Churyumov-Gerasimenko with ACS: Supporting the Rosetta Mission</td><td>57342.94112256</td><td>13863</td><td>GO</td><td>--</td><td>POLYGON -69.68999134 -28.03180292 -69.690000793261078 -28.0314964187349 -69.68653658 -28.03117872 -69.686564584120333 -28.03027073277142 -69.683764119999978 -28.03001384 -69.6838006065022 -28.028831798853574 -69.67044575 -28.02760593 -69.670481996731183 -28.026436279688706 -69.666591489999973 -28.02607881 -69.666601003399478 -28.025772506303237 -69.663133870000024 -28.02545393 -69.664023900000018 -27.99678969 -69.695551850000015 -27.99968392 -69.695542411269713 -27.999990871866526 -69.69900966 -28.0003088 -69.6989737114984 -28.001477839264155 -69.702862620000019 -28.00183422 -69.702826356326327 -28.00301616323647 -69.716178669999977 -28.00423892 -69.716150921131742 -28.005146940581007 -69.718950740000025 -28.00540317 -69.718941361850952 -28.005710310378014 -69.722405690000016 -28.00602736 -69.722395728297926 -28.006353608328851 -69.735389909999981 -28.00754168 -69.7353798073961 -28.007874214140372 -69.739126740000017 -28.00821667 -69.73825566 -28.03688132 -69.70671568 -28.03399601 -69.706725863943035 -28.033664169692418 -69.70297905000001 -28.03332102 -69.702989071877354 -28.032994456845575 -69.68999134 -28.03180292 -69.68999134 -28.03180292</td><td>mast:HST/product/jcis04020_drz.jpg</td><td>mast:HST/product/jcis04020_drz.fits</td><td>PUBLIC</td><td>True</td><td>nan</td><td>24839232</td><td>221276798</td></tr>\n",
       "<tr><td>science</td><td>HST</td><td>CALACS</td><td>ACS/WFC</td><td>HST</td><td>F606W</td><td>Optical</td><td>COMET-67P-CHURYUMOV-GERASIMENK</td><td>COMET; COMET-67P-CHURYUMOV-GERASIMENKO WHICH IS THE PRIMARY TARGET FOR ROSETTA SPACECRAFT</td><td>jcis03010</td><td>280.9542165962</td><td>-30.99542663878</td><td>image</td><td>Hines, Dean C.</td><td>3</td><td>56889.322632372685</td><td>56889.548465706015</td><td>9600.0</td><td>470.0</td><td>720.0</td><td>Imaging Polarimetry of the 67P/Churyumov-Gerasimenko with ACS: Supporting the Rosetta Mission</td><td>57254.78804398</td><td>13863</td><td>GO</td><td>--</td><td>POLYGON -79.05840738 -31.01316703 -79.026878020000026 -31.00584488 -79.033151780000026 -30.97766767 -79.035392031871083 -30.978188257438966 -79.035550100000023 -30.97747812 -79.042032257876684 -30.978984322746957 -79.04228344 -30.97785538 -79.044393200704519 -30.978345489210106 -79.044542289999981 -30.9776754 -79.0519318160874 -30.979391859188709 -79.052526699999987 -30.97671682 -79.054630711213818 -30.97720541840804 -79.054779619999977 -30.9765358 -79.0610665098948 -30.977995640936911 -79.061717779999981 -30.97506566 -79.0638160189322 -30.975552764251791 -79.063964759999976 -30.97488358 -79.09548675000002 -30.9821973 -79.089230410000027 -31.01037747 -79.087131972414525 -31.009890899345596 -79.086983480000015 -31.01055955 -79.080693324737766 -31.009100920228253 -79.08004225000002 -31.01203134 -79.077938041505035 -31.011543277238278 -79.077789380000013 -31.01221237 -79.070396015373021 -31.010497338548994 -79.06980123 -31.01317303 -79.067691267708852 -31.012683456849597 -79.06754243 -31.013353 -79.061056825969644 -31.011848027080774 -79.060805640000012 -31.0129775 -79.058565179306754 -31.012457479047875 -79.05840738 -31.01316703 -79.05840738 -31.01316703</td><td>mast:HST/product/jcis03010_drz.jpg</td><td>mast:HST/product/jcis03010_drz.fits</td><td>PUBLIC</td><td>True</td><td>nan</td><td>24839230</td><td>221297742</td></tr>\n",
       "<tr><td>science</td><td>HST</td><td>CALACS</td><td>ACS/WFC</td><td>HST</td><td>F606W</td><td>Optical</td><td>COMET-67P-CHURYUMOV-GERASIMENK</td><td>COMET; COMET-67P-CHURYUMOV-GERASIMENKO WHICH IS THE PRIMARY TARGET FOR ROSETTA SPACECRAFT</td><td>jcis02010</td><td>281.1070302812</td><td>-31.0066887554</td><td>image</td><td>Hines, Dean C.</td><td>3</td><td>56888.26101200232</td><td>56888.48685717593</td><td>9600.0</td><td>470.0</td><td>720.0</td><td>Imaging Polarimetry of the 67P/Churyumov-Gerasimenko with ACS: Supporting the Rosetta Mission</td><td>57253.60605318</td><td>13863</td><td>GO</td><td>--</td><td>POLYGON -78.905924930000026 -31.02423579 -78.87427893 -31.0173634 -78.8800066 -30.98912327 -78.882365737150309 -30.989635932676503 -78.882504439999991 -30.98895186 -78.889317083503954 -30.990432181918216 -78.889530770000022 -30.98937778 -78.891752852813568 -30.989860489154527 -78.891883689999986 -30.98921489 -78.899628421871924 -30.990897116662392 -78.9001551 -30.98829685 -78.902371489060187 -30.988778129799261 -78.90250218 -30.98813288 -78.909141342406116 -30.989574421562239 -78.909719680000023 -30.98671762 -78.911930371781551 -30.987197501880228 -78.91206093 -30.98655257 -78.943699260000017 -30.99341636 -78.937989440000024 -31.02165911 -78.935778550730731 -31.021179788693974 -78.935648239999978 -31.02182416 -78.929005954826081 -31.020383985804244 -78.928427829999976 -31.02324132 -78.926211233460563 -31.02276060029919 -78.926080790000015 -31.02340529 -78.918332079103052 -31.0217246209393 -78.91780553000001 -31.02432554 -78.9155832393156 -31.023843392393292 -78.91545265000002 -31.02448843 -78.9086363989854 -31.023009444135333 -78.908422719999976 -31.02406438 -78.906063370071536 -31.023552312315246 -78.905924930000026 -31.02423579 -78.905924930000026 -31.02423579</td><td>mast:HST/product/jcis02010_drz.jpg</td><td>mast:HST/product/jcis02010_drz.fits</td><td>PUBLIC</td><td>True</td><td>nan</td><td>24839229</td><td>221297988</td></tr>\n",
       "<tr><td>science</td><td>HST</td><td>CALACS</td><td>ACS/WFC</td><td>HST</td><td>F606W</td><td>Optical</td><td>COMET-67P-CHURYUMOV-GERASIMENK</td><td>COMET; COMET-67P-CHURYUMOV-GERASIMENKO WHICH IS THE PRIMARY TARGET FOR ROSETTA SPACECRAFT</td><td>jcis01010</td><td>281.2558788729</td><td>-31.01619293249</td><td>image</td><td>Hines, Dean C.</td><td>3</td><td>56887.26573422454</td><td>56887.49156755787</td><td>7200.0</td><td>470.0</td><td>720.0</td><td>Imaging Polarimetry of the 67P/Churyumov-Gerasimenko with ACS: Supporting the Rosetta Mission</td><td>57252.60829852</td><td>13863</td><td>GO</td><td>--</td><td>POLYGON -78.756865950000019 -31.03386473 -78.72529176 -31.02670072 -78.731368569999972 -30.9985026 -78.733805750513454 -30.9990559361688 -78.733958120000011 -30.99834869 -78.740986132787157 -30.99994418656815 -78.741227330000015 -30.9988241 -78.743523208857965 -30.999345171906345 -78.743666940000026 -30.9986777 -78.751640936670128 -31.000487279621648 -78.752215089999993 -30.99781954 -78.754505385727953 -30.998339146989291 -78.75464896 -30.99767203 -78.761518775521665 -30.999230471627669 -78.762147550000009 -30.99630741 -78.764432262131379 -30.996825567137762 -78.764575690000015 -30.99615878 -78.796142359999976 -31.00331385 -78.79008367 -31.03151488 -78.787798738721818 -31.030997298944033 -78.787655570000027 -31.0316635 -78.780782261578381 -31.030106426334836 -78.780153620000021 -31.03303019 -78.777863106729612 -31.032511160972405 -78.777719789999992 -31.0331777 -78.769741953915457 -31.031369732821123 -78.76916795 -31.03403788 -78.766871853092809 -31.033517388181245 -78.766728380000018 -31.03418428 -78.759696670679176 -31.032590149820496 -78.759455460000027 -31.03371081 -78.757018048375642 -31.033158086745466 -78.756865950000019 -31.03386473 -78.756865950000019 -31.03386473</td><td>mast:HST/product/jcis01010_drz.jpg</td><td>mast:HST/product/jcis01010_drz.fits</td><td>PUBLIC</td><td>True</td><td>nan</td><td>24839228</td><td>221298099</td></tr>\n",
       "<tr><td>science</td><td>HST</td><td>CALACS</td><td>ACS/WFC</td><td>HST</td><td>F606W</td><td>Optical</td><td>COMET-67P-CHURYUMOV-GERASIMENK</td><td>COMET; COMET-67P-CHURYUMOV-GERASIMENKO WHICH IS THE PRIMARY TARGET FOR ROSETTA SPACECRAFT</td><td>jcis05020</td><td>290.5842080034</td><td>-27.96554445143</td><td>image</td><td>Hines, Dean C.</td><td>3</td><td>56978.454278206016</td><td>56978.60601420139</td><td>6280.0</td><td>470.0</td><td>720.0</td><td>Imaging Polarimetry of the 67P/Churyumov-Gerasimenko with ACS: Supporting the Rosetta Mission</td><td>57343.75185176</td><td>13863</td><td>GO</td><td>--</td><td>POLYGON -69.38324793999999 -27.97644 -69.38325337699672 -27.976084633770142 -69.37975694 -27.975807 -69.379771610697432 -27.974848106719922 -69.376938269999982 -27.97462306 -69.376959271556942 -27.973252682572433 -69.363480320000008 -27.97218126 -69.363499179187144 -27.970960544973902 -69.35957473000002 -27.97064824 -69.35958024246527 -27.970293021520565 -69.35608091 -27.97001454 -69.356525560000023 -27.94135352 -69.388067579999984 -27.94386099 -69.388062164224209 -27.944216860866497 -69.391561589999981 -27.94449469 -69.391543021733554 -27.945714773910108 -69.39546565 -27.94602599 -69.395444888234721 -27.947396421736535 -69.408921220000025 -27.94846475 -69.408906811818213 -27.9494236609726 -69.41173950000001 -27.94964805 -69.411734159831681 -27.950004069145866 -69.415230679999979 -27.95028105 -69.415223505589069 -27.950759354159036 -69.427996080000014 -27.95177004 -69.427990357442667 -27.952155441892863 -69.431772200000012 -27.95245457 -69.431346519999977 -27.98111569 -69.399792699999978 -27.97861726 -69.399798527580231 -27.97823255633358 -69.396016780000025 -27.97793273 -69.39602403128157 -27.97745404126006 -69.38324793999999 -27.97644 -69.38324793999999 -27.97644</td><td>mast:HST/product/jcis05020_drz.jpg</td><td>mast:HST/product/jcis05020_drz.fits</td><td>PUBLIC</td><td>True</td><td>nan</td><td>24839234</td><td>221298327</td></tr>\n",
       "<tr><td>science</td><td>HLA</td><td>HLA</td><td>ACS/WFC</td><td>HLA</td><td>F606WPOL60V</td><td>--</td><td>COMET-67P-CHURYUMOV-GERASIMENK</td><td>--</td><td>hst_13863_02_acs_wfc_f606wpol60v_01</td><td>281.0773208868312</td><td>-31.004271747618215</td><td>image</td><td>Hines</td><td>2</td><td>56888.4569</td><td>56888.47081</td><td>1200.0</td><td>nan</td><td>nan</td><td>--</td><td>57253.60605318</td><td>13863</td><td>HLA</td><td>--</td><td>POLYGON J2000 281.09028330 -30.98671890 281.05864670 -30.99358300 281.06435370 -31.02182330 281.09599930 -31.01495790 281.09028330 -30.98671890</td><td>https://hla.stsci.edu/cgi-bin/preview.cgi?dataset=hst_13863_02_acs_wfc_f606wpol60v_01</td><td>--</td><td>PUBLIC</td><td>--</td><td>nan</td><td>25981092</td><td>67948359</td></tr>\n",
       "<tr><td>science</td><td>HLA</td><td>HLA</td><td>ACS/WFC</td><td>HLA</td><td>F606WPOL60V</td><td>--</td><td>COMET-67P-CHURYUMOV-GERASIMENK</td><td>--</td><td>hst_13863_02_acs_wfc_f606wpol60v_02</td><td>281.1045408863173</td><td>-31.00650879708346</td><td>image</td><td>Hines</td><td>2</td><td>56888.27707</td><td>56888.29098</td><td>1200.0</td><td>nan</td><td>nan</td><td>--</td><td>57253.60605318</td><td>13863</td><td>HLA</td><td>--</td><td>POLYGON J2000 281.09157930 -31.02406260 281.12322230 -31.01719020 281.11749770 -30.98895370 281.08586370 -30.99582470 281.09157930 -31.02406260</td><td>https://hla.stsci.edu/cgi-bin/preview.cgi?dataset=hst_13863_02_acs_wfc_f606wpol60v_02</td><td>--</td><td>PUBLIC</td><td>--</td><td>nan</td><td>25981093</td><td>67948360</td></tr>\n",
       "<tr><td>...</td><td>...</td><td>...</td><td>...</td><td>...</td><td>...</td><td>...</td><td>...</td><td>...</td><td>...</td><td>...</td><td>...</td><td>...</td><td>...</td><td>...</td><td>...</td><td>...</td><td>...</td><td>...</td><td>...</td><td>...</td><td>...</td><td>...</td><td>...</td><td>...</td><td>...</td><td>...</td><td>...</td><td>...</td><td>...</td><td>...</td><td>...</td><td>...</td></tr>\n",
       "<tr><td>science</td><td>HLA</td><td>HLA</td><td>ACS/WFC</td><td>HLA</td><td>F775W</td><td>OPTICAL</td><td>COMET-67P-CHURYUMOV-GERASIMENK</td><td>--</td><td>hst_13863_05_acs_wfc_f775w_02</td><td>290.58229756426226</td><td>-27.965992462729282</td><td>image</td><td>Hines</td><td>2</td><td>56978.449</td><td>56978.45075</td><td>150.0</td><td>690000000000.0</td><td>860000000000.0</td><td>--</td><td>57343.70451382</td><td>13863</td><td>HLA</td><td>--</td><td>POLYGON J2000 290.56684580 -27.98145780 290.59817000 -27.97896760 290.59774490 -27.95052540 290.56642890 -27.95301540 290.56684580 -27.98145780</td><td>https://hla.stsci.edu/cgi-bin/preview.cgi?dataset=hst_13863_05_acs_wfc_f775w_02</td><td>--</td><td>PUBLIC</td><td>--</td><td>nan</td><td>25981127</td><td>67948394</td></tr>\n",
       "<tr><td>science</td><td>HLA</td><td>HLA</td><td>ACS/WFC</td><td>HLA</td><td>F606WPOL120V</td><td>--</td><td>COMET-67P-CHURYUMOV-GERASIMENK</td><td>--</td><td>hst_13863_06_acs_wfc_f606wpol120v_01</td><td>290.9351417933782</td><td>-27.90260100826863</td><td>image</td><td>Hines</td><td>2</td><td>56979.58024</td><td>56979.58934</td><td>785.0</td><td>nan</td><td>nan</td><td>--</td><td>57344.94447902</td><td>13863</td><td>HLA</td><td>--</td><td>POLYGON J2000 290.94963450 -27.88622720 290.91830870 -27.89036570 290.92064470 -27.91897330 290.95197860 -27.91483430 290.94963450 -27.88622720</td><td>https://hla.stsci.edu/cgi-bin/preview.cgi?dataset=hst_13863_06_acs_wfc_f606wpol120v_01</td><td>--</td><td>PUBLIC</td><td>--</td><td>nan</td><td>25981128</td><td>67948395</td></tr>\n",
       "<tr><td>science</td><td>HLA</td><td>HLA</td><td>ACS/WFC</td><td>HLA</td><td>F606WPOL120V</td><td>--</td><td>COMET-67P-CHURYUMOV-GERASIMENK</td><td>--</td><td>hst_13863_06_acs_wfc_f606wpol120v_02</td><td>290.9515617429132</td><td>-27.8989740579249</td><td>image</td><td>Hines</td><td>2</td><td>56979.63531</td><td>56979.64441</td><td>785.0</td><td>nan</td><td>nan</td><td>--</td><td>57344.94447902</td><td>13863</td><td>HLA</td><td>--</td><td>POLYGON J2000 290.96840030 -27.91120560 290.96605180 -27.88259820 290.93472710 -27.88674040 290.93706730 -27.91534840 290.96840030 -27.91120560</td><td>https://hla.stsci.edu/cgi-bin/preview.cgi?dataset=hst_13863_06_acs_wfc_f606wpol120v_02</td><td>--</td><td>PUBLIC</td><td>--</td><td>nan</td><td>25981129</td><td>67948396</td></tr>\n",
       "<tr><td>science</td><td>HLA</td><td>HLA</td><td>ACS/WFC</td><td>HLA</td><td>F606WPOL120V</td><td>--</td><td>COMET-67P-CHURYUMOV-GERASIMENK</td><td>--</td><td>hst_13863_06_acs_wfc_f606wpol120v_03</td><td>290.91479174383323</td><td>-27.905457008616406</td><td>image</td><td>Hines</td><td>2</td><td>56979.51551</td><td>56979.52461</td><td>785.0</td><td>nan</td><td>nan</td><td>--</td><td>57344.94447902</td><td>13863</td><td>HLA</td><td>--</td><td>POLYGON J2000 290.93162710 -27.91769230 290.92928730 -27.88908500 290.89796020 -27.89321970 290.90029180 -27.92182750 290.93162710 -27.91769230</td><td>https://hla.stsci.edu/cgi-bin/preview.cgi?dataset=hst_13863_06_acs_wfc_f606wpol120v_03</td><td>--</td><td>PUBLIC</td><td>--</td><td>nan</td><td>25981130</td><td>67948397</td></tr>\n",
       "<tr><td>science</td><td>HLA</td><td>HLA</td><td>ACS/WFC</td><td>HLA</td><td>F606WPOL120V</td><td>--</td><td>COMET-67P-CHURYUMOV-GERASIMENK</td><td>--</td><td>hst_13863_06_acs_wfc_f606wpol120v_04</td><td>290.958971742416</td><td>-27.896776007673772</td><td>image</td><td>Hines</td><td>2</td><td>56979.65826</td><td>56979.66736</td><td>785.0</td><td>nan</td><td>nan</td><td>--</td><td>57344.94447902</td><td>13863</td><td>HLA</td><td>--</td><td>POLYGON J2000 290.97581000 -27.90900620 290.97345980 -27.88040010 290.94213730 -27.88454380 290.94447930 -27.91315040 290.97581000 -27.90900620</td><td>https://hla.stsci.edu/cgi-bin/preview.cgi?dataset=hst_13863_06_acs_wfc_f606wpol120v_04</td><td>--</td><td>PUBLIC</td><td>--</td><td>nan</td><td>25981131</td><td>67948398</td></tr>\n",
       "<tr><td>science</td><td>HLA</td><td>HLA</td><td>ACS/WFC</td><td>HLA</td><td>F606WPOL120V</td><td>--</td><td>COMET-67P-CHURYUMOV-GERASIMENK</td><td>--</td><td>hst_13863_06_acs_wfc_f606wpol120v_05</td><td>290.931611793544</td><td>-27.90324405831802</td><td>image</td><td>Hines</td><td>2</td><td>56979.56897</td><td>56979.57808</td><td>785.0</td><td>nan</td><td>nan</td><td>--</td><td>57344.94447902</td><td>13863</td><td>HLA</td><td>--</td><td>POLYGON J2000 290.94610490 -27.88686990 290.91477830 -27.89100840 290.91711430 -27.91961670 290.94844910 -27.91547760 290.94610490 -27.88686990</td><td>https://hla.stsci.edu/cgi-bin/preview.cgi?dataset=hst_13863_06_acs_wfc_f606wpol120v_05</td><td>--</td><td>PUBLIC</td><td>--</td><td>nan</td><td>25981132</td><td>67948399</td></tr>\n",
       "<tr><td>science</td><td>HLA</td><td>HLA</td><td>ACS/WFC</td><td>HLA</td><td>F606WPOL120V</td><td>--</td><td>COMET-67P-CHURYUMOV-GERASIMENK</td><td>--</td><td>hst_13863_06_acs_wfc_f606wpol120v_06</td><td>290.91860179367495</td><td>-27.904765008568035</td><td>image</td><td>Hines</td><td>2</td><td>56979.52677</td><td>56979.53587</td><td>785.0</td><td>nan</td><td>nan</td><td>--</td><td>57344.94447902</td><td>13863</td><td>HLA</td><td>--</td><td>POLYGON J2000 290.90177060 -27.89252790 290.90410220 -27.92113520 290.93543670 -27.91700010 290.93309700 -27.88839330 290.90177060 -27.89252790</td><td>https://hla.stsci.edu/cgi-bin/preview.cgi?dataset=hst_13863_06_acs_wfc_f606wpol120v_06</td><td>--</td><td>PUBLIC</td><td>--</td><td>nan</td><td>25981133</td><td>67948400</td></tr>\n",
       "<tr><td>science</td><td>HLA</td><td>HLA</td><td>ACS/WFC</td><td>HLA</td><td>F606WPOL120V</td><td>--</td><td>COMET-67P-CHURYUMOV-GERASIMENK</td><td>--</td><td>hst_13863_06_acs_wfc_f606wpol120v_07</td><td>290.95544179257433</td><td>-27.897420057724133</td><td>image</td><td>Hines</td><td>2</td><td>56979.647</td><td>56979.6561</td><td>785.0</td><td>nan</td><td>nan</td><td>--</td><td>57344.94447902</td><td>13863</td><td>HLA</td><td>--</td><td>POLYGON J2000 290.93860690 -27.88518760 290.94094900 -27.91379480 290.97228050 -27.90965040 290.96993020 -27.88104380 290.93860690 -27.88518760</td><td>https://hla.stsci.edu/cgi-bin/preview.cgi?dataset=hst_13863_06_acs_wfc_f606wpol120v_07</td><td>--</td><td>PUBLIC</td><td>--</td><td>nan</td><td>25981134</td><td>67948401</td></tr>\n",
       "<tr><td>science</td><td>HLA</td><td>HLA</td><td>ACS/WFC</td><td>HLA</td><td>F606WPOL120V</td><td>--</td><td>COMET-67P-CHURYUMOV-GERASIMENK</td><td>--</td><td>hst_13863_06_acs_wfc_f606wpol120v_08</td><td>290.9379617431372</td><td>-27.901450058158304</td><td>image</td><td>Hines</td><td>2</td><td>56979.59193</td><td>56979.60103</td><td>785.0</td><td>nan</td><td>nan</td><td>--</td><td>57344.94447902</td><td>13863</td><td>HLA</td><td>--</td><td>POLYGON J2000 290.95245360 -27.88507630 290.92112890 -27.88921530 290.92346550 -27.91782230 290.95479840 -27.91368270 290.95245360 -27.88507630</td><td>https://hla.stsci.edu/cgi-bin/preview.cgi?dataset=hst_13863_06_acs_wfc_f606wpol120v_08</td><td>--</td><td>PUBLIC</td><td>--</td><td>nan</td><td>25981135</td><td>67948402</td></tr>\n",
       "<tr><td>science</td><td>HLA</td><td>HLA</td><td>ACS/WFC</td><td>HLA</td><td>F775W</td><td>OPTICAL</td><td>COMET-67P-CHURYUMOV-GERASIMENK</td><td>--</td><td>hst_13863_06_acs_wfc_f775w_01</td><td>290.9128770096229</td><td>-27.905945046863923</td><td>image</td><td>Hines</td><td>2</td><td>56979.51028</td><td>56979.51203</td><td>150.0</td><td>690000000000.0</td><td>860000000000.0</td><td>--</td><td>57344.94012718</td><td>13863</td><td>HLA</td><td>--</td><td>POLYGON J2000 290.89618110 -27.89381480 290.89848990 -27.92218630 290.92957680 -27.91807330 290.92725980 -27.88970230 290.89618110 -27.89381480</td><td>https://hla.stsci.edu/cgi-bin/preview.cgi?dataset=hst_13863_06_acs_wfc_f775w_01</td><td>--</td><td>PUBLIC</td><td>--</td><td>nan</td><td>25981136</td><td>67948403</td></tr>\n",
       "<tr><td>science</td><td>HLA</td><td>HLA</td><td>ACS/WFC</td><td>HLA</td><td>F775W</td><td>OPTICAL</td><td>COMET-67P-CHURYUMOV-GERASIMENK</td><td>--</td><td>hst_13863_06_acs_wfc_f775w_02</td><td>290.9112370596945</td><td>-27.906209096905478</td><td>image</td><td>Hines</td><td>2</td><td>56979.50594</td><td>56979.50769</td><td>150.0</td><td>690000000000.0</td><td>860000000000.0</td><td>--</td><td>57344.94012718</td><td>13863</td><td>HLA</td><td>--</td><td>POLYGON J2000 290.89684960 -27.92245030 290.92793670 -27.91833760 290.92562020 -27.88996640 290.89454110 -27.89407850 290.89684960 -27.92245030</td><td>https://hla.stsci.edu/cgi-bin/preview.cgi?dataset=hst_13863_06_acs_wfc_f775w_02</td><td>--</td><td>PUBLIC</td><td>--</td><td>nan</td><td>25981137</td><td>67948404</td></tr>\n",
       "</table></div>"
      ],
      "text/plain": [
       "<Table masked=True length=55>\n",
       "intentType obs_collection provenance_name ...  srcDen  obsid     objID  \n",
       "   str7         str3            str6      ... float64   str8      str9  \n",
       "---------- -------------- --------------- ... ------- -------- ---------\n",
       "   science            HST          CALACS ...     nan 24839235 220744505\n",
       "   science            HST          CALACS ...     nan 24839231 220744722\n",
       "   science            HST          CALACS ...     nan 24839233 220745079\n",
       "   science            HST          CALACS ...     nan 24839236 221276308\n",
       "   science            HST          CALACS ...     nan 24839232 221276798\n",
       "   science            HST          CALACS ...     nan 24839230 221297742\n",
       "   science            HST          CALACS ...     nan 24839229 221297988\n",
       "   science            HST          CALACS ...     nan 24839228 221298099\n",
       "   science            HST          CALACS ...     nan 24839234 221298327\n",
       "   science            HLA             HLA ...     nan 25981092  67948359\n",
       "   science            HLA             HLA ...     nan 25981093  67948360\n",
       "       ...            ...             ... ...     ...      ...       ...\n",
       "   science            HLA             HLA ...     nan 25981127  67948394\n",
       "   science            HLA             HLA ...     nan 25981128  67948395\n",
       "   science            HLA             HLA ...     nan 25981129  67948396\n",
       "   science            HLA             HLA ...     nan 25981130  67948397\n",
       "   science            HLA             HLA ...     nan 25981131  67948398\n",
       "   science            HLA             HLA ...     nan 25981132  67948399\n",
       "   science            HLA             HLA ...     nan 25981133  67948400\n",
       "   science            HLA             HLA ...     nan 25981134  67948401\n",
       "   science            HLA             HLA ...     nan 25981135  67948402\n",
       "   science            HLA             HLA ...     nan 25981136  67948403\n",
       "   science            HLA             HLA ...     nan 25981137  67948404"
      ]
     },
     "execution_count": 182,
     "metadata": {},
     "output_type": "execute_result"
    }
   ],
   "source": [
    "observations = Observations.query_criteria(target_name='*COM*67P*',\n",
    "                                           dataproduct_type='image',\n",
    "                                           t_min=[min_start_mjd, max_start_mjd])\n",
    "observations"
   ]
  },
  {
   "cell_type": "code",
   "execution_count": 188,
   "id": "6c4b29fe",
   "metadata": {},
   "outputs": [],
   "source": [
    "import astropy.units as u\n",
    "o = Observations.query_criteria(instrument_name=\"ACS/WFC\", coordinates='280.9234007501509 -31.01619293249', radius=1.0*u.deg)"
   ]
  },
  {
   "cell_type": "code",
   "execution_count": 189,
   "id": "772fbdb5",
   "metadata": {},
   "outputs": [
    {
     "data": {
      "text/plain": [
       "{'BIAS', 'COMET-67P-CHURYUMOV-GERASIMENK', 'DARK'}"
      ]
     },
     "execution_count": 189,
     "metadata": {},
     "output_type": "execute_result"
    }
   ],
   "source": [
    "set(o['target_name'])"
   ]
  },
  {
   "cell_type": "code",
   "execution_count": 184,
   "id": "c2ea1427",
   "metadata": {},
   "outputs": [
    {
     "data": {
      "text/plain": [
       "({280.9234007501509,\n",
       "  280.9256508003316,\n",
       "  280.9325907501443,\n",
       "  280.9348408003252,\n",
       "  280.94283075005023,\n",
       "  280.94509075023745,\n",
       "  280.95182074981915,\n",
       "  280.9542165962,\n",
       "  280.9542207499916,\n",
       "  281.0749808366519,\n",
       "  281.0773208868312,\n",
       "  281.0845408866453,\n",
       "  281.0868808868347,\n",
       "  281.0951608865579,\n",
       "  281.0975108367455,\n",
       "  281.1045408863173,\n",
       "  281.1070302812,\n",
       "  281.1070408364967,\n",
       "  281.2558788729,\n",
       "  290.2735685756,\n",
       "  290.27357746214466,\n",
       "  290.2751774620947,\n",
       "  290.2770693515,\n",
       "  290.2770720459829,\n",
       "  290.28081209582683,\n",
       "  290.2938020457327,\n",
       "  290.2972520455628,\n",
       "  290.3000220953313,\n",
       "  290.3133420951515,\n",
       "  290.317202094845,\n",
       "  290.3206520946842,\n",
       "  290.5806735758,\n",
       "  290.58067756432786,\n",
       "  290.58229756426226,\n",
       "  290.5842080034,\n",
       "  290.58421214616294,\n",
       "  290.5879921960003,\n",
       "  290.6007621459412,\n",
       "  290.6042521457815,\n",
       "  290.60707214553975,\n",
       "  290.62052219537316,\n",
       "  290.6244321950754,\n",
       "  290.62792219490746,\n",
       "  290.9112348543,\n",
       "  290.9112370596945,\n",
       "  290.9128770096229,\n",
       "  290.9147892768,\n",
       "  290.91479174383323,\n",
       "  290.91860179367495,\n",
       "  290.931611793544,\n",
       "  290.9351417933782,\n",
       "  290.9379617431372,\n",
       "  290.9515617429132,\n",
       "  290.95544179257433,\n",
       "  290.958971742416},\n",
       " {-31.01619293249,\n",
       "  -31.006933797314236,\n",
       "  -31.006770747268593,\n",
       "  -31.0066887554,\n",
       "  -31.006679797131913,\n",
       "  -31.00650879708346,\n",
       "  -31.005851797486205,\n",
       "  -31.005687797434355,\n",
       "  -31.004271747618215,\n",
       "  -31.004106747569107,\n",
       "  -30.995604914482804,\n",
       "  -30.99542663878,\n",
       "  -30.995424914431382,\n",
       "  -30.995417914305882,\n",
       "  -30.99522891426489,\n",
       "  -30.994464914639284,\n",
       "  -30.994283914594472,\n",
       "  -30.992812914766773,\n",
       "  -30.99263091472144,\n",
       "  -28.02183037337,\n",
       "  -28.021822337884565,\n",
       "  -28.021566337845524,\n",
       "  -28.02111499969,\n",
       "  -28.02110770058012,\n",
       "  -28.020432700528893,\n",
       "  -28.01891575026861,\n",
       "  -28.018291700212338,\n",
       "  -28.017127700095163,\n",
       "  -28.014720699857893,\n",
       "  -28.01319469965044,\n",
       "  -28.012569699591925,\n",
       "  -27.96626079113,\n",
       "  -27.966253462770922,\n",
       "  -27.965992462729282,\n",
       "  -27.96554445143,\n",
       "  -27.965536625124344,\n",
       "  -27.964852625069675,\n",
       "  -27.963361624819484,\n",
       "  -27.962728624761194,\n",
       "  -27.961544624635945,\n",
       "  -27.959104624398297,\n",
       "  -27.95757257418894,\n",
       "  -27.956938624129513,\n",
       "  -27.90621726673,\n",
       "  -27.906209096905478,\n",
       "  -27.905945046863923,\n",
       "  -27.90546497065,\n",
       "  -27.905457008616406,\n",
       "  -27.904765008568035,\n",
       "  -27.90324405831802,\n",
       "  -27.90260100826863,\n",
       "  -27.901450058158304,\n",
       "  -27.8989740579249,\n",
       "  -27.897420057724133,\n",
       "  -27.896776007673772})"
      ]
     },
     "execution_count": 184,
     "metadata": {},
     "output_type": "execute_result"
    }
   ],
   "source": [
    "set(observations['s_ra']), set(observations['s_dec'])"
   ]
  },
  {
   "cell_type": "markdown",
   "id": "3981a110",
   "metadata": {},
   "source": [
    "## Resources"
   ]
  },
  {
   "cell_type": "code",
   "execution_count": null,
   "id": "b3fcfe27",
   "metadata": {},
   "outputs": [],
   "source": []
  },
  {
   "cell_type": "markdown",
   "id": "6722dd31",
   "metadata": {},
   "source": [
    "## Citations"
   ]
  },
  {
   "cell_type": "code",
   "execution_count": null,
   "id": "7ffc9b16",
   "metadata": {},
   "outputs": [],
   "source": []
  },
  {
   "cell_type": "markdown",
   "id": "ebf3cfa1",
   "metadata": {},
   "source": [
    "## About This Notebook"
   ]
  },
  {
   "cell_type": "markdown",
   "id": "52a4fbb9",
   "metadata": {},
   "source": [
    "If you have comments or questions on this notebook, please contact us through the Archive Help Desk e-mail at archive@stsci.edu. <br>\n",
    "<br>\n",
    "Author(s): Jenny V. Medina <br>\n",
    "Keyword(s): Tutorial, astroquery, wildcards, moving, target <br>\n",
    "Last Updated: Jun 2023"
   ]
  }
 ],
 "metadata": {
  "kernelspec": {
   "display_name": "Python 3 (ipykernel)",
   "language": "python",
   "name": "python3"
  },
  "language_info": {
   "codemirror_mode": {
    "name": "ipython",
    "version": 3
   },
   "file_extension": ".py",
   "mimetype": "text/x-python",
   "name": "python",
   "nbconvert_exporter": "python",
   "pygments_lexer": "ipython3",
   "version": "3.9.7"
  }
 },
 "nbformat": 4,
 "nbformat_minor": 5
}
