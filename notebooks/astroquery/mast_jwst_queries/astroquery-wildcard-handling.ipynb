{
 "cells": [
  {
   "cell_type": "markdown",
   "id": "ba875f5a",
   "metadata": {},
   "source": [
    "# Wildcard Handling with Astroquery.mast"
   ]
  },
  {
   "cell_type": "markdown",
   "id": "82aa07ce",
   "metadata": {},
   "source": [
    "----"
   ]
  },
  {
   "cell_type": "markdown",
   "id": "f663f21e",
   "metadata": {},
   "source": [
    "## Learning Goals"
   ]
  },
  {
   "cell_type": "markdown",
   "id": "683067ea",
   "metadata": {},
   "source": [
    "By the end of this tutorial, you will:\n",
    "\n",
    "* Learn about the wildcards available for `astroquery.mast.Observations` criteria queries\n",
    "* Learn how to use these wildcards to broaden or refine `astroquery.mast.Observations` criteria queries\n",
    "* Learn the downfalls of the `instrument_name` criteria, particularly for JWST queries\n",
    "* Learn how to query for moving targets using target ephemeris and time criteria such as `t_min` and `t_max` for more advanced searches"
   ]
  },
  {
   "cell_type": "markdown",
   "id": "299dbd42",
   "metadata": {},
   "source": [
    "## Introduction"
   ]
  },
  {
   "cell_type": "markdown",
   "id": "e3f8b9c2",
   "metadata": {},
   "source": [
    "This notebook will demonstrate the use of wildcards in `astroquery.mast.Observations` criteria queries. The use of wildcards is encouraged for certain criteria types (`string` object types) to ensure that your query results capture what is truly available on MAST. We will use 3 examples to demonstrate some use-cases for wildcards when doing criteria queries, and to emphasize on certain criteria where wildcard usage is highly encouraged, particularly for JWST queries. We will also use the last example to demonstrate the use of value ranges when working with `float` object criteria types.\n",
    "\n",
    "The workflow for this notebook consists of:\n",
    "\n",
    "* Wildcards with `astroquery.mast.Observations`\n",
    "    * Wildcard Search with `instrument_name`\n",
    "    * Wildcard Search with `instrument_name` and `proposal_id`\n",
    "    * Wildcard Search a Time-sensitive Object with `target_name` and `t_min`\n",
    "    * Resources"
   ]
  },
  {
   "cell_type": "markdown",
   "id": "081aec44",
   "metadata": {},
   "source": [
    "## Imports"
   ]
  },
  {
   "cell_type": "code",
   "execution_count": 1,
   "id": "e3b0d9a0",
   "metadata": {},
   "outputs": [],
   "source": [
    "import astropy.units as u\n",
    "import matplotlib.pyplot as plt\n",
    "\n",
    "from astropy.coordinates import SkyCoord\n",
    "from astropy.table import Table, unique, vstack\n",
    "from astropy.time import Time\n",
    "from astroquery.mast import Observations"
   ]
  },
  {
   "cell_type": "markdown",
   "id": "6fa247ec",
   "metadata": {},
   "source": [
    "----"
   ]
  },
  {
   "cell_type": "markdown",
   "id": "9485fb4d",
   "metadata": {},
   "source": [
    "## Wildcards with `astroquery.mast.Observations`"
   ]
  },
  {
   "cell_type": "markdown",
   "id": "01935242",
   "metadata": {},
   "source": [
    "The use of wildcards when making `astroquery.mast.Observations` queries can help ensure you retrieve all observations without leaving anything out. The available wildcards are `%` and `*` with `%` serving to replace a single character, and `*` serving to replace more than one character preceding, following, or in between the existing characters, depending on its placement. See the [Observation Criteria Queries](https://astroquery.readthedocs.io/en/latest/mast/mast.html#observation-criteria-queries) section in the `astroquery.mast` documentation for more information on the wildcards.\n",
    "\n",
    "With that being said, wildcards are only available for certain criteria. Those criteria that are `string` type objects are criteria that accept wildcards, but `float`, `integer`, or any other objects do not accept wildcards.\n",
    "\n",
    "Users may call the `get_metadata` method to see the list of criteria that can be queried with. The criteria listed as `string` objects under the **Data Type** column are criteria that can be called with wildcards:"
   ]
  },
  {
   "cell_type": "code",
   "execution_count": 2,
   "id": "a892c185",
   "metadata": {
    "scrolled": true
   },
   "outputs": [
    {
     "data": {
      "text/html": [
       "<i>Table length=34</i>\n",
       "<table id=\"table4379763568-152943\" class=\"table-striped table-bordered table-condensed\">\n",
       "<thead><tr><th>idx</th><th>Column Name</th><th>Column Label</th><th>Data Type</th><th>Units</th><th>Description</th><th>Examples/Valid Values</th></tr></thead>\n",
       "<tr><td>0</td><td>intentType</td><td>Observation Type</td><td>string</td><td></td><td>Whether observation is for science or calibration.</td><td>Valid values: science, calibration</td></tr>\n",
       "<tr><td>1</td><td>obs_collection</td><td>Mission</td><td>string</td><td></td><td>Collection</td><td>E.g. SWIFT, PS1, HST, IUE</td></tr>\n",
       "<tr><td>2</td><td>provenance_name</td><td>Provenance Name</td><td>string</td><td></td><td>Provenance name, or source of data</td><td>E.g. TASOC, CALSTIS, PS1</td></tr>\n",
       "<tr><td>3</td><td>instrument_name</td><td>Instrument</td><td>string</td><td></td><td>Instrument Name</td><td>E.g. WFPC2/WFC, UVOT, STIS/CCD</td></tr>\n",
       "<tr><td>4</td><td>project</td><td>Project</td><td>string</td><td></td><td>Processing project</td><td>E.g. HST, HLA, EUVE, hlsp_legus</td></tr>\n",
       "<tr><td>5</td><td>filters</td><td>Filters</td><td>string</td><td></td><td>Instrument filters</td><td>F469N, NUV, FUV, LOW DISP, MIRROR</td></tr>\n",
       "<tr><td>6</td><td>wavelength_region</td><td>Waveband</td><td>string</td><td></td><td>Energy Band</td><td>EUV, XRAY, OPTICAL</td></tr>\n",
       "<tr><td>7</td><td>target_name</td><td>Target Name</td><td>string</td><td></td><td>Target Name</td><td>Ex. COMET-67P-CHURYUMOV-GER-UPDATE</td></tr>\n",
       "<tr><td>8</td><td>target_classification</td><td>Target Classification</td><td>string</td><td></td><td>Type of target</td><td>Ex. COMET;COMET BEING ORBITED BY THE ROSETTA SPACECRAFT;SOLAR SYSTEM</td></tr>\n",
       "<tr><td>9</td><td>obs_id</td><td>Observation ID</td><td>string</td><td></td><td>Observation identifier, given by mission</td><td>U24Z0101T, N4QF18030</td></tr>\n",
       "<tr><td>10</td><td>s_ra</td><td>RA</td><td>float</td><td>deg</td><td>Observation Right Ascension</td><td>May be displayed in the Portal as hh:mm:ss.sss, but should be searched as decimal</td></tr>\n",
       "<tr><td>11</td><td>s_dec</td><td>Dec</td><td>float</td><td>deg</td><td>Observation Declination</td><td>May be displayed in the Portal as hh:mm:ss.sss, but should be searched as decimal</td></tr>\n",
       "<tr><td>12</td><td>proposal_id</td><td>Proposal ID</td><td>string</td><td></td><td>Proposal ID</td><td>E.g. EGCJC, 11360, 9401</td></tr>\n",
       "<tr><td>13</td><td>proposal_pi</td><td>Principal Investigator</td><td>string</td><td></td><td>Principal investigator&apos;s last name</td><td>Chander, Chu, Malkin</td></tr>\n",
       "<tr><td>14</td><td>obs_title</td><td>Observation Title</td><td>string</td><td></td><td>Observation description from proposal</td><td>Age-dating Star Clusters in M101</td></tr>\n",
       "<tr><td>15</td><td>dataproduct_type</td><td>Product Type</td><td>string</td><td></td><td>Type of product</td><td>Valid values: IMAGE, SPECTRUM, SED, TIMESERIES, VISIBILITY, EVENTLIST, CUBE, CATALOG, ENGINEERING, NULL</td></tr>\n",
       "<tr><td>16</td><td>calib_level</td><td>Calibration Level</td><td>integer</td><td></td><td>Calibration level</td><td>0 = raw, 1 = uncalibrated, 2 = calibrated, 3 = science product, 4 = contributed science product</td></tr>\n",
       "<tr><td>17</td><td>t_min</td><td>Start Time</td><td>float</td><td>MJD</td><td>Observation start datetime</td><td>May be displayed in the Portal as YYY-MM-DD HH:MM, but should be searched as MJD</td></tr>\n",
       "<tr><td>18</td><td>t_max</td><td>End Time</td><td>float</td><td>MJD</td><td>Observation end datetime</td><td>May be displayed in the Portal as YYY-MM-DD HH:MM, but should be searched as MJD</td></tr>\n",
       "<tr><td>19</td><td>t_obs_release</td><td>Release Date</td><td>float</td><td>MJD</td><td>Dataset release date</td><td>May be displayed in the Portal as YYY-MM-DD HH:MM, but should be searched as MJD</td></tr>\n",
       "<tr><td>20</td><td>t_exptime</td><td>Exposure Length</td><td>float</td><td>sec</td><td>Exposure time</td><td></td></tr>\n",
       "<tr><td>21</td><td>em_min</td><td>Min. Wavelength</td><td>float</td><td>nm</td><td>Minimum Wavelength</td><td></td></tr>\n",
       "<tr><td>22</td><td>em_max</td><td>Max. Wavelength</td><td>float</td><td>nm</td><td>Maximum Wavelength</td><td></td></tr>\n",
       "<tr><td>23</td><td>objID</td><td>Object ID</td><td>integer</td><td></td><td>Plane ID of observation at given calibration level</td><td>Long integer, e.g. 2012969445</td></tr>\n",
       "<tr><td>24</td><td>s_region</td><td>s_region</td><td>string</td><td>ICRS Shape</td><td>STC/S Footprint</td><td>Will be ICRS circle or polygon. E.g. CIRCLE ICRS 17.71740689 -58.40043015 0.625</td></tr>\n",
       "<tr><td>25</td><td>jpegURL</td><td>jpegURL</td><td>string</td><td></td><td>Preview Image URL</td><td>https://archive.stsci.edu/hst/previews/N4QF/N4QF18090.jpg</td></tr>\n",
       "<tr><td>26</td><td>distance</td><td>Distance (&quot;)</td><td>float</td><td>arcsec</td><td>Angular separation between searched coordinates and center of obsevation</td><td></td></tr>\n",
       "<tr><td>27</td><td>obsid</td><td>Product Group ID</td><td>integer</td><td></td><td>Database identifier for obs_id</td><td>Long integer, e.g. 2007590987</td></tr>\n",
       "<tr><td>28</td><td>dataRights</td><td>Data Rights</td><td>string</td><td></td><td>Data Rights</td><td>valid values: public,exclusive_access,restricted</td></tr>\n",
       "<tr><td>29</td><td>mtFlag</td><td>Moving Target</td><td>boolean</td><td></td><td>Moving Target Flag</td><td>If True, observation contains a moving target, if False or absent observation may or may not contain a moving target</td></tr>\n",
       "<tr><td>30</td><td>srcDen</td><td>Number of Catalog Objects</td><td>float</td><td></td><td>Number of cataloged objects found in observation</td><td></td></tr>\n",
       "<tr><td>31</td><td>dataURL</td><td>Data URL</td><td>string</td><td></td><td>Data URL</td><td></td></tr>\n",
       "<tr><td>32</td><td>proposal_type</td><td>Proposal Type</td><td>string</td><td></td><td>Type of telescope proposal</td><td>Eg. 3PI, GO, GO/DD, HLA, GII, AIS</td></tr>\n",
       "<tr><td>33</td><td>sequence_number</td><td>Sequence Number</td><td>integer</td><td></td><td>Sequence number, e.g. Kepler quarter or TESS sector</td><td></td></tr>\n",
       "</table><style>table.dataTable {clear: both; width: auto !important; margin: 0 !important;}\n",
       ".dataTables_info, .dataTables_length, .dataTables_filter, .dataTables_paginate{\n",
       "display: inline-block; margin-right: 1em; }\n",
       ".paginate_button { margin-right: 5px; }\n",
       "</style>\n",
       "<script>\n",
       "\n",
       "var astropy_sort_num = function(a, b) {\n",
       "    var a_num = parseFloat(a);\n",
       "    var b_num = parseFloat(b);\n",
       "\n",
       "    if (isNaN(a_num) && isNaN(b_num))\n",
       "        return ((a < b) ? -1 : ((a > b) ? 1 : 0));\n",
       "    else if (!isNaN(a_num) && !isNaN(b_num))\n",
       "        return ((a_num < b_num) ? -1 : ((a_num > b_num) ? 1 : 0));\n",
       "    else\n",
       "        return isNaN(a_num) ? -1 : 1;\n",
       "}\n",
       "\n",
       "require.config({paths: {\n",
       "    datatables: 'https://cdn.datatables.net/1.10.12/js/jquery.dataTables.min'\n",
       "}});\n",
       "require([\"datatables\"], function(){\n",
       "    console.log(\"$('#table4379763568-152943').dataTable()\");\n",
       "    \n",
       "jQuery.extend( jQuery.fn.dataTableExt.oSort, {\n",
       "    \"optionalnum-asc\": astropy_sort_num,\n",
       "    \"optionalnum-desc\": function (a,b) { return -astropy_sort_num(a, b); }\n",
       "});\n",
       "\n",
       "    $('#table4379763568-152943').dataTable({\n",
       "        order: [],\n",
       "        pageLength: 50,\n",
       "        lengthMenu: [[10, 25, 50, 100, 500, 1000, -1], [10, 25, 50, 100, 500, 1000, 'All']],\n",
       "        pagingType: \"full_numbers\",\n",
       "        columnDefs: [{targets: [0], type: \"optionalnum\"}]\n",
       "    });\n",
       "});\n",
       "</script>\n"
      ],
      "text/plain": [
       "<IPython.core.display.HTML object>"
      ]
     },
     "execution_count": 2,
     "metadata": {},
     "output_type": "execute_result"
    }
   ],
   "source": [
    "Observations.get_metadata(\"observations\").show_in_notebook()"
   ]
  },
  {
   "cell_type": "markdown",
   "id": "74d0a968",
   "metadata": {},
   "source": [
    "### Wildcard Search with `instrument_name`"
   ]
  },
  {
   "cell_type": "markdown",
   "id": "6b80645c",
   "metadata": {},
   "source": [
    "For our first example we will search for all NIRISS observations taken by a certain proposal/program PI. For this case, our two criteria we query with are `proposal_pi` and `instrument_name`, which are both `string` object criteria. As such, both can be wildcarded for ease of use. In fact, there may be cases where it is necessary to wildcard the `instrument_name` variable. This is because the JWST science instrument names on MAST have been modified to include configuration information for more precise advanced searches. However, this may lead to an incomplete list of observations returned for those who are not trying to do an advanced search. \n",
    "\n",
    "We will demonstrate this by looking at the results for the query below:"
   ]
  },
  {
   "cell_type": "code",
   "execution_count": 3,
   "id": "c88ef2ed",
   "metadata": {
    "scrolled": true
   },
   "outputs": [
    {
     "data": {
      "text/html": [
       "<div><i>Table masked=True length=83</i>\n",
       "<table id=\"table4379631568\" class=\"table-striped table-bordered table-condensed\">\n",
       "<thead><tr><th>intentType</th><th>obs_collection</th><th>provenance_name</th><th>instrument_name</th><th>project</th><th>filters</th><th>wavelength_region</th><th>target_name</th><th>target_classification</th><th>obs_id</th><th>s_ra</th><th>s_dec</th><th>dataproduct_type</th><th>proposal_pi</th><th>calib_level</th><th>t_min</th><th>t_max</th><th>t_exptime</th><th>em_min</th><th>em_max</th><th>obs_title</th><th>t_obs_release</th><th>proposal_id</th><th>proposal_type</th><th>sequence_number</th><th>s_region</th><th>jpegURL</th><th>dataURL</th><th>dataRights</th><th>mtFlag</th><th>srcDen</th><th>obsid</th><th>objID</th></tr></thead>\n",
       "<thead><tr><th>str7</th><th>str4</th><th>str7</th><th>str12</th><th>str4</th><th>str13</th><th>str8</th><th>str13</th><th>str1</th><th>str50</th><th>float64</th><th>float64</th><th>str8</th><th>str16</th><th>int64</th><th>float64</th><th>float64</th><th>float64</th><th>float64</th><th>float64</th><th>str70</th><th>float64</th><th>str4</th><th>str3</th><th>int64</th><th>str132</th><th>str63</th><th>str81</th><th>str6</th><th>bool</th><th>float64</th><th>str9</th><th>str9</th></tr></thead>\n",
       "<tr><td>science</td><td>JWST</td><td>CALJWST</td><td>NIRISS</td><td>JWST</td><td>F277W/GR700XD</td><td>Infrared</td><td>HAT-P-14</td><td>--</td><td>jw01541-o001_t002_niriss_f277w-gr700xd-substrip256</td><td>260.1161716666666</td><td>38.24216944444444</td><td>spectrum</td><td>Espinoza, Nestor</td><td>3</td><td>59738.26121625</td><td>59738.55835982639</td><td>384.785</td><td>600.0</td><td>3200.0</td><td>NIRISS Sensitivity and Stability for Transiting Exoplanet Observations</td><td>59774.8541666</td><td>1541</td><td>COM</td><td>--</td><td>POLYGON 260.16189536 38.23724946 260.11337073 38.23746108 260.11348004 38.24619441 260.16201403 38.24597997 260.16189536 38.23724946</td><td>--</td><td>mast:JWST/product/jw01541-o001_t002_niriss_f277w-gr700xd-substrip256_x1dints.fits</td><td>PUBLIC</td><td>False</td><td>nan</td><td>85715273</td><td>195816449</td></tr>\n",
       "<tr><td>science</td><td>JWST</td><td>CALJWST</td><td>NIRISS/SOSS</td><td>JWST</td><td>F480M</td><td>INFRARED</td><td>BD+60-1753</td><td>--</td><td>jw01512002001_02101_00001_nis</td><td>261.2178643508574</td><td>60.43078346928282</td><td>image</td><td>Espinoza, Nestor</td><td>2</td><td>59995.98101357639</td><td>59995.98102200231</td><td>0.683</td><td>4600.0</td><td>5000.0</td><td>SOSS Wavelength and Trace</td><td>59996.18175925</td><td>1512</td><td>CAL</td><td>--</td><td>POLYGON 261.218693113 60.429993446 261.216484201 60.430416356 261.217327028 60.431499222 261.219536203 60.431076276</td><td>mast:JWST/product/jw01512002001_02101_00001_nis_cal.jpg</td><td>mast:JWST/product/jw01512002001_02101_00001_nis_cal.fits</td><td>PUBLIC</td><td>False</td><td>nan</td><td>117933629</td><td>255695241</td></tr>\n",
       "<tr><td>science</td><td>JWST</td><td>CALJWST</td><td>NIRISS/SOSS</td><td>JWST</td><td>F480M</td><td>INFRARED</td><td>BD+60-1753</td><td>--</td><td>jw01512002001_02101_00004_nis</td><td>261.2178643508749</td><td>60.43078346928948</td><td>image</td><td>Espinoza, Nestor</td><td>2</td><td>59995.98740097222</td><td>59995.98740939815</td><td>0.683</td><td>4600.0</td><td>5000.0</td><td>SOSS Wavelength and Trace</td><td>59996.18133101</td><td>1512</td><td>CAL</td><td>--</td><td>POLYGON 261.218665628 60.430005149 261.21645672 60.430428066 261.21729956 60.431510929 261.219508731 60.431087978</td><td>mast:JWST/product/jw01512002001_02101_00004_nis_cal.jpg</td><td>mast:JWST/product/jw01512002001_02101_00004_nis_cal.fits</td><td>PUBLIC</td><td>False</td><td>nan</td><td>117933631</td><td>255695252</td></tr>\n",
       "<tr><td>...</td><td>...</td><td>...</td><td>...</td><td>...</td><td>...</td><td>...</td><td>...</td><td>...</td><td>...</td><td>...</td><td>...</td><td>...</td><td>...</td><td>...</td><td>...</td><td>...</td><td>...</td><td>...</td><td>...</td><td>...</td><td>...</td><td>...</td><td>...</td><td>...</td><td>...</td><td>...</td><td>...</td><td>...</td><td>...</td><td>...</td><td>...</td><td>...</td></tr>\n",
       "<tr><td>science</td><td>JWST</td><td>CALJWST</td><td>NIRISS/SOSS</td><td>JWST</td><td>CLEAR;GR700XD</td><td>INFRARED</td><td>HAT-P-14</td><td>--</td><td>jw01541001001_04101_00001-seg004_nis</td><td>260.1161736742332</td><td>38.24216472053897</td><td>spectrum</td><td>Espinoza, Nestor</td><td>2</td><td>59738.29788028935</td><td>59738.55248649306</td><td>18855.408</td><td>500.0</td><td>5000.0</td><td>NIRISS Sensitivity and Stability for Transiting Exoplanet Observations</td><td>59774.8541666</td><td>1541</td><td>COM</td><td>--</td><td>POLYGON 260.16189736 38.23724474 260.11337274 38.23745635 260.11348205 38.24618969 260.16201603 38.24597525 260.16189736 38.23724474</td><td>mast:JWST/product/jw01541001001_04101_00001-seg004_nis_ramp.jpg</td><td>mast:JWST/product/jw01541001001_04101_00001-seg004_nis_x1dints.fits</td><td>PUBLIC</td><td>False</td><td>nan</td><td>85700141</td><td>257352626</td></tr>\n",
       "<tr><td>science</td><td>JWST</td><td>CALJWST</td><td>NIRISS/SOSS</td><td>JWST</td><td>CLEAR;GR700XD</td><td>INFRARED</td><td>HAT-P-14</td><td>--</td><td>jw01541001001_04101_00001-seg003_nis</td><td>260.1161736742332</td><td>38.24216472053897</td><td>spectrum</td><td>Espinoza, Nestor</td><td>2</td><td>59738.29788028935</td><td>59738.55248649306</td><td>18855.408</td><td>500.0</td><td>5000.0</td><td>NIRISS Sensitivity and Stability for Transiting Exoplanet Observations</td><td>59774.8541666</td><td>1541</td><td>COM</td><td>--</td><td>POLYGON 260.16189736 38.23724474 260.11337274 38.23745635 260.11348205 38.24618969 260.16201603 38.24597525 260.16189736 38.23724474</td><td>mast:JWST/product/jw01541001001_04101_00001-seg003_nis_ramp.jpg</td><td>mast:JWST/product/jw01541001001_04101_00001-seg003_nis_x1dints.fits</td><td>PUBLIC</td><td>False</td><td>nan</td><td>85700237</td><td>257352647</td></tr>\n",
       "<tr><td>science</td><td>JWST</td><td>CALJWST</td><td>NIRISS/SOSS</td><td>JWST</td><td>CLEAR;GR700XD</td><td>INFRARED</td><td>HAT-P-14</td><td>--</td><td>jw01541001001_04101_00001-seg002_nis</td><td>260.1161736742332</td><td>38.24216472053897</td><td>spectrum</td><td>Espinoza, Nestor</td><td>2</td><td>59738.29788028935</td><td>59738.55248649306</td><td>18855.408</td><td>500.0</td><td>5000.0</td><td>NIRISS Sensitivity and Stability for Transiting Exoplanet Observations</td><td>59774.8541666</td><td>1541</td><td>COM</td><td>--</td><td>POLYGON 260.16189736 38.23724474 260.11337274 38.23745635 260.11348205 38.24618969 260.16201603 38.24597525 260.16189736 38.23724474</td><td>mast:JWST/product/jw01541001001_04101_00001-seg002_nis_ramp.jpg</td><td>mast:JWST/product/jw01541001001_04101_00001-seg002_nis_x1dints.fits</td><td>PUBLIC</td><td>False</td><td>nan</td><td>85700224</td><td>257352659</td></tr>\n",
       "</table></div>"
      ],
      "text/plain": [
       "<Table masked=True length=83>\n",
       "intentType obs_collection provenance_name instrument_name project    filters    ... dataRights mtFlag  srcDen   obsid     objID  \n",
       "   str7         str4            str7           str12        str4      str13     ...    str6     bool  float64    str9      str9  \n",
       "---------- -------------- --------------- --------------- ------- ------------- ... ---------- ------ ------- --------- ---------\n",
       "   science           JWST         CALJWST          NIRISS    JWST F277W/GR700XD ...     PUBLIC  False     nan  85715273 195816449\n",
       "   science           JWST         CALJWST     NIRISS/SOSS    JWST         F480M ...     PUBLIC  False     nan 117933629 255695241\n",
       "   science           JWST         CALJWST     NIRISS/SOSS    JWST         F480M ...     PUBLIC  False     nan 117933631 255695252\n",
       "       ...            ...             ...             ...     ...           ... ...        ...    ...     ...       ...       ...\n",
       "   science           JWST         CALJWST     NIRISS/SOSS    JWST CLEAR;GR700XD ...     PUBLIC  False     nan  85700141 257352626\n",
       "   science           JWST         CALJWST     NIRISS/SOSS    JWST CLEAR;GR700XD ...     PUBLIC  False     nan  85700237 257352647\n",
       "   science           JWST         CALJWST     NIRISS/SOSS    JWST CLEAR;GR700XD ...     PUBLIC  False     nan  85700224 257352659"
      ]
     },
     "execution_count": 3,
     "metadata": {},
     "output_type": "execute_result"
    }
   ],
   "source": [
    "observations = Observations.query_criteria(proposal_pi=\"Espinoza, Nestor\",\n",
    "                                           instrument_name=\"*NIRISS*\")\n",
    "observations"
   ]
  },
  {
   "cell_type": "markdown",
   "id": "3eb7c273",
   "metadata": {},
   "source": [
    "Here we have a list of all kinda of NIRISS observations led by the PI Dr. Espinoza. Let's call for all the unique values under the `instrument_name` column to see what was returned thanks to our `*` wildcards."
   ]
  },
  {
   "cell_type": "code",
   "execution_count": 4,
   "id": "ffc1b58f",
   "metadata": {},
   "outputs": [
    {
     "data": {
      "text/plain": [
       "{'NIRISS', 'NIRISS/IMAGE', 'NIRISS/SOSS'}"
      ]
     },
     "execution_count": 4,
     "metadata": {},
     "output_type": "execute_result"
    }
   ],
   "source": [
    "set(observations['instrument_name'])"
   ]
  },
  {
   "cell_type": "markdown",
   "id": "34c9e95f",
   "metadata": {},
   "source": [
    "As you can see, there were some observations with `instrument_name` labeled something other than `NIRISS`, due to the new configuration on MAST. Had we only searched for the `instrument_name` value `NIRISS`, we would have missed several observations. For the full list of instrument name variations, you can refer to [this page](https://outerspace.stsci.edu/display/MASTDOCS/JWST+Instrument+Names)."
   ]
  },
  {
   "cell_type": "markdown",
   "id": "a08f607f",
   "metadata": {},
   "source": [
    "**Note**: Be aware that you can be too generous with the wildcards. Too much ambiguity will lead to getting results that were not intended. See below for example."
   ]
  },
  {
   "cell_type": "code",
   "execution_count": 5,
   "id": "17d9194e",
   "metadata": {
    "scrolled": true
   },
   "outputs": [
    {
     "data": {
      "text/plain": [
       "{'NIRISS', 'NIRISS/IMAGE', 'NIRISS/SOSS', 'NIRSPEC/SLIT'}"
      ]
     },
     "execution_count": 5,
     "metadata": {},
     "output_type": "execute_result"
    }
   ],
   "source": [
    "observations = Observations.query_criteria(proposal_pi='Espinoza, Nestor',\n",
    "                                           instrument_name='*NI*S*')\n",
    "set(observations['instrument_name'])"
   ]
  },
  {
   "cell_type": "markdown",
   "id": "e019a8e2",
   "metadata": {},
   "source": [
    "This query returns `NIRSPEC/SLIT` observations in addition to the NIRISS ones, which is not what was intended."
   ]
  },
  {
   "cell_type": "markdown",
   "id": "fefa0c07",
   "metadata": {},
   "source": [
    "### Wildcard Search with `instrument_name` and `proposal_id`"
   ]
  },
  {
   "cell_type": "markdown",
   "id": "99af085a",
   "metadata": {},
   "source": [
    "Let's repeat the previous example, but add another `string` criteria and wildcard into the mix. Let's query for all observations belonging to proposal/program IDs that begin with the digits `15`, and see what gets returned:"
   ]
  },
  {
   "cell_type": "code",
   "execution_count": 6,
   "id": "dd436c7d",
   "metadata": {},
   "outputs": [
    {
     "data": {
      "text/plain": [
       "({'1512', '1541'}, {'NIRISS', 'NIRISS/IMAGE', 'NIRISS/SOSS'})"
      ]
     },
     "execution_count": 6,
     "metadata": {},
     "output_type": "execute_result"
    }
   ],
   "source": [
    "observations = Observations.query_criteria(proposal_pi='Espinoza, Nestor',\n",
    "                                           instrument_name='*NIRISS*',\n",
    "                                           proposal_id=['15%%'])\n",
    "set(observations['proposal_id']), set(observations['instrument_name'])"
   ]
  },
  {
   "cell_type": "markdown",
   "id": "9fcc9102",
   "metadata": {},
   "source": [
    "### Create a Moving Target Ephemeris using MAST Observations with Wildcard Search"
   ]
  },
  {
   "cell_type": "markdown",
   "id": "c38a4cdb",
   "metadata": {},
   "source": [
    "We will be querying for image observations of Comet 67P Churyumov-Gerasimenko observed through the Hubble Space Telescope's Advanced Camera for Surveys (ACS) Wide Field Camera (WFC). This comet's name can be listed in different ways, so we will use `*` wildcards in our criteria query. For this case, we won't use any wildcards in the `instrument_name` because we don't run into many variations of HST instrument names the way we do for JWST."
   ]
  },
  {
   "cell_type": "code",
   "execution_count": 7,
   "id": "a7cd9670",
   "metadata": {},
   "outputs": [
    {
     "name": "stdout",
     "output_type": "stream",
     "text": [
      "140 total observations\n",
      "\n",
      "Listed target names:\n",
      "{'COMET-67P-CHURYUMOV-GERASIMENK', 'COMET-67P-CHURYUMOV-GER-UPDATE'}\n"
     ]
    }
   ],
   "source": [
    "observations = Observations.query_criteria(target_name=\"*COM*67P*\",\n",
    "                                           instrument_name=\"ACS/WFC\")\n",
    "\n",
    "print(f\"{len(observations)} total observations\" + \"\\n\")\n",
    "print(\"Listed target names:\")\n",
    "print(set(observations['target_name']))"
   ]
  },
  {
   "cell_type": "markdown",
   "id": "5ed146c3",
   "metadata": {},
   "source": [
    "Above you can see there are two type of observations we get for Comet-67P, and this query yields a total of 140 observations. The `target_name` criteria is not always the most reliable way to retrieve all desired observations, as it runs into the same pitfalls that `instrument_name` has, where there are multiple names for the same object. In the remainder of this notebook, we will construct a bare-bones ephemeris using the filtered MAST observations of this object and their metadata. We will then do some reverse engineering to query for the target based on coordinates using the ephemeris table, and hope that we get the same results back! Let's begin:\n",
    "\n",
    "For simplicity, let's work only with the `'COMET-67P-CHURYUMOV-GERASIMENK'` observations to create our ephemeris."
   ]
  },
  {
   "cell_type": "code",
   "execution_count": 8,
   "id": "a028e9e6",
   "metadata": {},
   "outputs": [
    {
     "data": {
      "text/html": [
       "<div><i>Table masked=True length=70</i>\n",
       "<table id=\"table4577902400\" class=\"table-striped table-bordered table-condensed\">\n",
       "<thead><tr><th>intentType</th><th>obs_collection</th><th>provenance_name</th><th>instrument_name</th><th>project</th><th>filters</th><th>wavelength_region</th><th>target_name</th><th>target_classification</th><th>obs_id</th><th>s_ra</th><th>s_dec</th><th>dataproduct_type</th><th>proposal_pi</th><th>calib_level</th><th>t_min</th><th>t_max</th><th>t_exptime</th><th>em_min</th><th>em_max</th><th>obs_title</th><th>t_obs_release</th><th>proposal_id</th><th>proposal_type</th><th>sequence_number</th><th>s_region</th><th>jpegURL</th><th>dataURL</th><th>dataRights</th><th>mtFlag</th><th>srcDen</th><th>obsid</th><th>objID</th></tr></thead>\n",
       "<thead><tr><th>str7</th><th>str3</th><th>str6</th><th>str7</th><th>str3</th><th>str12</th><th>str7</th><th>str30</th><th>str89</th><th>str36</th><th>float64</th><th>float64</th><th>str5</th><th>str14</th><th>int64</th><th>float64</th><th>float64</th><th>float64</th><th>float64</th><th>float64</th><th>str119</th><th>float64</th><th>str5</th><th>str3</th><th>int64</th><th>str2243</th><th>str86</th><th>str35</th><th>str6</th><th>bool</th><th>float64</th><th>str8</th><th>str9</th></tr></thead>\n",
       "<tr><td>science</td><td>HST</td><td>CALACS</td><td>ACS/WFC</td><td>HST</td><td>F606W</td><td>Optical</td><td>COMET-67P-CHURYUMOV-GERASIMENK</td><td>COMET; COMET BEING ORBITED BY THE ROSETTA SPACECRAFT</td><td>jcz303010</td><td>149.386341824</td><td>17.6965860963</td><td>image</td><td>Hines, Dean C.</td><td>3</td><td>57306.530825775466</td><td>57306.56028197917</td><td>1868.0</td><td>470.0</td><td>720.0</td><td>Post-Perihelion Imaging Polarimetry of the 67P/Churyumov-Gerasimenko with ACS: Continued Support of the Rosetta Mission</td><td>57672.72732635</td><td>14261</td><td>GO</td><td>--</td><td>POLYGON 149.42419008 17.69882864 149.419199178432 17.700727169054169 149.41933345 17.70098796 149.41339666747842 17.703246092045436 149.41340981 17.70327162 149.38611359 17.71365103 149.3854302694572 17.712323331878636 149.37931127 17.71464943 149.36605771 17.68889173 149.39335114 17.67851501 149.39388702876451 17.679556324023046 149.41093132 17.67307379 149.42419008 17.69882864 149.42419008 17.69882864</td><td>mast:HST/product/jcz303010_drz.jpg</td><td>mast:HST/product/jcz303010_drz.fits</td><td>PUBLIC</td><td>True</td><td>nan</td><td>25001892</td><td>220778619</td></tr>\n",
       "<tr><td>science</td><td>HST</td><td>CALACS</td><td>ACS/WFC</td><td>HST</td><td>F606W</td><td>Optical</td><td>COMET-67P-CHURYUMOV-GERASIMENK</td><td>COMET; COMET-67P-CHURYUMOV-GERASIMENKO WHICH IS THE PRIMARY TARGET FOR ROSETTA SPACECRAFT</td><td>jcis06020</td><td>290.9147892768</td><td>-27.90546497065</td><td>image</td><td>Hines, Dean C.</td><td>3</td><td>56979.51550486111</td><td>56979.66734533565</td><td>6280.0</td><td>470.0</td><td>720.0</td><td>Imaging Polarimetry of the 67P/Churyumov-Gerasimenko with ACS: Supporting the Rosetta Mission</td><td>57344.94447902</td><td>13863</td><td>GO</td><td>--</td><td>POLYGON -69.051552329999993 -27.91547868 -69.051566623053915 -27.915304522529482 -69.048023170000022 -27.91483611 -69.048086300262 -27.914066875478145 -69.045198070000026 -27.91368501 -69.045253211462011 -27.913013321787403 -69.031596869999987 -27.91120688 -69.031681552501226 -27.910176912272057 -69.027714189999983 -27.90965175 -69.02772849552359 -27.909477898544647 -69.024182240000016 -27.90900847 -69.02653583 -27.88039823 -69.057861839999987 -27.88454222 -69.057847539106191 -27.884716718646743 -69.06139399 -27.88518549 -69.06130963442007 -27.88621477953863 -69.065275460000009 -27.88673877 -69.0652204552501 -27.887410472053556 -69.078874509999991 -27.8892136 -69.078813220742 -27.889963190045712 -69.098235400000021 -27.89252561 -69.098220005459254 -27.892714303389873 -69.102038349999987 -27.89321784 -69.099703449999993 -27.92182943 -69.082889846828763 -27.919611642662879 -69.082889340000008 -27.91961784 -69.051552329999993 -27.91547868 -69.051552329999993 -27.91547868</td><td>mast:HST/product/jcis06020_drz.jpg</td><td>mast:HST/product/jcis06020_drz.fits</td><td>PUBLIC</td><td>True</td><td>nan</td><td>24839236</td><td>221276308</td></tr>\n",
       "<tr><td>science</td><td>HST</td><td>CALACS</td><td>ACS/WFC</td><td>HST</td><td>F606W</td><td>Optical</td><td>COMET-67P-CHURYUMOV-GERASIMENK</td><td>COMET; COMET-67P-CHURYUMOV-GERASIMENKO WHICH IS THE PRIMARY TARGET FOR ROSETTA SPACECRAFT</td><td>jcis04020</td><td>290.2770693515</td><td>-28.02111499969</td><td>image</td><td>Hines, Dean C.</td><td>3</td><td>56977.45820188658</td><td>56977.611049039355</td><td>6280.0</td><td>470.0</td><td>720.0</td><td>Imaging Polarimetry of the 67P/Churyumov-Gerasimenko with ACS: Supporting the Rosetta Mission</td><td>57342.94112256</td><td>13863</td><td>GO</td><td>--</td><td>POLYGON -69.68999134 -28.03180292 -69.690000793261078 -28.0314964187349 -69.68653658 -28.03117872 -69.686564584120333 -28.03027073277142 -69.683764119999978 -28.03001384 -69.6838006065022 -28.028831798853574 -69.67044575 -28.02760593 -69.670481996731183 -28.026436279688706 -69.666591489999973 -28.02607881 -69.666601003399478 -28.025772506303237 -69.663133870000024 -28.02545393 -69.664023900000018 -27.99678969 -69.695551850000015 -27.99968392 -69.695542411269713 -27.999990871866526 -69.69900966 -28.0003088 -69.6989737114984 -28.001477839264155 -69.702862620000019 -28.00183422 -69.702826356326327 -28.00301616323647 -69.716178669999977 -28.00423892 -69.716150921131742 -28.005146940581007 -69.718950740000025 -28.00540317 -69.718941361850952 -28.005710310378014 -69.722405690000016 -28.00602736 -69.722395728297926 -28.006353608328851 -69.735389909999981 -28.00754168 -69.7353798073961 -28.007874214140372 -69.739126740000017 -28.00821667 -69.73825566 -28.03688132 -69.70671568 -28.03399601 -69.706725863943035 -28.033664169692418 -69.70297905000001 -28.03332102 -69.702989071877354 -28.032994456845575 -69.68999134 -28.03180292 -69.68999134 -28.03180292</td><td>mast:HST/product/jcis04020_drz.jpg</td><td>mast:HST/product/jcis04020_drz.fits</td><td>PUBLIC</td><td>True</td><td>nan</td><td>24839232</td><td>221276798</td></tr>\n",
       "<tr><td>...</td><td>...</td><td>...</td><td>...</td><td>...</td><td>...</td><td>...</td><td>...</td><td>...</td><td>...</td><td>...</td><td>...</td><td>...</td><td>...</td><td>...</td><td>...</td><td>...</td><td>...</td><td>...</td><td>...</td><td>...</td><td>...</td><td>...</td><td>...</td><td>...</td><td>...</td><td>...</td><td>...</td><td>...</td><td>...</td><td>...</td><td>...</td><td>...</td></tr>\n",
       "<tr><td>science</td><td>HLA</td><td>HLA</td><td>ACS/WFC</td><td>HLA</td><td>F606WPOL120V</td><td>--</td><td>COMET-67P-CHURYUMOV-GERASIMENK</td><td>--</td><td>hst_14261_03_acs_wfc_f606wpol120v_02</td><td>149.39905343216378</td><td>17.69330118900645</td><td>image</td><td>Hines</td><td>2</td><td>57306.54686</td><td>57306.55228</td><td>467.0</td><td>nan</td><td>nan</td><td>--</td><td>57672.72732635</td><td>14261</td><td>HLA</td><td>--</td><td>POLYGON J2000 149.37877620 17.68561370 149.40606970 17.67523370 149.41933240 17.70098660 149.39203580 17.71136840 149.37877620 17.68561370</td><td>https://hla.stsci.edu/cgi-bin/preview.cgi?dataset=hst_14261_03_acs_wfc_f606wpol120v_02</td><td>--</td><td>PUBLIC</td><td>--</td><td>nan</td><td>26004666</td><td>67971933</td></tr>\n",
       "<tr><td>science</td><td>HLA</td><td>HLA</td><td>ACS/WFC</td><td>HLA</td><td>F606WPOL120V</td><td>--</td><td>COMET-67P-CHURYUMOV-GERASIMENK</td><td>--</td><td>hst_14261_03_acs_wfc_f606wpol120v_03</td><td>149.38633343179924</td><td>17.696582189227897</td><td>image</td><td>Hines</td><td>2</td><td>57306.53082</td><td>57306.53624</td><td>467.0</td><td>nan</td><td>nan</td><td>--</td><td>57672.72732635</td><td>14261</td><td>HLA</td><td>--</td><td>POLYGON J2000 149.37931420 17.71464960 149.36605570 17.68889320 149.39335130 17.67851450 149.40661290 17.70426910 149.37931420 17.71464960</td><td>https://hla.stsci.edu/cgi-bin/preview.cgi?dataset=hst_14261_03_acs_wfc_f606wpol120v_03</td><td>--</td><td>PUBLIC</td><td>--</td><td>nan</td><td>26004667</td><td>67971934</td></tr>\n",
       "<tr><td>science</td><td>HLA</td><td>HLA</td><td>ACS/WFC</td><td>HLA</td><td>F606WPOL120V</td><td>--</td><td>COMET-67P-CHURYUMOV-GERASIMENK</td><td>--</td><td>hst_14261_03_acs_wfc_f606wpol120v_04</td><td>149.40391343235848</td><td>17.69114218886538</td><td>image</td><td>Hines</td><td>2</td><td>57306.55487</td><td>57306.56029</td><td>467.0</td><td>nan</td><td>nan</td><td>--</td><td>57672.72732635</td><td>14261</td><td>HLA</td><td>--</td><td>POLYGON J2000 149.42419210 17.69882700 149.39689650 17.70920930 149.38363650 17.68345530 149.41092900 17.67307470 149.42419210 17.69882700</td><td>https://hla.stsci.edu/cgi-bin/preview.cgi?dataset=hst_14261_03_acs_wfc_f606wpol120v_04</td><td>--</td><td>PUBLIC</td><td>--</td><td>nan</td><td>26004668</td><td>67971935</td></tr>\n",
       "</table></div>"
      ],
      "text/plain": [
       "<Table masked=True length=70>\n",
       "intentType obs_collection provenance_name instrument_name project   filters    ... dataRights mtFlag  srcDen  obsid     objID  \n",
       "   str7         str3            str6            str7        str3     str12     ...    str6     bool  float64   str8      str9  \n",
       "---------- -------------- --------------- --------------- ------- ------------ ... ---------- ------ ------- -------- ---------\n",
       "   science            HST          CALACS         ACS/WFC     HST        F606W ...     PUBLIC   True     nan 25001892 220778619\n",
       "   science            HST          CALACS         ACS/WFC     HST        F606W ...     PUBLIC   True     nan 24839236 221276308\n",
       "   science            HST          CALACS         ACS/WFC     HST        F606W ...     PUBLIC   True     nan 24839232 221276798\n",
       "       ...            ...             ...             ...     ...          ... ...        ...    ...     ...      ...       ...\n",
       "   science            HLA             HLA         ACS/WFC     HLA F606WPOL120V ...     PUBLIC     --     nan 26004666  67971933\n",
       "   science            HLA             HLA         ACS/WFC     HLA F606WPOL120V ...     PUBLIC     --     nan 26004667  67971934\n",
       "   science            HLA             HLA         ACS/WFC     HLA F606WPOL120V ...     PUBLIC     --     nan 26004668  67971935"
      ]
     },
     "execution_count": 8,
     "metadata": {},
     "output_type": "execute_result"
    }
   ],
   "source": [
    "mask = observations[\"target_name\"] == \"COMET-67P-CHURYUMOV-GERASIMENK\"\n",
    "filtered_observations = observations[mask]\n",
    "filtered_observations"
   ]
  },
  {
   "cell_type": "markdown",
   "id": "ebdc42f6",
   "metadata": {},
   "source": [
    "Now that we have our filtered observations, let's sort the rows of this table based on the `t_min` criteria, which refers to the start time of the exposure in MJD."
   ]
  },
  {
   "cell_type": "code",
   "execution_count": 9,
   "id": "5198bf11",
   "metadata": {},
   "outputs": [],
   "source": [
    "filtered_observations.sort(\"t_min\")"
   ]
  },
  {
   "cell_type": "markdown",
   "id": "dc840a0a",
   "metadata": {},
   "source": [
    "Now that we've sorted our table, let's construct a basic ephemeris showing the path of our object over time (with `t_min`, or exposure start in MJD, as our time component):"
   ]
  },
  {
   "cell_type": "code",
   "execution_count": 10,
   "id": "cd4fca9a",
   "metadata": {},
   "outputs": [],
   "source": [
    "ephemeris = Table([filtered_observations[\"s_ra\"],\n",
    "                   filtered_observations[\"s_dec\"],\n",
    "                   filtered_observations[\"t_min\"]], names=(\"ra\", \"dec\", \"t_min\"))"
   ]
  },
  {
   "cell_type": "markdown",
   "id": "80b5f267",
   "metadata": {},
   "source": [
    "Let's display the contents of our ephemeris, and use it to generate a plot of the comet's path:"
   ]
  },
  {
   "cell_type": "code",
   "execution_count": 11,
   "id": "40a7aedb",
   "metadata": {},
   "outputs": [
    {
     "data": {
      "text/html": [
       "<i>Table length=70</i>\n",
       "<table id=\"table4577900384-304475\" class=\"table-striped table-bordered table-condensed\">\n",
       "<thead><tr><th>idx</th><th>ra</th><th>dec</th><th>t_min</th></tr></thead>\n",
       "<tr><td>0</td><td>281.2558788729</td><td>-31.01619293249</td><td>56887.26573422454</td></tr>\n",
       "<tr><td>1</td><td>281.1070408364967</td><td>-31.006679797131913</td><td>56888.26101</td></tr>\n",
       "<tr><td>2</td><td>281.1070302812</td><td>-31.0066887554</td><td>56888.26101200232</td></tr>\n",
       "<tr><td>3</td><td>281.1045408863173</td><td>-31.00650879708346</td><td>56888.27707</td></tr>\n",
       "<tr><td>4</td><td>281.0975108367455</td><td>-31.006933797314236</td><td>56888.32419</td></tr>\n",
       "<tr><td>5</td><td>281.0951608865579</td><td>-31.006770747268593</td><td>56888.34025</td></tr>\n",
       "<tr><td>6</td><td>281.0868808868347</td><td>-31.005851797486205</td><td>56888.39054</td></tr>\n",
       "<tr><td>7</td><td>281.0845408866453</td><td>-31.005687797434355</td><td>56888.40661</td></tr>\n",
       "<tr><td>8</td><td>281.0773208868312</td><td>-31.004271747618215</td><td>56888.4569</td></tr>\n",
       "<tr><td>9</td><td>281.0749808366519</td><td>-31.004106747569107</td><td>56888.47296</td></tr>\n",
       "<tr><td>10</td><td>280.9542207499916</td><td>-30.995417914305882</td><td>56889.32263</td></tr>\n",
       "<tr><td>11</td><td>280.9542165962</td><td>-30.99542663878</td><td>56889.322632372685</td></tr>\n",
       "<tr><td>12</td><td>280.95182074981915</td><td>-30.99522891426489</td><td>56889.33869</td></tr>\n",
       "<tr><td>13</td><td>280.94509075023745</td><td>-30.995604914482804</td><td>56889.38581</td></tr>\n",
       "<tr><td>14</td><td>280.94283075005023</td><td>-30.995424914431382</td><td>56889.40187</td></tr>\n",
       "<tr><td>15</td><td>280.9348408003252</td><td>-30.994464914639284</td><td>56889.45216</td></tr>\n",
       "<tr><td>16</td><td>280.9325907501443</td><td>-30.994283914594472</td><td>56889.46823</td></tr>\n",
       "<tr><td>17</td><td>280.9256508003316</td><td>-30.992812914766773</td><td>56889.51851</td></tr>\n",
       "<tr><td>18</td><td>280.9234007501509</td><td>-30.99263091472144</td><td>56889.53457</td></tr>\n",
       "<tr><td>19</td><td>290.2735685756</td><td>-28.02183037337</td><td>56977.44858376157</td></tr>\n",
       "<tr><td>20</td><td>290.27357746214466</td><td>-28.021822337884565</td><td>56977.44859</td></tr>\n",
       "<tr><td>21</td><td>290.2751774620947</td><td>-28.021566337845524</td><td>56977.45293</td></tr>\n",
       "<tr><td>22</td><td>290.2770693515</td><td>-28.02111499969</td><td>56977.45820188658</td></tr>\n",
       "<tr><td>23</td><td>290.2770720459829</td><td>-28.02110770058012</td><td>56977.45821</td></tr>\n",
       "<tr><td>24</td><td>290.28081209582683</td><td>-28.020432700528893</td><td>56977.46947</td></tr>\n",
       "<tr><td>25</td><td>290.2938020457327</td><td>-28.01891575026861</td><td>56977.51266</td></tr>\n",
       "<tr><td>26</td><td>290.2972520455628</td><td>-28.018291700212338</td><td>56977.52392</td></tr>\n",
       "<tr><td>27</td><td>290.3000220953313</td><td>-28.017127700095163</td><td>56977.53561</td></tr>\n",
       "<tr><td>28</td><td>290.3133420951515</td><td>-28.014720699857893</td><td>56977.579</td></tr>\n",
       "<tr><td>29</td><td>290.317202094845</td><td>-28.01319469965044</td><td>56977.59071</td></tr>\n",
       "<tr><td>30</td><td>290.3206520946842</td><td>-28.012569699591925</td><td>56977.60197</td></tr>\n",
       "<tr><td>31</td><td>290.58067756432786</td><td>-27.966253462770922</td><td>56978.44466</td></tr>\n",
       "<tr><td>32</td><td>290.5806735758</td><td>-27.96626079113</td><td>56978.44466003472</td></tr>\n",
       "<tr><td>33</td><td>290.58229756426226</td><td>-27.965992462729282</td><td>56978.449</td></tr>\n",
       "<tr><td>34</td><td>290.5842080034</td><td>-27.96554445143</td><td>56978.454278206016</td></tr>\n",
       "<tr><td>35</td><td>290.58421214616294</td><td>-27.965536625124344</td><td>56978.45428</td></tr>\n",
       "<tr><td>36</td><td>290.5879921960003</td><td>-27.964852625069675</td><td>56978.46554</td></tr>\n",
       "<tr><td>37</td><td>290.6007621459412</td><td>-27.963361624819484</td><td>56978.50763</td></tr>\n",
       "<tr><td>38</td><td>290.6042521457815</td><td>-27.962728624761194</td><td>56978.51889</td></tr>\n",
       "<tr><td>39</td><td>290.60707214553975</td><td>-27.961544624635945</td><td>56978.53058</td></tr>\n",
       "<tr><td>40</td><td>290.62052219537316</td><td>-27.959104624398297</td><td>56978.57397</td></tr>\n",
       "<tr><td>41</td><td>290.6244321950754</td><td>-27.95757257418894</td><td>56978.58567</td></tr>\n",
       "<tr><td>42</td><td>290.62792219490746</td><td>-27.956938624129513</td><td>56978.59693</td></tr>\n",
       "<tr><td>43</td><td>290.9112348543</td><td>-27.90621726673</td><td>56979.505933368055</td></tr>\n",
       "<tr><td>44</td><td>290.9112370596945</td><td>-27.906209096905478</td><td>56979.50594</td></tr>\n",
       "<tr><td>45</td><td>290.9128770096229</td><td>-27.905945046863923</td><td>56979.51028</td></tr>\n",
       "<tr><td>46</td><td>290.9147892768</td><td>-27.90546497065</td><td>56979.51550486111</td></tr>\n",
       "<tr><td>47</td><td>290.91479174383323</td><td>-27.905457008616406</td><td>56979.51551</td></tr>\n",
       "<tr><td>48</td><td>290.91860179367495</td><td>-27.904765008568035</td><td>56979.52677</td></tr>\n",
       "<tr><td>49</td><td>290.931611793544</td><td>-27.90324405831802</td><td>56979.56897</td></tr>\n",
       "<tr><td>50</td><td>290.9351417933782</td><td>-27.90260100826863</td><td>56979.58024</td></tr>\n",
       "<tr><td>51</td><td>290.9379617431372</td><td>-27.901450058158304</td><td>56979.59193</td></tr>\n",
       "<tr><td>52</td><td>290.9515617429132</td><td>-27.8989740579249</td><td>56979.63531</td></tr>\n",
       "<tr><td>53</td><td>290.95544179257433</td><td>-27.897420057724133</td><td>56979.647</td></tr>\n",
       "<tr><td>54</td><td>290.958971742416</td><td>-27.896776007673772</td><td>56979.65826</td></tr>\n",
       "<tr><td>55</td><td>148.6544740972559</td><td>17.893565436772803</td><td>57305.4705</td></tr>\n",
       "<tr><td>56</td><td>148.6544847864</td><td>17.89356942054</td><td>57305.47050170139</td></tr>\n",
       "<tr><td>57</td><td>148.66128404740527</td><td>17.89261143672076</td><td>57305.47852</td></tr>\n",
       "<tr><td>58</td><td>148.66732409763495</td><td>17.890361436578964</td><td>57305.48654</td></tr>\n",
       "<tr><td>59</td><td>148.67229409784056</td><td>17.888163436453166</td><td>57305.49455</td></tr>\n",
       "<tr><td>60</td><td>149.02105347495342</td><td>17.795211192797524</td><td>57306.00024</td></tr>\n",
       "<tr><td>61</td><td>149.0210592664</td><td>17.79521475611</td><td>57306.00024725695</td></tr>\n",
       "<tr><td>62</td><td>149.02788342509825</td><td>17.794214142733026</td><td>57306.00826</td></tr>\n",
       "<tr><td>63</td><td>149.03383347531883</td><td>17.791933192580494</td><td>57306.01628</td></tr>\n",
       "<tr><td>64</td><td>149.0387234255141</td><td>17.789775192433133</td><td>57306.02429</td></tr>\n",
       "<tr><td>65</td><td>149.38633343179924</td><td>17.696582189227897</td><td>57306.53082</td></tr>\n",
       "<tr><td>66</td><td>149.386341824</td><td>17.6965860963</td><td>57306.530825775466</td></tr>\n",
       "<tr><td>67</td><td>149.39313343193777</td><td>17.695584189165338</td><td>57306.53884</td></tr>\n",
       "<tr><td>68</td><td>149.39905343216378</td><td>17.69330118900645</td><td>57306.54686</td></tr>\n",
       "<tr><td>69</td><td>149.40391343235848</td><td>17.69114218886538</td><td>57306.55487</td></tr>\n",
       "</table><style>table.dataTable {clear: both; width: auto !important; margin: 0 !important;}\n",
       ".dataTables_info, .dataTables_length, .dataTables_filter, .dataTables_paginate{\n",
       "display: inline-block; margin-right: 1em; }\n",
       ".paginate_button { margin-right: 5px; }\n",
       "</style>\n",
       "<script>\n",
       "\n",
       "var astropy_sort_num = function(a, b) {\n",
       "    var a_num = parseFloat(a);\n",
       "    var b_num = parseFloat(b);\n",
       "\n",
       "    if (isNaN(a_num) && isNaN(b_num))\n",
       "        return ((a < b) ? -1 : ((a > b) ? 1 : 0));\n",
       "    else if (!isNaN(a_num) && !isNaN(b_num))\n",
       "        return ((a_num < b_num) ? -1 : ((a_num > b_num) ? 1 : 0));\n",
       "    else\n",
       "        return isNaN(a_num) ? -1 : 1;\n",
       "}\n",
       "\n",
       "require.config({paths: {\n",
       "    datatables: 'https://cdn.datatables.net/1.10.12/js/jquery.dataTables.min'\n",
       "}});\n",
       "require([\"datatables\"], function(){\n",
       "    console.log(\"$('#table4577900384-304475').dataTable()\");\n",
       "    \n",
       "jQuery.extend( jQuery.fn.dataTableExt.oSort, {\n",
       "    \"optionalnum-asc\": astropy_sort_num,\n",
       "    \"optionalnum-desc\": function (a,b) { return -astropy_sort_num(a, b); }\n",
       "});\n",
       "\n",
       "    $('#table4577900384-304475').dataTable({\n",
       "        order: [],\n",
       "        pageLength: 50,\n",
       "        lengthMenu: [[10, 25, 50, 100, 500, 1000, -1], [10, 25, 50, 100, 500, 1000, 'All']],\n",
       "        pagingType: \"full_numbers\",\n",
       "        columnDefs: [{targets: [0, 1, 2, 3], type: \"optionalnum\"}]\n",
       "    });\n",
       "});\n",
       "</script>\n"
      ],
      "text/plain": [
       "<IPython.core.display.HTML object>"
      ]
     },
     "execution_count": 11,
     "metadata": {},
     "output_type": "execute_result"
    }
   ],
   "source": [
    "ephemeris.sort(\"t_min\")\n",
    "ephemeris.show_in_notebook()"
   ]
  },
  {
   "cell_type": "code",
   "execution_count": 12,
   "id": "29d51f19",
   "metadata": {},
   "outputs": [
    {
     "data": {
      "image/png": "[encoded data removed]",
      "text/plain": [
       "<Figure size 864x576 with 1 Axes>"
      ]
     },
     "metadata": {
      "needs_background": "light"
     },
     "output_type": "display_data"
    }
   ],
   "source": [
    "plt.figure(figsize=(12,8))\n",
    "plt.scatter(ephemeris[0:18]['ra'], ephemeris[0:18]['dec'], color='royalblue', s=200, lw=1., edgecolor='k')\n",
    "\n",
    "plt.xlabel(\"Right Ascension (deg)\", fontsize=20)\n",
    "plt.ylabel(\"Declination (deg)\", fontsize=20)\n",
    "\n",
    "plt.title(\"Sky Coordinates\", fontsize=20)\n",
    "\n",
    "plt.xticks(fontsize=15)\n",
    "plt.yticks(fontsize=15)\n",
    "plt.grid()"
   ]
  },
  {
   "cell_type": "markdown",
   "id": "33c4b36c",
   "metadata": {},
   "source": [
    "Lastly, let's do some reverse engineering and use the RA, Declination, and `t_min` values from the ephemeris to query for observations of the comet once again, and ensure that no observations were missed using the `*` wildcard from the previous criteria query for this example. Be aware that the following cell may take a little longer to run:"
   ]
  },
  {
   "cell_type": "code",
   "execution_count": 13,
   "id": "6fad07ac",
   "metadata": {},
   "outputs": [
    {
     "name": "stderr",
     "output_type": "stream",
     "text": [
      "WARNING: InputWarning: Coordinate string is being interpreted as an ICRS coordinate provided in degrees. [astroquery.utils.commons]\n"
     ]
    }
   ],
   "source": [
    "tables = []\n",
    "\n",
    "for row in ephemeris:\n",
    "    ra, dec, t_min = row[\"ra\"], row[\"dec\"], row[\"t_min\"]\n",
    "    coords = f'{ra} {dec}'\n",
    "    observations = Observations.query_criteria(coordinates=coords,\n",
    "                                               target_name=\"COMET-67P-CHURYUMOV-GERASIMENK\",\n",
    "                                               instrument_name=\"ACS/WFC\",\n",
    "                                               t_min=[t_min-1, t_min+1])\n",
    "\n",
    "    tables.append(observations)"
   ]
  },
  {
   "cell_type": "code",
   "execution_count": 14,
   "id": "d5cc3a77",
   "metadata": {
    "scrolled": true
   },
   "outputs": [
    {
     "data": {
      "text/html": [
       "<div><i>Table length=70</i>\n",
       "<table id=\"table4579509392\" class=\"table-striped table-bordered table-condensed\">\n",
       "<thead><tr><th>intentType</th><th>obs_collection</th><th>provenance_name</th><th>instrument_name</th><th>project</th><th>filters</th><th>wavelength_region</th><th>target_name</th><th>target_classification</th><th>obs_id</th><th>s_ra</th><th>s_dec</th><th>dataproduct_type</th><th>proposal_pi</th><th>calib_level</th><th>t_min</th><th>t_max</th><th>t_exptime</th><th>em_min</th><th>em_max</th><th>obs_title</th><th>t_obs_release</th><th>proposal_id</th><th>proposal_type</th><th>sequence_number</th><th>s_region</th><th>jpegURL</th><th>dataURL</th><th>dataRights</th><th>mtFlag</th><th>srcDen</th><th>obsid</th><th>objID</th><th>objID1</th><th>distance</th></tr></thead>\n",
       "<thead><tr><th>str7</th><th>str3</th><th>str6</th><th>str7</th><th>str3</th><th>str12</th><th>str7</th><th>str30</th><th>str89</th><th>str36</th><th>float64</th><th>float64</th><th>str5</th><th>str14</th><th>int64</th><th>float64</th><th>float64</th><th>float64</th><th>float64</th><th>float64</th><th>str119</th><th>float64</th><th>str5</th><th>str3</th><th>int64</th><th>str1191</th><th>str86</th><th>str35</th><th>str6</th><th>bool</th><th>float64</th><th>str8</th><th>str9</th><th>str9</th><th>float64</th></tr></thead>\n",
       "<tr><td>science</td><td>HST</td><td>CALACS</td><td>ACS/WFC</td><td>HST</td><td>F606W</td><td>Optical</td><td>COMET-67P-CHURYUMOV-GERASIMENK</td><td>COMET; COMET-67P-CHURYUMOV-GERASIMENKO WHICH IS THE PRIMARY TARGET FOR ROSETTA SPACECRAFT</td><td>jcis01010</td><td>281.2558788729</td><td>-31.01619293249</td><td>image</td><td>Hines, Dean C.</td><td>3</td><td>56887.26573422454</td><td>56887.49156755787</td><td>7200.0</td><td>470.0</td><td>720.0</td><td>Imaging Polarimetry of the 67P/Churyumov-Gerasimenko with ACS: Supporting the Rosetta Mission</td><td>57252.60829852</td><td>13863</td><td>GO</td><td>--</td><td>POLYGON -78.756865950000019 -31.03386473 -78.72529176 -31.02670072 -78.731368569999972 -30.9985026 -78.733805750513454 -30.9990559361688 -78.733958120000011 -30.99834869 -78.740986132787157 -30.99994418656815 -78.741227330000015 -30.9988241 -78.743523208857965 -30.999345171906345 -78.743666940000026 -30.9986777 -78.751640936670128 -31.000487279621648 -78.752215089999993 -30.99781954 -78.754505385727953 -30.998339146989291 -78.75464896 -30.99767203 -78.761518775521665 -30.999230471627669 -78.762147550000009 -30.99630741 -78.764432262131379 -30.996825567137762 -78.764575690000015 -30.99615878 -78.796142359999976 -31.00331385 -78.79008367 -31.03151488 -78.787798738721818 -31.030997298944033 -78.787655570000027 -31.0316635 -78.780782261578381 -31.030106426334836 -78.780153620000021 -31.03303019 -78.777863106729612 -31.032511160972405 -78.777719789999992 -31.0331777 -78.769741953915457 -31.031369732821123 -78.76916795 -31.03403788 -78.766871853092809 -31.033517388181245 -78.766728380000018 -31.03418428 -78.759696670679176 -31.032590149820496 -78.759455460000027 -31.03371081 -78.757018048375642 -31.033158086745466 -78.756865950000019 -31.03386473 -78.756865950000019 -31.03386473</td><td>mast:HST/product/jcis01010_drz.jpg</td><td>mast:HST/product/jcis01010_drz.fits</td><td>PUBLIC</td><td>True</td><td>nan</td><td>24839228</td><td>221298099</td><td>221298099</td><td>0.0</td></tr>\n",
       "<tr><td>science</td><td>HLA</td><td>HLA</td><td>ACS/WFC</td><td>HLA</td><td>F606WPOL60V</td><td>--</td><td>COMET-67P-CHURYUMOV-GERASIMENK</td><td>--</td><td>hst_13863_02_acs_wfc_f606wpol60v_05</td><td>281.1070408364967</td><td>-31.006679797131913</td><td>image</td><td>Hines</td><td>2</td><td>56888.26101</td><td>56888.27492</td><td>1200.0</td><td>nan</td><td>nan</td><td>--</td><td>57253.60605318</td><td>13863</td><td>HLA</td><td>--</td><td>POLYGON J2000 281.11999810 -30.98912410 281.08836300 -30.99599530 281.09407880 -31.02423420 281.12572290 -31.01736150 281.11999810 -30.98912410</td><td>https://hla.stsci.edu/cgi-bin/preview.cgi?dataset=hst_13863_02_acs_wfc_f606wpol60v_05</td><td>--</td><td>PUBLIC</td><td>--</td><td>nan</td><td>25981096</td><td>67948363</td><td>67948363</td><td>401.58691953839383</td></tr>\n",
       "<tr><td>science</td><td>HST</td><td>CALACS</td><td>ACS/WFC</td><td>HST</td><td>F606W</td><td>Optical</td><td>COMET-67P-CHURYUMOV-GERASIMENK</td><td>COMET; COMET-67P-CHURYUMOV-GERASIMENKO WHICH IS THE PRIMARY TARGET FOR ROSETTA SPACECRAFT</td><td>jcis02010</td><td>281.1070302812</td><td>-31.0066887554</td><td>image</td><td>Hines, Dean C.</td><td>3</td><td>56888.26101200232</td><td>56888.48685717593</td><td>9600.0</td><td>470.0</td><td>720.0</td><td>Imaging Polarimetry of the 67P/Churyumov-Gerasimenko with ACS: Supporting the Rosetta Mission</td><td>57253.60605318</td><td>13863</td><td>GO</td><td>--</td><td>POLYGON -78.905924930000026 -31.02423579 -78.87427893 -31.0173634 -78.8800066 -30.98912327 -78.882365737150309 -30.989635932676503 -78.882504439999991 -30.98895186 -78.889317083503954 -30.990432181918216 -78.889530770000022 -30.98937778 -78.891752852813568 -30.989860489154527 -78.891883689999986 -30.98921489 -78.899628421871924 -30.990897116662392 -78.9001551 -30.98829685 -78.902371489060187 -30.988778129799261 -78.90250218 -30.98813288 -78.909141342406116 -30.989574421562239 -78.909719680000023 -30.98671762 -78.911930371781551 -30.987197501880228 -78.91206093 -30.98655257 -78.943699260000017 -30.99341636 -78.937989440000024 -31.02165911 -78.935778550730731 -31.021179788693974 -78.935648239999978 -31.02182416 -78.929005954826081 -31.020383985804244 -78.928427829999976 -31.02324132 -78.926211233460563 -31.02276060029919 -78.926080790000015 -31.02340529 -78.918332079103052 -31.0217246209393 -78.91780553000001 -31.02432554 -78.9155832393156 -31.023843392393292 -78.91545265000002 -31.02448843 -78.9086363989854 -31.023009444135333 -78.908422719999976 -31.02406438 -78.906063370071536 -31.023552312315246 -78.905924930000026 -31.02423579 -78.905924930000026 -31.02423579</td><td>mast:HST/product/jcis02010_drz.jpg</td><td>mast:HST/product/jcis02010_drz.fits</td><td>PUBLIC</td><td>True</td><td>nan</td><td>24839229</td><td>221297988</td><td>221297988</td><td>401.59263295907635</td></tr>\n",
       "<tr><td>...</td><td>...</td><td>...</td><td>...</td><td>...</td><td>...</td><td>...</td><td>...</td><td>...</td><td>...</td><td>...</td><td>...</td><td>...</td><td>...</td><td>...</td><td>...</td><td>...</td><td>...</td><td>...</td><td>...</td><td>...</td><td>...</td><td>...</td><td>...</td><td>...</td><td>...</td><td>...</td><td>...</td><td>...</td><td>...</td><td>...</td><td>...</td><td>...</td><td>...</td><td>...</td></tr>\n",
       "<tr><td>science</td><td>HLA</td><td>HLA</td><td>ACS/WFC</td><td>HLA</td><td>F606WPOL120V</td><td>--</td><td>COMET-67P-CHURYUMOV-GERASIMENK</td><td>--</td><td>hst_14261_03_acs_wfc_f606wpol120v_01</td><td>149.39313343193777</td><td>17.695584189165338</td><td>image</td><td>Hines</td><td>2</td><td>57306.53884</td><td>57306.54426</td><td>467.0</td><td>nan</td><td>nan</td><td>--</td><td>57672.72732635</td><td>14261</td><td>HLA</td><td>--</td><td>POLYGON J2000 149.41341280 17.70327040 149.38611500 17.71365150 149.37285580 17.68789590 149.40015050 17.67751650 149.41341280 17.70327040</td><td>https://hla.stsci.edu/cgi-bin/preview.cgi?dataset=hst_14261_03_acs_wfc_f606wpol120v_01</td><td>--</td><td>PUBLIC</td><td>--</td><td>nan</td><td>26004665</td><td>67971932</td><td>67971932</td><td>0.0</td></tr>\n",
       "<tr><td>science</td><td>HLA</td><td>HLA</td><td>ACS/WFC</td><td>HLA</td><td>F606WPOL120V</td><td>--</td><td>COMET-67P-CHURYUMOV-GERASIMENK</td><td>--</td><td>hst_14261_03_acs_wfc_f606wpol120v_02</td><td>149.39905343216378</td><td>17.69330118900645</td><td>image</td><td>Hines</td><td>2</td><td>57306.54686</td><td>57306.55228</td><td>467.0</td><td>nan</td><td>nan</td><td>--</td><td>57672.72732635</td><td>14261</td><td>HLA</td><td>--</td><td>POLYGON J2000 149.37877620 17.68561370 149.40606970 17.67523370 149.41933240 17.70098660 149.39203580 17.71136840 149.37877620 17.68561370</td><td>https://hla.stsci.edu/cgi-bin/preview.cgi?dataset=hst_14261_03_acs_wfc_f606wpol120v_02</td><td>--</td><td>PUBLIC</td><td>--</td><td>nan</td><td>26004666</td><td>67971933</td><td>67971933</td><td>0.0</td></tr>\n",
       "<tr><td>science</td><td>HLA</td><td>HLA</td><td>ACS/WFC</td><td>HLA</td><td>F606WPOL120V</td><td>--</td><td>COMET-67P-CHURYUMOV-GERASIMENK</td><td>--</td><td>hst_14261_03_acs_wfc_f606wpol120v_04</td><td>149.40391343235848</td><td>17.69114218886538</td><td>image</td><td>Hines</td><td>2</td><td>57306.55487</td><td>57306.56029</td><td>467.0</td><td>nan</td><td>nan</td><td>--</td><td>57672.72732635</td><td>14261</td><td>HLA</td><td>--</td><td>POLYGON J2000 149.42419210 17.69882700 149.39689650 17.70920930 149.38363650 17.68345530 149.41092900 17.67307470 149.42419210 17.69882700</td><td>https://hla.stsci.edu/cgi-bin/preview.cgi?dataset=hst_14261_03_acs_wfc_f606wpol120v_04</td><td>--</td><td>PUBLIC</td><td>--</td><td>nan</td><td>26004668</td><td>67971935</td><td>67971935</td><td>12.505186617969704</td></tr>\n",
       "</table></div>"
      ],
      "text/plain": [
       "<Table length=70>\n",
       "intentType obs_collection provenance_name instrument_name project   filters    ... mtFlag  srcDen  obsid     objID     objID1       distance     \n",
       "   str7         str3            str6            str7        str3     str12     ...  bool  float64   str8      str9      str9        float64      \n",
       "---------- -------------- --------------- --------------- ------- ------------ ... ------ ------- -------- --------- --------- ------------------\n",
       "   science            HST          CALACS         ACS/WFC     HST        F606W ...   True     nan 24839228 221298099 221298099                0.0\n",
       "   science            HLA             HLA         ACS/WFC     HLA  F606WPOL60V ...     --     nan 25981096  67948363  67948363 401.58691953839383\n",
       "   science            HST          CALACS         ACS/WFC     HST        F606W ...   True     nan 24839229 221297988 221297988 401.59263295907635\n",
       "       ...            ...             ...             ...     ...          ... ...    ...     ...      ...       ...       ...                ...\n",
       "   science            HLA             HLA         ACS/WFC     HLA F606WPOL120V ...     --     nan 26004665  67971932  67971932                0.0\n",
       "   science            HLA             HLA         ACS/WFC     HLA F606WPOL120V ...     --     nan 26004666  67971933  67971933                0.0\n",
       "   science            HLA             HLA         ACS/WFC     HLA F606WPOL120V ...     --     nan 26004668  67971935  67971935 12.505186617969704"
      ]
     },
     "execution_count": 14,
     "metadata": {},
     "output_type": "execute_result"
    }
   ],
   "source": [
    "ephemeris_observations = unique(vstack(tables), keys=\"t_min\")\n",
    "ephemeris_observations"
   ]
  },
  {
   "cell_type": "code",
   "execution_count": 15,
   "id": "030bf540",
   "metadata": {},
   "outputs": [
    {
     "data": {
      "text/plain": [
       "masked_array(data=[ True,  True,  True,  True,  True,  True,  True,  True,\n",
       "                    True,  True,  True,  True,  True,  True,  True,  True,\n",
       "                    True,  True,  True,  True,  True,  True,  True,  True,\n",
       "                    True,  True,  True,  True,  True,  True,  True,  True,\n",
       "                    True,  True,  True,  True,  True,  True,  True,  True,\n",
       "                    True,  True,  True,  True,  True,  True,  True,  True,\n",
       "                    True,  True,  True,  True,  True,  True,  True,  True,\n",
       "                    True,  True,  True,  True,  True,  True,  True,  True,\n",
       "                    True,  True,  True,  True,  True,  True],\n",
       "             mask=False,\n",
       "       fill_value=True)"
      ]
     },
     "execution_count": 15,
     "metadata": {},
     "output_type": "execute_result"
    }
   ],
   "source": [
    "ephemeris_observations.sort(\"t_min\")\n",
    "filtered_observations.sort(\"t_min\")\n",
    "ephemeris_observations[\"t_min\"] == filtered_observations[\"t_min\"]"
   ]
  },
  {
   "cell_type": "markdown",
   "id": "78e5b531",
   "metadata": {},
   "source": [
    "Here we can see that there are no rows in the new `ephemeris_observations` table that don't match the original query results (`filtered_observations`), so the wildcard did catch all observations for Comet 67P."
   ]
  },
  {
   "cell_type": "markdown",
   "id": "4b6fafaf",
   "metadata": {},
   "source": [
    "## Resources"
   ]
  },
  {
   "cell_type": "markdown",
   "id": "e1ce99f9",
   "metadata": {},
   "source": [
    "The following is a list of resources that were referenced throughout the tutorial, as well as some additional references that you may find useful:\n",
    "\n",
    "* [`astroquery.mast.Observation` criteria queries](https://astroquery.readthedocs.io/en/latest/mast/mast.html#observation-criteria-queries)\n",
    "* [JWST Instrument Names](https://outerspace.stsci.edu/display/MASTDOCS/JWST+Instrument+Names)"
   ]
  },
  {
   "cell_type": "markdown",
   "id": "55a71062",
   "metadata": {},
   "source": [
    "## Citations"
   ]
  },
  {
   "cell_type": "markdown",
   "id": "268da702",
   "metadata": {},
   "source": [
    "If you use any of astroquery's tools for published research, please cite the authors. Follow this link for more information about citing astroquery:\n",
    "\n",
    "* [Citing astroquery](https://github.com/astropy/astroquery/blob/main/astroquery/CITATION)"
   ]
  },
  {
   "cell_type": "markdown",
   "id": "79ab0efc",
   "metadata": {},
   "source": [
    "## About This Notebook"
   ]
  },
  {
   "cell_type": "markdown",
   "id": "bb9ce04c",
   "metadata": {},
   "source": [
    "If you have comments or questions on this notebook, please contact us through the Archive Help Desk e-mail at archive@stsci.edu. <br>\n",
    "<br>\n",
    "Author(s): Jenny V. Medina <br>\n",
    "Keyword(s): Tutorial, astroquery, wildcards, moving, target <br>\n",
    "Last Updated: Jun 2023"
   ]
  }
 ],
 "metadata": {
  "kernelspec": {
   "display_name": "Python 3 (ipykernel)",
   "language": "python",
   "name": "python3"
  },
  "language_info": {
   "codemirror_mode": {
    "name": "ipython",
    "version": 3
   },
   "file_extension": ".py",
   "mimetype": "text/x-python",
   "name": "python",
   "nbconvert_exporter": "python",
   "pygments_lexer": "ipython3",
   "version": "3.9.7"
  }
 },
 "nbformat": 4,
 "nbformat_minor": 5
}
