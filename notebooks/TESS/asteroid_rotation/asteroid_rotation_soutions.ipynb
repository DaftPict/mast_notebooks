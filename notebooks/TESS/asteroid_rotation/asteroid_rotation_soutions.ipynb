{
 "cells": [
  {
   "cell_type": "markdown",
   "id": "b7f47a1c",
   "metadata": {},
   "source": [
    "<a id=\"Top\"></a>\n",
    "\n",
    "# Finding the Rotation Curve of an Asteroid or Comet with TESScut and lightkurve: Solutions"
   ]
  },
  {
   "cell_type": "markdown",
   "id": "22cfa35a",
   "metadata": {},
   "source": [
    "Before the solutions can be run, this code reproduces the necessary variables from the tutorial into this notebook.\n",
    "\n",
    "# Contents\n",
    "* [Imports, prerequisite cells](#Imports,-Prerequisite-Cells)\n",
    "1. [Confirm lightcurve truncation is appropriate.](#1)\n",
    "2. [Confirm remove_outlier cutoff value is appropriate.](#2)\n",
    "3. [Is rotation period changed by sector?](#3)\n",
    "4. [Use the TESSCut website to download more observations.](#4)\n",
    "5. [Find the rotation period of Hippodamia.](#5)\n",
    "6. [Why is the median flux of first sector's observations lower than the second?](#6)\n",
    "\n",
    "\n",
    "# Imports, Prerequisite Cells"
   ]
  },
  {
   "cell_type": "code",
   "execution_count": 1,
   "id": "a3ec97ec",
   "metadata": {},
   "outputs": [
    {
     "name": "stderr",
     "output_type": "stream",
     "text": [
      "/Users/tdutkiewicz/miniconda3/envs/lk-test/lib/python3.11/site-packages/lightkurve/config/__init__.py:119: UserWarning: The default Lightkurve cache directory, used by download(), etc., has been moved to /Users/tdutkiewicz/.lightkurve/cache. Please move all the files in the legacy directory /Users/tdutkiewicz/.lightkurve-cache to the new location and remove the legacy directory. Refer to https://docs.lightkurve.org/reference/config.html#default-cache-directory-migration for more information.\n",
      "  warnings.warn(\n"
     ]
    }
   ],
   "source": [
    "from astropy.io import fits\n",
    "from astropy.table import Table\n",
    "import astropy.units as u\n",
    "import matplotlib.pyplot as plt\n",
    "import numpy as np\n",
    "\n",
    "from astroquery.mast import Tesscut\n",
    "from astropy.visualization import time_support\n",
    "import lightkurve as lk\n",
    "\n",
    "%matplotlib inline"
   ]
  },
  {
   "cell_type": "code",
   "execution_count": 2,
   "id": "2da460d5",
   "metadata": {},
   "outputs": [],
   "source": [
    "objname='Eleonora'\n",
    "\n",
    "hdulist = Tesscut.get_cutouts(objectname=objname, moving_target=True, size=10)\n",
    "\n",
    "nsectors=len(hdulist)\n",
    "for i in range(nsectors): \n",
    "    hdulist[i].writeto(f\"{objname}_{i}.fits\", overwrite=True)\n",
    "    \n",
    "for i in range(nsectors):\n",
    "    tpf = lk.TessTargetPixelFile(f\"{objname}_{i}.fits\")\n",
    "    if i==0: \n",
    "        tpfc=lk.TargetPixelFileCollection([tpf])\n",
    "    else:\n",
    "        tpfc.append(tpf)"
   ]
  },
  {
   "cell_type": "code",
   "execution_count": 3,
   "id": "d9196532",
   "metadata": {},
   "outputs": [],
   "source": [
    "for i in range(nsectors):\n",
    "    lc=tpfc[i].to_lightcurve()\n",
    "    if i==0: \n",
    "        lcc=lk.LightCurveCollection([lc])\n",
    "    else:\n",
    "        lcc.append(lc)    \n",
    "lcc[0]=lcc[0].truncate(after=293,column='cadenceno')\n",
    "lcc[1]=lcc[1].truncate(before=59,column='cadenceno')\n",
    "lcc[1]=lcc[1].remove_outliers(sigma_upper=2)"
   ]
  },
  {
   "cell_type": "markdown",
   "id": "4fffbba4",
   "metadata": {},
   "source": [
    "<a id=\"1\"></a>\n",
    "# 1. Confirm that the first lightcurve in our hdulist should be truncated after cadence number 293. "
   ]
  },
  {
   "cell_type": "code",
   "execution_count": 4,
   "id": "0fe1fbbd",
   "metadata": {},
   "outputs": [
    {
     "data": {
      "application/javascript": [
       "(function(root) {\n",
       "  function now() {\n",
       "    return new Date();\n",
       "  }\n",
       "\n",
       "  const force = true;\n",
       "\n",
       "  if (typeof root._bokeh_onload_callbacks === \"undefined\" || force === true) {\n",
       "    root._bokeh_onload_callbacks = [];\n",
       "    root._bokeh_is_loading = undefined;\n",
       "  }\n",
       "\n",
       "const JS_MIME_TYPE = 'application/javascript';\n",
       "  const HTML_MIME_TYPE = 'text/html';\n",
       "  const EXEC_MIME_TYPE = 'application/vnd.bokehjs_exec.v0+json';\n",
       "  const CLASS_NAME = 'output_bokeh rendered_html';\n",
       "\n",
       "  /**\n",
       "   * Render data to the DOM node\n",
       "   */\n",
       "  function render(props, node) {\n",
       "    const script = document.createElement(\"script\");\n",
       "    node.appendChild(script);\n",
       "  }\n",
       "\n",
       "  /**\n",
       "   * Handle when an output is cleared or removed\n",
       "   */\n",
       "  function handleClearOutput(event, handle) {\n",
       "    const cell = handle.cell;\n",
       "\n",
       "    const id = cell.output_area._bokeh_element_id;\n",
       "    const server_id = cell.output_area._bokeh_server_id;\n",
       "    // Clean up Bokeh references\n",
       "    if (id != null && id in Bokeh.index) {\n",
       "      Bokeh.index[id].model.document.clear();\n",
       "      delete Bokeh.index[id];\n",
       "    }\n",
       "\n",
       "    if (server_id !== undefined) {\n",
       "      // Clean up Bokeh references\n",
       "      const cmd_clean = \"from bokeh.io.state import curstate; print(curstate().uuid_to_server['\" + server_id + \"'].get_sessions()[0].document.roots[0]._id)\";\n",
       "      cell.notebook.kernel.execute(cmd_clean, {\n",
       "        iopub: {\n",
       "          output: function(msg) {\n",
       "            const id = msg.content.text.trim();\n",
       "            if (id in Bokeh.index) {\n",
       "              Bokeh.index[id].model.document.clear();\n",
       "              delete Bokeh.index[id];\n",
       "            }\n",
       "          }\n",
       "        }\n",
       "      });\n",
       "      // Destroy server and session\n",
       "      const cmd_destroy = \"import bokeh.io.notebook as ion; ion.destroy_server('\" + server_id + \"')\";\n",
       "      cell.notebook.kernel.execute(cmd_destroy);\n",
       "    }\n",
       "  }\n",
       "\n",
       "  /**\n",
       "   * Handle when a new output is added\n",
       "   */\n",
       "  function handleAddOutput(event, handle) {\n",
       "    const output_area = handle.output_area;\n",
       "    const output = handle.output;\n",
       "\n",
       "    // limit handleAddOutput to display_data with EXEC_MIME_TYPE content only\n",
       "    if ((output.output_type != \"display_data\") || (!Object.prototype.hasOwnProperty.call(output.data, EXEC_MIME_TYPE))) {\n",
       "      return\n",
       "    }\n",
       "\n",
       "    const toinsert = output_area.element.find(\".\" + CLASS_NAME.split(' ')[0]);\n",
       "\n",
       "    if (output.metadata[EXEC_MIME_TYPE][\"id\"] !== undefined) {\n",
       "      toinsert[toinsert.length - 1].firstChild.textContent = output.data[JS_MIME_TYPE];\n",
       "      // store reference to embed id on output_area\n",
       "      output_area._bokeh_element_id = output.metadata[EXEC_MIME_TYPE][\"id\"];\n",
       "    }\n",
       "    if (output.metadata[EXEC_MIME_TYPE][\"server_id\"] !== undefined) {\n",
       "      const bk_div = document.createElement(\"div\");\n",
       "      bk_div.innerHTML = output.data[HTML_MIME_TYPE];\n",
       "      const script_attrs = bk_div.children[0].attributes;\n",
       "      for (let i = 0; i < script_attrs.length; i++) {\n",
       "        toinsert[toinsert.length - 1].firstChild.setAttribute(script_attrs[i].name, script_attrs[i].value);\n",
       "        toinsert[toinsert.length - 1].firstChild.textContent = bk_div.children[0].textContent\n",
       "      }\n",
       "      // store reference to server id on output_area\n",
       "      output_area._bokeh_server_id = output.metadata[EXEC_MIME_TYPE][\"server_id\"];\n",
       "    }\n",
       "  }\n",
       "\n",
       "  function register_renderer(events, OutputArea) {\n",
       "\n",
       "    function append_mime(data, metadata, element) {\n",
       "      // create a DOM node to render to\n",
       "      const toinsert = this.create_output_subarea(\n",
       "        metadata,\n",
       "        CLASS_NAME,\n",
       "        EXEC_MIME_TYPE\n",
       "      );\n",
       "      this.keyboard_manager.register_events(toinsert);\n",
       "      // Render to node\n",
       "      const props = {data: data, metadata: metadata[EXEC_MIME_TYPE]};\n",
       "      render(props, toinsert[toinsert.length - 1]);\n",
       "      element.append(toinsert);\n",
       "      return toinsert\n",
       "    }\n",
       "\n",
       "    /* Handle when an output is cleared or removed */\n",
       "    events.on('clear_output.CodeCell', handleClearOutput);\n",
       "    events.on('delete.Cell', handleClearOutput);\n",
       "\n",
       "    /* Handle when a new output is added */\n",
       "    events.on('output_added.OutputArea', handleAddOutput);\n",
       "\n",
       "    /**\n",
       "     * Register the mime type and append_mime function with output_area\n",
       "     */\n",
       "    OutputArea.prototype.register_mime_type(EXEC_MIME_TYPE, append_mime, {\n",
       "      /* Is output safe? */\n",
       "      safe: true,\n",
       "      /* Index of renderer in `output_area.display_order` */\n",
       "      index: 0\n",
       "    });\n",
       "  }\n",
       "\n",
       "  // register the mime type if in Jupyter Notebook environment and previously unregistered\n",
       "  if (root.Jupyter !== undefined) {\n",
       "    const events = require('base/js/events');\n",
       "    const OutputArea = require('notebook/js/outputarea').OutputArea;\n",
       "\n",
       "    if (OutputArea.prototype.mime_types().indexOf(EXEC_MIME_TYPE) == -1) {\n",
       "      register_renderer(events, OutputArea);\n",
       "    }\n",
       "  }\n",
       "  if (typeof (root._bokeh_timeout) === \"undefined\" || force === true) {\n",
       "    root._bokeh_timeout = Date.now() + 5000;\n",
       "    root._bokeh_failed_load = false;\n",
       "  }\n",
       "\n",
       "  const NB_LOAD_WARNING = {'data': {'text/html':\n",
       "     \"<div style='background-color: #fdd'>\\n\"+\n",
       "     \"<p>\\n\"+\n",
       "     \"BokehJS does not appear to have successfully loaded. If loading BokehJS from CDN, this \\n\"+\n",
       "     \"may be due to a slow or bad network connection. Possible fixes:\\n\"+\n",
       "     \"</p>\\n\"+\n",
       "     \"<ul>\\n\"+\n",
       "     \"<li>re-rerun `output_notebook()` to attempt to load from CDN again, or</li>\\n\"+\n",
       "     \"<li>use INLINE resources instead, as so:</li>\\n\"+\n",
       "     \"</ul>\\n\"+\n",
       "     \"<code>\\n\"+\n",
       "     \"from bokeh.resources import INLINE\\n\"+\n",
       "     \"output_notebook(resources=INLINE)\\n\"+\n",
       "     \"</code>\\n\"+\n",
       "     \"</div>\"}};\n",
       "\n",
       "  function display_loaded() {\n",
       "    const el = document.getElementById(null);\n",
       "    if (el != null) {\n",
       "      el.textContent = \"BokehJS is loading...\";\n",
       "    }\n",
       "    if (root.Bokeh !== undefined) {\n",
       "      if (el != null) {\n",
       "        el.textContent = \"BokehJS \" + root.Bokeh.version + \" successfully loaded.\";\n",
       "      }\n",
       "    } else if (Date.now() < root._bokeh_timeout) {\n",
       "      setTimeout(display_loaded, 100)\n",
       "    }\n",
       "  }\n",
       "\n",
       "  function run_callbacks() {\n",
       "    try {\n",
       "      root._bokeh_onload_callbacks.forEach(function(callback) {\n",
       "        if (callback != null)\n",
       "          callback();\n",
       "      });\n",
       "    } finally {\n",
       "      delete root._bokeh_onload_callbacks\n",
       "    }\n",
       "    console.debug(\"Bokeh: all callbacks have finished\");\n",
       "  }\n",
       "\n",
       "  function load_libs(css_urls, js_urls, callback) {\n",
       "    if (css_urls == null) css_urls = [];\n",
       "    if (js_urls == null) js_urls = [];\n",
       "\n",
       "    root._bokeh_onload_callbacks.push(callback);\n",
       "    if (root._bokeh_is_loading > 0) {\n",
       "      console.debug(\"Bokeh: BokehJS is being loaded, scheduling callback at\", now());\n",
       "      return null;\n",
       "    }\n",
       "    if (js_urls == null || js_urls.length === 0) {\n",
       "      run_callbacks();\n",
       "      return null;\n",
       "    }\n",
       "    console.debug(\"Bokeh: BokehJS not loaded, scheduling load and callback at\", now());\n",
       "    root._bokeh_is_loading = css_urls.length + js_urls.length;\n",
       "\n",
       "    function on_load() {\n",
       "      root._bokeh_is_loading--;\n",
       "      if (root._bokeh_is_loading === 0) {\n",
       "        console.debug(\"Bokeh: all BokehJS libraries/stylesheets loaded\");\n",
       "        run_callbacks()\n",
       "      }\n",
       "    }\n",
       "\n",
       "    function on_error(url) {\n",
       "      console.error(\"failed to load \" + url);\n",
       "    }\n",
       "\n",
       "    for (let i = 0; i < css_urls.length; i++) {\n",
       "      const url = css_urls[i];\n",
       "      const element = document.createElement(\"link\");\n",
       "      element.onload = on_load;\n",
       "      element.onerror = on_error.bind(null, url);\n",
       "      element.rel = \"stylesheet\";\n",
       "      element.type = \"text/css\";\n",
       "      element.href = url;\n",
       "      console.debug(\"Bokeh: injecting link tag for BokehJS stylesheet: \", url);\n",
       "      document.body.appendChild(element);\n",
       "    }\n",
       "\n",
       "    for (let i = 0; i < js_urls.length; i++) {\n",
       "      const url = js_urls[i];\n",
       "      const element = document.createElement('script');\n",
       "      element.onload = on_load;\n",
       "      element.onerror = on_error.bind(null, url);\n",
       "      element.async = false;\n",
       "      element.src = url;\n",
       "      console.debug(\"Bokeh: injecting script tag for BokehJS library: \", url);\n",
       "      document.head.appendChild(element);\n",
       "    }\n",
       "  };\n",
       "\n",
       "  function inject_raw_css(css) {\n",
       "    const element = document.createElement(\"style\");\n",
       "    element.appendChild(document.createTextNode(css));\n",
       "    document.body.appendChild(element);\n",
       "  }\n",
       "\n",
       "  const js_urls = [\"https://cdn.bokeh.org/bokeh/release/bokeh-3.2.2.min.js\", \"https://cdn.bokeh.org/bokeh/release/bokeh-gl-3.2.2.min.js\", \"https://cdn.bokeh.org/bokeh/release/bokeh-widgets-3.2.2.min.js\", \"https://cdn.bokeh.org/bokeh/release/bokeh-tables-3.2.2.min.js\", \"https://cdn.bokeh.org/bokeh/release/bokeh-mathjax-3.2.2.min.js\"];\n",
       "  const css_urls = [];\n",
       "\n",
       "  const inline_js = [    function(Bokeh) {\n",
       "      Bokeh.set_log_level(\"info\");\n",
       "    },\n",
       "function(Bokeh) {\n",
       "    }\n",
       "  ];\n",
       "\n",
       "  function run_inline_js() {\n",
       "    if (root.Bokeh !== undefined || force === true) {\n",
       "          for (let i = 0; i < inline_js.length; i++) {\n",
       "      inline_js[i].call(root, root.Bokeh);\n",
       "    }\n",
       "} else if (Date.now() < root._bokeh_timeout) {\n",
       "      setTimeout(run_inline_js, 100);\n",
       "    } else if (!root._bokeh_failed_load) {\n",
       "      console.log(\"Bokeh: BokehJS failed to load within specified timeout.\");\n",
       "      root._bokeh_failed_load = true;\n",
       "    } else if (force !== true) {\n",
       "      const cell = $(document.getElementById(null)).parents('.cell').data().cell;\n",
       "      cell.output_area.append_execute_result(NB_LOAD_WARNING)\n",
       "    }\n",
       "  }\n",
       "\n",
       "  if (root._bokeh_is_loading === 0) {\n",
       "    console.debug(\"Bokeh: BokehJS loaded, going straight to plotting\");\n",
       "    run_inline_js();\n",
       "  } else {\n",
       "    load_libs(css_urls, js_urls, function() {\n",
       "      console.debug(\"Bokeh: BokehJS plotting callback run at\", now());\n",
       "      run_inline_js();\n",
       "    });\n",
       "  }\n",
       "}(window));"
      ],
      "application/vnd.bokehjs_load.v0+json": "(function(root) {\n  function now() {\n    return new Date();\n  }\n\n  const force = true;\n\n  if (typeof root._bokeh_onload_callbacks === \"undefined\" || force === true) {\n    root._bokeh_onload_callbacks = [];\n    root._bokeh_is_loading = undefined;\n  }\n\n\n  if (typeof (root._bokeh_timeout) === \"undefined\" || force === true) {\n    root._bokeh_timeout = Date.now() + 5000;\n    root._bokeh_failed_load = false;\n  }\n\n  const NB_LOAD_WARNING = {'data': {'text/html':\n     \"<div style='background-color: #fdd'>\\n\"+\n     \"<p>\\n\"+\n     \"BokehJS does not appear to have successfully loaded. If loading BokehJS from CDN, this \\n\"+\n     \"may be due to a slow or bad network connection. Possible fixes:\\n\"+\n     \"</p>\\n\"+\n     \"<ul>\\n\"+\n     \"<li>re-rerun `output_notebook()` to attempt to load from CDN again, or</li>\\n\"+\n     \"<li>use INLINE resources instead, as so:</li>\\n\"+\n     \"</ul>\\n\"+\n     \"<code>\\n\"+\n     \"from bokeh.resources import INLINE\\n\"+\n     \"output_notebook(resources=INLINE)\\n\"+\n     \"</code>\\n\"+\n     \"</div>\"}};\n\n  function display_loaded() {\n    const el = document.getElementById(null);\n    if (el != null) {\n      el.textContent = \"BokehJS is loading...\";\n    }\n    if (root.Bokeh !== undefined) {\n      if (el != null) {\n        el.textContent = \"BokehJS \" + root.Bokeh.version + \" successfully loaded.\";\n      }\n    } else if (Date.now() < root._bokeh_timeout) {\n      setTimeout(display_loaded, 100)\n    }\n  }\n\n  function run_callbacks() {\n    try {\n      root._bokeh_onload_callbacks.forEach(function(callback) {\n        if (callback != null)\n          callback();\n      });\n    } finally {\n      delete root._bokeh_onload_callbacks\n    }\n    console.debug(\"Bokeh: all callbacks have finished\");\n  }\n\n  function load_libs(css_urls, js_urls, callback) {\n    if (css_urls == null) css_urls = [];\n    if (js_urls == null) js_urls = [];\n\n    root._bokeh_onload_callbacks.push(callback);\n    if (root._bokeh_is_loading > 0) {\n      console.debug(\"Bokeh: BokehJS is being loaded, scheduling callback at\", now());\n      return null;\n    }\n    if (js_urls == null || js_urls.length === 0) {\n      run_callbacks();\n      return null;\n    }\n    console.debug(\"Bokeh: BokehJS not loaded, scheduling load and callback at\", now());\n    root._bokeh_is_loading = css_urls.length + js_urls.length;\n\n    function on_load() {\n      root._bokeh_is_loading--;\n      if (root._bokeh_is_loading === 0) {\n        console.debug(\"Bokeh: all BokehJS libraries/stylesheets loaded\");\n        run_callbacks()\n      }\n    }\n\n    function on_error(url) {\n      console.error(\"failed to load \" + url);\n    }\n\n    for (let i = 0; i < css_urls.length; i++) {\n      const url = css_urls[i];\n      const element = document.createElement(\"link\");\n      element.onload = on_load;\n      element.onerror = on_error.bind(null, url);\n      element.rel = \"stylesheet\";\n      element.type = \"text/css\";\n      element.href = url;\n      console.debug(\"Bokeh: injecting link tag for BokehJS stylesheet: \", url);\n      document.body.appendChild(element);\n    }\n\n    for (let i = 0; i < js_urls.length; i++) {\n      const url = js_urls[i];\n      const element = document.createElement('script');\n      element.onload = on_load;\n      element.onerror = on_error.bind(null, url);\n      element.async = false;\n      element.src = url;\n      console.debug(\"Bokeh: injecting script tag for BokehJS library: \", url);\n      document.head.appendChild(element);\n    }\n  };\n\n  function inject_raw_css(css) {\n    const element = document.createElement(\"style\");\n    element.appendChild(document.createTextNode(css));\n    document.body.appendChild(element);\n  }\n\n  const js_urls = [\"https://cdn.bokeh.org/bokeh/release/bokeh-3.2.2.min.js\", \"https://cdn.bokeh.org/bokeh/release/bokeh-gl-3.2.2.min.js\", \"https://cdn.bokeh.org/bokeh/release/bokeh-widgets-3.2.2.min.js\", \"https://cdn.bokeh.org/bokeh/release/bokeh-tables-3.2.2.min.js\", \"https://cdn.bokeh.org/bokeh/release/bokeh-mathjax-3.2.2.min.js\"];\n  const css_urls = [];\n\n  const inline_js = [    function(Bokeh) {\n      Bokeh.set_log_level(\"info\");\n    },\nfunction(Bokeh) {\n    }\n  ];\n\n  function run_inline_js() {\n    if (root.Bokeh !== undefined || force === true) {\n          for (let i = 0; i < inline_js.length; i++) {\n      inline_js[i].call(root, root.Bokeh);\n    }\n} else if (Date.now() < root._bokeh_timeout) {\n      setTimeout(run_inline_js, 100);\n    } else if (!root._bokeh_failed_load) {\n      console.log(\"Bokeh: BokehJS failed to load within specified timeout.\");\n      root._bokeh_failed_load = true;\n    } else if (force !== true) {\n      const cell = $(document.getElementById(null)).parents('.cell').data().cell;\n      cell.output_area.append_execute_result(NB_LOAD_WARNING)\n    }\n  }\n\n  if (root._bokeh_is_loading === 0) {\n    console.debug(\"Bokeh: BokehJS loaded, going straight to plotting\");\n    run_inline_js();\n  } else {\n    load_libs(css_urls, js_urls, function() {\n      console.debug(\"Bokeh: BokehJS plotting callback run at\", now());\n      run_inline_js();\n    });\n  }\n}(window));"
     },
     "metadata": {},
     "output_type": "display_data"
    },
    {
     "data": {
      "application/vnd.bokehjs_exec.v0+json": "",
      "text/html": [
       "<script id=\"p1001\">\n",
       "  (function() {\n",
       "    const xhr = new XMLHttpRequest()\n",
       "    xhr.responseType = 'blob';\n",
       "    xhr.open('GET', \"http://localhost:63610/autoload.js?bokeh-autoload-element=p1001&bokeh-absolute-url=http://localhost:63610&resources=none\", true);\n",
       "    xhr.onload = function (event) {\n",
       "      const script = document.createElement('script');\n",
       "      const src = URL.createObjectURL(event.target.response);\n",
       "      script.src = src;\n",
       "      document.body.appendChild(script);\n",
       "    };\n",
       "    xhr.send();\n",
       "  })();\n",
       "</script>"
      ]
     },
     "metadata": {
      "application/vnd.bokehjs_exec.v0+json": {
       "server_id": "4ef43cb7b27c4ef8bb1083fd5f75c3a7"
      }
     },
     "output_type": "display_data"
    }
   ],
   "source": [
    "# Place for code for Exercise 1\n",
    "# The easiest way to do this is to inspect the first TPF and see that \n",
    "# cadence 293 is the last one before one column of the image becomes cut off.\n",
    "tpfc[0].interact()"
   ]
  },
  {
   "cell_type": "markdown",
   "id": "77e19247",
   "metadata": {},
   "source": [
    "<a id=\"2\"></a>\n",
    "# 2. Confirm that using a `remove_outlier` cutoff of `sigma_upper=2` did not affect the other cadences of the lightcurve for the second sector. \n",
    "\n",
    "At this point in the tutorial, the second sector's original light curve is still saved under the variable name `lc`; plot a graph of its time vs. flux columns and then overplot our sigma-clipped time and flux columns. Hint: You'll need to load `time_support()` first in order to use the time column in matplotlib. "
   ]
  },
  {
   "cell_type": "code",
   "execution_count": 5,
   "id": "e28e0803",
   "metadata": {},
   "outputs": [
    {
     "data": {
      "text/plain": [
       "(30000.0, 36000.0)"
      ]
     },
     "execution_count": 5,
     "metadata": {},
     "output_type": "execute_result"
    },
    {
     "data": {
      "image/png": "[encoded data removed]",
      "text/plain": [
       "<Figure size 640x480 with 1 Axes>"
      ]
     },
     "metadata": {},
     "output_type": "display_data"
    }
   ],
   "source": [
    "# SOLUTION FOR EXERCISE 2\n",
    "time_support()\n",
    "plt.plot(lc.time,lc.flux)\n",
    "plt.plot(lcc[1].time,lcc[1].flux)\n",
    "plt.ylim(30000,36000) # Need to zoom in to see the two."
   ]
  },
  {
   "cell_type": "markdown",
   "id": "e5439218",
   "metadata": {},
   "source": [
    "<a id=\"3\"></a>\n",
    "# 3. Determine if the rotation period returned by `lightkurve` is different when using only one sector's light curve at a time. "
   ]
  },
  {
   "cell_type": "code",
   "execution_count": 6,
   "id": "4e5511f1",
   "metadata": {},
   "outputs": [
    {
     "name": "stdout",
     "output_type": "stream",
     "text": [
      "2.1408393884460524 h\n",
      "2.1389443295268054 h\n"
     ]
    }
   ],
   "source": [
    "# SOLUTION FOR EXERCISE 3\n",
    "pg0=lcc[0].to_periodogram()\n",
    "pg1=lcc[1].to_periodogram()\n",
    "print(pg0.period_at_max_power.to(u.hr))\n",
    "print(pg1.period_at_max_power.to(u.hr))\n",
    "# To 3 significant figures, lightkurve returns the same period (in hours) \n",
    "# with either light curve individually or with the two light curves combined."
   ]
  },
  {
   "cell_type": "code",
   "execution_count": 7,
   "id": "889665f2",
   "metadata": {},
   "outputs": [
    {
     "ename": "OSError",
     "evalue": "error opening file b (Eleonora_1468.2870040465345-1475.8494727152606_10.0-x-10.0_astrocut.fits): FileNotFoundError: 2",
     "output_type": "error",
     "traceback": [
      "\u001b[0;31m---------------------------------------------------------------------------\u001b[0m",
      "\u001b[0;31mFileNotFoundError\u001b[0m                         Traceback (most recent call last)",
      "File \u001b[0;32m~/miniconda3/envs/lk-test/lib/python3.11/site-packages/astropy/io/fits/diff.py:310\u001b[0m, in \u001b[0;36mFITSDiff.__init__\u001b[0;34m(self, a, b, ignore_hdus, ignore_keywords, ignore_comments, ignore_fields, numdiffs, rtol, atol, ignore_blanks, ignore_blank_cards)\u001b[0m\n\u001b[1;32m    309\u001b[0m \u001b[38;5;28;01mtry\u001b[39;00m:\n\u001b[0;32m--> 310\u001b[0m     b \u001b[38;5;241m=\u001b[39m fitsopen(b)\n\u001b[1;32m    311\u001b[0m \u001b[38;5;28;01mexcept\u001b[39;00m \u001b[38;5;167;01mException\u001b[39;00m \u001b[38;5;28;01mas\u001b[39;00m exc:\n",
      "File \u001b[0;32m~/miniconda3/envs/lk-test/lib/python3.11/site-packages/astropy/io/fits/hdu/hdulist.py:214\u001b[0m, in \u001b[0;36mfitsopen\u001b[0;34m(name, mode, memmap, save_backup, cache, lazy_load_hdus, ignore_missing_simple, use_fsspec, fsspec_kwargs, **kwargs)\u001b[0m\n\u001b[1;32m    212\u001b[0m     \u001b[38;5;28;01mraise\u001b[39;00m \u001b[38;5;167;01mValueError\u001b[39;00m(\u001b[38;5;124mf\u001b[39m\u001b[38;5;124m\"\u001b[39m\u001b[38;5;124mEmpty filename: \u001b[39m\u001b[38;5;132;01m{\u001b[39;00mname\u001b[38;5;132;01m!r}\u001b[39;00m\u001b[38;5;124m\"\u001b[39m)\n\u001b[0;32m--> 214\u001b[0m \u001b[38;5;28;01mreturn\u001b[39;00m HDUList\u001b[38;5;241m.\u001b[39mfromfile(\n\u001b[1;32m    215\u001b[0m     name,\n\u001b[1;32m    216\u001b[0m     mode,\n\u001b[1;32m    217\u001b[0m     memmap,\n\u001b[1;32m    218\u001b[0m     save_backup,\n\u001b[1;32m    219\u001b[0m     cache,\n\u001b[1;32m    220\u001b[0m     lazy_load_hdus,\n\u001b[1;32m    221\u001b[0m     ignore_missing_simple,\n\u001b[1;32m    222\u001b[0m     use_fsspec\u001b[38;5;241m=\u001b[39muse_fsspec,\n\u001b[1;32m    223\u001b[0m     fsspec_kwargs\u001b[38;5;241m=\u001b[39mfsspec_kwargs,\n\u001b[1;32m    224\u001b[0m     \u001b[38;5;241m*\u001b[39m\u001b[38;5;241m*\u001b[39mkwargs,\n\u001b[1;32m    225\u001b[0m )\n",
      "File \u001b[0;32m~/miniconda3/envs/lk-test/lib/python3.11/site-packages/astropy/io/fits/hdu/hdulist.py:482\u001b[0m, in \u001b[0;36mHDUList.fromfile\u001b[0;34m(cls, fileobj, mode, memmap, save_backup, cache, lazy_load_hdus, ignore_missing_simple, **kwargs)\u001b[0m\n\u001b[1;32m    474\u001b[0m \u001b[38;5;250m\u001b[39m\u001b[38;5;124;03m\"\"\"\u001b[39;00m\n\u001b[1;32m    475\u001b[0m \u001b[38;5;124;03mCreates an `HDUList` instance from a file-like object.\u001b[39;00m\n\u001b[1;32m    476\u001b[0m \n\u001b[0;32m   (...)\u001b[0m\n\u001b[1;32m    479\u001b[0m \u001b[38;5;124;03mdocumentation for details of the parameters accepted by this method).\u001b[39;00m\n\u001b[1;32m    480\u001b[0m \u001b[38;5;124;03m\"\"\"\u001b[39;00m\n\u001b[0;32m--> 482\u001b[0m \u001b[38;5;28;01mreturn\u001b[39;00m \u001b[38;5;28mcls\u001b[39m\u001b[38;5;241m.\u001b[39m_readfrom(\n\u001b[1;32m    483\u001b[0m     fileobj\u001b[38;5;241m=\u001b[39mfileobj,\n\u001b[1;32m    484\u001b[0m     mode\u001b[38;5;241m=\u001b[39mmode,\n\u001b[1;32m    485\u001b[0m     memmap\u001b[38;5;241m=\u001b[39mmemmap,\n\u001b[1;32m    486\u001b[0m     save_backup\u001b[38;5;241m=\u001b[39msave_backup,\n\u001b[1;32m    487\u001b[0m     cache\u001b[38;5;241m=\u001b[39mcache,\n\u001b[1;32m    488\u001b[0m     ignore_missing_simple\u001b[38;5;241m=\u001b[39mignore_missing_simple,\n\u001b[1;32m    489\u001b[0m     lazy_load_hdus\u001b[38;5;241m=\u001b[39mlazy_load_hdus,\n\u001b[1;32m    490\u001b[0m     \u001b[38;5;241m*\u001b[39m\u001b[38;5;241m*\u001b[39mkwargs,\n\u001b[1;32m    491\u001b[0m )\n",
      "File \u001b[0;32m~/miniconda3/envs/lk-test/lib/python3.11/site-packages/astropy/io/fits/hdu/hdulist.py:1170\u001b[0m, in \u001b[0;36mHDUList._readfrom\u001b[0;34m(cls, fileobj, data, mode, memmap, cache, lazy_load_hdus, ignore_missing_simple, use_fsspec, fsspec_kwargs, **kwargs)\u001b[0m\n\u001b[1;32m   1168\u001b[0m \u001b[38;5;28;01mif\u001b[39;00m \u001b[38;5;129;01mnot\u001b[39;00m \u001b[38;5;28misinstance\u001b[39m(fileobj, _File):\n\u001b[1;32m   1169\u001b[0m     \u001b[38;5;66;03m# instantiate a FITS file object (ffo)\u001b[39;00m\n\u001b[0;32m-> 1170\u001b[0m     fileobj \u001b[38;5;241m=\u001b[39m _File(\n\u001b[1;32m   1171\u001b[0m         fileobj,\n\u001b[1;32m   1172\u001b[0m         mode\u001b[38;5;241m=\u001b[39mmode,\n\u001b[1;32m   1173\u001b[0m         memmap\u001b[38;5;241m=\u001b[39mmemmap,\n\u001b[1;32m   1174\u001b[0m         cache\u001b[38;5;241m=\u001b[39mcache,\n\u001b[1;32m   1175\u001b[0m         use_fsspec\u001b[38;5;241m=\u001b[39muse_fsspec,\n\u001b[1;32m   1176\u001b[0m         fsspec_kwargs\u001b[38;5;241m=\u001b[39mfsspec_kwargs,\n\u001b[1;32m   1177\u001b[0m     )\n\u001b[1;32m   1178\u001b[0m \u001b[38;5;66;03m# The Astropy mode is determined by the _File initializer if the\u001b[39;00m\n\u001b[1;32m   1179\u001b[0m \u001b[38;5;66;03m# supplied mode was None\u001b[39;00m\n",
      "File \u001b[0;32m~/miniconda3/envs/lk-test/lib/python3.11/site-packages/astropy/io/fits/file.py:218\u001b[0m, in \u001b[0;36m_File.__init__\u001b[0;34m(self, fileobj, mode, memmap, overwrite, cache, use_fsspec, fsspec_kwargs)\u001b[0m\n\u001b[1;32m    217\u001b[0m \u001b[38;5;28;01melif\u001b[39;00m \u001b[38;5;28misinstance\u001b[39m(fileobj, (\u001b[38;5;28mstr\u001b[39m, \u001b[38;5;28mbytes\u001b[39m)):\n\u001b[0;32m--> 218\u001b[0m     \u001b[38;5;28mself\u001b[39m\u001b[38;5;241m.\u001b[39m_open_filename(fileobj, mode, overwrite)\n\u001b[1;32m    219\u001b[0m \u001b[38;5;28;01melse\u001b[39;00m:\n",
      "File \u001b[0;32m~/miniconda3/envs/lk-test/lib/python3.11/site-packages/astropy/io/fits/file.py:636\u001b[0m, in \u001b[0;36m_File._open_filename\u001b[0;34m(self, filename, mode, overwrite)\u001b[0m\n\u001b[1;32m    635\u001b[0m \u001b[38;5;28;01mif\u001b[39;00m \u001b[38;5;129;01mnot\u001b[39;00m \u001b[38;5;28mself\u001b[39m\u001b[38;5;241m.\u001b[39m_try_read_compressed(\u001b[38;5;28mself\u001b[39m\u001b[38;5;241m.\u001b[39mname, magic, mode, ext\u001b[38;5;241m=\u001b[39mext):\n\u001b[0;32m--> 636\u001b[0m     \u001b[38;5;28mself\u001b[39m\u001b[38;5;241m.\u001b[39m_file \u001b[38;5;241m=\u001b[39m \u001b[38;5;28mopen\u001b[39m(\u001b[38;5;28mself\u001b[39m\u001b[38;5;241m.\u001b[39mname, IO_FITS_MODES[mode])\n\u001b[1;32m    637\u001b[0m     \u001b[38;5;28mself\u001b[39m\u001b[38;5;241m.\u001b[39mclose_on_error \u001b[38;5;241m=\u001b[39m \u001b[38;5;28;01mTrue\u001b[39;00m\n",
      "\u001b[0;31mFileNotFoundError\u001b[0m: [Errno 2] No such file or directory: 'Eleonora_1468.2870040465345-1475.8494727152606_10.0-x-10.0_astrocut.fits'",
      "\nDuring handling of the above exception, another exception occurred:\n",
      "\u001b[0;31mOSError\u001b[0m                                   Traceback (most recent call last)",
      "Cell \u001b[0;32mIn[7], line 4\u001b[0m\n\u001b[1;32m      1\u001b[0m \u001b[38;5;66;03m# SOLUTION FOR EXERCISE 4\u001b[39;00m\n\u001b[1;32m      2\u001b[0m \n\u001b[1;32m      3\u001b[0m \u001b[38;5;66;03m# Using the default filenames from the website at the time of the writing of this tutorial:\u001b[39;00m\n\u001b[0;32m----> 4\u001b[0m diff1\u001b[38;5;241m=\u001b[39mfits\u001b[38;5;241m.\u001b[39mFITSDiff(\u001b[38;5;124m'\u001b[39m\u001b[38;5;124mEleonora_0.fits\u001b[39m\u001b[38;5;124m'\u001b[39m,\u001b[38;5;124m'\u001b[39m\u001b[38;5;124mEleonora_1468.2870040465345-1475.8494727152606_10.0-x-10.0_astrocut.fits\u001b[39m\u001b[38;5;124m'\u001b[39m,numdiffs\u001b[38;5;241m=\u001b[39m\u001b[38;5;241m-\u001b[39m\u001b[38;5;241m1\u001b[39m)\n\u001b[1;32m      5\u001b[0m \u001b[38;5;28mprint\u001b[39m(diff1\u001b[38;5;241m.\u001b[39midentical)\n\u001b[1;32m      6\u001b[0m \u001b[38;5;28mprint\u001b[39m(diff1\u001b[38;5;241m.\u001b[39mreport())\n",
      "File \u001b[0;32m~/miniconda3/envs/lk-test/lib/python3.11/site-packages/astropy/io/fits/diff.py:312\u001b[0m, in \u001b[0;36mFITSDiff.__init__\u001b[0;34m(self, a, b, ignore_hdus, ignore_keywords, ignore_comments, ignore_fields, numdiffs, rtol, atol, ignore_blanks, ignore_blank_cards)\u001b[0m\n\u001b[1;32m    310\u001b[0m         b \u001b[38;5;241m=\u001b[39m fitsopen(b)\n\u001b[1;32m    311\u001b[0m     \u001b[38;5;28;01mexcept\u001b[39;00m \u001b[38;5;167;01mException\u001b[39;00m \u001b[38;5;28;01mas\u001b[39;00m exc:\n\u001b[0;32m--> 312\u001b[0m         \u001b[38;5;28;01mraise\u001b[39;00m \u001b[38;5;167;01mOSError\u001b[39;00m(\n\u001b[1;32m    313\u001b[0m             \u001b[38;5;124m\"\u001b[39m\u001b[38;5;124merror opening file b (\u001b[39m\u001b[38;5;132;01m{}\u001b[39;00m\u001b[38;5;124m): \u001b[39m\u001b[38;5;132;01m{}\u001b[39;00m\u001b[38;5;124m: \u001b[39m\u001b[38;5;132;01m{}\u001b[39;00m\u001b[38;5;124m\"\u001b[39m\u001b[38;5;241m.\u001b[39mformat(\n\u001b[1;32m    314\u001b[0m                 b, exc\u001b[38;5;241m.\u001b[39m\u001b[38;5;18m__class__\u001b[39m\u001b[38;5;241m.\u001b[39m\u001b[38;5;18m__name__\u001b[39m, exc\u001b[38;5;241m.\u001b[39margs[\u001b[38;5;241m0\u001b[39m]\n\u001b[1;32m    315\u001b[0m             )\n\u001b[1;32m    316\u001b[0m         )\n\u001b[1;32m    317\u001b[0m     close_b \u001b[38;5;241m=\u001b[39m \u001b[38;5;28;01mTrue\u001b[39;00m\n\u001b[1;32m    318\u001b[0m \u001b[38;5;28;01melse\u001b[39;00m:\n",
      "\u001b[0;31mOSError\u001b[0m: error opening file b (Eleonora_1468.2870040465345-1475.8494727152606_10.0-x-10.0_astrocut.fits): FileNotFoundError: 2"
     ]
    }
   ],
   "source": [
    "# SOLUTION FOR EXERCISE 4\n",
    "\n",
    "# Using the default filenames from the website at the time of the writing of this tutorial:\n",
    "diff1=fits.FITSDiff('Eleonora_0.fits','Eleonora_1468.2870040465345-1475.8494727152606_10.0-x-10.0_astrocut.fits',numdiffs=-1)\n",
    "print(diff1.identical)\n",
    "print(diff1.report())\n",
    "\n",
    "# The only differences appera to be in \"CHECKSUM\" and \"DATASUM\" values, which seem to correspond to the \n",
    "# timestamps when the files were saved. Try ignoring those values. \n",
    "diff1_ignore=fits.FITSDiff('Eleonora_0.fits',\n",
    "                           'Eleonora_1468.2870040465345-1475.8494727152606_10.0-x-10.0_astrocut.fits',\n",
    "                           numdiffs=-1,ignore_keywords=['CHECKSUM','DATASUM'])\n",
    "print(diff1_ignore.identical)\n",
    "# Do the same for the other file.\n",
    "diff2_ignore=fits.FITSDiff('Eleonora_1.fits',\n",
    "                           'Eleonora_1945.4743041992188-1954.8493041992188_10.0-x-10.0_astrocut.fits',\n",
    "                           numdiffs=-1,ignore_keywords=['CHECKSUM','DATASUM'])\n",
    "print(diff2_ignore.identical)"
   ]
  },
  {
   "cell_type": "markdown",
   "id": "6529c38e",
   "metadata": {},
   "source": [
    "<a id=\"4\"></a>\n",
    "# 4. Try recreating the procedure above to find the rotation period for a fainter (higher magnitude) small body from [Pál et al. 2020](https://ui.adsabs.harvard.edu/abs/2020ApJS..247...26P/abstract) such as Hippodamia. \n",
    "What issues do you encounter in this case?"
   ]
  },
  {
   "cell_type": "code",
   "execution_count": null,
   "id": "45f497c8",
   "metadata": {},
   "outputs": [],
   "source": [
    "# SOLUTION FOR EXERCISE 5\n",
    "objname2='Hippodamia'\n",
    "sector_table2=Tesscut.get_sectors(objectname=objname2, moving_target=True)\n",
    "print(sector_table2)\n",
    "# Because there is only one sector, we do not need the loops\n",
    "# that we did for Eleonora. \n",
    "hdulist2 = Tesscut.get_cutouts(objectname=objname2, moving_target=True, size=10)"
   ]
  },
  {
   "cell_type": "code",
   "execution_count": null,
   "id": "1ec882fc",
   "metadata": {},
   "outputs": [],
   "source": [
    "i=0\n",
    "hdulist2[i].writeto(objname2+'_'+str(i)+'.fits',overwrite=True)\n",
    "tpf2 = lk.TessTargetPixelFile(objname2+'_'+str(i)+'.fits')\n",
    "tpf2.interact()"
   ]
  },
  {
   "cell_type": "markdown",
   "id": "659ffc6f",
   "metadata": {},
   "source": [
    "After scrolling through the cadences, it's clear that Hippodamia passes in front of many stars that significantly impact the flux in the aperture. Since Hippodamia is so much dimmer, the influence on the light curve is much more pronounced than for Eleonora. We can try to use a similar outlier removal, but so many of the flux data points are high, it will likely not work. Generally, differential photometry (comparing images before the asteroid appears and after) is required. Because Hippodamia's period is relatively short, (P=8.9993 hr), we can try to cutout the few days around cadences 365-460 to see if we can find the rotation period from that."
   ]
  },
  {
   "cell_type": "code",
   "execution_count": null,
   "id": "34db69ed",
   "metadata": {},
   "outputs": [],
   "source": [
    "lc2=tpf2.to_lightcurve()\n",
    "lc2=lc2.truncate(before=365,after=460,column='cadenceno')\n",
    "lc2.plot()"
   ]
  },
  {
   "cell_type": "code",
   "execution_count": null,
   "id": "d3a3d969",
   "metadata": {},
   "outputs": [],
   "source": [
    "pg2=lc2.to_periodogram()\n",
    "pg2.plot()\n",
    "print(pg2.period_at_max_power.to(u.hr))\n",
    "print(2*pg2.period_at_max_power.to(u.hr))\n"
   ]
  },
  {
   "cell_type": "code",
   "execution_count": null,
   "id": "908fcbb6",
   "metadata": {},
   "outputs": [],
   "source": [
    "# Again, our result is close to 1/2 times to the accepted period. \n",
    "lc2.fold(period=2*pg2.period_at_max_power).scatter()"
   ]
  },
  {
   "cell_type": "markdown",
   "id": "f8b93b87",
   "metadata": {},
   "source": [
    "<a id=\"5\"></a>\n",
    "# 5. Use [astroquery's Minor Planet Center Queries (MPC)](https://astroquery.readthedocs.io/en/latest/mpc/mpc.html?highlight=mpc#ephemerides) `get_ephemeris` feature to investigate why the median flux for the first sector's observations is lower than for the second sector's observations. \n",
    "The times of each cadence are in the light curve's `time` column."
   ]
  },
  {
   "cell_type": "code",
   "execution_count": null,
   "id": "dcbc44b9",
   "metadata": {},
   "outputs": [],
   "source": [
    "# SOLUTION FOR EXERCISE 6.\n",
    "from astroquery.mpc import MPC\n",
    "# Get tables for each start and end time. Just view the first row.\n",
    "eph1=MPC.get_ephemeris('Eleonora',start=lcc[0].time[0])\n",
    "eph2=MPC.get_ephemeris('Eleonora',start=lcc[0].time[-1])\n",
    "eph3=MPC.get_ephemeris('Eleonora',start=lcc[1].time[0])\n",
    "eph4=MPC.get_ephemeris('Eleonora',start=lcc[1].time[-1])\n",
    "columns=['Date','RA','Dec','Delta','r','Elongation','Phase','V']\n",
    "print(eph1[columns][0])\n",
    "print(eph2[columns][0])\n",
    "print(eph3[columns][0])\n",
    "print(eph4[columns][0])"
   ]
  },
  {
   "cell_type": "code",
   "execution_count": null,
   "id": "94a50c37",
   "metadata": {},
   "outputs": [],
   "source": [
    "# Compare the medians of the two fluxes.\n",
    "print(np.median(lcc[0].flux))\n",
    "print(np.median(lcc[1].flux))\n",
    "print((np.median(lcc[1].flux)-np.median(lcc[0].flux))/np.median(lcc[0].flux))"
   ]
  },
  {
   "cell_type": "markdown",
   "id": "50679770",
   "metadata": {},
   "source": [
    "During the second sector, Eleonora was 2.0-2.2% closer than the first, but the median flux was nearly 12% higher and the MPC doesn't report any difference in V magnitude.\n",
    "***\n",
    "[Back to top](#Top)\n",
    "\n",
    "<img style=\"float: right;\" src=\"https://raw.githubusercontent.com/spacetelescope/notebooks/master/assets/stsci_pri_combo_mark_horizonal_white_bkgd.png\" alt=\"Space Telescope Logo\" width=\"200px\"/> "
   ]
  }
 ],
 "metadata": {
  "kernelspec": {
   "display_name": "Python 3 (ipykernel)",
   "language": "python",
   "name": "python3"
  },
  "language_info": {
   "codemirror_mode": {
    "name": "ipython",
    "version": 3
   },
   "file_extension": ".py",
   "mimetype": "text/x-python",
   "name": "python",
   "nbconvert_exporter": "python",
   "pygments_lexer": "ipython3",
   "version": "3.11.4"
  }
 },
 "nbformat": 4,
 "nbformat_minor": 5
}
