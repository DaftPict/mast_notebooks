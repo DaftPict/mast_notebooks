{
 "cells": [
  {
   "cell_type": "markdown",
   "metadata": {},
   "source": [
    "# Footprint Viewer\n",
    "***\n",
    "## Learning Goals\n",
    "\n",
    "## Introduction\n",
    "This Notebook is a replacement for a web-based footprint viewer.\n",
    "\n",
    "Eventually, footprint viewing functionality will be built into the [Astronomer's Proposal Tool (APT)](https://www.stsci.edu/scientific-community/software/astronomers-proposal-tool-apt); scientists intending to propose for observations should use APT. \n",
    "\n",
    "\n",
    "\n",
    "## Imports\n",
    "- `selectSIAF` is a script that hides some of the complexities of this Notebook. Curious readers may wish to explore this file.\n",
    "- `numpy` is not listed in the import cell, but is necessary to run the `selectSIAF` script\n",
    "- `ipyaladin` plots the footprints on to a survey background"
   ]
  },
  {
   "cell_type": "code",
   "execution_count": null,
   "metadata": {},
   "outputs": [],
   "source": [
    "###############################################################\n",
    "# ASB-25623 Notebook to display Telescope/Instrument footprints on sky viewer\n",
    "#\n",
    "# ASB-25623     Brian McLean    Initial prototype v0.1 2024-02-29\n",
    "###############################################################\n",
    "from astroquery.mast import Mast\n",
    "from ipyaladin import Aladin\n",
    "from selectSIAF import defineApertures, getVertices, computeStcsFootprint\n",
    "\n",
    "import matplotlib.pyplot as plt\n",
    "import pysiaf\n",
    "import numpy as np"
   ]
  },
  {
   "cell_type": "markdown",
   "metadata": {},
   "source": [
    "## Select a Telescope, Instrument, and Aperture\n",
    "In order to display a fooprint, we must first select three criteria:\n",
    "1. Telescope. This must be a telescope with data in [pysiaf](https://pysiaf.readthedocs.io/en/stable/index.html); at present, this is HST, JWST, and Roman.\n",
    "2. Instrument. The instrument used for the observation. The valid acronyms are listed in code comments in the cell below.\n",
    "3. Aperture. For a full list of valid apertures, see the instrument documentation:\n",
    "\n",
    "- [HST User Documentation Homepage](https://hst-docs.stsci.edu)\n",
    "- [JWST MIRI Homepage](https://jwst-docs.stsci.edu/jwst-mid-infrared-instrument) (JWST has no instrument homepage; use the site navigation too reach other instrument pages)\n",
    "- [Roman Instruments Homepage](https://roman-docs.stsci.edu/roman-instruments-home)\n",
    "\n",
    "### Example: Roman WFI\n",
    "In the code cell below, we'll set some variables to hold these three selections. For completeness, examples for HST and JWST and available but commented out."
   ]
  },
  {
   "cell_type": "code",
   "execution_count": null,
   "metadata": {},
   "outputs": [],
   "source": [
    "# define telescope pointing at target\n",
    "\n",
    "# selectedTelescope = 'roman'\n",
    "# selectedInstrument = 'WFI'      #Allowed options ALL, WFI, CGI\n",
    "# selectedAperture = 'ALL'        #Allowed options ALL or individual apertures listed in instrument documentation\n",
    "\n",
    "# selectedTelescope = 'hst'\n",
    "# selectedInstrument = 'ALL'     #Allowed options ALL, ACS, COS, FGS, NICMOS, STIS, WFC3\n",
    "# selectedAperture = 'ALL'       #Allowed options ALL or individual apertures listed in instrument documentation\n",
    "\n",
    "selectedTelescope = 'jwst'\n",
    "selectedInstrument = \"MIRI\"     #Allowed options ALL, FGS, MIRI, NIRCAM, NIRSPEC, NIRISS\n",
    "selectedAperture = 'ALL'       #Allowed options ALL or individual apertures listed in instrument documentation"
   ]
  },
  {
   "cell_type": "markdown",
   "metadata": {},
   "source": [
    "## Specifying a Target\n",
    "For convenience, we can use the `resolve_object` function from the MAST library to get our coordinates."
   ]
  },
  {
   "cell_type": "code",
   "execution_count": null,
   "metadata": {},
   "outputs": [],
   "source": [
    "# Resolve the target name to coordinates\n",
    "coords = Mast.resolve_object(\"M101\")\n",
    "coords"
   ]
  },
  {
   "cell_type": "markdown",
   "metadata": {},
   "source": [
    "Using MAST to resolve our target returns a [skycoord](https://docs.astropy.org/en/stable/coordinates/) object. We need two different formats to satisfy `pysiaf` and `Aladin`. `pysiaf` requires separate ra/dec objects, while `Aladin` is looking for a string containing both.\n",
    "\n",
    "Fortunately, `skycoord` objects are flexible enough to handle both of these requirements with straightforward calls:"
   ]
  },
  {
   "cell_type": "code",
   "execution_count": null,
   "metadata": {},
   "outputs": [],
   "source": [
    "# get the values for SIAF\n",
    "targetRa = coords.ra\n",
    "targetDec = coords.dec\n",
    "\n",
    "coords_str = coords.to_string()\n",
    "\n",
    "# print out these values to check their conversions\n",
    "print(f\"RA:     {targetRa}\\nDEC:    {targetDec}\\nString: {coords_str}\")"
   ]
  },
  {
   "cell_type": "markdown",
   "metadata": {},
   "source": [
    "There's a little bit of rounding as a result of our `to_string()` call. As we'll see later on, we only need the string to point the Aladin viewer at the right section of the sky; a little bit of rounding won't hurt us in this case."
   ]
  },
  {
   "cell_type": "markdown",
   "metadata": {},
   "source": [
    "## Telescope Position Angle\n",
    "\n",
    "The last variable we need to set before using `pysiaf` is the telescope position angle. From the docstring of the `attitude_matrix` function:\n",
    ">Position angle of V3 axis at nu2,nu3 measured from North to East (default unit is degree)\n",
    "\n",
    "In plain Enligsh, this is the telescope roll angle; modifying this value will cause the footprints to \"roll\" around the target."
   ]
  },
  {
   "cell_type": "code",
   "execution_count": null,
   "metadata": {},
   "outputs": [],
   "source": [
    "# can be any value between 0 and 360\n",
    "telescopePositionAngle = 180"
   ]
  },
  {
   "cell_type": "markdown",
   "metadata": {},
   "source": [
    "## Generate Apertures, Reference Angles, and Pointing Matrix\n",
    "`psiaf` is also expecting us to pass in the aperture names and appropriate reference angles. This is a bit beyond the scope of this Notebook, but the `defineApertures` is available in the `selectSIAF.py` file included in the Notebook repository."
   ]
  },
  {
   "cell_type": "code",
   "execution_count": null,
   "metadata": {},
   "outputs": [],
   "source": [
    "# Set up aperture list and reference coordinates\n",
    "apertureList, V2Ref, V3Ref = defineApertures(selectedTelescope, selectedInstrument, selectedAperture)\n",
    "\n",
    "# Set telescope pointing matrix: \"attitude matrix\"\n",
    "attmat = pysiaf.utils.rotations.attitude_matrix(V2Ref, V3Ref, targetRa, targetDec, telescopePositionAngle)"
   ]
  },
  {
   "cell_type": "markdown",
   "metadata": {},
   "source": [
    "## Optional: Plot Footprint in Telescope Frame\n",
    "\n",
    "Although not necessary to generate the final plot, it is possible to show the telescope apertures plotted relative to the boresight."
   ]
  },
  {
   "cell_type": "code",
   "execution_count": null,
   "metadata": {},
   "outputs": [],
   "source": [
    "# OPTIONAL : set up plot of apertures (only works for QUAD, RECT, PICK aperture shapes)\n",
    "\n",
    "plt.figure(figsize=(4, 4), facecolor='w', edgecolor='k')\n",
    "ax = plt.gca()\n",
    "\n",
    "for aperture in apertureList:\n",
    "    # circles are not properly plotted, skip\n",
    "    if aperture.AperShape!='CIRC':\n",
    "        aperture.plot()\n",
    "\n",
    "# Add guide lines for boresight (V2, V3) = (0, 0)\n",
    "plt.axvline(color='k', linestyle=\":\")\n",
    "plt.axhline(color='k', linestyle=\":\")\n",
    "\n",
    "# Set the axis limits and invert the X-axis such that V2 is positive to the left\n",
    "ax.invert_xaxis()\n",
    "\n",
    "# Display the plot\n",
    "plt.show() "
   ]
  },
  {
   "cell_type": "markdown",
   "metadata": {},
   "source": [
    "## Calculate Sky Regions\n",
    "\n",
    "The final step is to convert to an [IVOA Space-Time Coordinate Metadata Linear String Implementation (STS-C)](https://ivoa.net/documents/STC-S/). This is our footprint! Since `Aladin` knows how to parse this format, it will be able to plot it on a sky background of our choice. It is not particularly human readable, but we'll print it out anyway."
   ]
  },
  {
   "cell_type": "code",
   "execution_count": null,
   "metadata": {},
   "outputs": [],
   "source": [
    "# Loop through aperture list  (only works for QUAD, RECT, CIRC aperture shapes)\n",
    "# Transform to sky coordinates, build footprints for passing to Aladin\n",
    "combinedSregion=''\n",
    "for apertureSiaf in apertureList:\n",
    "    apertureSiaf.set_attitude_matrix(attmat)\n",
    "    xVertices, yVertices = getVertices(apertureSiaf)\n",
    "    \n",
    "    # Skip PICK which do not have vertices\n",
    "    if (xVertices is not None and yVertices is not None):\n",
    "        skyRa, skyDec = apertureSiaf.idl_to_sky(xVertices, yVertices)\n",
    "        apertureSregion = computeStcsFootprint(apertureSiaf, skyRa, skyDec)\n",
    "        combinedSregion+=apertureSregion\n",
    "        \n",
    "print('\\n'+combinedSregion)"
   ]
  },
  {
   "cell_type": "markdown",
   "metadata": {},
   "source": [
    "## Initialize Aladin\n",
    "Let's start the Aladin viewer. We're loading a default field of view of 1 degree, with DSS as the background survey.\n",
    "\n",
    "Depending on your screen size, you may need to adjust the `height` (in pixels) to get the best view.\n",
    "\n",
    "**NOTE:** The footprint will not show up right up away!"
   ]
  },
  {
   "cell_type": "code",
   "execution_count": null,
   "metadata": {},
   "outputs": [],
   "source": [
    "aladin = Aladin(height=600,fov=1, survey=\"P/DSS2/color\", target=coords_str)\n",
    "aladin"
   ]
  },
  {
   "cell_type": "markdown",
   "metadata": {},
   "source": [
    "This looks great, but where's our footprint? Well, we can only add an overlay once `Aladin` is already up and running. Let's add it now:"
   ]
  },
  {
   "cell_type": "code",
   "execution_count": null,
   "metadata": {},
   "outputs": [],
   "source": [
    "# Add the footprint in green; the specific color is your choice\n",
    "aladin.add_overlay_from_stcs(combinedSregion,{\"color\":\"green\"})"
   ]
  },
  {
   "cell_type": "markdown",
   "metadata": {},
   "source": [
    "Done! Our footprint should be visible now."
   ]
  },
  {
   "cell_type": "markdown",
   "metadata": {},
   "source": [
    "## About this Notebook\n",
    "\n",
    "If you have comments or questions on this notebook, please contact us through the Archive Help Desk e-mail at archive@stsci.edu.\n",
    "\n",
    "**Authors:** Brian McLean, Thomas Dutkiewicz <br>\n",
    "**Keywords:** Footprints <br>\n",
    "**Last Updated:** Mar 2024 <br>\n",
    "\n",
    "***\n",
    "[Top of Page](#top)\n",
    "<img style=\"float: right;\" src=\"https://raw.githubusercontent.com/spacetelescope/notebooks/master/assets/stsci_pri_combo_mark_horizonal_white_bkgd.png\" alt=\"Space Telescope Logo\" width=\"200px\"/> "
   ]
  }
 ],
 "metadata": {
  "kernelspec": {
   "display_name": "Python 3 (ipykernel)",
   "language": "python",
   "name": "python3"
  },
  "language_info": {
   "codemirror_mode": {
    "name": "ipython",
    "version": 3
   },
   "file_extension": ".py",
   "mimetype": "text/x-python",
   "name": "python",
   "nbconvert_exporter": "python",
   "pygments_lexer": "ipython3",
   "version": "3.12.1"
  }
 },
 "nbformat": 4,
 "nbformat_minor": 4
}
