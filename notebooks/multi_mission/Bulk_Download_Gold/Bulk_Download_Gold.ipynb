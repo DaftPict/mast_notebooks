{
 "cells": [
  {
   "cell_type": "markdown",
   "metadata": {},
   "source": [
    "# **MAST Data Bulk Download through AWS**\n",
    "Enhance the MAST user experience for astronomers and scientists such that the data download per mission is targeted and seamless!"
   ]
  },
  {
   "cell_type": "markdown",
   "metadata": {},
   "source": [
    "# Learning Goals\n",
    "By using this notebook, an astronomer/scientist will:\n",
    "* Understand that downloading data and files in bulk from AWS is feasible.\n",
    "* Make targeted queries to MAST using parameters such as: `right ascension`, `declination`, `observation` and more.\n",
    "* Filter the resulting products by using parameters such as: `productType`, `productSubGroupDescription`, `productGroupDescription`, `mrp_only`, and more.\n",
    "* Use this notebook to programmatically download *.fits* files locally, which may be much easier than the equivalent UI web tool."
   ]
  },
  {
   "cell_type": "markdown",
   "metadata": {},
   "source": [
    "# Table of Contents\n",
    "* Introduction\n",
    "* Imports\n",
    "* Two Core Functions from Astropy: `query_criteria()` and `filter_products()`\n",
    "* The 3-Step Data Download Process"
   ]
  },
  {
   "cell_type": "markdown",
   "metadata": {},
   "source": [
    "# Introduction\n",
    "This notebook contains some sample code to bulk download files from MAST, with examples provided for `GALEX` and  `Pan-STARRS (PS1)`. This notebook can be generalized to query data from other missions too such as: `SWIFT`, `HST`, or `IUE`. Please feel free to modify the code to your particular use case! If you have any questions, please don't hesitate to reach out to archive@stsci.edu.\n",
    "\n",
    "Other links that maybe useful:\n",
    "- [MAST Homepage](https://archive.stsci.edu/)\n",
    "- [MAST Notebook Repository](https://spacetelescope.github.io/mast_notebooks/intro.html)\n",
    "- [GALEX Homepage](https://galex.stsci.edu/GR6/)\n",
    "- [Pan-STARRS Homepage](https://archive.stsci.edu/panstarrs/)\n"
   ]
  },
  {
   "cell_type": "markdown",
   "metadata": {},
   "source": [
    "# Imports\n",
    "* `Observations` from *astroquery.mast* to query the Barbara A. Mikulski Archive for Space Telescopes (MAST)."
   ]
  },
  {
   "cell_type": "code",
   "execution_count": null,
   "metadata": {},
   "outputs": [
    {
     "name": "stdout",
     "output_type": "stream",
     "text": [
      "INFO: Using the S3 STScI public dataset [astroquery.mast.cloud]\n"
     ]
    }
   ],
   "source": [
    "from astroquery.mast import Observations\n",
    "\n",
    "# Turning on access to the cloud dataset.\n",
    "Observations.enable_cloud_dataset()"
   ]
  },
  {
   "cell_type": "markdown",
   "metadata": {},
   "source": [
    "# Two Core Functions from Astropy: `query_criteria()` and `filter_products()`\n",
    "\n",
    "`query_criteria()` and `filter_products()` are two functions from Astropy that enable us to make queries and then filter the corresponding products.\n",
    "\n",
    "All the parameters that we could use in `query_criteria()` are shown below."
   ]
  },
  {
   "cell_type": "code",
   "execution_count": 3,
   "metadata": {},
   "outputs": [
    {
     "name": "stdout",
     "output_type": "stream",
     "text": [
      "     Column Name             Column Label       Data Type   Units                                  Description                                                                               Examples/Valid Values                                                \n",
      "--------------------- ------------------------- --------- ---------- ------------------------------------------------------------------------ --------------------------------------------------------------------------------------------------------------------\n",
      "           intentType          Observation Type    string                                  Whether observation is for science or calibration.                                                                                   Valid values: science, calibration\n",
      "       obs_collection                   Mission    string                                                                          Collection                                                                                            E.g. SWIFT, PS1, HST, IUE\n",
      "      provenance_name           Provenance Name    string                                                  Provenance name, or source of data                                                                                             E.g. TASOC, CALSTIS, PS1\n",
      "      instrument_name                Instrument    string                                                                     Instrument Name                                                                                       E.g. WFPC2/WFC, UVOT, STIS/CCD\n",
      "              project                   Project    string                                                                  Processing project                                                                                      E.g. HST, HLA, EUVE, hlsp_legus\n",
      "              filters                   Filters    string                                                                  Instrument filters                                                                                    F469N, NUV, FUV, LOW DISP, MIRROR\n",
      "    wavelength_region                  Waveband    string                                                                         Energy Band                                                                                                   EUV, XRAY, OPTICAL\n",
      "          target_name               Target Name    string                                                                         Target Name                                                                                   Ex. COMET-67P-CHURYUMOV-GER-UPDATE\n",
      "target_classification     Target Classification    string                                                                      Type of target                                                 Ex. COMET;COMET BEING ORBITED BY THE ROSETTA SPACECRAFT;SOLAR SYSTEM\n",
      "               obs_id            Observation ID    string                                            Observation identifier, given by mission                                                                                                 U24Z0101T, N4QF18030\n",
      "                 s_ra                        RA     float        deg                                              Observation Right Ascension                                    May be displayed in the Portal as hh:mm:ss.sss, but should be searched as decimal\n",
      "                s_dec                       Dec     float        deg                                                  Observation Declination                                    May be displayed in the Portal as hh:mm:ss.sss, but should be searched as decimal\n",
      "          proposal_id               Proposal ID    string                                                                         Proposal ID                                                                                              E.g. EGCJC, 11360, 9401\n",
      "          proposal_pi    Principal Investigator    string                                                  Principal investigator's last name                                                                                                 Chander, Chu, Malkin\n",
      "            obs_title         Observation Title    string                                               Observation description from proposal                                                                                     Age-dating Star Clusters in M101\n",
      "     dataproduct_type              Product Type    string                                                                     Type of product              Valid values: IMAGE, SPECTRUM, SED, TIMESERIES, VISIBILITY, EVENTLIST, CUBE, CATALOG, ENGINEERING, NULL\n",
      "          calib_level         Calibration Level   integer                                                                   Calibration level                      0 = raw, 1 = uncalibrated, 2 = calibrated, 3 = science product, 4 = contributed science product\n",
      "                t_min                Start Time     float        MJD                                               Observation start datetime                                     May be displayed in the Portal as YYY-MM-DD HH:MM, but should be searched as MJD\n",
      "                t_max                  End Time     float        MJD                                                 Observation end datetime                                     May be displayed in the Portal as YYY-MM-DD HH:MM, but should be searched as MJD\n",
      "        t_obs_release              Release Date     float        MJD                                                     Dataset release date                                     May be displayed in the Portal as YYY-MM-DD HH:MM, but should be searched as MJD\n",
      "            t_exptime           Exposure Length     float        sec                                                            Exposure time                                                                                                                     \n",
      "               em_min           Min. Wavelength     float         nm                                                       Minimum Wavelength                                                                                                                     \n",
      "               em_max           Max. Wavelength     float         nm                                                       Maximum Wavelength                                                                                                                     \n",
      "                objID                 Object ID   integer                                  Plane ID of observation at given calibration level                                                                                        Long integer, e.g. 2012969445\n",
      "             s_region                  s_region    string ICRS Shape                                                          STC/S Footprint                                      Will be ICRS circle or polygon. E.g. CIRCLE ICRS 17.71740689 -58.40043015 0.625\n",
      "              jpegURL                   jpegURL    string                                                                   Preview Image URL                                                            https://archive.stsci.edu/hst/previews/N4QF/N4QF18090.jpg\n",
      "             distance              Distance (\")     float     arcsec Angular separation between searched coordinates and center of obsevation                                                                                                                     \n",
      "                obsid          Product Group ID   integer                                                      Database identifier for obs_id                                                                                        Long integer, e.g. 2007590987\n",
      "           dataRights               Data Rights    string                                                                         Data Rights                                                                     valid values: public,exclusive_access,restricted\n",
      "               mtFlag             Moving Target   boolean                                                                  Moving Target Flag If True, observation contains a moving target, if False or absent observation may or may not contain a moving target\n",
      "               srcDen Number of Catalog Objects     float                                    Number of cataloged objects found in observation                                                                                                                     \n",
      "              dataURL                  Data URL    string                                                                            Data URL                                                                                                                     \n",
      "        proposal_type             Proposal Type    string                                                          Type of telescope proposal                                                                                    Eg. 3PI, GO, GO/DD, HLA, GII, AIS\n",
      "      sequence_number           Sequence Number   integer                                 Sequence number, e.g. Kepler quarter or TESS sector                                                                                                                     \n"
     ]
    }
   ],
   "source": [
    "Observations.get_metadata(\"observations\").pprint(max_lines=-1, max_width=-1)"
   ]
  },
  {
   "cell_type": "markdown",
   "metadata": {},
   "source": [
    "All the filters that we could filter by in `filter_products()` is located on the **[MAST API](https://masttest.stsci.edu/api/v0/_productsfields.html)**."
   ]
  },
  {
   "cell_type": "markdown",
   "metadata": {},
   "source": [
    "# The 3-Step Data Download Process\n",
    "* **STEP 1**: Get the products after making a specific query.\n",
    "* **STEP 2**: Filter the products based on specific parameters.\n",
    "* **STEP 3**: Download the files locally via Python."
   ]
  },
  {
   "cell_type": "markdown",
   "metadata": {},
   "source": [
    "**STEP 1**: When filtering an observation using the function `query_criteria()`, you must specify two coordinates for the right ascension and two coordinates for the declination. This forms a box to limit the search area. You must also supply a mission that you would want to search from such as 'GALEX' or 'PS1'.\n",
    "\n",
    "If you would like to filter by other parameters, see the other filter parameters above. Please modify this code for your specific use case!"
   ]
  },
  {
   "cell_type": "code",
   "execution_count": null,
   "metadata": {},
   "outputs": [
    {
     "data": {
      "text/plain": [
       "175841"
      ]
     },
     "execution_count": 5,
     "metadata": {},
     "output_type": "execute_result"
    }
   ],
   "source": [
    "#    - Ex.: s_ra: 30.2,31.2\n",
    "#           s_dec: -10.25,-9.25\n",
    "#           obs_collection: GALEX, PS1, SWIFT, etc.\n",
    "\n",
    "obs = Observations.query_criteria(s_ra=[30.2,31.2], s_dec=[-10.25,-9.25], obs_collection=\"GALEX\")\n",
    "prod = Observations.get_product_list(obs)\n",
    "len(prod)\n"
   ]
  },
  {
   "cell_type": "markdown",
   "metadata": {},
   "source": [
    "**STEP 2**: Now we can use `filter_products()` to select specific products. Right now, this code is configured such that you can filter based on *productType*, *productSubGroupDescription*, *productGroupDescription*, and *mrp_only*. The valid filter parameters for GALEX and Pan-STARRS are outlined below as examples. Please use only these parameters + corresponding values, unless you see another parameter in the documentation (see above) that you would like to use. Please use the right filter products for your specific mission by referring to the documentation (see above)!\n",
    "\n",
    "**GALEX Example**\n",
    "* productType: *AUXILIARY*, *CATALOG*, *INFO*, *PREVIEW*, *SCIENCE*, *THUMBNAIL*\n",
    "* productSubGroupDescription: *Catalog Only*, *Imaging Only*, *Spectra Only*, *Spectral Image Strips Only*, *Whole Field Images Only*\n",
    "* productGroupDescription: *Minimum Recommended Products*\n",
    "* mrp_only: *True*, *False*.\n",
    "\n",
    "**Pan-STARRS (PS1) Example**\n",
    "* productType: *AUXILIARY*, *CATALOG*, *INFO*, *SCIENCE*\n",
    "* productSubGroupDescription: - \n",
    "* productGroupDescription: *Minimum Recommended Products*\n",
    "* mrp_only: *True*, *False*\n",
    "\n",
    "Note that *productSubGroupDescription* and *productGroupDescription* may not be needed when filtering for Pan-STARRS products. An example for 'GALEX' is provided below as well as an example for PS1. Please modify this code for your specific use case!\n"
   ]
  },
  {
   "cell_type": "code",
   "execution_count": null,
   "metadata": {},
   "outputs": [
    {
     "data": {
      "text/plain": [
       "1785"
      ]
     },
     "metadata": {},
     "output_type": "display_data"
    },
    {
     "data": {
      "text/html": [
       "<div><i>Table length=5</i>\n",
       "<table id=\"table4428952768\" class=\"table-striped table-bordered table-condensed\">\n",
       "<thead><tr><th>obsID</th><th>obs_collection</th><th>dataproduct_type</th><th>obs_id</th><th>description</th><th>type</th><th>dataURI</th><th>productType</th><th>productGroupDescription</th><th>productSubGroupDescription</th><th>productDocumentationURL</th><th>project</th><th>prvversion</th><th>proposal_id</th><th>productFilename</th><th>size</th><th>parent_obsid</th><th>dataRights</th><th>calib_level</th><th>filters</th></tr></thead>\n",
       "<thead><tr><th>str7</th><th>str3</th><th>str5</th><th>str43</th><th>str32</th><th>str1</th><th>str71</th><th>str9</th><th>str28</th><th>str1</th><th>str1</th><th>str3</th><th>str3</th><th>str1</th><th>str54</th><th>int64</th><th>str7</th><th>str10</th><th>int64</th><th>str1</th></tr></thead>\n",
       "<tr><td>1971976</td><td>PS1</td><td>image</td><td>rings.v3.skycell.1062.040.stk.g</td><td>stack data image</td><td>C</td><td>mast:PS1/product/rings.v3.skycell.1062.040.stk.g.unconv.fits</td><td>SCIENCE</td><td>Minimum Recommended Products</td><td>--</td><td>--</td><td>3PI</td><td>pv3</td><td>--</td><td>rings.v3.skycell.1062.040.stk.g.unconv.fits</td><td>66807360</td><td>1971976</td><td>PUBLIC</td><td>3</td><td>g</td></tr>\n",
       "<tr><td>1971977</td><td>PS1</td><td>image</td><td>rings.v3.skycell.1062.040.stk.i</td><td>stack data image</td><td>C</td><td>mast:PS1/product/rings.v3.skycell.1062.040.stk.i.unconv.fits</td><td>SCIENCE</td><td>Minimum Recommended Products</td><td>--</td><td>--</td><td>3PI</td><td>pv3</td><td>--</td><td>rings.v3.skycell.1062.040.stk.i.unconv.fits</td><td>67435200</td><td>1971977</td><td>PUBLIC</td><td>3</td><td>i</td></tr>\n",
       "<tr><td>1971978</td><td>PS1</td><td>image</td><td>rings.v3.skycell.1062.040.stk.r</td><td>stack data image</td><td>C</td><td>mast:PS1/product/rings.v3.skycell.1062.040.stk.r.unconv.fits</td><td>SCIENCE</td><td>Minimum Recommended Products</td><td>--</td><td>--</td><td>3PI</td><td>pv3</td><td>--</td><td>rings.v3.skycell.1062.040.stk.r.unconv.fits</td><td>67639680</td><td>1971978</td><td>PUBLIC</td><td>3</td><td>r</td></tr>\n",
       "<tr><td>1971979</td><td>PS1</td><td>image</td><td>rings.v3.skycell.1062.040.stk.y</td><td>stack data image</td><td>C</td><td>mast:PS1/product/rings.v3.skycell.1062.040.stk.y.unconv.fits</td><td>SCIENCE</td><td>Minimum Recommended Products</td><td>--</td><td>--</td><td>3PI</td><td>pv3</td><td>--</td><td>rings.v3.skycell.1062.040.stk.y.unconv.fits</td><td>67884480</td><td>1971979</td><td>PUBLIC</td><td>3</td><td>y</td></tr>\n",
       "<tr><td>1971980</td><td>PS1</td><td>image</td><td>rings.v3.skycell.1062.040.stk.z</td><td>stack data image</td><td>C</td><td>mast:PS1/product/rings.v3.skycell.1062.040.stk.z.unconv.fits</td><td>SCIENCE</td><td>Minimum Recommended Products</td><td>--</td><td>--</td><td>3PI</td><td>pv3</td><td>--</td><td>rings.v3.skycell.1062.040.stk.z.unconv.fits</td><td>67216320</td><td>1971980</td><td>PUBLIC</td><td>3</td><td>z</td></tr>\n",
       "</table></div>"
      ],
      "text/plain": [
       "<Table length=5>\n",
       " obsID  obs_collection dataproduct_type ... dataRights calib_level filters\n",
       "  str7       str3            str5       ...   str10       int64      str1 \n",
       "------- -------------- ---------------- ... ---------- ----------- -------\n",
       "1971976            PS1            image ...     PUBLIC           3       g\n",
       "1971977            PS1            image ...     PUBLIC           3       i\n",
       "1971978            PS1            image ...     PUBLIC           3       r\n",
       "1971979            PS1            image ...     PUBLIC           3       y\n",
       "1971980            PS1            image ...     PUBLIC           3       z"
      ]
     },
     "metadata": {},
     "output_type": "display_data"
    }
   ],
   "source": [
    "#    - Ex. (GALEX): productType: SCIENCE\n",
    "#           productSubGroupDescription: Imaging Only\n",
    "#           productGroupDescription: Minimum Recommended Products\n",
    "#           mrp_only: True\n",
    "\n",
    "#    - Ex. (PS1): productType: <skip>\n",
    "#                 productSubGroupDescription: <skip>\n",
    "#                 productGroupDescription: <skip>\n",
    "#                 mrp_only: True\n",
    "\n",
    "# Use this for the 'GALEX' example.\n",
    "filt_prod = Observations.filter_products(\n",
    "    prod,\n",
    "    productType=\"SCIENCE\",\n",
    "    productSubGroupDescription=\"Imaging Only\",\n",
    "    productGroupDescription=\"Minimum Recommended Products\",\n",
    "    mrp_only=True\n",
    ")\n",
    "\n",
    "# Shows how many files are left after applying the filter.\n",
    "display(len(filt_prod))\n",
    "\n",
    "# Shows the first 5 files from the filtered table.\n",
    "display(filt_prod[0:5])"
   ]
  },
  {
   "cell_type": "markdown",
   "metadata": {},
   "source": [
    "**STEP 3**: Download the files to your local computer. The line below will download the first five files only. Please modify this code for your specific use case, especially if you need to download more than five files!"
   ]
  },
  {
   "cell_type": "code",
   "execution_count": null,
   "metadata": {},
   "outputs": [],
   "source": [
    "Observations.download_products(filt_prod[0:5], cloud_only=True)"
   ]
  },
  {
   "cell_type": "markdown",
   "metadata": {},
   "source": [
    "# About this Notebook\n",
    "\n",
    "* **Authors**: Yingquan Li, Bernie Shao\n",
    "* **Keywords**: GALEX, Pan-STARRS, Bulk Download, Python, AWS\n",
    "* **Updated On**: 2024-11-08\n",
    "\n",
    "For support, please contact the Archive HelpDesk at archive@stsci.edu."
   ]
  }
 ],
 "metadata": {
  "kernelspec": {
   "display_name": "dev",
   "language": "python",
   "name": "python3"
  },
  "language_info": {
   "codemirror_mode": {
    "name": "ipython",
    "version": 3
   },
   "file_extension": ".py",
   "mimetype": "text/x-python",
   "name": "python",
   "nbconvert_exporter": "python",
   "pygments_lexer": "ipython3",
   "version": "3.10.13"
  }
 },
 "nbformat": 4,
 "nbformat_minor": 2
}
