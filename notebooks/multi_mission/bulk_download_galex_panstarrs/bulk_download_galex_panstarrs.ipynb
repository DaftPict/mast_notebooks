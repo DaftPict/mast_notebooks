{
 "cells": [
  {
   "cell_type": "markdown",
   "metadata": {},
   "source": [
    "# **MAST Data Bulk Download through AWS**\n",
    "This notebook seeks to enhance the **Mikulski Archive for Space Telescopes** (**MAST**) user experience for astronomers and scientists such that they can download mission specific data seamlessly! This notebook will help any astronomers with downloading data from two specific missions: `GALEX` and `Pan-STARRS (PS1)`.\n",
    "\n",
    "To give some more context:\n",
    "* [Galaxy Evolution Explorer (GALEX)](https://archive.stsci.edu/missions-and-data/galex) was a space telescope managed primarily by JPL/CalTech that was launched in 2003. GALEX was launched on an Orbital Sciences Corporation (defunct) Pegasus launch vehicle, which one can view at the Smithsonian in Sterling, VA. It operated in the ultraviolet wavelength and was used to study galaxys' star formation from the early universe to the present. GALEX was decommissioned in 2013 and it's data is archived at MAST.\n",
    "\n",
    "* [Panoramic Survey Telescope and Rapid Response System (Pan-STARRS)](https://outerspace.stsci.edu/display/PANSTARRS/) is located at Haleakala Oberservatory in Hawaii, US that surveys the sky for moving objects. Pan-STARRS was originally a collaboration between various academic institutions and the U.S. Air Force, given that the work has both scientific and defense/national security implications. The first Pan-STARRS telescope (PS1) has two data releases: DR1 and DR2 that we host here at MAST. DR2 is considered one of the largest astronomical datasets ever."
   ]
  },
  {
   "cell_type": "markdown",
   "metadata": {},
   "source": [
    "# Learning Goals\n",
    "By using this notebook, an astronomer or scientist will:\n",
    "* Understand that downloading data and files in bulk from AWS is feasible and possibly easier than going through the MAST portal.\n",
    "* Make targeted queries to MAST using parameters such as: `right ascension`, `declination`, `observation` and more.\n",
    "* Filter the resulting products by using parameters such as: `productType`, `productSubGroupDescription`, `productGroupDescription`, `mrp_only`, and more.\n",
    "* Use this notebook to programmatically download *.fits* files locally to their computer. Once the *.fits* files are downloaded, the researcher can experiment, prototype, etc. much easier."
   ]
  },
  {
   "cell_type": "markdown",
   "metadata": {},
   "source": [
    "# Table of Contents\n",
    "* [Introduction](#Introduction)\n",
    "* [Using Observations and the Common Archive Observation Model (CAOM)](#using-observations-and-the-common-archive-observation-model-caom)\n",
    "* [Two Core Functions from Astropy: `query_criteria()` and `filter_products()`](#two-core-functions-from-astropy-query_criteria-and-filter_products)\n",
    "* [The 3-Step Data Download Process](#the-3-step-data-download-process)"
   ]
  },
  {
   "cell_type": "markdown",
   "metadata": {},
   "source": [
    "# Introduction\n",
    "This notebook contains some sample code to bulk download files from MAST, with examples provided for `GALEX` and  `Pan-STARRS (PS1)`. This notebook can be generalized to query data from other missions too such as: `SWIFT`, `HST`, or `IUE`. Please feel free to modify the code to your particular use case! If you have any questions, please don't hesitate to reach out to archive@stsci.edu.\n",
    "\n",
    "Other links that maybe useful:\n",
    "- [MAST Homepage](https://archive.stsci.edu/)\n",
    "- [MAST Notebook Repository](https://spacetelescope.github.io/mast_notebooks/intro.html)\n",
    "- [GALEX Homepage](https://galex.stsci.edu/GR6/)\n",
    "- [Pan-STARRS Homepage](https://archive.stsci.edu/panstarrs/)\n"
   ]
  },
  {
   "cell_type": "markdown",
   "metadata": {},
   "source": [
    "# Using **Observations** and the [Common Archive Observation Model (CAOM)](https://mast.stsci.edu/vo-tap/api/v0.1/caom/)\n",
    "* The `Observations` API from *astroquery.mast* can be used to query MAST data, specifically it allows you to query data from CAOM. CAOM is a observational database that houses metadata from multiple missions at the same time, from legacy missions to currently operational missions.\n",
    "\n",
    "* There is also another `MastMissions` API from *astroquery.mast* that can be used to query MAST data. This API is more limited in scope and only supports querying data from the missions: `HST`, `JWST`, `CLASSY`, and `ULLYSES`. This notebook will not demonstrate the capabilities of the `MastMissions` API. Rather, please refer to the excellent notebook: [**Searching for Mission-Specific Data with Astroquery**](https://spacetelescope.github.io/mast_notebooks/notebooks/multi_mission/missions_mast_search/missions_mast_search.html) - Sam Bianco. "
   ]
  },
  {
   "cell_type": "code",
   "execution_count": 13,
   "metadata": {},
   "outputs": [
    {
     "name": "stdout",
     "output_type": "stream",
     "text": [
      "INFO: Using the S3 STScI public dataset [astroquery.mast.cloud]\n"
     ]
    }
   ],
   "source": [
    "from astroquery.mast import Observations\n",
    "\n",
    "# Turning on access to the cloud dataset\n",
    "Observations.enable_cloud_dataset()"
   ]
  },
  {
   "cell_type": "markdown",
   "metadata": {},
   "source": [
    "# Two Core Functions from Astropy: `query_criteria()` and `filter_products()`\n",
    "\n",
    "`query_criteria()` and `filter_products()` are two functions from Astropy that enable us to make queries and then filter the corresponding products.\n",
    "\n",
    "All the parameters that we could use in `query_criteria()` are shown below."
   ]
  },
  {
   "cell_type": "code",
   "execution_count": 14,
   "metadata": {},
   "outputs": [
    {
     "name": "stdout",
     "output_type": "stream",
     "text": [
      "     Column Name     \n",
      "---------------------\n",
      "           intentType\n",
      "       obs_collection\n",
      "      provenance_name\n",
      "      instrument_name\n",
      "              project\n",
      "              filters\n",
      "    wavelength_region\n",
      "          target_name\n",
      "target_classification\n",
      "               obs_id\n",
      "                 s_ra\n",
      "                s_dec\n",
      "          proposal_id\n",
      "          proposal_pi\n",
      "            obs_title\n",
      "     dataproduct_type\n",
      "          calib_level\n",
      "                t_min\n",
      "                t_max\n",
      "        t_obs_release\n",
      "            t_exptime\n",
      "               em_min\n",
      "               em_max\n",
      "                objID\n",
      "             s_region\n",
      "              jpegURL\n",
      "             distance\n",
      "                obsid\n",
      "           dataRights\n",
      "               mtFlag\n",
      "               srcDen\n",
      "              dataURL\n",
      "        proposal_type\n",
      "      sequence_number\n"
     ]
    }
   ],
   "source": [
    "Observations.get_metadata('observations')['Column Name'].pprint(max_lines=-1)\n",
    "\n",
    "# NOTE: Comment the line above and un-comment the line below if you want more details about the parameters with examples.\n",
    "# Observations.get_metadata(\"observations\").pprint(max_lines=-1, max_width=-1)\n"
   ]
  },
  {
   "cell_type": "markdown",
   "metadata": {},
   "source": [
    "All the filters that we could filter by in `filter_products()` is located on the **[MAST API](https://masttest.stsci.edu/api/v0/_productsfields.html)**."
   ]
  },
  {
   "cell_type": "markdown",
   "metadata": {},
   "source": [
    "# The Three-Step Data Download Process\n",
    "\n",
    "Getting the data is seamless in the three-three steop process outlined below.\n",
    "\n",
    "* **STEP 1**: Get the products after making a specific query.\n",
    "* **STEP 2**: Filter the products based on specific parameters.\n",
    "* **STEP 3**: Download the files locally via Python."
   ]
  },
  {
   "cell_type": "markdown",
   "metadata": {},
   "source": [
    "**STEP 1**: When filtering an observation using the function `query_criteria()`, you must specify two coordinates for the right ascension and two coordinates for the declination. This forms a box to limit the search area. You must also supply a mission that you would want to search from such as 'GALEX' or 'PS1'.\n",
    "\n",
    "If you would like to filter by other parameters, see the other filter parameters above. Please modify this code for your specific use case!"
   ]
  },
  {
   "cell_type": "code",
   "execution_count": 18,
   "metadata": {},
   "outputs": [
    {
     "data": {
      "text/plain": [
       "2291"
      ]
     },
     "execution_count": 18,
     "metadata": {},
     "output_type": "execute_result"
    }
   ],
   "source": [
    "#    - Ex.: s_ra: 30.2,31.2\n",
    "#           s_dec: -10.25,-9.25\n",
    "#           obs_collection: GALEX, PS1\n",
    "\n",
    "obs = Observations.query_criteria(s_ra=[30.2,31.2], s_dec=[-10.25,-9.25], obs_collection=\"GALEX\")\n",
    "prod = Observations.get_product_list(obs)\n",
    "len(prod)\n"
   ]
  },
  {
   "cell_type": "markdown",
   "metadata": {},
   "source": [
    "**STEP 2**: Now we can use `filter_products()` to select specific products. Right now, this code is configured such that you can filter based on *productType*, *productSubGroupDescription*, *productGroupDescription*, and *mrp_only*. The valid filter parameters for GALEX and Pan-STARRS are outlined below as examples. Please use only these parameters + corresponding values, unless you see another parameter in the documentation (see above) that you would like to use. Please use the right filter products for your specific mission by referring to the documentation (see above)!\n",
    "\n",
    "**GALEX Example**\n",
    "* productType: *AUXILIARY*, *CATALOG*, *INFO*, *PREVIEW*, *SCIENCE*, *THUMBNAIL*\n",
    "* productSubGroupDescription: *Catalog Only*, *Imaging Only*, *Spectra Only*, *Spectral Image Strips Only*, *Whole Field Images Only*\n",
    "* productGroupDescription: *Minimum Recommended Products*\n",
    "* mrp_only: *True*, *False*.\n",
    "\n",
    "**Pan-STARRS (PS1) Example**\n",
    "* productType: *AUXILIARY*, *CATALOG*, *INFO*, *SCIENCE*\n",
    "* productSubGroupDescription: - \n",
    "* productGroupDescription: *Minimum Recommended Products*\n",
    "* mrp_only: *True*, *False*\n",
    "\n",
    "Note that *productSubGroupDescription* and *productGroupDescription* may not be needed when filtering for Pan-STARRS products. An example for 'GALEX' is provided below as well as an example for PS1. Please modify this code for your specific use case!\n"
   ]
  },
  {
   "cell_type": "code",
   "execution_count": 19,
   "metadata": {},
   "outputs": [
    {
     "data": {
      "text/plain": [
       "7"
      ]
     },
     "metadata": {},
     "output_type": "display_data"
    },
    {
     "data": {
      "text/html": [
       "<div><i>Table masked=True length=5</i>\n",
       "<table id=\"table4388151424\" class=\"table-striped table-bordered table-condensed\">\n",
       "<thead><tr><th>obsID</th><th>obs_collection</th><th>dataproduct_type</th><th>obs_id</th><th>description</th><th>type</th><th>dataURI</th><th>productType</th><th>productGroupDescription</th><th>productSubGroupDescription</th><th>productDocumentationURL</th><th>project</th><th>prvversion</th><th>proposal_id</th><th>productFilename</th><th>size</th><th>parent_obsid</th><th>dataRights</th><th>calib_level</th><th>filters</th></tr></thead>\n",
       "<thead><tr><th>str6</th><th>str5</th><th>str8</th><th>str19</th><th>str139</th><th>str1</th><th>str166</th><th>str9</th><th>str28</th><th>str56</th><th>str1</th><th>str3</th><th>str1</th><th>str3</th><th>str68</th><th>int64</th><th>str6</th><th>str6</th><th>int64</th><th>str3</th></tr></thead>\n",
       "<tr><td>665</td><td>GALEX</td><td>image</td><td>2436590472420917248</td><td>Intensity map (J2000)</td><td>C</td><td>mast:GALEX/url/data/GR6/pipe/01-vsn/03716-MISDR1_18032_0666/d/01-main/0001-img/07-try/MISDR1_18032_0666-fd-int.fits.gz</td><td>SCIENCE</td><td>Minimum Recommended Products</td><td>Imaging Only</td><td>--</td><td>MIS</td><td>--</td><td>--</td><td>MISDR1_18032_0666-fd-int.fits.gz</td><td>9559896</td><td>665</td><td>PUBLIC</td><td>2</td><td>FUV</td></tr>\n",
       "<tr><td>665</td><td>GALEX</td><td>image</td><td>2436590472420917248</td><td>Intensity map (J2000)</td><td>C</td><td>mast:GALEX/url/data/GR6/pipe/01-vsn/03716-MISDR1_18032_0666/d/01-main/0001-img/07-try/MISDR1_18032_0666-nd-int.fits.gz</td><td>SCIENCE</td><td>Minimum Recommended Products</td><td>Imaging Only</td><td>--</td><td>MIS</td><td>--</td><td>--</td><td>MISDR1_18032_0666-nd-int.fits.gz</td><td>17603914</td><td>665</td><td>PUBLIC</td><td>2</td><td>NUV</td></tr>\n",
       "<tr><td>4923</td><td>GALEX</td><td>image</td><td>3209978155506860032</td><td>Intensity map (J2000)</td><td>C</td><td>mast:GALEX/url/data/GR7/pipe/01-vsn/25697-GI5_028097_W1_18085_0274/d/01-main/0007-img/07-try/GI5_028097_W1_18085_0274-nd-int.fits.gz</td><td>SCIENCE</td><td>Minimum Recommended Products</td><td>Imaging Only</td><td>--</td><td>GII</td><td>--</td><td>177</td><td>GI5_028097_W1_18085_0274-nd-int.fits.gz</td><td>17139488</td><td>4923</td><td>PUBLIC</td><td>2</td><td>NUV</td></tr>\n",
       "<tr><td>29153</td><td>GALEX</td><td>image</td><td>6380521092288610304</td><td>Intensity map (J2000)</td><td>C</td><td>mast:GALEX/url/data/GR6/pipe/02-vsn/50273-AIS_273/d/01-main/0001-img/07-try/AIS_273_sg03-fd-int.fits.gz</td><td>SCIENCE</td><td>Minimum Recommended Products</td><td>Imaging Only</td><td>--</td><td>AIS</td><td>--</td><td>--</td><td>AIS_273_sg03-fd-int.fits.gz</td><td>1455226</td><td>29153</td><td>PUBLIC</td><td>2</td><td>FUV</td></tr>\n",
       "<tr><td>29153</td><td>GALEX</td><td>image</td><td>6380521092288610304</td><td>Intensity map (J2000)</td><td>C</td><td>mast:GALEX/url/data/GR6/pipe/02-vsn/50273-AIS_273/d/01-main/0001-img/07-try/AIS_273_sg03-nd-int.fits.gz</td><td>SCIENCE</td><td>Minimum Recommended Products</td><td>Imaging Only</td><td>--</td><td>AIS</td><td>--</td><td>--</td><td>AIS_273_sg03-nd-int.fits.gz</td><td>7683367</td><td>29153</td><td>PUBLIC</td><td>2</td><td>NUV</td></tr>\n",
       "</table></div>"
      ],
      "text/plain": [
       "<Table masked=True length=5>\n",
       "obsID obs_collection dataproduct_type ... dataRights calib_level filters\n",
       " str6      str5            str8       ...    str6       int64      str3 \n",
       "----- -------------- ---------------- ... ---------- ----------- -------\n",
       "  665          GALEX            image ...     PUBLIC           2     FUV\n",
       "  665          GALEX            image ...     PUBLIC           2     NUV\n",
       " 4923          GALEX            image ...     PUBLIC           2     NUV\n",
       "29153          GALEX            image ...     PUBLIC           2     FUV\n",
       "29153          GALEX            image ...     PUBLIC           2     NUV"
      ]
     },
     "metadata": {},
     "output_type": "display_data"
    }
   ],
   "source": [
    "#    - Ex. (GALEX): productType: SCIENCE\n",
    "#           productSubGroupDescription: Imaging Only\n",
    "#           productGroupDescription: Minimum Recommended Products\n",
    "#           mrp_only: True\n",
    "\n",
    "#    - Ex. (PS1): productType: <skip>\n",
    "#                 productSubGroupDescription: <skip>\n",
    "#                 productGroupDescription: <skip>\n",
    "#                 mrp_only: True\n",
    "\n",
    "# Use this for the 'GALEX' example.\n",
    "filt_prod = Observations.filter_products(\n",
    "    prod,\n",
    "    productType=\"SCIENCE\",\n",
    "    productSubGroupDescription=\"Imaging Only\",\n",
    "    productGroupDescription=\"Minimum Recommended Products\",\n",
    "    mrp_only=True\n",
    ")\n",
    "\n",
    "# Shows how many files are left after applying the filter.\n",
    "display(len(filt_prod))\n",
    "\n",
    "# Shows the first 5 files from the filtered table.\n",
    "display(filt_prod[0:5])"
   ]
  },
  {
   "cell_type": "markdown",
   "metadata": {},
   "source": [
    "**STEP 3**: Download the files to your local computer. The line below will download the first five files only. Please modify this code for your specific use case, especially if you need to download more than five files! Thank you for going through this notebook and please reach out of you have any questions!"
   ]
  },
  {
   "cell_type": "code",
   "execution_count": null,
   "metadata": {},
   "outputs": [],
   "source": [
    "Observations.download_products(filt_prod[0:5], cloud_only=True)"
   ]
  },
  {
   "cell_type": "markdown",
   "metadata": {},
   "source": [
    "# About this Notebook\n",
    "\n",
    "* **Authors**: Yingquan Li, Bernie Shao\n",
    "* **Keywords**: GALEX, Pan-STARRS, Bulk Download, Python, AWS\n",
    "* **Updated On**: 2024-11-08\n",
    "* **References**: [Missions Mast Search (Sam Bianco)](https://github.com/spacetelescope/mast_notebooks/blob/main/notebooks/multi_mission/missions_mast_search/missions_mast_search.ipynb)\n",
    "\n",
    "For support, please contact the Archive HelpDesk at archive@stsci.edu."
   ]
  }
 ],
 "metadata": {
  "kernelspec": {
   "display_name": "dev",
   "language": "python",
   "name": "python3"
  },
  "language_info": {
   "codemirror_mode": {
    "name": "ipython",
    "version": 3
   },
   "file_extension": ".py",
   "mimetype": "text/x-python",
   "name": "python",
   "nbconvert_exporter": "python",
   "pygments_lexer": "ipython3",
   "version": "3.10.13"
  }
 },
 "nbformat": 4,
 "nbformat_minor": 2
}
