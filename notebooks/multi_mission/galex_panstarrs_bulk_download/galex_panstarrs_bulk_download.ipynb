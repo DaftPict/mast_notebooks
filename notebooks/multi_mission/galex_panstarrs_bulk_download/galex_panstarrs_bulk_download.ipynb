{
 "cells": [
  {
   "cell_type": "markdown",
   "metadata": {},
   "source": [
    "# **Large downloads in astroquery.mast from AWS to local storage**"
   ]
  },
  {
   "cell_type": "markdown",
   "metadata": {},
   "source": [
    "## Introduction\n",
    "\n",
    "Several MAST datasets are now available from the [Registry of Open Data on AWS](https://registry.opendata.aws/), a cloud data storage service. These datasets [include data from JWST, HST, TESS, Pan-STARRS, GALEX, and Kepler/K2](https://registry.opendata.aws/collab/stsci/). In this notebook, you'll learn how to download data in bulk to your local machine's storage from two large survey missions, GALEX and Pan-STARRS (PS1).\n",
    "\n",
    "To give some more context on the missions we'll be focusing on:\n",
    "* [Galaxy Evolution Explorer (GALEX)](https://archive.stsci.edu/missions-and-data/galex) was a NASA mission led by the California Institute of Technology, whose primary goal was to investigate how star formation in galaxies evolved from the early Universe up to the present. GALEX used microchannel plate detectors to obtain direct images in the near-UV (NUV) and far-UV (FUV), and a grism to disperse light for low resolution spectroscopy. \n",
    "* [Panoramic Survey Telescope and Rapid Response System (Pan-STARRS)](https://outerspace.stsci.edu/display/PANSTARRS/) is a system for wide-field astronomical imaging developed and operated by the Institute for Astronomy at the University of Hawaii. Pan-STARRS1 (PS1) is the first part of Pan-STARRS to be completed.  The PS1 survey used a 1.8 meter telescope and its 1.4 Gigapixel camera to image the sky in five broadband filters (g, r, i, z, y)."
   ]
  },
  {
   "cell_type": "markdown",
   "metadata": {},
   "source": [
    "## Learning Goals\n",
    "In this notebook, you will:\n",
    "* Learn how to download MAST data from our AWS cloud repositories to your local machine's storage.\n",
    "* Make targeted queries to MAST using parameters such as: `right ascension`, `declination`, and more.\n",
    "* Filter the resulting products by using parameters such as: `productType`, `productSubGroupDescription`, `productGroupDescription`, `mrp_only`, and more."
   ]
  },
  {
   "cell_type": "markdown",
   "metadata": {},
   "source": [
    "## Imports\n",
    "\n",
    "We only need one import for this notebook!\n",
    "* `astroquery.mast.Observations` to access the MAST API"
   ]
  },
  {
   "cell_type": "code",
   "execution_count": null,
   "metadata": {},
   "outputs": [],
   "source": [
    "from astroquery.mast import Observations"
   ]
  },
  {
   "cell_type": "markdown",
   "metadata": {},
   "source": [
    "## Using astroquery to query MAST's multi-mission database\n",
    "* The `Observations` API from `astroquery.mast` can be used to query MAST's multi-mission database, an instance of the [Common Archive Observation Model](https://www.opencadc.org/caom2/) housing structured metadata from multiple missions in a unified database, from legacy missions to currently operational missions. In this database, individual data products are organized under \"observations\".\n",
    "\n",
    "* Note: for certain missions like JWST and HST, there is also a `MastMissions` API from `astroquery.mast` that can be used to query mission-specific metadata beyond that which can be made to conform to the Common Archive Observation Model. This notebook will not demonstrate the capabilities of the `MastMissions` API. Refer, instead, to [**Searching for Mission-Specific Data with Astroquery**](https://spacetelescope.github.io/mast_notebooks/notebooks/multi_mission/missions_mast_search/missions_mast_search.html)."
   ]
  },
  {
   "cell_type": "markdown",
   "metadata": {},
   "source": [
    "First, let's turn on access to MAST's datasets in the AWS cloud. Downloading from AWS is generally faster, and ideal to avoid putting too much pressure on MAST's on-premise servers."
   ]
  },
  {
   "cell_type": "code",
   "execution_count": null,
   "metadata": {},
   "outputs": [],
   "source": [
    "Observations.enable_cloud_dataset()"
   ]
  },
  {
   "cell_type": "markdown",
   "metadata": {},
   "source": [
    "# The Four-Step Data Download Process\n",
    "\n",
    "Retrieving MAST data from AWS to your local machine can be performed with the following four-step process:\n",
    "\n",
    "* **Step 1**: Retrieve observation metadata matching your query criteria\n",
    "* **Step 2**: Retrieve metadata for the individual data products that comprise those observations\n",
    "* **Step 3**: (Optional) Filter the data products based on further product-level criteria\n",
    "* **Step 4**: Download the files from AWS to your local machine"
   ]
  },
  {
   "cell_type": "markdown",
   "metadata": {},
   "source": [
    "### Step 1\n",
    "\n",
    "First, let's retrieve observations in a sky coordinate range of interest. One way to search observations by coordinates is by giving `Observations.query_criteria()` a box defining the search area, consisting of two coordinates for the right ascension range and two coordinates for the declination range. You can also supply any number of missions, and various other metadata constraints. In this case, we'll retrieve both GALEX and Pan-STARRS observations. The output is an `astropy` table."
   ]
  },
  {
   "cell_type": "code",
   "execution_count": null,
   "metadata": {},
   "outputs": [],
   "source": [
    "obs = Observations.query_criteria(s_ra=[30.2, 31.2], s_dec=[-10.25, -9.25], obs_collection=[\"GALEX\", \"PS1\"])\n",
    "print(f'We retrieved {len(obs)} observations.')"
   ]
  },
  {
   "cell_type": "markdown",
   "metadata": {},
   "source": [
    "If you would like to filter by other parameters, see the other filter parameters below."
   ]
  },
  {
   "cell_type": "code",
   "execution_count": null,
   "metadata": {},
   "outputs": [],
   "source": [
    "# NOTE: Use this line if you want to get app the parameters and the details.\n",
    "# Observations.get_metadata(\"observations\").pprint(max_lines=-1, max_width=-1)\n",
    "\n",
    "# NOTE: Use this line just to get the parameters and their names.\n",
    "Observations.get_metadata('observations')['Column Name'].pprint(max_lines=-1)"
   ]
  },
  {
   "cell_type": "markdown",
   "metadata": {},
   "source": [
    "### Step 2\n",
    "\n",
    "Now, we can retrieve the individual data products organized under those observations."
   ]
  },
  {
   "cell_type": "code",
   "execution_count": null,
   "metadata": {},
   "outputs": [],
   "source": [
    "prod = Observations.get_product_list(obs)\n",
    "print(f'We retrieved {len(prod)} data products.')\n",
    "# prod is another astropy table"
   ]
  },
  {
   "cell_type": "markdown",
   "metadata": {},
   "source": [
    "### Step 3\n",
    "\n",
    "Now we can use `Observations.filter_products()` to filter for specific data products. This function can filter on `obs_collection` (mission), `productType`,`productSubGroupDescription`, `productGroupDescription`, and `mrp_only`, among numerous other parameters described here: [product field descriptions](https://masttest.stsci.edu/api/v0/_productsfields.html). \n",
    "\n",
    "`mrp_only` means to request only data products identified by MAST as the main \"Minimum Recommended\" products in each observation. For example, in Pan-STARRS (PS1), limiting your results to MRP products excludes the individual-epoch warp images, and various other ancillary files.\n",
    "\n",
    "For **GALEX**, the range of possible values for these parameters include:\n",
    "\n",
    "* productType: *AUXILIARY*, *CATALOG*, *INFO*, *PREVIEW*, *SCIENCE*, *THUMBNAIL*\n",
    "* productSubGroupDescription: *Catalog Only*, *Imaging Only*, *Spectra Only*, *Spectral Image Strips Only*, *Whole Field Images Only*\n",
    "* productGroupDescription: *Minimum Recommended Products*\n",
    "* mrp_only: *True*, *False*.\n",
    "\n",
    "For **Pan-STARRS (PS1)**, the range of possible values for these parameters include:\n",
    "\n",
    "* productType: *AUXILIARY*, *CATALOG*, *INFO*, *SCIENCE*\n",
    "* productSubGroupDescription: N/A\n",
    "* productGroupDescription: *Minimum Recommended Products*\n",
    "* mrp_only: *True*, *False*\n",
    "\n",
    "Note that *productSubGroupDescription* and *productGroupDescription* are generally not needed when filtering for Pan-STARRS products."
   ]
  },
  {
   "cell_type": "markdown",
   "metadata": {},
   "source": [
    "Let's start with GALEX:"
   ]
  },
  {
   "cell_type": "code",
   "execution_count": null,
   "metadata": {},
   "outputs": [],
   "source": [
    "filt_prod_galex = Observations.filter_products(\n",
    "    prod,\n",
    "    obs_collection=\"GALEX\",\n",
    "    productType=\"SCIENCE\",\n",
    "    productSubGroupDescription=\"Imaging Only\",\n",
    "    productGroupDescription=\"Minimum Recommended Products\",\n",
    "    mrp_only=True\n",
    ")\n",
    "\n",
    "# Shows how many files are left after applying the filter.\n",
    "print(f'We are left with {len(filt_prod_galex)} files.')\n",
    "\n",
    "# Shows the filtered table of data products.\n",
    "display(filt_prod_galex)"
   ]
  },
  {
   "cell_type": "markdown",
   "metadata": {},
   "source": [
    "And now let's try Pan-STARRS:"
   ]
  },
  {
   "cell_type": "code",
   "execution_count": null,
   "metadata": {},
   "outputs": [],
   "source": [
    "filt_prod_ps1 = Observations.filter_products(\n",
    "    prod,\n",
    "    obs_collection=\"PS1\",\n",
    "    mrp_only=True\n",
    ")\n",
    "\n",
    "# Show how many files are left after applying the filter.\n",
    "print(f'We are left with {len(filt_prod_ps1)} files.')\n",
    "\n",
    "# Show the first few rows of the filtered table of data products.\n",
    "display(filt_prod_ps1[0:3])"
   ]
  },
  {
   "cell_type": "markdown",
   "metadata": {},
   "source": [
    "### Step 4\n",
    "\n",
    "Download the files you need to your local computer using `Observations.download_products`! For example, for GALEX:"
   ]
  },
  {
   "cell_type": "code",
   "execution_count": null,
   "metadata": {},
   "outputs": [],
   "source": [
    "Observations.download_products(filt_prod_galex, cloud_only=True)"
   ]
  },
  {
   "cell_type": "markdown",
   "metadata": {},
   "source": [
    "Note that, because you turned on `Observations.enable_cloud_dataset` earlier, `download_products` will attempt to download every file from the AWS S3 bucket no matter what you set for `cloud_only`. However, if you leave `cloud_only=False` as per the default, astroquery will download a file from MAST's on-premise server if it can't find the file in AWS. If you turn on `cloud_only=True` as above, astroquery will skip downloading any file that it can't find in AWS."
   ]
  },
  {
   "cell_type": "markdown",
   "metadata": {},
   "source": [
    "# About this Notebook\n",
    "\n",
    "* **Authors**: Yingquan Li, Bernie Shao\n",
    "* **Keywords**: GALEX, Pan-STARRS, Bulk Download, Python, AWS\n",
    "* **Updated On**: 2025-04-23\n",
    "* **References**: [Missions Mast Search](https://github.com/spacetelescope/mast_notebooks/blob/main/notebooks/multi_mission/missions_mast_search/missions_mast_search.ipynb)\n",
    "\n",
    "For support, please contact the Archive HelpDesk at archive@stsci.edu."
   ]
  }
 ],
 "metadata": {
  "kernelspec": {
   "display_name": "Python 3 (ipykernel)",
   "language": "python",
   "name": "python3"
  },
  "language_info": {
   "codemirror_mode": {
    "name": "ipython",
    "version": 3
   },
   "file_extension": ".py",
   "mimetype": "text/x-python",
   "name": "python",
   "nbconvert_exporter": "python",
   "pygments_lexer": "ipython3",
   "version": "3.13.0"
  }
 },
 "nbformat": 4,
 "nbformat_minor": 4
}
