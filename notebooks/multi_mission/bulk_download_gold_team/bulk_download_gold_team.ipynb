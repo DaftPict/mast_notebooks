{
 "cells": [
  {
   "cell_type": "markdown",
   "metadata": {},
   "source": [
    "# **MAST Data Bulk Download through AWS**\n",
    "Enhance the MAST user experience for astronomers and scientists such that the data download per mission is targeted and seamless!"
   ]
  },
  {
   "cell_type": "markdown",
   "metadata": {},
   "source": [
    "# Learning Goals\n",
    "By using this notebook, an astronomer/scientist will:\n",
    "* Understand that downloading data and files in bulk from AWS is feasible.\n",
    "* Make targeted queries to MAST using parameters such as: `right ascension`, `declination`, `observation` and more.\n",
    "* Filter the resulting products by using parameters such as: `productType`, `productSubGroupDescription`, `productGroupDescription`, `mrp_only`, and more.\n",
    "* Use this notebook to programmatically download *.fits* files locally, which may be much easier than the equivalent UI web tool."
   ]
  },
  {
   "cell_type": "markdown",
   "metadata": {},
   "source": [
    "# Table of Contents\n",
    "* Introduction\n",
    "* Imports\n",
    "* Two Core Functions from Astropy: `query_criteria()` and `filter_products()`\n",
    "* The 3-Step Data Download Process"
   ]
  },
  {
   "cell_type": "markdown",
   "metadata": {},
   "source": [
    "# Introduction\n",
    "This notebook contains some sample code to bulk download files from MAST, with examples provided for `GALEX` and  `Pan-STARRS (PS1)`. This notebook can be generalized to query data from other missions too such as: `SWIFT`, `HST`, or `IUE`. Please feel free to modify the code to your particular use case! If you have any questions, please don't hesitate to reach out to archive@stsci.edu.\n",
    "\n",
    "Other links that maybe useful:\n",
    "- [MAST Homepage](https://archive.stsci.edu/)\n",
    "- [MAST Notebook Repository](https://spacetelescope.github.io/mast_notebooks/intro.html)\n",
    "- [GALEX Homepage](https://galex.stsci.edu/GR6/)\n",
    "- [Pan-STARRS Homepage](https://archive.stsci.edu/panstarrs/)\n"
   ]
  },
  {
   "cell_type": "markdown",
   "metadata": {},
   "source": [
    "# Using **Observations** and the [Common Archive Observation Model (CAOM)](https://mast.stsci.edu/vo-tap/api/v0.1/caom/)\n",
    "* The `Observations` API from *astroquery.mast* can be used to query the Barbara A. Mikulski Archive for Space Telescopes (MAST)."
   ]
  },
  {
   "cell_type": "code",
   "execution_count": 4,
   "metadata": {},
   "outputs": [
    {
     "name": "stdout",
     "output_type": "stream",
     "text": [
      "INFO: Using the S3 STScI public dataset [astroquery.mast.cloud]\n"
     ]
    }
   ],
   "source": [
    "from astroquery.mast import Observations\n",
    "\n",
    "import astropy.units as u\n",
    "from astropy.coordinates import SkyCoord\n",
    "from astroquery.mast import MastMissions\n",
    "\n",
    "# Turning on access to the cloud dataset.\n",
    "Observations.enable_cloud_dataset()"
   ]
  },
  {
   "cell_type": "markdown",
   "metadata": {},
   "source": [
    "# Two Core Functions from Astropy: `query_criteria()` and `filter_products()`\n",
    "\n",
    "`query_criteria()` and `filter_products()` are two functions from Astropy that enable us to make queries and then filter the corresponding products.\n",
    "\n",
    "All the parameters that we could use in `query_criteria()` are shown below."
   ]
  },
  {
   "cell_type": "code",
   "execution_count": 3,
   "metadata": {},
   "outputs": [
    {
     "name": "stdout",
     "output_type": "stream",
     "text": [
      "     Column Name             Column Label       Data Type   Units                                  Description                                                                               Examples/Valid Values                                                \n",
      "--------------------- ------------------------- --------- ---------- ------------------------------------------------------------------------ --------------------------------------------------------------------------------------------------------------------\n",
      "           intentType          Observation Type    string                                  Whether observation is for science or calibration.                                                                                   Valid values: science, calibration\n",
      "       obs_collection                   Mission    string                                                                          Collection                                                                                            E.g. SWIFT, PS1, HST, IUE\n",
      "      provenance_name           Provenance Name    string                                                  Provenance name, or source of data                                                                                             E.g. TASOC, CALSTIS, PS1\n",
      "      instrument_name                Instrument    string                                                                     Instrument Name                                                                                       E.g. WFPC2/WFC, UVOT, STIS/CCD\n",
      "              project                   Project    string                                                                  Processing project                                                                                      E.g. HST, HLA, EUVE, hlsp_legus\n",
      "              filters                   Filters    string                                                                  Instrument filters                                                                                    F469N, NUV, FUV, LOW DISP, MIRROR\n",
      "    wavelength_region                  Waveband    string                                                                         Energy Band                                                                                                   EUV, XRAY, OPTICAL\n",
      "          target_name               Target Name    string                                                                         Target Name                                                                                   Ex. COMET-67P-CHURYUMOV-GER-UPDATE\n",
      "target_classification     Target Classification    string                                                                      Type of target                                                 Ex. COMET;COMET BEING ORBITED BY THE ROSETTA SPACECRAFT;SOLAR SYSTEM\n",
      "               obs_id            Observation ID    string                                            Observation identifier, given by mission                                                                                                 U24Z0101T, N4QF18030\n",
      "                 s_ra                        RA     float        deg                                              Observation Right Ascension                                    May be displayed in the Portal as hh:mm:ss.sss, but should be searched as decimal\n",
      "                s_dec                       Dec     float        deg                                                  Observation Declination                                    May be displayed in the Portal as hh:mm:ss.sss, but should be searched as decimal\n",
      "          proposal_id               Proposal ID    string                                                                         Proposal ID                                                                                              E.g. EGCJC, 11360, 9401\n",
      "          proposal_pi    Principal Investigator    string                                                  Principal investigator's last name                                                                                                 Chander, Chu, Malkin\n",
      "            obs_title         Observation Title    string                                               Observation description from proposal                                                                                     Age-dating Star Clusters in M101\n",
      "     dataproduct_type              Product Type    string                                                                     Type of product              Valid values: IMAGE, SPECTRUM, SED, TIMESERIES, VISIBILITY, EVENTLIST, CUBE, CATALOG, ENGINEERING, NULL\n",
      "          calib_level         Calibration Level   integer                                                                   Calibration level                      0 = raw, 1 = uncalibrated, 2 = calibrated, 3 = science product, 4 = contributed science product\n",
      "                t_min                Start Time     float        MJD                                               Observation start datetime                                     May be displayed in the Portal as YYY-MM-DD HH:MM, but should be searched as MJD\n",
      "                t_max                  End Time     float        MJD                                                 Observation end datetime                                     May be displayed in the Portal as YYY-MM-DD HH:MM, but should be searched as MJD\n",
      "        t_obs_release              Release Date     float        MJD                                                     Dataset release date                                     May be displayed in the Portal as YYY-MM-DD HH:MM, but should be searched as MJD\n",
      "            t_exptime           Exposure Length     float        sec                                                            Exposure time                                                                                                                     \n",
      "               em_min           Min. Wavelength     float         nm                                                       Minimum Wavelength                                                                                                                     \n",
      "               em_max           Max. Wavelength     float         nm                                                       Maximum Wavelength                                                                                                                     \n",
      "                objID                 Object ID   integer                                  Plane ID of observation at given calibration level                                                                                        Long integer, e.g. 2012969445\n",
      "             s_region                  s_region    string ICRS Shape                                                          STC/S Footprint                                      Will be ICRS circle or polygon. E.g. CIRCLE ICRS 17.71740689 -58.40043015 0.625\n",
      "              jpegURL                   jpegURL    string                                                                   Preview Image URL                                                            https://archive.stsci.edu/hst/previews/N4QF/N4QF18090.jpg\n",
      "             distance              Distance (\")     float     arcsec Angular separation between searched coordinates and center of obsevation                                                                                                                     \n",
      "                obsid          Product Group ID   integer                                                      Database identifier for obs_id                                                                                        Long integer, e.g. 2007590987\n",
      "           dataRights               Data Rights    string                                                                         Data Rights                                                                     valid values: public,exclusive_access,restricted\n",
      "               mtFlag             Moving Target   boolean                                                                  Moving Target Flag If True, observation contains a moving target, if False or absent observation may or may not contain a moving target\n",
      "               srcDen Number of Catalog Objects     float                                    Number of cataloged objects found in observation                                                                                                                     \n",
      "              dataURL                  Data URL    string                                                                            Data URL                                                                                                                     \n",
      "        proposal_type             Proposal Type    string                                                          Type of telescope proposal                                                                                    Eg. 3PI, GO, GO/DD, HLA, GII, AIS\n",
      "      sequence_number           Sequence Number   integer                                 Sequence number, e.g. Kepler quarter or TESS sector                                                                                                                     \n"
     ]
    }
   ],
   "source": [
    "Observations.get_metadata(\"observations\").pprint(max_lines=-1, max_width=-1)"
   ]
  },
  {
   "cell_type": "markdown",
   "metadata": {},
   "source": [
    "All the filters that we could filter by in `filter_products()` is located on the **[MAST API](https://masttest.stsci.edu/api/v0/_productsfields.html)**."
   ]
  },
  {
   "cell_type": "markdown",
   "metadata": {},
   "source": [
    "# The 3-Step Data Download Process\n",
    "* **STEP 1**: Get the products after making a specific query.\n",
    "* **STEP 2**: Filter the products based on specific parameters.\n",
    "* **STEP 3**: Download the files locally via Python."
   ]
  },
  {
   "cell_type": "markdown",
   "metadata": {},
   "source": [
    "**STEP 1**: When filtering an observation using the function `query_criteria()`, you must specify two coordinates for the right ascension and two coordinates for the declination. This forms a box to limit the search area. You must also supply a mission that you would want to search from such as 'GALEX' or 'PS1'.\n",
    "\n",
    "If you would like to filter by other parameters, see the other filter parameters above. Please modify this code for your specific use case!"
   ]
  },
  {
   "cell_type": "code",
   "execution_count": null,
   "metadata": {},
   "outputs": [
    {
     "data": {
      "text/plain": [
       "175841"
      ]
     },
     "execution_count": 5,
     "metadata": {},
     "output_type": "execute_result"
    }
   ],
   "source": [
    "#    - Ex.: s_ra: 30.2,31.2\n",
    "#           s_dec: -10.25,-9.25\n",
    "#           obs_collection: GALEX, PS1, SWIFT, etc.\n",
    "\n",
    "obs = Observations.query_criteria(s_ra=[30.2,31.2], s_dec=[-10.25,-9.25], obs_collection=\"GALEX\")\n",
    "prod = Observations.get_product_list(obs)\n",
    "len(prod)\n"
   ]
  },
  {
   "cell_type": "markdown",
   "metadata": {},
   "source": [
    "**STEP 2**: Now we can use `filter_products()` to select specific products. Right now, this code is configured such that you can filter based on *productType*, *productSubGroupDescription*, *productGroupDescription*, and *mrp_only*. The valid filter parameters for GALEX and Pan-STARRS are outlined below as examples. Please use only these parameters + corresponding values, unless you see another parameter in the documentation (see above) that you would like to use. Please use the right filter products for your specific mission by referring to the documentation (see above)!\n",
    "\n",
    "**GALEX Example**\n",
    "* productType: *AUXILIARY*, *CATALOG*, *INFO*, *PREVIEW*, *SCIENCE*, *THUMBNAIL*\n",
    "* productSubGroupDescription: *Catalog Only*, *Imaging Only*, *Spectra Only*, *Spectral Image Strips Only*, *Whole Field Images Only*\n",
    "* productGroupDescription: *Minimum Recommended Products*\n",
    "* mrp_only: *True*, *False*.\n",
    "\n",
    "**Pan-STARRS (PS1) Example**\n",
    "* productType: *AUXILIARY*, *CATALOG*, *INFO*, *SCIENCE*\n",
    "* productSubGroupDescription: - \n",
    "* productGroupDescription: *Minimum Recommended Products*\n",
    "* mrp_only: *True*, *False*\n",
    "\n",
    "Note that *productSubGroupDescription* and *productGroupDescription* may not be needed when filtering for Pan-STARRS products. An example for 'GALEX' is provided below as well as an example for PS1. Please modify this code for your specific use case!\n"
   ]
  },
  {
   "cell_type": "code",
   "execution_count": null,
   "metadata": {},
   "outputs": [
    {
     "data": {
      "text/plain": [
       "1785"
      ]
     },
     "metadata": {},
     "output_type": "display_data"
    },
    {
     "data": {
      "text/html": [
       "<div><i>Table length=5</i>\n",
       "<table id=\"table4428952768\" class=\"table-striped table-bordered table-condensed\">\n",
       "<thead><tr><th>obsID</th><th>obs_collection</th><th>dataproduct_type</th><th>obs_id</th><th>description</th><th>type</th><th>dataURI</th><th>productType</th><th>productGroupDescription</th><th>productSubGroupDescription</th><th>productDocumentationURL</th><th>project</th><th>prvversion</th><th>proposal_id</th><th>productFilename</th><th>size</th><th>parent_obsid</th><th>dataRights</th><th>calib_level</th><th>filters</th></tr></thead>\n",
       "<thead><tr><th>str7</th><th>str3</th><th>str5</th><th>str43</th><th>str32</th><th>str1</th><th>str71</th><th>str9</th><th>str28</th><th>str1</th><th>str1</th><th>str3</th><th>str3</th><th>str1</th><th>str54</th><th>int64</th><th>str7</th><th>str10</th><th>int64</th><th>str1</th></tr></thead>\n",
       "<tr><td>1971976</td><td>PS1</td><td>image</td><td>rings.v3.skycell.1062.040.stk.g</td><td>stack data image</td><td>C</td><td>mast:PS1/product/rings.v3.skycell.1062.040.stk.g.unconv.fits</td><td>SCIENCE</td><td>Minimum Recommended Products</td><td>--</td><td>--</td><td>3PI</td><td>pv3</td><td>--</td><td>rings.v3.skycell.1062.040.stk.g.unconv.fits</td><td>66807360</td><td>1971976</td><td>PUBLIC</td><td>3</td><td>g</td></tr>\n",
       "<tr><td>1971977</td><td>PS1</td><td>image</td><td>rings.v3.skycell.1062.040.stk.i</td><td>stack data image</td><td>C</td><td>mast:PS1/product/rings.v3.skycell.1062.040.stk.i.unconv.fits</td><td>SCIENCE</td><td>Minimum Recommended Products</td><td>--</td><td>--</td><td>3PI</td><td>pv3</td><td>--</td><td>rings.v3.skycell.1062.040.stk.i.unconv.fits</td><td>67435200</td><td>1971977</td><td>PUBLIC</td><td>3</td><td>i</td></tr>\n",
       "<tr><td>1971978</td><td>PS1</td><td>image</td><td>rings.v3.skycell.1062.040.stk.r</td><td>stack data image</td><td>C</td><td>mast:PS1/product/rings.v3.skycell.1062.040.stk.r.unconv.fits</td><td>SCIENCE</td><td>Minimum Recommended Products</td><td>--</td><td>--</td><td>3PI</td><td>pv3</td><td>--</td><td>rings.v3.skycell.1062.040.stk.r.unconv.fits</td><td>67639680</td><td>1971978</td><td>PUBLIC</td><td>3</td><td>r</td></tr>\n",
       "<tr><td>1971979</td><td>PS1</td><td>image</td><td>rings.v3.skycell.1062.040.stk.y</td><td>stack data image</td><td>C</td><td>mast:PS1/product/rings.v3.skycell.1062.040.stk.y.unconv.fits</td><td>SCIENCE</td><td>Minimum Recommended Products</td><td>--</td><td>--</td><td>3PI</td><td>pv3</td><td>--</td><td>rings.v3.skycell.1062.040.stk.y.unconv.fits</td><td>67884480</td><td>1971979</td><td>PUBLIC</td><td>3</td><td>y</td></tr>\n",
       "<tr><td>1971980</td><td>PS1</td><td>image</td><td>rings.v3.skycell.1062.040.stk.z</td><td>stack data image</td><td>C</td><td>mast:PS1/product/rings.v3.skycell.1062.040.stk.z.unconv.fits</td><td>SCIENCE</td><td>Minimum Recommended Products</td><td>--</td><td>--</td><td>3PI</td><td>pv3</td><td>--</td><td>rings.v3.skycell.1062.040.stk.z.unconv.fits</td><td>67216320</td><td>1971980</td><td>PUBLIC</td><td>3</td><td>z</td></tr>\n",
       "</table></div>"
      ],
      "text/plain": [
       "<Table length=5>\n",
       " obsID  obs_collection dataproduct_type ... dataRights calib_level filters\n",
       "  str7       str3            str5       ...   str10       int64      str1 \n",
       "------- -------------- ---------------- ... ---------- ----------- -------\n",
       "1971976            PS1            image ...     PUBLIC           3       g\n",
       "1971977            PS1            image ...     PUBLIC           3       i\n",
       "1971978            PS1            image ...     PUBLIC           3       r\n",
       "1971979            PS1            image ...     PUBLIC           3       y\n",
       "1971980            PS1            image ...     PUBLIC           3       z"
      ]
     },
     "metadata": {},
     "output_type": "display_data"
    }
   ],
   "source": [
    "#    - Ex. (GALEX): productType: SCIENCE\n",
    "#           productSubGroupDescription: Imaging Only\n",
    "#           productGroupDescription: Minimum Recommended Products\n",
    "#           mrp_only: True\n",
    "\n",
    "#    - Ex. (PS1): productType: <skip>\n",
    "#                 productSubGroupDescription: <skip>\n",
    "#                 productGroupDescription: <skip>\n",
    "#                 mrp_only: True\n",
    "\n",
    "# Use this for the 'GALEX' example.\n",
    "filt_prod = Observations.filter_products(\n",
    "    prod,\n",
    "    productType=\"SCIENCE\",\n",
    "    productSubGroupDescription=\"Imaging Only\",\n",
    "    productGroupDescription=\"Minimum Recommended Products\",\n",
    "    mrp_only=True\n",
    ")\n",
    "\n",
    "# Shows how many files are left after applying the filter.\n",
    "display(len(filt_prod))\n",
    "\n",
    "# Shows the first 5 files from the filtered table.\n",
    "display(filt_prod[0:5])"
   ]
  },
  {
   "cell_type": "markdown",
   "metadata": {},
   "source": [
    "**STEP 3**: Download the files to your local computer. The line below will download the first five files only. Please modify this code for your specific use case, especially if you need to download more than five files!"
   ]
  },
  {
   "cell_type": "code",
   "execution_count": null,
   "metadata": {},
   "outputs": [],
   "source": [
    "Observations.download_products(filt_prod[0:5], cloud_only=True)"
   ]
  },
  {
   "cell_type": "markdown",
   "metadata": {},
   "source": [
    "# Using **MastMissions** and the [MAST Search API](https://mast.stsci.edu/search/docs/)\n",
    "We can also query via `MastMissions`, which is a mission specific way to query MAST data."
   ]
  },
  {
   "cell_type": "code",
   "execution_count": null,
   "metadata": {},
   "outputs": [
    {
     "data": {
      "text/plain": [
       "'hst'"
      ]
     },
     "execution_count": 14,
     "metadata": {},
     "output_type": "execute_result"
    }
   ],
   "source": [
    "# Modify this example from hst -> galex, ps1.\n",
    "\n",
    "# First select the mission that you are interested in.\n",
    "missions = MastMissions(mission='hst')\n",
    "missions.mission"
   ]
  },
  {
   "cell_type": "markdown",
   "metadata": {},
   "source": [
    "# Query by Object Name (Target Search)"
   ]
  },
  {
   "cell_type": "code",
   "execution_count": 15,
   "metadata": {},
   "outputs": [
    {
     "data": {
      "text/plain": [
       "265"
      ]
     },
     "metadata": {},
     "output_type": "display_data"
    },
    {
     "data": {
      "text/html": [
       "<div><i>Table masked=True length=5</i>\n",
       "<table id=\"table4751020656\" class=\"table-striped table-bordered table-condensed\">\n",
       "<thead><tr><th>search_pos</th><th>sci_data_set_name</th><th>sci_targname</th><th>sci_hapnum</th><th>sci_haspnum</th><th>sci_instrume</th><th>sci_aper_1234</th><th>sci_spec_1234</th><th>sci_actual_duration</th><th>sci_start_time</th><th>sci_pep_id</th><th>sci_pi_last_name</th><th>sci_ra</th><th>sci_dec</th><th>sci_refnum</th><th>sci_central_wavelength</th><th>sci_release_date</th><th>sci_stop_time</th><th>sci_preview_name</th><th>scp_scan_type</th><th>sci_hlsp</th><th>ang_sep</th></tr></thead>\n",
       "<thead><tr><th>str15</th><th>str9</th><th>str16</th><th>int64</th><th>int64</th><th>str6</th><th>str10</th><th>str14</th><th>float64</th><th>str26</th><th>int64</th><th>str14</th><th>float64</th><th>float64</th><th>int64</th><th>float64</th><th>str26</th><th>str26</th><th>str9</th><th>str1</th><th>int64</th><th>str19</th></tr></thead>\n",
       "<tr><td>274.688 -13.792</td><td>N9CS020E0</td><td>NGC6611-NIC13</td><td>0</td><td>0</td><td>NICMOS</td><td>NIC2-FIX</td><td>F160W</td><td>127.83688</td><td>2006-05-18T10:06:48.817000</td><td>10533</td><td>OLIVEIRA</td><td>274.6806591846</td><td>-13.79206426926</td><td>5</td><td>16030.4</td><td>2007-05-18T18:56:50.210000</td><td>2006-05-18T10:13:50.777000</td><td>N9CS020E0</td><td>--</td><td>--</td><td>0.42776703619746814</td></tr>\n",
       "<tr><td>274.688 -13.792</td><td>N9CS020D0</td><td>NGC6611-NIC13</td><td>0</td><td>0</td><td>NICMOS</td><td>NIC2-FIX</td><td>F110W</td><td>127.83688</td><td>2006-05-18T10:05:55.817000</td><td>10533</td><td>OLIVEIRA</td><td>274.6806591778</td><td>-13.79206427886</td><td>5</td><td>11234.7</td><td>2007-05-18T18:56:35.373000</td><td>2006-05-18T10:12:57.777000</td><td>N9CS020D0</td><td>--</td><td>--</td><td>0.4277674376002503</td></tr>\n",
       "<tr><td>274.688 -13.792</td><td>N9CS02060</td><td>NGC6611-NIC13</td><td>0</td><td>0</td><td>NICMOS</td><td>NIC2-FIX</td><td>F160W</td><td>127.83688</td><td>2006-05-18T08:43:10.817000</td><td>10533</td><td>OLIVEIRA</td><td>274.6820655545</td><td>-13.79948205104</td><td>5</td><td>16030.4</td><td>2007-05-18T18:37:41.323000</td><td>2006-05-18T08:50:12.777000</td><td>N9CS02060</td><td>--</td><td>--</td><td>0.566662194223732</td></tr>\n",
       "<tr><td>274.688 -13.792</td><td>N9CS02050</td><td>NGC6611-NIC13</td><td>0</td><td>0</td><td>NICMOS</td><td>NIC2-FIX</td><td>F110W</td><td>127.83688</td><td>2006-05-18T08:42:17.817000</td><td>10533</td><td>OLIVEIRA</td><td>274.6820628711</td><td>-13.79948025557</td><td>5</td><td>11234.7</td><td>2007-05-18T18:37:15.127000</td><td>2006-05-18T08:49:19.780000</td><td>N9CS02050</td><td>--</td><td>--</td><td>0.5666722973050055</td></tr>\n",
       "<tr><td>274.688 -13.792</td><td>N9CSA2030</td><td>NGC6611-NIC13</td><td>0</td><td>0</td><td>NICMOS</td><td>NIC2-FIX</td><td>F110W</td><td>127.83688</td><td>2006-05-18T14:50:39.817000</td><td>10533</td><td>OLIVEIRA</td><td>274.6865879409</td><td>-13.80250798823</td><td>5</td><td>11234.7</td><td>2007-05-18T20:11:02.347000</td><td>2006-05-18T14:57:41.780000</td><td>N9CSA2030</td><td>--</td><td>--</td><td>0.6358254152213503</td></tr>\n",
       "</table></div>"
      ],
      "text/plain": [
       "<Table masked=True length=5>\n",
       "   search_pos   sci_data_set_name  sci_targname ... sci_hlsp       ang_sep      \n",
       "     str15             str9           str16     ...  int64          str19       \n",
       "--------------- ----------------- ------------- ... -------- -------------------\n",
       "274.688 -13.792         N9CS020E0 NGC6611-NIC13 ...       -- 0.42776703619746814\n",
       "274.688 -13.792         N9CS020D0 NGC6611-NIC13 ...       --  0.4277674376002503\n",
       "274.688 -13.792         N9CS02060 NGC6611-NIC13 ...       --   0.566662194223732\n",
       "274.688 -13.792         N9CS02050 NGC6611-NIC13 ...       --  0.5666722973050055\n",
       "274.688 -13.792         N9CSA2030 NGC6611-NIC13 ...       --  0.6358254152213503"
      ]
     },
     "metadata": {},
     "output_type": "display_data"
    }
   ],
   "source": [
    "# Let's take a look at 'M16', which is the Eagle Nebula.\n",
    "results = missions.query_object('M16')\n",
    "\n",
    "display(len(results))\n",
    "\n",
    "display(results[0:5])"
   ]
  },
  {
   "cell_type": "markdown",
   "metadata": {},
   "source": [
    "# Query by Region (Conesearch)"
   ]
  },
  {
   "cell_type": "code",
   "execution_count": 16,
   "metadata": {},
   "outputs": [
    {
     "data": {
      "text/plain": [
       "5000"
      ]
     },
     "metadata": {},
     "output_type": "display_data"
    },
    {
     "data": {
      "text/html": [
       "<div><i>Table masked=True length=5</i>\n",
       "<table id=\"table4442711200\" class=\"table-striped table-bordered table-condensed\">\n",
       "<thead><tr><th>search_pos</th><th>sci_data_set_name</th><th>sci_targname</th><th>sci_hapnum</th><th>sci_haspnum</th><th>sci_instrume</th><th>sci_aper_1234</th><th>sci_spec_1234</th><th>sci_actual_duration</th><th>sci_start_time</th><th>sci_pep_id</th><th>sci_pi_last_name</th><th>sci_ra</th><th>sci_dec</th><th>sci_refnum</th><th>sci_central_wavelength</th><th>sci_release_date</th><th>sci_stop_time</th><th>sci_preview_name</th><th>scp_scan_type</th><th>sci_hlsp</th><th>ang_sep</th></tr></thead>\n",
       "<thead><tr><th>str3</th><th>str9</th><th>str11</th><th>int64</th><th>int64</th><th>str6</th><th>str15</th><th>str17</th><th>float64</th><th>str26</th><th>int64</th><th>str9</th><th>float64</th><th>float64</th><th>int64</th><th>float64</th><th>str26</th><th>str26</th><th>str9</th><th>str1</th><th>int64</th><th>str3</th></tr></thead>\n",
       "<tr><td>0 0</td><td>W1460G01T</td><td>53W045A</td><td>0</td><td>0</td><td>WFPC</td><td>W1</td><td>F555W</td><td>1400.0</td><td>1992-09-28T04:29:18.040000</td><td>3545</td><td>WINDHORST</td><td>0.0</td><td>0.0</td><td>4</td><td>5479.0</td><td>1993-09-28T13:54:30</td><td>1992-09-28T04:52:38.040000</td><td>W1460G01T</td><td>--</td><td>--</td><td>0.0</td></tr>\n",
       "<tr><td>0 0</td><td>W1460G02T</td><td>53W045A</td><td>0</td><td>0</td><td>WFPC</td><td>W1</td><td>F555W</td><td>1400.0</td><td>1992-09-28T06:05:18.040000</td><td>3545</td><td>WINDHORST</td><td>0.0</td><td>0.0</td><td>4</td><td>5479.0</td><td>1993-09-28T14:06:07</td><td>1992-09-28T06:28:38.040000</td><td>W1460G02T</td><td>--</td><td>--</td><td>0.0</td></tr>\n",
       "<tr><td>0 0</td><td>W1460G03T</td><td>53W045A</td><td>0</td><td>0</td><td>WFPC</td><td>W1</td><td>F555W</td><td>1400.0</td><td>1992-09-28T07:41:18.040000</td><td>3545</td><td>WINDHORST</td><td>0.0</td><td>0.0</td><td>4</td><td>5479.0</td><td>1993-09-28T14:14:37</td><td>1992-09-28T08:04:38.040000</td><td>W1460G03T</td><td>--</td><td>--</td><td>0.0</td></tr>\n",
       "<tr><td>0 0</td><td>W1460G04T</td><td>53W045A</td><td>0</td><td>0</td><td>WFPC</td><td>W1</td><td>F555W</td><td>1400.0</td><td>1992-09-28T09:18:18.040000</td><td>3545</td><td>WINDHORST</td><td>0.0</td><td>0.0</td><td>4</td><td>5479.0</td><td>1993-09-28T14:23:42</td><td>1992-09-28T09:41:38.040000</td><td>W1460G04T</td><td>--</td><td>--</td><td>0.0</td></tr>\n",
       "<tr><td>0 0</td><td>W1460H01T</td><td>53W045A</td><td>0</td><td>0</td><td>WFPC</td><td>W1</td><td>F785LP</td><td>1400.0</td><td>1992-09-28T12:31:18.040000</td><td>3545</td><td>WINDHORST</td><td>0.0</td><td>0.0</td><td>4</td><td>8958.0</td><td>1993-09-28T14:33:28</td><td>1992-09-28T12:54:38.040000</td><td>W1460H01T</td><td>--</td><td>--</td><td>0.0</td></tr>\n",
       "</table></div>"
      ],
      "text/plain": [
       "<Table masked=True length=5>\n",
       "search_pos sci_data_set_name sci_targname ... scp_scan_type sci_hlsp ang_sep\n",
       "   str3           str9          str11     ...      str1      int64     str3 \n",
       "---------- ----------------- ------------ ... ------------- -------- -------\n",
       "       0 0         W1460G01T      53W045A ...            --       --     0.0\n",
       "       0 0         W1460G02T      53W045A ...            --       --     0.0\n",
       "       0 0         W1460G03T      53W045A ...            --       --     0.0\n",
       "       0 0         W1460G04T      53W045A ...            --       --     0.0\n",
       "       0 0         W1460H01T      53W045A ...            --       --     0.0"
      ]
     },
     "metadata": {},
     "output_type": "display_data"
    }
   ],
   "source": [
    "# Let's do a conesearch at coordinate 0,0\n",
    "coords = SkyCoord(0, 0, unit=('deg'))\n",
    "\n",
    "# All results within 5 arcseconds of the (0,0) coordinate\n",
    "results = missions.query_region(coords, radius=5 * u.arcsec)\n",
    "\n",
    "display(len(results))\n",
    "\n",
    "display(results[0:5])"
   ]
  },
  {
   "cell_type": "markdown",
   "metadata": {},
   "source": [
    "# About this Notebook\n",
    "\n",
    "* **Authors**: Yingquan Li, Bernie Shao\n",
    "* **Keywords**: GALEX, Pan-STARRS, Bulk Download, Python, AWS\n",
    "* **Updated On**: 2024-11-08\n",
    "* **References**: [Missions Mast Search (Sam Bianco)](https://github.com/spacetelescope/mast_notebooks/blob/main/notebooks/multi_mission/missions_mast_search/missions_mast_search.ipynb)\n",
    "\n",
    "For support, please contact the Archive HelpDesk at archive@stsci.edu."
   ]
  }
 ],
 "metadata": {
  "kernelspec": {
   "display_name": "dev",
   "language": "python",
   "name": "python3"
  },
  "language_info": {
   "codemirror_mode": {
    "name": "ipython",
    "version": 3
   },
   "file_extension": ".py",
   "mimetype": "text/x-python",
   "name": "python",
   "nbconvert_exporter": "python",
   "pygments_lexer": "ipython3",
   "version": "3.10.13"
  }
 },
 "nbformat": 4,
 "nbformat_minor": 2
}
